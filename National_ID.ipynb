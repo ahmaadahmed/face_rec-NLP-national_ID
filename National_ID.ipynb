{
  "nbformat": 4,
  "nbformat_minor": 0,
  "metadata": {
    "colab": {
      "provenance": [],
      "gpuType": "T4"
    },
    "kernelspec": {
      "name": "python3",
      "display_name": "Python 3"
    },
    "language_info": {
      "name": "python"
    },
    "accelerator": "GPU"
  },
  "cells": [
    {
      "cell_type": "code",
      "execution_count": 1,
      "metadata": {
        "colab": {
          "base_uri": "https://localhost:8080/"
        },
        "id": "27DHowKTaVkl",
        "outputId": "f0f43b30-fc7a-4d5f-a1b6-361306f194fc"
      },
      "outputs": [
        {
          "output_type": "stream",
          "name": "stdout",
          "text": [
            "Reading package lists... Done\n",
            "Building dependency tree... Done\n",
            "Reading state information... Done\n",
            "The following additional packages will be installed:\n",
            "  tesseract-ocr-eng tesseract-ocr-osd\n",
            "The following NEW packages will be installed:\n",
            "  tesseract-ocr tesseract-ocr-eng tesseract-ocr-osd\n",
            "0 upgraded, 3 newly installed, 0 to remove and 6 not upgraded.\n",
            "Need to get 4,816 kB of archives.\n",
            "After this operation, 15.6 MB of additional disk space will be used.\n",
            "Get:1 http://archive.ubuntu.com/ubuntu jammy/universe amd64 tesseract-ocr-eng all 1:4.00~git30-7274cfa-1.1 [1,591 kB]\n",
            "Get:2 http://archive.ubuntu.com/ubuntu jammy/universe amd64 tesseract-ocr-osd all 1:4.00~git30-7274cfa-1.1 [2,990 kB]\n",
            "Get:3 http://archive.ubuntu.com/ubuntu jammy/universe amd64 tesseract-ocr amd64 4.1.1-2.1build1 [236 kB]\n",
            "Fetched 4,816 kB in 0s (12.7 MB/s)\n",
            "Selecting previously unselected package tesseract-ocr-eng.\n",
            "(Reading database ... 120882 files and directories currently installed.)\n",
            "Preparing to unpack .../tesseract-ocr-eng_1%3a4.00~git30-7274cfa-1.1_all.deb ...\n",
            "Unpacking tesseract-ocr-eng (1:4.00~git30-7274cfa-1.1) ...\n",
            "Selecting previously unselected package tesseract-ocr-osd.\n",
            "Preparing to unpack .../tesseract-ocr-osd_1%3a4.00~git30-7274cfa-1.1_all.deb ...\n",
            "Unpacking tesseract-ocr-osd (1:4.00~git30-7274cfa-1.1) ...\n",
            "Selecting previously unselected package tesseract-ocr.\n",
            "Preparing to unpack .../tesseract-ocr_4.1.1-2.1build1_amd64.deb ...\n",
            "Unpacking tesseract-ocr (4.1.1-2.1build1) ...\n",
            "Setting up tesseract-ocr-eng (1:4.00~git30-7274cfa-1.1) ...\n",
            "Setting up tesseract-ocr-osd (1:4.00~git30-7274cfa-1.1) ...\n",
            "Setting up tesseract-ocr (4.1.1-2.1build1) ...\n",
            "Processing triggers for man-db (2.10.2-1) ...\n"
          ]
        }
      ],
      "source": [
        "!apt install tesseract-ocr -y"
      ]
    },
    {
      "cell_type": "code",
      "source": [
        "!apt install libtesseract-dev -y"
      ],
      "metadata": {
        "colab": {
          "base_uri": "https://localhost:8080/"
        },
        "id": "uZS-S5-5alzC",
        "outputId": "2e2fa800-1c8d-410d-880f-4d69f2c65cee"
      },
      "execution_count": 2,
      "outputs": [
        {
          "output_type": "stream",
          "name": "stdout",
          "text": [
            "Reading package lists... Done\n",
            "Building dependency tree... Done\n",
            "Reading state information... Done\n",
            "The following additional packages will be installed:\n",
            "  libarchive-dev libleptonica-dev\n",
            "The following NEW packages will be installed:\n",
            "  libarchive-dev libleptonica-dev libtesseract-dev\n",
            "0 upgraded, 3 newly installed, 0 to remove and 6 not upgraded.\n",
            "Need to get 3,743 kB of archives.\n",
            "After this operation, 16.0 MB of additional disk space will be used.\n",
            "Get:1 http://archive.ubuntu.com/ubuntu jammy/main amd64 libarchive-dev amd64 3.6.0-1ubuntu1 [581 kB]\n",
            "Get:2 http://archive.ubuntu.com/ubuntu jammy/universe amd64 libleptonica-dev amd64 1.82.0-3build1 [1,562 kB]\n",
            "Get:3 http://archive.ubuntu.com/ubuntu jammy/universe amd64 libtesseract-dev amd64 4.1.1-2.1build1 [1,600 kB]\n",
            "Fetched 3,743 kB in 0s (21.9 MB/s)\n",
            "Selecting previously unselected package libarchive-dev:amd64.\n",
            "(Reading database ... 120929 files and directories currently installed.)\n",
            "Preparing to unpack .../libarchive-dev_3.6.0-1ubuntu1_amd64.deb ...\n",
            "Unpacking libarchive-dev:amd64 (3.6.0-1ubuntu1) ...\n",
            "Selecting previously unselected package libleptonica-dev.\n",
            "Preparing to unpack .../libleptonica-dev_1.82.0-3build1_amd64.deb ...\n",
            "Unpacking libleptonica-dev (1.82.0-3build1) ...\n",
            "Selecting previously unselected package libtesseract-dev:amd64.\n",
            "Preparing to unpack .../libtesseract-dev_4.1.1-2.1build1_amd64.deb ...\n",
            "Unpacking libtesseract-dev:amd64 (4.1.1-2.1build1) ...\n",
            "Setting up libleptonica-dev (1.82.0-3build1) ...\n",
            "Setting up libarchive-dev:amd64 (3.6.0-1ubuntu1) ...\n",
            "Setting up libtesseract-dev:amd64 (4.1.1-2.1build1) ...\n",
            "Processing triggers for man-db (2.10.2-1) ...\n"
          ]
        }
      ]
    },
    {
      "cell_type": "code",
      "source": [
        "!pip install pytesseract"
      ],
      "metadata": {
        "colab": {
          "base_uri": "https://localhost:8080/"
        },
        "id": "3hxq9Dz9al2p",
        "outputId": "dee60d36-393f-4d38-fc40-f854932f54bb"
      },
      "execution_count": 3,
      "outputs": [
        {
          "output_type": "stream",
          "name": "stdout",
          "text": [
            "Collecting pytesseract\n",
            "  Downloading pytesseract-0.3.10-py3-none-any.whl (14 kB)\n",
            "Requirement already satisfied: packaging>=21.3 in /usr/local/lib/python3.10/dist-packages (from pytesseract) (23.2)\n",
            "Requirement already satisfied: Pillow>=8.0.0 in /usr/local/lib/python3.10/dist-packages (from pytesseract) (9.4.0)\n",
            "Installing collected packages: pytesseract\n",
            "Successfully installed pytesseract-0.3.10\n"
          ]
        }
      ]
    },
    {
      "cell_type": "code",
      "source": [
        "!wget https://github.com/tesseract-ocr/tessdata/raw/master/ara.traineddata -P /usr/share/tesseract-ocr/4.00/tessdata/"
      ],
      "metadata": {
        "colab": {
          "base_uri": "https://localhost:8080/"
        },
        "id": "_9Ce4tgCal5C",
        "outputId": "244e12ab-2c1a-422d-c69d-68abb5768f22"
      },
      "execution_count": 4,
      "outputs": [
        {
          "output_type": "stream",
          "name": "stdout",
          "text": [
            "--2023-11-15 09:58:20--  https://github.com/tesseract-ocr/tessdata/raw/master/ara.traineddata\n",
            "Resolving github.com (github.com)... 140.82.113.4\n",
            "Connecting to github.com (github.com)|140.82.113.4|:443... connected.\n",
            "HTTP request sent, awaiting response... 404 Not Found\n",
            "2023-11-15 09:58:21 ERROR 404: Not Found.\n",
            "\n"
          ]
        }
      ]
    },
    {
      "cell_type": "code",
      "source": [
        "import pytesseract\n",
        "from PIL import Image"
      ],
      "metadata": {
        "id": "HwsMaOg-ai_o"
      },
      "execution_count": 5,
      "outputs": []
    },
    {
      "cell_type": "code",
      "source": [
        "pytesseract.pytesseract.tesseract_cmd = '/usr/bin/tesseract'"
      ],
      "metadata": {
        "id": "B3tHAynIajCH"
      },
      "execution_count": 6,
      "outputs": []
    },
    {
      "cell_type": "code",
      "source": [
        "!wget https://github.com/tesseract-ocr/tessdata/raw/main/ara.traineddata"
      ],
      "metadata": {
        "colab": {
          "base_uri": "https://localhost:8080/"
        },
        "id": "FvRsABCYcWvG",
        "outputId": "c2724f9e-2c4f-46a7-f75a-45dd5a5fd3aa"
      },
      "execution_count": 8,
      "outputs": [
        {
          "output_type": "stream",
          "name": "stdout",
          "text": [
            "--2023-11-15 10:05:32--  https://github.com/tesseract-ocr/tessdata/raw/main/ara.traineddata\n",
            "Resolving github.com (github.com)... 140.82.113.4\n",
            "Connecting to github.com (github.com)|140.82.113.4|:443... connected.\n",
            "HTTP request sent, awaiting response... 302 Found\n",
            "Location: https://raw.githubusercontent.com/tesseract-ocr/tessdata/main/ara.traineddata [following]\n",
            "--2023-11-15 10:05:33--  https://raw.githubusercontent.com/tesseract-ocr/tessdata/main/ara.traineddata\n",
            "Resolving raw.githubusercontent.com (raw.githubusercontent.com)... 185.199.108.133, 185.199.109.133, 185.199.110.133, ...\n",
            "Connecting to raw.githubusercontent.com (raw.githubusercontent.com)|185.199.108.133|:443... connected.\n",
            "HTTP request sent, awaiting response... 200 OK\n",
            "Length: 2494806 (2.4M) [application/octet-stream]\n",
            "Saving to: ‘ara.traineddata’\n",
            "\n",
            "ara.traineddata     100%[===================>]   2.38M  --.-KB/s    in 0.009s  \n",
            "\n",
            "2023-11-15 10:05:33 (269 MB/s) - ‘ara.traineddata’ saved [2494806/2494806]\n",
            "\n"
          ]
        }
      ]
    },
    {
      "cell_type": "code",
      "source": [
        "!mv ara.traineddata /usr/share/tesseract-ocr/4.00/tessdata/"
      ],
      "metadata": {
        "id": "J1Lf4cJpajEr"
      },
      "execution_count": 9,
      "outputs": []
    },
    {
      "cell_type": "code",
      "source": [
        "pytesseract.pytesseract.tesseract_cmd = '/usr/bin/tesseract'\n",
        "\n",
        "# Open an image\n",
        "image_path = '/content/2.jpg'\n",
        "image = Image.open(image_path)\n",
        "\n",
        "# Perform OCR on the image\n",
        "text = pytesseract.image_to_string(image, lang='ara')\n",
        "\n",
        "# Print the extracted text\n",
        "print(text)"
      ],
      "metadata": {
        "colab": {
          "base_uri": "https://localhost:8080/"
        },
        "id": "i3gcWyjCajHH",
        "outputId": "5a43d3d8-23c4-4bb4-acd9-4bb9dc379ff2"
      },
      "execution_count": 20,
      "outputs": [
        {
          "output_type": "stream",
          "name": "stdout",
          "text": [
            "محمود\n",
            "احمد ابراهيم عبدالباسط\n",
            "\f\n"
          ]
        }
      ]
    },
    {
      "cell_type": "code",
      "source": [
        "image_path = '/content/6.jpg'\n",
        "image = Image.open(image_path)\n",
        "\n",
        "# Perform OCR on the image\n",
        "text = pytesseract.image_to_string(image, lang='ara')\n",
        "\n",
        "# Print the extracted text\n",
        "print(text)"
      ],
      "metadata": {
        "colab": {
          "base_uri": "https://localhost:8080/"
        },
        "id": "K6gaDoZ0ajPX",
        "outputId": "90fd8413-1b83-49bf-bbc8-da650cc1c250"
      },
      "execution_count": 22,
      "outputs": [
        {
          "output_type": "stream",
          "name": "stdout",
          "text": [
            "محمد -\n",
            "عصام عبدالعزيز\n",
            "لعزيز قطب\n",
            "محمد\n",
            "\f\n"
          ]
        }
      ]
    },
    {
      "cell_type": "code",
      "source": [
        "import os\n",
        "os.environ['TESSDATA_PREFIX'] = '/usr/share/tesseract-ocr/4.00/tessdata/'"
      ],
      "metadata": {
        "id": "PZVPIKHwajTP"
      },
      "execution_count": 17,
      "outputs": []
    },
    {
      "cell_type": "code",
      "source": [
        "#easy_ocr"
      ],
      "metadata": {
        "id": "sRQADL70fTi1"
      },
      "execution_count": null,
      "outputs": []
    },
    {
      "cell_type": "code",
      "source": [
        "pip install easyocr"
      ],
      "metadata": {
        "colab": {
          "base_uri": "https://localhost:8080/"
        },
        "id": "CkoZw38BfTkd",
        "outputId": "a83a4e41-01e3-4138-c85f-08874700091a"
      },
      "execution_count": 3,
      "outputs": [
        {
          "output_type": "stream",
          "name": "stdout",
          "text": [
            "Collecting easyocr\n",
            "  Downloading easyocr-1.7.1-py3-none-any.whl (2.9 MB)\n",
            "\u001b[2K     \u001b[90m━━━━━━━━━━━━━━━━━━━━━━━━━━━━━━━━━━━━━━━━\u001b[0m \u001b[32m2.9/2.9 MB\u001b[0m \u001b[31m13.9 MB/s\u001b[0m eta \u001b[36m0:00:00\u001b[0m\n",
            "\u001b[?25hRequirement already satisfied: torch in /usr/local/lib/python3.10/dist-packages (from easyocr) (2.1.0+cu118)\n",
            "Requirement already satisfied: torchvision>=0.5 in /usr/local/lib/python3.10/dist-packages (from easyocr) (0.16.0+cu118)\n",
            "Requirement already satisfied: opencv-python-headless in /usr/local/lib/python3.10/dist-packages (from easyocr) (4.8.1.78)\n",
            "Requirement already satisfied: scipy in /usr/local/lib/python3.10/dist-packages (from easyocr) (1.11.3)\n",
            "Requirement already satisfied: numpy in /usr/local/lib/python3.10/dist-packages (from easyocr) (1.23.5)\n",
            "Requirement already satisfied: Pillow in /usr/local/lib/python3.10/dist-packages (from easyocr) (9.4.0)\n",
            "Requirement already satisfied: scikit-image in /usr/local/lib/python3.10/dist-packages (from easyocr) (0.19.3)\n",
            "Collecting python-bidi (from easyocr)\n",
            "  Downloading python_bidi-0.4.2-py2.py3-none-any.whl (30 kB)\n",
            "Requirement already satisfied: PyYAML in /usr/local/lib/python3.10/dist-packages (from easyocr) (6.0.1)\n",
            "Requirement already satisfied: Shapely in /usr/local/lib/python3.10/dist-packages (from easyocr) (2.0.2)\n",
            "Collecting pyclipper (from easyocr)\n",
            "  Downloading pyclipper-1.3.0.post5-cp310-cp310-manylinux_2_12_x86_64.manylinux2010_x86_64.whl (908 kB)\n",
            "\u001b[2K     \u001b[90m━━━━━━━━━━━━━━━━━━━━━━━━━━━━━━━━━━━━━━━━\u001b[0m \u001b[32m908.3/908.3 kB\u001b[0m \u001b[31m25.5 MB/s\u001b[0m eta \u001b[36m0:00:00\u001b[0m\n",
            "\u001b[?25hCollecting ninja (from easyocr)\n",
            "  Downloading ninja-1.11.1.1-py2.py3-none-manylinux1_x86_64.manylinux_2_5_x86_64.whl (307 kB)\n",
            "\u001b[2K     \u001b[90m━━━━━━━━━━━━━━━━━━━━━━━━━━━━━━━━━━━━━━━━\u001b[0m \u001b[32m307.2/307.2 kB\u001b[0m \u001b[31m20.7 MB/s\u001b[0m eta \u001b[36m0:00:00\u001b[0m\n",
            "\u001b[?25hRequirement already satisfied: requests in /usr/local/lib/python3.10/dist-packages (from torchvision>=0.5->easyocr) (2.31.0)\n",
            "Requirement already satisfied: filelock in /usr/local/lib/python3.10/dist-packages (from torch->easyocr) (3.13.1)\n",
            "Requirement already satisfied: typing-extensions in /usr/local/lib/python3.10/dist-packages (from torch->easyocr) (4.5.0)\n",
            "Requirement already satisfied: sympy in /usr/local/lib/python3.10/dist-packages (from torch->easyocr) (1.12)\n",
            "Requirement already satisfied: networkx in /usr/local/lib/python3.10/dist-packages (from torch->easyocr) (3.2.1)\n",
            "Requirement already satisfied: jinja2 in /usr/local/lib/python3.10/dist-packages (from torch->easyocr) (3.1.2)\n",
            "Requirement already satisfied: fsspec in /usr/local/lib/python3.10/dist-packages (from torch->easyocr) (2023.6.0)\n",
            "Requirement already satisfied: triton==2.1.0 in /usr/local/lib/python3.10/dist-packages (from torch->easyocr) (2.1.0)\n",
            "Requirement already satisfied: six in /usr/local/lib/python3.10/dist-packages (from python-bidi->easyocr) (1.16.0)\n",
            "Requirement already satisfied: imageio>=2.4.1 in /usr/local/lib/python3.10/dist-packages (from scikit-image->easyocr) (2.31.6)\n",
            "Requirement already satisfied: tifffile>=2019.7.26 in /usr/local/lib/python3.10/dist-packages (from scikit-image->easyocr) (2023.9.26)\n",
            "Requirement already satisfied: PyWavelets>=1.1.1 in /usr/local/lib/python3.10/dist-packages (from scikit-image->easyocr) (1.4.1)\n",
            "Requirement already satisfied: packaging>=20.0 in /usr/local/lib/python3.10/dist-packages (from scikit-image->easyocr) (23.2)\n",
            "Requirement already satisfied: MarkupSafe>=2.0 in /usr/local/lib/python3.10/dist-packages (from jinja2->torch->easyocr) (2.1.3)\n",
            "Requirement already satisfied: charset-normalizer<4,>=2 in /usr/local/lib/python3.10/dist-packages (from requests->torchvision>=0.5->easyocr) (3.3.2)\n",
            "Requirement already satisfied: idna<4,>=2.5 in /usr/local/lib/python3.10/dist-packages (from requests->torchvision>=0.5->easyocr) (3.4)\n",
            "Requirement already satisfied: urllib3<3,>=1.21.1 in /usr/local/lib/python3.10/dist-packages (from requests->torchvision>=0.5->easyocr) (2.0.7)\n",
            "Requirement already satisfied: certifi>=2017.4.17 in /usr/local/lib/python3.10/dist-packages (from requests->torchvision>=0.5->easyocr) (2023.7.22)\n",
            "Requirement already satisfied: mpmath>=0.19 in /usr/local/lib/python3.10/dist-packages (from sympy->torch->easyocr) (1.3.0)\n",
            "Installing collected packages: pyclipper, ninja, python-bidi, easyocr\n",
            "Successfully installed easyocr-1.7.1 ninja-1.11.1.1 pyclipper-1.3.0.post5 python-bidi-0.4.2\n"
          ]
        }
      ]
    },
    {
      "cell_type": "code",
      "source": [
        "import easyocr\n",
        "\n",
        "# Create an OCR reader for Arabic\n",
        "reader = easyocr.Reader(['ar'])"
      ],
      "metadata": {
        "id": "JbK5xJM99ZBR"
      },
      "execution_count": 5,
      "outputs": []
    },
    {
      "cell_type": "code",
      "source": [
        "# Perform OCR on an image\n",
        "result = reader.readtext(\"/content/9.jpg\")\n",
        "\n",
        "for detection in result:\n",
        "    print(detection[1])"
      ],
      "metadata": {
        "colab": {
          "base_uri": "https://localhost:8080/"
        },
        "id": "TqM_1_YyfToA",
        "outputId": "40d6b4f2-253b-40eb-bc54-bae29e3f139e"
      },
      "execution_count": 4,
      "outputs": [
        {
          "output_type": "stream",
          "name": "stderr",
          "text": [
            "WARNING:easyocr.easyocr:Downloading detection model, please wait. This may take several minutes depending upon your network connection.\n"
          ]
        },
        {
          "output_type": "stream",
          "name": "stdout",
          "text": [
            "Progress: |██████████████████████████████████████████████████| 100.0% Complete"
          ]
        },
        {
          "output_type": "stream",
          "name": "stderr",
          "text": [
            "WARNING:easyocr.easyocr:Downloading recognition model, please wait. This may take several minutes depending upon your network connection.\n"
          ]
        },
        {
          "output_type": "stream",
          "name": "stdout",
          "text": [
            "Progress: |██████████████████████████████████████████████████| 100.0% Completeجمهوزتذه صنالح بيذا\n",
            "الشخصية\n",
            "بطاقة\n",
            "يونان\n",
            "يونان مسعود\n",
            "عبدالبصير محمد  عزبة مرسى خليل\n",
            "٨ ش\n",
            "الزيتون\n",
            "؟ ١\n",
            "٢ ٠٧ ٩٦ ٢\n",
            "٩٣ ٠٣٦\n",
            "6&1591077\n",
            "تحقيق\n",
            "ناجى\n",
            "القاهره\n"
          ]
        }
      ]
    },
    {
      "cell_type": "code",
      "source": [
        "# Perform OCR on an image\n",
        "result = reader.readtext(\"/content/10.jpg\")\n",
        "\n",
        "for detection in result:\n",
        "    print(detection[1])"
      ],
      "metadata": {
        "colab": {
          "base_uri": "https://localhost:8080/"
        },
        "id": "TbETB46NfTp-",
        "outputId": "fcd9fe98-91b5-4267-be41-b94074950d23"
      },
      "execution_count": 5,
      "outputs": [
        {
          "output_type": "stream",
          "name": "stdout",
          "text": [
            "جمهواتيزف صنالح بينا\n",
            "الشخصية\n",
            "بطاقة\n",
            "ممدوح\n",
            "عبدالخالق\n",
            "محمد\n",
            "رضا\n",
            "محمد امام\n",
            "٣ش\n",
            "المرج\n",
            "=\n",
            "٩٥\n",
            "٣\n",
            "672162954\n",
            "تحقيق\n",
            "القاهره\n"
          ]
        }
      ]
    },
    {
      "cell_type": "code",
      "source": [
        "# Perform OCR on an image\n",
        "result = reader.readtext(\"/content/10.jpg\")\n",
        "\n",
        "# Sort the result by the y-coordinate of the bounding box\n",
        "result.sort(key=lambda detection: detection[0][1])\n",
        "\n",
        "# Group words into lines based on the vertical position\n",
        "lines = []\n",
        "current_line = []\n",
        "\n",
        "for detection in result:\n",
        "    # Assuming detection[0] contains the bounding box information\n",
        "    x, y, _, _ = detection[0]\n",
        "\n",
        "    # You may need to adjust the threshold based on your specific use case\n",
        "    if not current_line or abs(y - current_line[-1][0][1]) < 20:\n",
        "        current_line.append(detection)\n",
        "    else:\n",
        "        lines.append(current_line)\n",
        "        current_line = [detection]\n",
        "\n",
        "# Add the last line\n",
        "lines.append(current_line)\n",
        "\n",
        "# Print the lines and words\n",
        "for line in lines:\n",
        "    line_text = ' '.join(word[1] for word in line)\n",
        "    print(line_text)"
      ],
      "metadata": {
        "colab": {
          "base_uri": "https://localhost:8080/",
          "height": 245
        },
        "id": "1Iv1uTB3i7Cw",
        "outputId": "4aa2f27a-ea04-4bdc-e729-a876ae0f4098"
      },
      "execution_count": 6,
      "outputs": [
        {
          "output_type": "error",
          "ename": "TypeError",
          "evalue": "ignored",
          "traceback": [
            "\u001b[0;31m---------------------------------------------------------------------------\u001b[0m",
            "\u001b[0;31mTypeError\u001b[0m                                 Traceback (most recent call last)",
            "\u001b[0;32m<ipython-input-6-626ac84cf6d8>\u001b[0m in \u001b[0;36m<cell line: 11>\u001b[0;34m()\u001b[0m\n\u001b[1;32m     14\u001b[0m \u001b[0;34m\u001b[0m\u001b[0m\n\u001b[1;32m     15\u001b[0m     \u001b[0;31m# You may need to adjust the threshold based on your specific use case\u001b[0m\u001b[0;34m\u001b[0m\u001b[0;34m\u001b[0m\u001b[0m\n\u001b[0;32m---> 16\u001b[0;31m     \u001b[0;32mif\u001b[0m \u001b[0;32mnot\u001b[0m \u001b[0mcurrent_line\u001b[0m \u001b[0;32mor\u001b[0m \u001b[0mabs\u001b[0m\u001b[0;34m(\u001b[0m\u001b[0my\u001b[0m \u001b[0;34m-\u001b[0m \u001b[0mcurrent_line\u001b[0m\u001b[0;34m[\u001b[0m\u001b[0;34m-\u001b[0m\u001b[0;36m1\u001b[0m\u001b[0;34m]\u001b[0m\u001b[0;34m[\u001b[0m\u001b[0;36m0\u001b[0m\u001b[0;34m]\u001b[0m\u001b[0;34m[\u001b[0m\u001b[0;36m1\u001b[0m\u001b[0;34m]\u001b[0m\u001b[0;34m)\u001b[0m \u001b[0;34m<\u001b[0m \u001b[0;36m20\u001b[0m\u001b[0;34m:\u001b[0m\u001b[0;34m\u001b[0m\u001b[0;34m\u001b[0m\u001b[0m\n\u001b[0m\u001b[1;32m     17\u001b[0m         \u001b[0mcurrent_line\u001b[0m\u001b[0;34m.\u001b[0m\u001b[0mappend\u001b[0m\u001b[0;34m(\u001b[0m\u001b[0mdetection\u001b[0m\u001b[0;34m)\u001b[0m\u001b[0;34m\u001b[0m\u001b[0;34m\u001b[0m\u001b[0m\n\u001b[1;32m     18\u001b[0m     \u001b[0;32melse\u001b[0m\u001b[0;34m:\u001b[0m\u001b[0;34m\u001b[0m\u001b[0;34m\u001b[0m\u001b[0m\n",
            "\u001b[0;31mTypeError\u001b[0m: unsupported operand type(s) for -: 'list' and 'list'"
          ]
        }
      ]
    },
    {
      "cell_type": "code",
      "source": [
        "# Perform OCR on an image\n",
        "result = reader.readtext(\"/content/10.jpg\")\n",
        "\n",
        "# Sort the result by the y-coordinate of the bounding box\n",
        "result.sort(key=lambda detection: detection[0][1][1])  # Sort by the y-coordinate of the top-left corner\n",
        "\n",
        "# Group words into lines based on the vertical position\n",
        "lines = []\n",
        "current_line = []\n",
        "\n",
        "for detection in result:\n",
        "    # Extracting the y-coordinate from the bounding box\n",
        "    y = detection[0][1][1]\n",
        "\n",
        "    # You may need to adjust the threshold based on your specific use case\n",
        "    if not current_line or abs(y - current_line[-1][0][1][1]) < 20:\n",
        "        current_line.append(detection)\n",
        "    else:\n",
        "        lines.append(current_line)\n",
        "        current_line = [detection]\n",
        "\n",
        "# Add the last line\n",
        "lines.append(current_line)\n",
        "\n",
        "# Print the lines and words\n",
        "for line in lines:\n",
        "    line_text = ' '.join(word[1] for word in line)\n",
        "    print(line_text)"
      ],
      "metadata": {
        "colab": {
          "base_uri": "https://localhost:8080/"
        },
        "id": "KgvSQjHkjJL6",
        "outputId": "29fbb8d2-fe64-4f5d-f7f9-9875379d1b2f"
      },
      "execution_count": 6,
      "outputs": [
        {
          "output_type": "stream",
          "name": "stdout",
          "text": [
            "جمهواتيزف صنالح بينا\n",
            "تحقيق الشخصية بطاقة\n",
            "ممدوح\n",
            "عبدالخالق رضا محمد\n",
            "محمد امام ٣ش\n",
            "القاهره المرج\n",
            "=\n",
            "٩٥ ٣\n",
            "672162954\n"
          ]
        }
      ]
    },
    {
      "cell_type": "code",
      "source": [
        "# Perform OCR on an image\n",
        "result = reader.readtext(\"/content/9.jpg\")\n",
        "\n",
        "# Sort the result by the y-coordinate of the bounding box\n",
        "result.sort(key=lambda detection: detection[0][1][1])  # Sort by the y-coordinate of the top-left corner\n",
        "\n",
        "# Group words into lines based on the vertical position\n",
        "lines = []\n",
        "current_line = []\n",
        "\n",
        "for detection in result:\n",
        "    # Extracting the y-coordinate from the bounding box\n",
        "    y = detection[0][1][1]\n",
        "\n",
        "    # You may need to adjust the threshold based on your specific use case\n",
        "    if not current_line or abs(y - current_line[-1][0][1][1]) < 20:\n",
        "        current_line.append(detection)\n",
        "    else:\n",
        "        lines.append(current_line)\n",
        "        current_line = [detection]\n",
        "\n",
        "# Add the last line\n",
        "lines.append(current_line)\n",
        "\n",
        "# Print the lines and words\n",
        "for line in lines:\n",
        "    line_text = ' '.join(word[1] for word in line)\n",
        "    print(line_text)"
      ],
      "metadata": {
        "colab": {
          "base_uri": "https://localhost:8080/"
        },
        "id": "vIKe0QZEjXk5",
        "outputId": "141319de-a9bc-41cf-a1f8-70184b820460"
      },
      "execution_count": 8,
      "outputs": [
        {
          "output_type": "stream",
          "name": "stdout",
          "text": [
            "جمهوزتذه صنالح بيذا\n",
            "تحقيق بطاقة الشخصية\n",
            "يونان\n",
            "ناجى يونان مسعود\n",
            "عبدالبصير محمد  عزبة مرسى خليل ٨ ش\n",
            "القاهره الزيتون\n",
            "؟ ١ ٩٣ ٠٣٦ ٢ ٠٧ ٩٦ ٢\n",
            "6&1591077\n"
          ]
        }
      ]
    },
    {
      "cell_type": "code",
      "source": [
        "# Perform OCR on an image\n",
        "result = reader.readtext(\"/content/11.jpg\")\n",
        "\n",
        "# Sort the result by the y-coordinate of the bounding box\n",
        "result.sort(key=lambda detection: detection[0][1][1])  # Sort by the y-coordinate of the top-left corner\n",
        "\n",
        "# Group words into lines based on the vertical position\n",
        "lines = []\n",
        "current_line = []\n",
        "\n",
        "for detection in result:\n",
        "    # Extracting the y-coordinate from the bounding box\n",
        "    y = detection[0][1][1]\n",
        "\n",
        "    # You may need to adjust the threshold based on your specific use case\n",
        "    if not current_line or abs(y - current_line[-1][0][1][1]) < 20:\n",
        "        current_line.append(detection)\n",
        "    else:\n",
        "        lines.append(current_line)\n",
        "        current_line = [detection]\n",
        "\n",
        "# Add the last line\n",
        "lines.append(current_line)\n",
        "\n",
        "# Print the lines and words\n",
        "for line in lines:\n",
        "    line_text = ' '.join(word[1] for word in line)\n",
        "    print(line_text)"
      ],
      "metadata": {
        "colab": {
          "base_uri": "https://localhost:8080/"
        },
        "id": "wJoC9NCNj56L",
        "outputId": "1a3a7140-d7e7-4a77-d46c-6aa9ee3f2586"
      },
      "execution_count": 13,
      "outputs": [
        {
          "output_type": "stream",
          "name": "stdout",
          "text": [
            "جمهوزتذة صزالع بينمها\n",
            "تحقيق بطاقة الشخصية\n",
            "مصطفى\n",
            "عاطف عبدالله ابراهيم\n",
            "ش سعد زغلول\n",
            "القمح الشر قية مركز منيا\n",
            "١ 5 ٦٢١ ٩\n",
            "١١ ٩٦ ٢ ١٣ ٠٩ ٥٦ ٠١٤\n",
            "6(9412479\n"
          ]
        }
      ]
    },
    {
      "cell_type": "code",
      "source": [],
      "metadata": {
        "id": "ouFTjCMRky4w"
      },
      "execution_count": null,
      "outputs": []
    },
    {
      "cell_type": "code",
      "source": [
        "# Perform OCR on an image\n",
        "result = reader.readtext(\"/content/12.jpg\")\n",
        "\n",
        "# Sort the result by the y-coordinate of the bounding box\n",
        "result.sort(key=lambda detection: detection[0][1][1])  # Sort by the y-coordinate of the top-left corner\n",
        "\n",
        "# Group words into lines based on the vertical position\n",
        "lines = []\n",
        "current_line = []\n",
        "\n",
        "for detection in result:\n",
        "    # Extracting the y-coordinate from the bounding box\n",
        "    y = detection[0][1][1]\n",
        "\n",
        "    # You may need to adjust the threshold based on your specific use case\n",
        "    if not current_line or abs(y - current_line[-1][0][1][1]) < 20:\n",
        "        current_line.append(detection)\n",
        "    else:\n",
        "        lines.append(current_line)\n",
        "        current_line = [detection]\n",
        "\n",
        "# Add the last line\n",
        "lines.append(current_line)\n",
        "\n",
        "# Print the lines and words\n",
        "for line in lines:\n",
        "    line_text = ' '.join(word[1] for word in line)\n",
        "    print(line_text)"
      ],
      "metadata": {
        "outputId": "c838471e-704e-48f8-9019-17f1e6355a91",
        "colab": {
          "base_uri": "https://localhost:8080/"
        },
        "id": "GZH-uNWak6iB"
      },
      "execution_count": 15,
      "outputs": [
        {
          "output_type": "stream",
          "name": "stdout",
          "text": [
            "جمهوزتذف صنالح بينا\n",
            "تحقيق بطاقة الشخصية\n",
            "محمد\n",
            "الشوربجى نهاد محمد صديق\n",
            "مساكن الضباط عمارة ٧\n",
            "القاهره اول السلام\n",
            "٠٢ ١٧ ٠١٤\n",
            "[13677277\n"
          ]
        }
      ]
    },
    {
      "cell_type": "code",
      "source": [],
      "metadata": {
        "id": "jMrb2CSGmKU7"
      },
      "execution_count": null,
      "outputs": []
    },
    {
      "cell_type": "code",
      "source": [
        "# Perform OCR on an image\n",
        "result = reader.readtext(\"/content/13.jpg\")\n",
        "\n",
        "# Sort the result by the y-coordinate of the bounding box\n",
        "result.sort(key=lambda detection: detection[0][1][1])  # Sort by the y-coordinate of the top-left corner\n",
        "\n",
        "# Group words into lines based on the vertical position\n",
        "lines = []\n",
        "current_line = []\n",
        "\n",
        "for detection in result:\n",
        "    # Extracting the y-coordinate from the bounding box\n",
        "    y = detection[0][1][1]\n",
        "\n",
        "    # You may need to adjust the threshold based on your specific use case\n",
        "    if not current_line or abs(y - current_line[-1][0][1][1]) < 20:\n",
        "        current_line.append(detection)\n",
        "    else:\n",
        "        lines.append(current_line)\n",
        "        current_line = [detection]\n",
        "\n",
        "# Add the last line\n",
        "lines.append(current_line)\n",
        "\n",
        "# Print the lines and words\n",
        "for line in lines:\n",
        "    line_text = ' '.join(word[1] for word in line)\n",
        "    print(line_text)"
      ],
      "metadata": {
        "outputId": "e2921ffd-5f0d-4f32-d1ea-46e2d50c0dbd",
        "colab": {
          "base_uri": "https://localhost:8080/"
        },
        "id": "iX3fB8-0mPHn"
      },
      "execution_count": 17,
      "outputs": [
        {
          "output_type": "stream",
          "name": "stdout",
          "text": [
            "جمهوزتينه همنالج بينا\n",
            "تحقيق بطاقة الشخصية\n",
            "علياء\n",
            "شلبى نصر محمود احمد\n",
            "٢٨ عبدالوهاب زيدان ميدان فيكتوريا\n",
            "القاهره الساحل\n",
            "٥ ٦٧٠ ١٠ ٧ ٩ ٩ ١\n",
            "٤١ ٠١٨ ٠١ ٩٧ ٢\n",
            "602905373\n"
          ]
        }
      ]
    },
    {
      "cell_type": "code",
      "source": [],
      "metadata": {
        "id": "Id6zg0K_mKWF"
      },
      "execution_count": null,
      "outputs": []
    },
    {
      "cell_type": "code",
      "source": [
        "# Perform OCR on an image\n",
        "result = reader.readtext(\"14.jpg\")\n",
        "\n",
        "# Sort the result by the y-coordinate of the bounding box\n",
        "result.sort(key=lambda detection: detection[0][1][1])  # Sort by the y-coordinate of the top-left corner\n",
        "\n",
        "# Group words into lines based on the vertical position\n",
        "lines = []\n",
        "current_line = []\n",
        "\n",
        "for detection in result:\n",
        "    # Extracting the y-coordinate from the bounding box\n",
        "    y = detection[0][1][1]\n",
        "\n",
        "    # You may need to adjust the threshold based on your specific use case\n",
        "    if not current_line or abs(y - current_line[-1][0][1][1]) < 20:\n",
        "        current_line.append(detection)\n",
        "    else:\n",
        "        lines.append(current_line)\n",
        "        current_line = [detection]\n",
        "\n",
        "# Add the last line\n",
        "lines.append(current_line)\n",
        "\n",
        "# Print the lines and words\n",
        "for line in lines:\n",
        "    line_text = ' '.join(word[1] for word in line)\n",
        "    print(line_text)"
      ],
      "metadata": {
        "outputId": "cd74eabe-b25c-4e5d-c40a-4452d62115da",
        "colab": {
          "base_uri": "https://localhost:8080/"
        },
        "id": "390pGy4vnmhT"
      },
      "execution_count": 24,
      "outputs": [
        {
          "output_type": "stream",
          "name": "stdout",
          "text": [
            "جمهوذكنة صزالح بينا\n",
            "تحقيق الشخصية بطاقة\n",
            "مصطفى\n",
            "النقراشى الحليم فهمى\n",
            "محمد سبعل عبد\n",
            "ابراهيم بديوى- عمرانية غربية ٣ش\n",
            "الجيزه العمرانيه\n",
            "٩ ١٩٩٢١٠7١ ٠\n",
            "٩٣ ٢ ١٤ ٠١ ٠٩ ٧٤ ١٠٧\n",
            "666848691\n"
          ]
        }
      ]
    },
    {
      "cell_type": "code",
      "source": [
        "result = reader.readtext(\"/content/11.jpg\")\n",
        "\n",
        "# Print the position of each word\n",
        "for detection in result:\n",
        "    word = detection[1]\n",
        "    box = detection[0]\n",
        "\n",
        "    print(f\"Word: {word}, Bounding Box: {box}\")"
      ],
      "metadata": {
        "colab": {
          "base_uri": "https://localhost:8080/"
        },
        "id": "CGYHS_RemKZD",
        "outputId": "18bf9cc2-17c2-4d37-eebf-4479280eadf8"
      },
      "execution_count": 139,
      "outputs": [
        {
          "output_type": "stream",
          "name": "stdout",
          "text": [
            "Word: جمهوزتذة صزالع بينمها, Bounding Box: [[1747, 793], [2618, 793], [2618, 951], [1747, 951]]\n",
            "Word: الشخصية, Bounding Box: [[1892, 947], [2174, 947], [2174, 1033], [1892, 1033]]\n",
            "Word: بطاقة, Bounding Box: [[2318, 945], [2475, 945], [2475, 1026], [2318, 1026]]\n",
            "Word: عاطف عبدالله ابراهيم, Bounding Box: [[2111, 1228], [2821, 1228], [2821, 1336], [2111, 1336]]\n",
            "Word: ش سعد زغلول, Bounding Box: [[2357, 1390], [2833, 1390], [2833, 1491], [2357, 1491]]\n",
            "Word: قية, Bounding Box: [[2034, 1501], [2149, 1501], [2149, 1594], [2034, 1594]]\n",
            "Word: مركز منيا, Bounding Box: [[2524, 1516], [2835, 1516], [2835, 1616], [2524, 1616]]\n",
            "Word: ١ 5 ٦٢١ ٩, Bounding Box: [[875, 1751], [1225, 1751], [1225, 1851], [875, 1851]]\n",
            "Word: ١١ ٩٦ ٢, Bounding Box: [[1737, 1803], [2131, 1803], [2131, 1904], [1737, 1904]]\n",
            "Word: ١٣ ٠٩, Bounding Box: [[2164, 1807], [2466, 1807], [2466, 1909], [2164, 1909]]\n",
            "Word: ٥٦ ٠١٤, Bounding Box: [[2513, 1820], [2867, 1820], [2867, 1912], [2513, 1912]]\n",
            "Word: 6(9412479, Bounding Box: [[940, 1970], [1475, 1970], [1475, 2068], [940, 2068]]\n",
            "Word: تحقيق, Bounding Box: [[2155.6837947269396, 962.2719378531464], [2324.060464456011, 935.0814771476843], [2333.3162052730604, 1023.7280621468536], [2164.939535543989, 1051.9185228523158]]\n",
            "Word: مصطفى, Bounding Box: [[2536.92997829528, 1111.1658654307355], [2827.782643103034, 1087.5073393053526], [2829.07002170472, 1198.8341345692645], [2538.217356896966, 1222.4926606946474]]\n",
            "Word: الشر, Bounding Box: [[2129.96045745888, 1518.210195802624], [2275.030980282338, 1500.0415307582653], [2281.03954254112, 1585.789804197376], [2134.969019717662, 1603.9584692417347]]\n",
            "Word: القمح, Bounding Box: [[2329.84272251348, 1525.2136125673999], [2521.1862631980407, 1499.9491679533864], [2527.15727748652, 1596.7863874326001], [2335.8137368019593, 1622.0508320466136]]\n"
          ]
        }
      ]
    },
    {
      "cell_type": "code",
      "source": [
        "# Initialize variables to store the smallest bounding box\n",
        "smallest_box = None\n",
        "smallest_word = None\n",
        "\n",
        "# Iterate through the OCR result to find the smallest bounding box\n",
        "for detection in result:\n",
        "    word = detection[1]\n",
        "    box = detection[0]\n",
        "\n",
        "    # Calculate the area of the bounding box (assuming a rectangular bounding box)\n",
        "    box_area = (box[2][0] - box[0][0]) * (box[2][1] - box[0][1])\n",
        "\n",
        "    # Update the smallest bounding box if it's the first or if the current box is smaller\n",
        "    if smallest_box is None or box_area < smallest_box:\n",
        "        smallest_box = box_area\n",
        "        smallest_word = word\n",
        "\n",
        "# Print the smallest word and its bounding box\n",
        "print(f\"Smallest Word: {smallest_word}, Smallest Bounding Box: {smallest_box}\")"
      ],
      "metadata": {
        "colab": {
          "base_uri": "https://localhost:8080/"
        },
        "id": "nnH8Hv-vAx1s",
        "outputId": "33cad9c5-a841-487e-d989-e06130f701f2"
      },
      "execution_count": 140,
      "outputs": [
        {
          "output_type": "stream",
          "name": "stdout",
          "text": [
            "Smallest Word: الشر, Smallest Bounding Box: 10209.86540649524\n"
          ]
        }
      ]
    },
    {
      "cell_type": "code",
      "source": [
        "# Initialize variables to store the largest bounding box\n",
        "largest_box = None\n",
        "largest_word = None\n",
        "\n",
        "# Iterate through the OCR result to find the largest bounding box\n",
        "for detection in result:\n",
        "    word = detection[1]\n",
        "    box = detection[0]\n",
        "\n",
        "    # Calculate the area of the bounding box (assuming a rectangular bounding box)\n",
        "    box_area = (box[2][0] - box[0][0]) * (box[2][1] - box[0][1])\n",
        "\n",
        "    # Update the largest bounding box if it's the first or if the current box is larger\n",
        "    if largest_box is None or box_area > largest_box:\n",
        "        largest_box = box_area\n",
        "        largest_word = word\n",
        "\n",
        "# Print the largest word and its bounding box\n",
        "print(f\"Largest Word: {largest_word}, Largest Bounding Box: {largest_box}\")"
      ],
      "metadata": {
        "colab": {
          "base_uri": "https://localhost:8080/"
        },
        "id": "VgbzekpBEYcP",
        "outputId": "86509851-32a1-45ab-e4f0-2e816b3c22b6"
      },
      "execution_count": 141,
      "outputs": [
        {
          "output_type": "stream",
          "name": "stdout",
          "text": [
            "Largest Word: جمهوزتذة صزالع بينمها, Largest Bounding Box: 137618\n"
          ]
        }
      ]
    },
    {
      "cell_type": "code",
      "source": [
        "# Sort results by the size of the bounding boxes (largest to smallest)\n",
        "sorted_result_largest_first = sorted(result, key=lambda detection: (detection[0][2][0] - detection[0][0][0]) * (detection[0][2][1] - detection[0][0][1]), reverse=True)\n",
        "\n",
        "# Print sorted results (largest to smallest)\n",
        "print(\"Sorted by largest bounding box first:\")\n",
        "for detection in sorted_result_largest_first:\n",
        "    word = detection[1]\n",
        "    box = detection[0]\n",
        "    print(f\"Word: {word}, Bounding Box: {box}\")"
      ],
      "metadata": {
        "colab": {
          "base_uri": "https://localhost:8080/"
        },
        "id": "Je9jruBCEYnY",
        "outputId": "7b551220-7653-4644-9cd4-11e7da5fff31"
      },
      "execution_count": 142,
      "outputs": [
        {
          "output_type": "stream",
          "name": "stdout",
          "text": [
            "Sorted by largest bounding box first:\n",
            "Word: جمهوزتذة صزالع بينمها, Bounding Box: [[1747, 793], [2618, 793], [2618, 951], [1747, 951]]\n",
            "Word: عاطف عبدالله ابراهيم, Bounding Box: [[2111, 1228], [2821, 1228], [2821, 1336], [2111, 1336]]\n",
            "Word: 6(9412479, Bounding Box: [[940, 1970], [1475, 1970], [1475, 2068], [940, 2068]]\n",
            "Word: ش سعد زغلول, Bounding Box: [[2357, 1390], [2833, 1390], [2833, 1491], [2357, 1491]]\n",
            "Word: ١١ ٩٦ ٢, Bounding Box: [[1737, 1803], [2131, 1803], [2131, 1904], [1737, 1904]]\n",
            "Word: ١ 5 ٦٢١ ٩, Bounding Box: [[875, 1751], [1225, 1751], [1225, 1851], [875, 1851]]\n",
            "Word: ٥٦ ٠١٤, Bounding Box: [[2513, 1820], [2867, 1820], [2867, 1912], [2513, 1912]]\n",
            "Word: مركز منيا, Bounding Box: [[2524, 1516], [2835, 1516], [2835, 1616], [2524, 1616]]\n",
            "Word: ١٣ ٠٩, Bounding Box: [[2164, 1807], [2466, 1807], [2466, 1909], [2164, 1909]]\n",
            "Word: مصطفى, Bounding Box: [[2536.92997829528, 1111.1658654307355], [2827.782643103034, 1087.5073393053526], [2829.07002170472, 1198.8341345692645], [2538.217356896966, 1222.4926606946474]]\n",
            "Word: الشخصية, Bounding Box: [[1892, 947], [2174, 947], [2174, 1033], [1892, 1033]]\n",
            "Word: القمح, Bounding Box: [[2329.84272251348, 1525.2136125673999], [2521.1862631980407, 1499.9491679533864], [2527.15727748652, 1596.7863874326001], [2335.8137368019593, 1622.0508320466136]]\n",
            "Word: بطاقة, Bounding Box: [[2318, 945], [2475, 945], [2475, 1026], [2318, 1026]]\n",
            "Word: تحقيق, Bounding Box: [[2155.6837947269396, 962.2719378531464], [2324.060464456011, 935.0814771476843], [2333.3162052730604, 1023.7280621468536], [2164.939535543989, 1051.9185228523158]]\n",
            "Word: قية, Bounding Box: [[2034, 1501], [2149, 1501], [2149, 1594], [2034, 1594]]\n",
            "Word: الشر, Bounding Box: [[2129.96045745888, 1518.210195802624], [2275.030980282338, 1500.0415307582653], [2281.03954254112, 1585.789804197376], [2134.969019717662, 1603.9584692417347]]\n"
          ]
        }
      ]
    },
    {
      "cell_type": "code",
      "source": [],
      "metadata": {
        "id": "pFEIckHQPTej"
      },
      "execution_count": null,
      "outputs": []
    },
    {
      "cell_type": "code",
      "source": [],
      "metadata": {
        "id": "brz5SsZbPTjf"
      },
      "execution_count": null,
      "outputs": []
    },
    {
      "cell_type": "code",
      "source": [],
      "metadata": {
        "id": "KXEV5IuEPTkz"
      },
      "execution_count": null,
      "outputs": []
    },
    {
      "cell_type": "code",
      "source": [
        "# Sort results by the size of the bounding boxes (largest to smallest)\n",
        "sorted_result_largest_first = sorted(result, key=lambda detection: (detection[0][2][0] - detection[0][0][0]) * (detection[0][2][1] - detection[0][0][1]), reverse=True)\n",
        "\n",
        "# Print sorted results (largest to smallest)\n",
        "print(\"Sorted by largest bounding box first:\")\n",
        "for detection in sorted_result_largest_first:\n",
        "    word = detection[1]\n",
        "    box = detection[0][0][1]\n",
        "    print(word, box)"
      ],
      "metadata": {
        "colab": {
          "base_uri": "https://localhost:8080/"
        },
        "id": "CmnCHFBCGQyT",
        "outputId": "bf4c51c5-c83b-4299-c995-30d8c3226b4e"
      },
      "execution_count": 143,
      "outputs": [
        {
          "output_type": "stream",
          "name": "stdout",
          "text": [
            "Sorted by largest bounding box first:\n",
            "جمهوزتذة صزالع بينمها 793\n",
            "عاطف عبدالله ابراهيم 1228\n",
            "6(9412479 1970\n",
            "ش سعد زغلول 1390\n",
            "١١ ٩٦ ٢ 1803\n",
            "١ 5 ٦٢١ ٩ 1751\n",
            "٥٦ ٠١٤ 1820\n",
            "مركز منيا 1516\n",
            "١٣ ٠٩ 1807\n",
            "مصطفى 1111.1658654307355\n",
            "الشخصية 947\n",
            "القمح 1525.2136125673999\n",
            "بطاقة 945\n",
            "تحقيق 962.2719378531464\n",
            "قية 1501\n",
            "الشر 1518.210195802624\n"
          ]
        }
      ]
    },
    {
      "cell_type": "code",
      "source": [
        "# Sort results by the size of the bounding boxes (largest to smallest)\n",
        "sorted_result_largest_first = sorted(result, key=lambda detection: (detection[0][2][0] - detection[0][0][0]) * (detection[0][2][1] - detection[0][0][1]), reverse=True)\n",
        "\n",
        "# Print sorted results (largest to smallest)\n",
        "print(\"Sorted by largest bounding box first:\")\n",
        "for detection in sorted_result_largest_first:\n",
        "    word = detection[1]\n",
        "    box = detection[0][0]\n",
        "    print(word, box)"
      ],
      "metadata": {
        "colab": {
          "base_uri": "https://localhost:8080/"
        },
        "id": "F91bCNP8Rao3",
        "outputId": "fe90ce62-13d8-4588-9095-0865f0b82888"
      },
      "execution_count": 144,
      "outputs": [
        {
          "output_type": "stream",
          "name": "stdout",
          "text": [
            "Sorted by largest bounding box first:\n",
            "جمهوزتذة صزالع بينمها [1747, 793]\n",
            "عاطف عبدالله ابراهيم [2111, 1228]\n",
            "6(9412479 [940, 1970]\n",
            "ش سعد زغلول [2357, 1390]\n",
            "١١ ٩٦ ٢ [1737, 1803]\n",
            "١ 5 ٦٢١ ٩ [875, 1751]\n",
            "٥٦ ٠١٤ [2513, 1820]\n",
            "مركز منيا [2524, 1516]\n",
            "١٣ ٠٩ [2164, 1807]\n",
            "مصطفى [2536.92997829528, 1111.1658654307355]\n",
            "الشخصية [1892, 947]\n",
            "القمح [2329.84272251348, 1525.2136125673999]\n",
            "بطاقة [2318, 945]\n",
            "تحقيق [2155.6837947269396, 962.2719378531464]\n",
            "قية [2034, 1501]\n",
            "الشر [2129.96045745888, 1518.210195802624]\n"
          ]
        }
      ]
    },
    {
      "cell_type": "code",
      "source": [
        "# Create a dictionary to store words and their corresponding boxes\n",
        "word_box_dict = {}\n",
        "\n",
        "# Populate the dictionary\n",
        "for detection in result:\n",
        "    word = detection[1]\n",
        "    box = detection[0][0] # Assuming you want to store the y-coordinate of the top-left corner\n",
        "\n",
        "    # Store word and box in the dictionary\n",
        "    word_box_dict[word] = box\n",
        "\n",
        "# Sort the dictionary by the size of the bounding boxes (largest to smallest)\n",
        "sorted_word_box_dict = dict(sorted(word_box_dict.items(), key=lambda item: item[1], reverse=True))\n",
        "\n",
        "# Print sorted results (largest to smallest)\n",
        "print(\"Sorted by largest bounding box first:\")\n",
        "for word, box in sorted_word_box_dict.items():\n",
        "    print(f\"Word: {word}, Box: {box}\")"
      ],
      "metadata": {
        "colab": {
          "base_uri": "https://localhost:8080/"
        },
        "id": "Owf-knNwG9SJ",
        "outputId": "f9ecb42d-48e1-4a2b-9277-04bf384f7660"
      },
      "execution_count": 145,
      "outputs": [
        {
          "output_type": "stream",
          "name": "stdout",
          "text": [
            "Sorted by largest bounding box first:\n",
            "Word: مصطفى, Box: [2536.92997829528, 1111.1658654307355]\n",
            "Word: مركز منيا, Box: [2524, 1516]\n",
            "Word: ٥٦ ٠١٤, Box: [2513, 1820]\n",
            "Word: ش سعد زغلول, Box: [2357, 1390]\n",
            "Word: القمح, Box: [2329.84272251348, 1525.2136125673999]\n",
            "Word: بطاقة, Box: [2318, 945]\n",
            "Word: ١٣ ٠٩, Box: [2164, 1807]\n",
            "Word: تحقيق, Box: [2155.6837947269396, 962.2719378531464]\n",
            "Word: الشر, Box: [2129.96045745888, 1518.210195802624]\n",
            "Word: عاطف عبدالله ابراهيم, Box: [2111, 1228]\n",
            "Word: قية, Box: [2034, 1501]\n",
            "Word: الشخصية, Box: [1892, 947]\n",
            "Word: جمهوزتذة صزالع بينمها, Box: [1747, 793]\n",
            "Word: ١١ ٩٦ ٢, Box: [1737, 1803]\n",
            "Word: 6(9412479, Box: [940, 1970]\n",
            "Word: ١ 5 ٦٢١ ٩, Box: [875, 1751]\n"
          ]
        }
      ]
    },
    {
      "cell_type": "code",
      "source": [],
      "metadata": {
        "id": "ycPE127lR3Pw"
      },
      "execution_count": null,
      "outputs": []
    },
    {
      "cell_type": "code",
      "source": [
        "# Create a dictionary to store words and their corresponding boxes\n",
        "word_box_dict = {}\n",
        "\n",
        "# Populate the dictionary\n",
        "for detection in result:\n",
        "    word = detection[1]\n",
        "    box = detection[0][0][0] # Assuming you want to store the y-coordinate of the top-left corner\n",
        "\n",
        "    # Store word and box in the dictionary\n",
        "    word_box_dict[word] = box\n",
        "\n",
        "# Sort the dictionary by the size of the bounding boxes (largest to smallest)\n",
        "sorted_word_box_dict = dict(sorted(word_box_dict.items(), key=lambda item: item[1], reverse=True))\n",
        "\n",
        "# Print sorted results (largest to smallest)\n",
        "print(\"Sorted by largest bounding box first:\")\n",
        "for word, box in sorted_word_box_dict.items():\n",
        "    print(f\"Word: {word}, Box: {box}\")"
      ],
      "metadata": {
        "colab": {
          "base_uri": "https://localhost:8080/"
        },
        "outputId": "4359cce3-8c03-4a36-fa01-40acdfbe2166",
        "id": "DARdrqdIR4vz"
      },
      "execution_count": 147,
      "outputs": [
        {
          "output_type": "stream",
          "name": "stdout",
          "text": [
            "Sorted by largest bounding box first:\n",
            "Word: مصطفى, Box: 2536.92997829528\n",
            "Word: مركز منيا, Box: 2524\n",
            "Word: ٥٦ ٠١٤, Box: 2513\n",
            "Word: ش سعد زغلول, Box: 2357\n",
            "Word: القمح, Box: 2329.84272251348\n",
            "Word: بطاقة, Box: 2318\n",
            "Word: ١٣ ٠٩, Box: 2164\n",
            "Word: تحقيق, Box: 2155.6837947269396\n",
            "Word: الشر, Box: 2129.96045745888\n",
            "Word: عاطف عبدالله ابراهيم, Box: 2111\n",
            "Word: قية, Box: 2034\n",
            "Word: الشخصية, Box: 1892\n",
            "Word: جمهوزتذة صزالع بينمها, Box: 1747\n",
            "Word: ١١ ٩٦ ٢, Box: 1737\n",
            "Word: 6(9412479, Box: 940\n",
            "Word: ١ 5 ٦٢١ ٩, Box: 875\n"
          ]
        }
      ]
    },
    {
      "cell_type": "code",
      "source": [
        "sorted_word_box_dict.keys()"
      ],
      "metadata": {
        "colab": {
          "base_uri": "https://localhost:8080/"
        },
        "id": "cVm3WG2SR3Rh",
        "outputId": "3f0795cf-7782-439d-c90f-9090cb40e81d"
      },
      "execution_count": 149,
      "outputs": [
        {
          "output_type": "execute_result",
          "data": {
            "text/plain": [
              "dict_keys(['مصطفى', 'مركز منيا', '٥٦ ٠١٤', 'ش سعد زغلول', 'القمح', 'بطاقة', '١٣ ٠٩', 'تحقيق', 'الشر', 'عاطف عبدالله ابراهيم', 'قية', 'الشخصية', 'جمهوزتذة صزالع بينمها', '١١ ٩٦ ٢', '6(9412479', '١ 5 ٦٢١ ٩'])"
            ]
          },
          "metadata": {},
          "execution_count": 149
        }
      ]
    },
    {
      "cell_type": "code",
      "source": [
        "sorted_word_box_dict"
      ],
      "metadata": {
        "id": "sU1xF5tie8h0",
        "outputId": "7576cf83-48b0-44e9-8217-a01ad195ca6d",
        "colab": {
          "base_uri": "https://localhost:8080/"
        }
      },
      "execution_count": 150,
      "outputs": [
        {
          "output_type": "execute_result",
          "data": {
            "text/plain": [
              "{'مصطفى': 2536.92997829528,\n",
              " 'مركز منيا': 2524,\n",
              " '٥٦ ٠١٤': 2513,\n",
              " 'ش سعد زغلول': 2357,\n",
              " 'القمح': 2329.84272251348,\n",
              " 'بطاقة': 2318,\n",
              " '١٣ ٠٩': 2164,\n",
              " 'تحقيق': 2155.6837947269396,\n",
              " 'الشر': 2129.96045745888,\n",
              " 'عاطف عبدالله ابراهيم': 2111,\n",
              " 'قية': 2034,\n",
              " 'الشخصية': 1892,\n",
              " 'جمهوزتذة صزالع بينمها': 1747,\n",
              " '١١ ٩٦ ٢': 1737,\n",
              " '6(9412479': 940,\n",
              " '١ 5 ٦٢١ ٩': 875}"
            ]
          },
          "metadata": {},
          "execution_count": 150
        }
      ]
    },
    {
      "cell_type": "code",
      "source": [
        "word_box_dict.keys()"
      ],
      "metadata": {
        "colab": {
          "base_uri": "https://localhost:8080/"
        },
        "id": "bvkbwBYgHBIk",
        "outputId": "9e504037-b3b1-4c02-d3c0-66497b1c77e7"
      },
      "execution_count": 132,
      "outputs": [
        {
          "output_type": "execute_result",
          "data": {
            "text/plain": [
              "dict_keys([])"
            ]
          },
          "metadata": {},
          "execution_count": 132
        }
      ]
    },
    {
      "cell_type": "code",
      "source": [
        "# Create a dictionary to store words and their corresponding boxes\n",
        "word_box_dict = {}\n",
        "\n",
        "# Populate the dictionary\n",
        "for detection in result:\n",
        "    word = detection[1]\n",
        "    box = detection[0][0][1]  # Assuming you want to store the y-coordinate of the top-left corner\n",
        "\n",
        "    # Store word and box in the dictionary\n",
        "    word_box_dict[word] = box\n",
        "\n",
        "# Sort the dictionary by the size of the bounding boxes (smallest to largest)\n",
        "sorted_word_box_dict = dict(sorted(word_box_dict.items(), key=lambda item: item[1]))\n",
        "\n",
        "# Print sorted results (smallest to largest)\n",
        "print(\"Sorted by smallest bounding box first:\")\n",
        "for word, box in sorted_word_box_dict.items():\n",
        "    print(f\"Word: {word}, Box: {box}\")"
      ],
      "metadata": {
        "colab": {
          "base_uri": "https://localhost:8080/"
        },
        "id": "e25cp9GDHBKh",
        "outputId": "3d20ef51-f31e-489e-e267-53aba4559973"
      },
      "execution_count": 89,
      "outputs": [
        {
          "output_type": "stream",
          "name": "stdout",
          "text": [
            "Sorted by smallest bounding box first:\n",
            "Word: جمهوزتذة صزالع بينمها, Box: 793\n",
            "Word: بطاقة, Box: 945\n",
            "Word: الشخصية, Box: 947\n",
            "Word: تحقيق, Box: 962.2719378531464\n",
            "Word: مصطفى, Box: 1111.1658654307355\n",
            "Word: عاطف عبدالله ابراهيم, Box: 1228\n",
            "Word: ش سعد زغلول, Box: 1390\n",
            "Word: قية, Box: 1501\n",
            "Word: مركز منيا, Box: 1516\n",
            "Word: الشر, Box: 1518.210195802624\n",
            "Word: القمح, Box: 1525.2136125673999\n",
            "Word: ١ 5 ٦٢١ ٩, Box: 1751\n",
            "Word: ١١ ٩٦ ٢, Box: 1803\n",
            "Word: ١٣ ٠٩, Box: 1807\n",
            "Word: ٥٦ ٠١٤, Box: 1820\n",
            "Word: 6(9412479, Box: 1970\n"
          ]
        }
      ]
    },
    {
      "cell_type": "code",
      "source": [
        "# Assuming result is a list of detections where each detection is a tuple of the form (box, word)\n",
        "# Each box is assumed to be a list of four coordinates [x1, y1, x2, y2]\n",
        "\n",
        "# Create a dictionary to store words and their corresponding boxes\n",
        "word_box_dict = {}\n",
        "\n",
        "# Populate the dictionary\n",
        "for detection in result:\n",
        "    word = detection[1]\n",
        "    box = detection[0][0][0]  # Assuming detection[0][0] is a list of four coordinates [x1, y1, x2, y2]\n",
        "\n",
        "    # Store word and box in the dictionary\n",
        "    word_box_dict[word] = box\n",
        "\n",
        "# Sort the dictionary by the y-coordinate of the top-left corner (smallest to largest)\n",
        "sorted_word_box_dict = dict(sorted(word_box_dict.items(), key=lambda item: item[1][1]))\n",
        "\n",
        "# Print sorted results (smallest to largest)\n",
        "print(\"Sorted by smallest y-coordinate of the top-left corner first:\")\n",
        "for word, box in sorted_word_box_dict.items():\n",
        "    print(f\"Word: {word}, Box: {box}\")"
      ],
      "metadata": {
        "colab": {
          "base_uri": "https://localhost:8080/",
          "height": 262
        },
        "id": "ij1dFkGtULrt",
        "outputId": "2dbb3076-af23-464c-a71f-2cbc28a7e06d"
      },
      "execution_count": 131,
      "outputs": [
        {
          "output_type": "error",
          "ename": "IndexError",
          "evalue": "ignored",
          "traceback": [
            "\u001b[0;31m---------------------------------------------------------------------------\u001b[0m",
            "\u001b[0;31mIndexError\u001b[0m                                Traceback (most recent call last)",
            "\u001b[0;32m<ipython-input-131-1a87747a0013>\u001b[0m in \u001b[0;36m<cell line: 8>\u001b[0;34m()\u001b[0m\n\u001b[1;32m      7\u001b[0m \u001b[0;31m# Populate the dictionary\u001b[0m\u001b[0;34m\u001b[0m\u001b[0;34m\u001b[0m\u001b[0m\n\u001b[1;32m      8\u001b[0m \u001b[0;32mfor\u001b[0m \u001b[0mdetection\u001b[0m \u001b[0;32min\u001b[0m \u001b[0mresult\u001b[0m\u001b[0;34m:\u001b[0m\u001b[0;34m\u001b[0m\u001b[0;34m\u001b[0m\u001b[0m\n\u001b[0;32m----> 9\u001b[0;31m     \u001b[0mword\u001b[0m \u001b[0;34m=\u001b[0m \u001b[0mdetection\u001b[0m\u001b[0;34m[\u001b[0m\u001b[0;36m1\u001b[0m\u001b[0;34m]\u001b[0m\u001b[0;34m\u001b[0m\u001b[0;34m\u001b[0m\u001b[0m\n\u001b[0m\u001b[1;32m     10\u001b[0m     \u001b[0mbox\u001b[0m \u001b[0;34m=\u001b[0m \u001b[0mdetection\u001b[0m\u001b[0;34m[\u001b[0m\u001b[0;36m0\u001b[0m\u001b[0;34m]\u001b[0m\u001b[0;34m[\u001b[0m\u001b[0;36m0\u001b[0m\u001b[0;34m]\u001b[0m\u001b[0;34m[\u001b[0m\u001b[0;36m0\u001b[0m\u001b[0;34m]\u001b[0m  \u001b[0;31m# Assuming detection[0][0] is a list of four coordinates [x1, y1, x2, y2]\u001b[0m\u001b[0;34m\u001b[0m\u001b[0;34m\u001b[0m\u001b[0m\n\u001b[1;32m     11\u001b[0m \u001b[0;34m\u001b[0m\u001b[0m\n",
            "\u001b[0;31mIndexError\u001b[0m: list index out of range"
          ]
        }
      ]
    },
    {
      "cell_type": "code",
      "source": [
        "sorted_word_box_dict"
      ],
      "metadata": {
        "colab": {
          "base_uri": "https://localhost:8080/"
        },
        "id": "fejUKYACJN01",
        "outputId": "db8f359b-83aa-4505-ea6e-fabcc8c6fbf7"
      },
      "execution_count": 92,
      "outputs": [
        {
          "output_type": "execute_result",
          "data": {
            "text/plain": [
              "{'جمهوزتذة صزالع بينمها': [1747, 793],\n",
              " 'بطاقة': [2318, 945],\n",
              " 'الشخصية': [1892, 947],\n",
              " 'تحقيق': [2155.6837947269396, 962.2719378531464],\n",
              " 'مصطفى': [2536.92997829528, 1111.1658654307355],\n",
              " 'عاطف عبدالله ابراهيم': [2111, 1228],\n",
              " 'ش سعد زغلول': [2357, 1390],\n",
              " 'قية': [2034, 1501],\n",
              " 'مركز منيا': [2524, 1516],\n",
              " 'الشر': [2129.96045745888, 1518.210195802624],\n",
              " 'القمح': [2329.84272251348, 1525.2136125673999],\n",
              " '١ 5 ٦٢١ ٩': [875, 1751],\n",
              " '١١ ٩٦ ٢': [1737, 1803],\n",
              " '١٣ ٠٩': [2164, 1807],\n",
              " '٥٦ ٠١٤': [2513, 1820],\n",
              " '6(9412479': [940, 1970]}"
            ]
          },
          "metadata": {},
          "execution_count": 92
        }
      ]
    },
    {
      "cell_type": "code",
      "source": [
        "lst = []\n",
        "for i in sorted_word_box_dict.values():\n",
        "  lst.append(i)"
      ],
      "metadata": {
        "id": "iMsYE3SAJhcv"
      },
      "execution_count": 105,
      "outputs": []
    },
    {
      "cell_type": "code",
      "source": [
        "lst"
      ],
      "metadata": {
        "colab": {
          "base_uri": "https://localhost:8080/"
        },
        "id": "d8B54S-HKPvt",
        "outputId": "78e9b757-1303-4a7a-80b0-4ef2fa0ae763"
      },
      "execution_count": 106,
      "outputs": [
        {
          "output_type": "execute_result",
          "data": {
            "text/plain": [
              "[[1747, 793],\n",
              " [2318, 945],\n",
              " [1892, 947],\n",
              " [2155.6837947269396, 962.2719378531464],\n",
              " [2536.92997829528, 1111.1658654307355],\n",
              " [2111, 1228],\n",
              " [2357, 1390],\n",
              " [2034, 1501],\n",
              " [2524, 1516],\n",
              " [2129.96045745888, 1518.210195802624],\n",
              " [2329.84272251348, 1525.2136125673999],\n",
              " [875, 1751],\n",
              " [1737, 1803],\n",
              " [2164, 1807],\n",
              " [2513, 1820],\n",
              " [940, 1970]]"
            ]
          },
          "metadata": {},
          "execution_count": 106
        }
      ]
    },
    {
      "cell_type": "code",
      "source": [
        "# Assuming sorted_word_box_dict is the dictionary with words as keys and box values as values\n",
        "\n",
        "# Convert the dictionary to a list of tuples for easy iteration\n",
        "sorted_items = list(sorted_word_box_dict.items())\n",
        "\n",
        "# Group words into lines based on the condition that the difference is less than 50\n",
        "lines = []\n",
        "current_line = []\n",
        "\n",
        "for (word, box) in sorted_items:\n",
        "    # Check if the current box is in the same line as the previous one\n",
        "    if not current_line or abs(box - current_line[-1][1]) < 50:\n",
        "        current_line.append((word, box))\n",
        "    else:\n",
        "        lines.append(current_line)\n",
        "        current_line = [(word, box)]\n",
        "\n",
        "# Add the last line\n",
        "lines.append(current_line)\n",
        "\n",
        "# Print the lines and words\n",
        "for line in lines:\n",
        "    line_text = ' '.join(word[0] for word in line)\n",
        "    print(f\"Line: {line_text}\")"
      ],
      "metadata": {
        "colab": {
          "base_uri": "https://localhost:8080/",
          "height": 245
        },
        "id": "v3AylxzoLsPx",
        "outputId": "8d426e8f-8d0e-4393-a701-53597186df06"
      },
      "execution_count": 103,
      "outputs": [
        {
          "output_type": "error",
          "ename": "TypeError",
          "evalue": "ignored",
          "traceback": [
            "\u001b[0;31m---------------------------------------------------------------------------\u001b[0m",
            "\u001b[0;31mTypeError\u001b[0m                                 Traceback (most recent call last)",
            "\u001b[0;32m<ipython-input-103-fc193e56c2c4>\u001b[0m in \u001b[0;36m<cell line: 10>\u001b[0;34m()\u001b[0m\n\u001b[1;32m     10\u001b[0m \u001b[0;32mfor\u001b[0m \u001b[0;34m(\u001b[0m\u001b[0mword\u001b[0m\u001b[0;34m,\u001b[0m \u001b[0mbox\u001b[0m\u001b[0;34m)\u001b[0m \u001b[0;32min\u001b[0m \u001b[0msorted_items\u001b[0m\u001b[0;34m:\u001b[0m\u001b[0;34m\u001b[0m\u001b[0;34m\u001b[0m\u001b[0m\n\u001b[1;32m     11\u001b[0m     \u001b[0;31m# Check if the current box is in the same line as the previous one\u001b[0m\u001b[0;34m\u001b[0m\u001b[0;34m\u001b[0m\u001b[0m\n\u001b[0;32m---> 12\u001b[0;31m     \u001b[0;32mif\u001b[0m \u001b[0;32mnot\u001b[0m \u001b[0mcurrent_line\u001b[0m \u001b[0;32mor\u001b[0m \u001b[0mabs\u001b[0m\u001b[0;34m(\u001b[0m\u001b[0mbox\u001b[0m \u001b[0;34m-\u001b[0m \u001b[0mcurrent_line\u001b[0m\u001b[0;34m[\u001b[0m\u001b[0;34m-\u001b[0m\u001b[0;36m1\u001b[0m\u001b[0;34m]\u001b[0m\u001b[0;34m[\u001b[0m\u001b[0;36m1\u001b[0m\u001b[0;34m]\u001b[0m\u001b[0;34m)\u001b[0m \u001b[0;34m<\u001b[0m \u001b[0;36m50\u001b[0m\u001b[0;34m:\u001b[0m\u001b[0;34m\u001b[0m\u001b[0;34m\u001b[0m\u001b[0m\n\u001b[0m\u001b[1;32m     13\u001b[0m         \u001b[0mcurrent_line\u001b[0m\u001b[0;34m.\u001b[0m\u001b[0mappend\u001b[0m\u001b[0;34m(\u001b[0m\u001b[0;34m(\u001b[0m\u001b[0mword\u001b[0m\u001b[0;34m,\u001b[0m \u001b[0mbox\u001b[0m\u001b[0;34m)\u001b[0m\u001b[0;34m)\u001b[0m\u001b[0;34m\u001b[0m\u001b[0;34m\u001b[0m\u001b[0m\n\u001b[1;32m     14\u001b[0m     \u001b[0;32melse\u001b[0m\u001b[0;34m:\u001b[0m\u001b[0;34m\u001b[0m\u001b[0;34m\u001b[0m\u001b[0m\n",
            "\u001b[0;31mTypeError\u001b[0m: unsupported operand type(s) for -: 'list' and 'list'"
          ]
        }
      ]
    },
    {
      "cell_type": "code",
      "source": [
        "lst2 = [[1747, 793],\n",
        " [2318, 945],\n",
        " [1892, 947],\n",
        " [2155.6837947269396, 962.2719378531464],\n",
        " [2536.92997829528, 1111.1658654307355],\n",
        " [2111, 1228],\n",
        " [2357, 1390],\n",
        " [2034, 1501],\n",
        " [2524, 1516],\n",
        " [2129.96045745888, 1518.210195802624],\n",
        " [2329.84272251348, 1525.2136125673999],\n",
        " [875, 1751],\n",
        " [1737, 1803],\n",
        " [2164, 1807],\n",
        " [2513, 1820],\n",
        " [940, 1970]]"
      ],
      "metadata": {
        "id": "QeRqDAxMLsSv"
      },
      "execution_count": 107,
      "outputs": []
    },
    {
      "cell_type": "code",
      "source": [
        "for i in lst2:\n",
        "  print(i[0])"
      ],
      "metadata": {
        "colab": {
          "base_uri": "https://localhost:8080/"
        },
        "id": "EiwJsLecY0ZP",
        "outputId": "0d86057d-6da8-46cf-f1ac-f42c50b2de65"
      },
      "execution_count": 109,
      "outputs": [
        {
          "output_type": "stream",
          "name": "stdout",
          "text": [
            "1747\n",
            "2318\n",
            "1892\n",
            "2155.6837947269396\n",
            "2536.92997829528\n",
            "2111\n",
            "2357\n",
            "2034\n",
            "2524\n",
            "2129.96045745888\n",
            "2329.84272251348\n",
            "875\n",
            "1737\n",
            "2164\n",
            "2513\n",
            "940\n"
          ]
        }
      ]
    },
    {
      "cell_type": "code",
      "source": [
        "# Example list of numbers\n",
        "lst = [793, 945, 947, 962, 1111, 1228, 1390, 1501, 1516, 1518, 1525, 1751, 1803, 1807, 1820, 1970]\n",
        "\n",
        "# Group numbers into lines based on the condition that the difference is less than 50\n",
        "lines = []\n",
        "current_line = []\n",
        "\n",
        "for number in lst:\n",
        "    # Check if the current number is in the same line as the previous one\n",
        "    if not current_line or abs(number - current_line[-1]) < 50:\n",
        "        current_line.append(number)\n",
        "    else:\n",
        "        lines.append(current_line)\n",
        "        current_line = [number]\n",
        "\n",
        "# Add the last line\n",
        "lines.append(current_line)\n",
        "\n",
        "# Print the lines and numbers\n",
        "for line in lines:\n",
        "    print(f\"Line: {line}\")"
      ],
      "metadata": {
        "colab": {
          "base_uri": "https://localhost:8080/"
        },
        "id": "cY0fpFlSLHr-",
        "outputId": "361b5eca-db38-4051-d1d6-bb8443580e7a"
      },
      "execution_count": 110,
      "outputs": [
        {
          "output_type": "stream",
          "name": "stdout",
          "text": [
            "Line: [793]\n",
            "Line: [945, 947, 962]\n",
            "Line: [1111]\n",
            "Line: [1228]\n",
            "Line: [1390]\n",
            "Line: [1501, 1516, 1518, 1525]\n",
            "Line: [1751]\n",
            "Line: [1803, 1807, 1820]\n",
            "Line: [1970]\n"
          ]
        }
      ]
    },
    {
      "cell_type": "code",
      "source": [
        "lst = [[1747, 793],\n",
        " [2318, 945],\n",
        " [1892, 947],\n",
        " [2155.6837947269396, 962.2719378531464],\n",
        " [2536.92997829528, 1111.1658654307355],\n",
        " [2111, 1228],\n",
        " [2357, 1390],\n",
        " [2034, 1501],\n",
        " [2524, 1516],\n",
        " [2129.96045745888, 1518.210195802624],\n",
        " [2329.84272251348, 1525.2136125673999],\n",
        " [875, 1751],\n",
        " [1737, 1803],\n",
        " [2164, 1807],\n",
        " [2513, 1820],\n",
        " [940, 1970]]\n",
        "\n",
        "\n",
        "# Group numbers into lines based on the condition that the difference is less than 50\n",
        "lines = []\n",
        "current_line = []\n",
        "\n",
        "for number in lst:\n",
        "    # Check if the current number is in the same line as the previous one\n",
        "    if not current_line or abs([number[1]] - current_line[-1]) < 50:\n",
        "        current_line.append(number[1])\n",
        "    else:\n",
        "        lines.append(current_line)\n",
        "        current_line = [number[0]]\n",
        "\n",
        "# Add the last line\n",
        "lines.append(current_line)\n",
        "\n",
        "# Print the lines and numbers\n",
        "for line in lines:\n",
        "    print(f\"Line: {line}\")"
      ],
      "metadata": {
        "colab": {
          "base_uri": "https://localhost:8080/",
          "height": 245
        },
        "id": "tmIsKqbtZGjl",
        "outputId": "829198d6-1cb2-4ee2-aa3a-48b9e9bf131e"
      },
      "execution_count": 111,
      "outputs": [
        {
          "output_type": "error",
          "ename": "TypeError",
          "evalue": "ignored",
          "traceback": [
            "\u001b[0;31m---------------------------------------------------------------------------\u001b[0m",
            "\u001b[0;31mTypeError\u001b[0m                                 Traceback (most recent call last)",
            "\u001b[0;32m<ipython-input-111-b6446b240206>\u001b[0m in \u001b[0;36m<cell line: 23>\u001b[0;34m()\u001b[0m\n\u001b[1;32m     23\u001b[0m \u001b[0;32mfor\u001b[0m \u001b[0mnumber\u001b[0m \u001b[0;32min\u001b[0m \u001b[0mlst\u001b[0m\u001b[0;34m:\u001b[0m\u001b[0;34m\u001b[0m\u001b[0;34m\u001b[0m\u001b[0m\n\u001b[1;32m     24\u001b[0m     \u001b[0;31m# Check if the current number is in the same line as the previous one\u001b[0m\u001b[0;34m\u001b[0m\u001b[0;34m\u001b[0m\u001b[0m\n\u001b[0;32m---> 25\u001b[0;31m     \u001b[0;32mif\u001b[0m \u001b[0;32mnot\u001b[0m \u001b[0mcurrent_line\u001b[0m \u001b[0;32mor\u001b[0m \u001b[0mabs\u001b[0m\u001b[0;34m(\u001b[0m\u001b[0;34m[\u001b[0m\u001b[0mnumber\u001b[0m\u001b[0;34m[\u001b[0m\u001b[0;36m1\u001b[0m\u001b[0;34m]\u001b[0m\u001b[0;34m]\u001b[0m \u001b[0;34m-\u001b[0m \u001b[0mcurrent_line\u001b[0m\u001b[0;34m[\u001b[0m\u001b[0;34m-\u001b[0m\u001b[0;36m1\u001b[0m\u001b[0;34m]\u001b[0m\u001b[0;34m)\u001b[0m \u001b[0;34m<\u001b[0m \u001b[0;36m50\u001b[0m\u001b[0;34m:\u001b[0m\u001b[0;34m\u001b[0m\u001b[0;34m\u001b[0m\u001b[0m\n\u001b[0m\u001b[1;32m     26\u001b[0m         \u001b[0mcurrent_line\u001b[0m\u001b[0;34m.\u001b[0m\u001b[0mappend\u001b[0m\u001b[0;34m(\u001b[0m\u001b[0mnumber\u001b[0m\u001b[0;34m[\u001b[0m\u001b[0;36m1\u001b[0m\u001b[0;34m]\u001b[0m\u001b[0;34m)\u001b[0m\u001b[0;34m\u001b[0m\u001b[0;34m\u001b[0m\u001b[0m\n\u001b[1;32m     27\u001b[0m     \u001b[0;32melse\u001b[0m\u001b[0;34m:\u001b[0m\u001b[0;34m\u001b[0m\u001b[0;34m\u001b[0m\u001b[0m\n",
            "\u001b[0;31mTypeError\u001b[0m: unsupported operand type(s) for -: 'list' and 'int'"
          ]
        }
      ]
    },
    {
      "cell_type": "code",
      "source": [
        "lst = [\n",
        "    [1747, 793],\n",
        "    [2318, 945],\n",
        "    [1892, 947],\n",
        "    [2155.6837947269396, 962.2719378531464],\n",
        "    [2536.92997829528, 1111.1658654307355],\n",
        "    [2111, 1228],\n",
        "    [2357, 1390],\n",
        "    [2034, 1501],\n",
        "    [2524, 1516],\n",
        "    [2129.96045745888, 1518.210195802624],\n",
        "    [2329.84272251348, 1525.2136125673999],\n",
        "    [875, 1751],\n",
        "    [1737, 1803],\n",
        "    [2164, 1807],\n",
        "    [2513, 1820],\n",
        "    [940, 1970]\n",
        "]\n",
        "\n",
        "# Group numbers into lines based on the condition that the difference is less than 50\n",
        "lines = []\n",
        "current_line = []\n",
        "\n",
        "for number in lst:\n",
        "    # Check if the current number is in the same line as the previous one\n",
        "    if not current_line or abs(number[1] - current_line[-1][-1][1]) < 50:\n",
        "        current_line.append(number[1])\n",
        "    else:\n",
        "        lines.append(current_line)\n",
        "        current_line = [number[1]]\n",
        "\n",
        "# Add the last line\n",
        "lines.append(current_line)\n",
        "\n",
        "# Print the lines and numbers[0]\n",
        "for line in lines:\n",
        "    print(f\"Line: {[number[0] for number in line]}\")\n"
      ],
      "metadata": {
        "colab": {
          "base_uri": "https://localhost:8080/",
          "height": 245
        },
        "id": "_7cYvRq5aOCt",
        "outputId": "0da06601-967d-4ffc-f9d2-7906a3a058cb"
      },
      "execution_count": 112,
      "outputs": [
        {
          "output_type": "error",
          "ename": "TypeError",
          "evalue": "ignored",
          "traceback": [
            "\u001b[0;31m---------------------------------------------------------------------------\u001b[0m",
            "\u001b[0;31mTypeError\u001b[0m                                 Traceback (most recent call last)",
            "\u001b[0;32m<ipython-input-112-2d60f2e3cbd2>\u001b[0m in \u001b[0;36m<cell line: 24>\u001b[0;34m()\u001b[0m\n\u001b[1;32m     24\u001b[0m \u001b[0;32mfor\u001b[0m \u001b[0mnumber\u001b[0m \u001b[0;32min\u001b[0m \u001b[0mlst\u001b[0m\u001b[0;34m:\u001b[0m\u001b[0;34m\u001b[0m\u001b[0;34m\u001b[0m\u001b[0m\n\u001b[1;32m     25\u001b[0m     \u001b[0;31m# Check if the current number is in the same line as the previous one\u001b[0m\u001b[0;34m\u001b[0m\u001b[0;34m\u001b[0m\u001b[0m\n\u001b[0;32m---> 26\u001b[0;31m     \u001b[0;32mif\u001b[0m \u001b[0;32mnot\u001b[0m \u001b[0mcurrent_line\u001b[0m \u001b[0;32mor\u001b[0m \u001b[0mabs\u001b[0m\u001b[0;34m(\u001b[0m\u001b[0mnumber\u001b[0m\u001b[0;34m[\u001b[0m\u001b[0;36m1\u001b[0m\u001b[0;34m]\u001b[0m \u001b[0;34m-\u001b[0m \u001b[0mcurrent_line\u001b[0m\u001b[0;34m[\u001b[0m\u001b[0;34m-\u001b[0m\u001b[0;36m1\u001b[0m\u001b[0;34m]\u001b[0m\u001b[0;34m[\u001b[0m\u001b[0;34m-\u001b[0m\u001b[0;36m1\u001b[0m\u001b[0;34m]\u001b[0m\u001b[0;34m[\u001b[0m\u001b[0;36m1\u001b[0m\u001b[0;34m]\u001b[0m\u001b[0;34m)\u001b[0m \u001b[0;34m<\u001b[0m \u001b[0;36m50\u001b[0m\u001b[0;34m:\u001b[0m\u001b[0;34m\u001b[0m\u001b[0;34m\u001b[0m\u001b[0m\n\u001b[0m\u001b[1;32m     27\u001b[0m         \u001b[0mcurrent_line\u001b[0m\u001b[0;34m.\u001b[0m\u001b[0mappend\u001b[0m\u001b[0;34m(\u001b[0m\u001b[0mnumber\u001b[0m\u001b[0;34m[\u001b[0m\u001b[0;36m1\u001b[0m\u001b[0;34m]\u001b[0m\u001b[0;34m)\u001b[0m\u001b[0;34m\u001b[0m\u001b[0;34m\u001b[0m\u001b[0m\n\u001b[1;32m     28\u001b[0m     \u001b[0;32melse\u001b[0m\u001b[0;34m:\u001b[0m\u001b[0;34m\u001b[0m\u001b[0;34m\u001b[0m\u001b[0m\n",
            "\u001b[0;31mTypeError\u001b[0m: 'int' object is not subscriptable"
          ]
        }
      ]
    },
    {
      "cell_type": "code",
      "source": [
        "lst = [\n",
        "    [1747, 793],\n",
        "    [2318, 945],\n",
        "    [1892, 947],\n",
        "    [2155.6837947269396, 962.2719378531464],\n",
        "    [2536.92997829528, 1111.1658654307355],\n",
        "    [2111, 1228],\n",
        "    [2357, 1390],\n",
        "    [2034, 1501],\n",
        "    [2524, 1516],\n",
        "    [2129.96045745888, 1518.210195802624],\n",
        "    [2329.84272251348, 1525.2136125673999],\n",
        "    [875, 1751],\n",
        "    [1737, 1803],\n",
        "    [2164, 1807],\n",
        "    [2513, 1820],\n",
        "    [940, 1970]\n",
        "]\n",
        "\n",
        "# Group numbers into lines based on the condition that the difference is less than 50\n",
        "lines = []\n",
        "current_line = []\n",
        "\n",
        "for number in lst:\n",
        "    # Check if the current number is in the same line as the previous one\n",
        "    current_number = number[1] if isinstance(number, list) else number\n",
        "    if not current_line or abs(current_number - current_line[-1]) < 50:\n",
        "        current_line.append(current_number)\n",
        "    else:\n",
        "        lines.append(current_line)\n",
        "        current_line = [current_number]\n",
        "\n",
        "# Add the last line\n",
        "lines.append(current_line)\n",
        "\n",
        "# Print the lines and numbers[0]\n",
        "for line in lines:\n",
        "    print(f\"Line: {[number[0] if isinstance(number, list) else number for number in line]}\")\n"
      ],
      "metadata": {
        "colab": {
          "base_uri": "https://localhost:8080/"
        },
        "id": "Aw1OMlQbaOG3",
        "outputId": "5371fd82-f03d-43ce-de29-ba5a92e927c6"
      },
      "execution_count": 118,
      "outputs": [
        {
          "output_type": "stream",
          "name": "stdout",
          "text": [
            "Line: [793]\n",
            "Line: [945, 947, 962.2719378531464]\n",
            "Line: [1111.1658654307355]\n",
            "Line: [1228]\n",
            "Line: [1390]\n",
            "Line: [1501, 1516, 1518.210195802624, 1525.2136125673999]\n",
            "Line: [1751]\n",
            "Line: [1803, 1807, 1820]\n",
            "Line: [1970]\n"
          ]
        }
      ]
    },
    {
      "cell_type": "code",
      "source": [
        "lst = [\n",
        "    [1747, 793],\n",
        "    [2318, 945],\n",
        "    [1892, 947],\n",
        "    [2155.6837947269396, 962.2719378531464],\n",
        "    [2536.92997829528, 1111.1658654307355],\n",
        "    [2111, 1228],\n",
        "    [2357, 1390],\n",
        "    [2034, 1501],\n",
        "    [2524, 1516],\n",
        "    [2129.96045745888, 1518.210195802624],\n",
        "    [2329.84272251348, 1525.2136125673999],\n",
        "    [875, 1751],\n",
        "    [1737, 1803],\n",
        "    [2164, 1807],\n",
        "    [2513, 1820],\n",
        "    [940, 1970]\n",
        "]\n",
        "\n",
        "# Group numbers into lines based on the condition that the difference is less than 50\n",
        "lines = []\n",
        "current_line = []\n",
        "\n",
        "for number in lst:\n",
        "    # Check if the current number is in the same line as the previous one\n",
        "    current_number = number[1] if isinstance(number, list) else number\n",
        "    if not current_line or abs(current_number - current_line[-1]) < 50:\n",
        "        current_line.append(current_number)\n",
        "    else:\n",
        "        lines.append(current_line)\n",
        "        current_line = [current_number]\n",
        "\n",
        "# Add the last line\n",
        "lines.append(current_line)\n",
        "\n",
        "# Return the lines and numbers[0]\n",
        "result = [[number[0] if isinstance(number, list) else number for number in line] for line in lines]\n",
        "result\n"
      ],
      "metadata": {
        "colab": {
          "base_uri": "https://localhost:8080/"
        },
        "id": "kSwoOQCqa-E5",
        "outputId": "4b025572-2a0f-48a4-b18d-a54a5f24e9b1"
      },
      "execution_count": 119,
      "outputs": [
        {
          "output_type": "execute_result",
          "data": {
            "text/plain": [
              "[[793],\n",
              " [945, 947, 962.2719378531464],\n",
              " [1111.1658654307355],\n",
              " [1228],\n",
              " [1390],\n",
              " [1501, 1516, 1518.210195802624, 1525.2136125673999],\n",
              " [1751],\n",
              " [1803, 1807, 1820],\n",
              " [1970]]"
            ]
          },
          "metadata": {},
          "execution_count": 119
        }
      ]
    },
    {
      "cell_type": "code",
      "source": [
        "lst = [\n",
        "    [1747, 793],\n",
        "    [2318, 945],\n",
        "    [1892, 947],\n",
        "    [2155.6837947269396, 962.2719378531464],\n",
        "    [2536.92997829528, 1111.1658654307355],\n",
        "    [2111, 1228],\n",
        "    [2357, 1390],\n",
        "    [2034, 1501],\n",
        "    [2524, 1516],\n",
        "    [2129.96045745888, 1518.210195802624],\n",
        "    [2329.84272251348, 1525.2136125673999],\n",
        "    [875, 1751],\n",
        "    [1737, 1803],\n",
        "    [2164, 1807],\n",
        "    [2513, 1820],\n",
        "    [940, 1970]\n",
        "]\n",
        "\n",
        "# Group numbers into lines based on the condition that the difference is less than 50\n",
        "lines = []\n",
        "current_line = []\n",
        "\n",
        "for number in lst:\n",
        "    # Check if the current number is in the same line as the previous one\n",
        "    current_number = number[1] if isinstance(number, list) else number\n",
        "    if not current_line or abs(current_number - current_line[-1]) < 50:\n",
        "        current_line.append(current_number)\n",
        "    else:\n",
        "        lines.append(current_line)\n",
        "        current_line = [current_number]\n",
        "\n",
        "# Add the last line\n",
        "lines.append(current_line)\n",
        "\n",
        "# Return the lines and numbers[1]\n",
        "result = [[number[0] if isinstance(number, list) else number for number in line] for line in lines]\n",
        "result\n"
      ],
      "metadata": {
        "colab": {
          "base_uri": "https://localhost:8080/"
        },
        "id": "k0SuJwlmbH-n",
        "outputId": "844c2b84-b1a5-4fa4-b4ab-40c8104d3f2a"
      },
      "execution_count": 128,
      "outputs": [
        {
          "output_type": "execute_result",
          "data": {
            "text/plain": [
              "[[793],\n",
              " [945, 947, 962.2719378531464],\n",
              " [1111.1658654307355],\n",
              " [1228],\n",
              " [1390],\n",
              " [1501, 1516, 1518.210195802624, 1525.2136125673999],\n",
              " [1751],\n",
              " [1803, 1807, 1820],\n",
              " [1970]]"
            ]
          },
          "metadata": {},
          "execution_count": 128
        }
      ]
    },
    {
      "cell_type": "code",
      "source": [
        "lst = [\n",
        "    [1747, 793],\n",
        "    [2318, 945],\n",
        "    [1892, 947],\n",
        "    [2155.6837947269396, 962.2719378531464],\n",
        "    [2536.92997829528, 1111.1658654307355],\n",
        "    [2111, 1228],\n",
        "    [2357, 1390],\n",
        "    [2034, 1501],\n",
        "    [2524, 1516],\n",
        "    [2129.96045745888, 1518.210195802624],\n",
        "    [2329.84272251348, 1525.2136125673999],\n",
        "    [875, 1751],\n",
        "    [1737, 1803],\n",
        "    [2164, 1807],\n",
        "    [2513, 1820],\n",
        "    [940, 1970]\n",
        "]\n",
        "\n",
        "# Group numbers into lines based on the condition that the difference is less than 50\n",
        "lines = []\n",
        "current_line = []\n",
        "\n",
        "for number in lst:\n",
        "    # Check if the current number is in the same line as the previous one\n",
        "    current_number = number[0] if isinstance(number, list) else number\n",
        "    if not current_line or abs(current_number - current_line[-1]) < 50:\n",
        "        current_line.append(current_number)\n",
        "    else:\n",
        "        lines.append(current_line)\n",
        "        current_line = [current_number]\n",
        "\n",
        "# Add the last line\n",
        "lines.append(current_line)\n",
        "\n",
        "# Print the lines and numbers[0]\n",
        "result = [[number[0] if isinstance(number, list) else number for number in line] for line in lines]\n",
        "print(result)\n"
      ],
      "metadata": {
        "colab": {
          "base_uri": "https://localhost:8080/"
        },
        "id": "XcrCwqmJa-IJ",
        "outputId": "93b5c06e-e87c-4050-e7eb-d96645b80c34"
      },
      "execution_count": 129,
      "outputs": [
        {
          "output_type": "stream",
          "name": "stdout",
          "text": [
            "[[1747], [2318], [1892], [2155.6837947269396], [2536.92997829528], [2111], [2357], [2034], [2524], [2129.96045745888], [2329.84272251348], [875], [1737], [2164], [2513], [940]]\n"
          ]
        }
      ]
    },
    {
      "cell_type": "code",
      "source": [
        "lst = [\n",
        "    [1747, 793],\n",
        "    [2318, 945],\n",
        "    [1892, 947],\n",
        "    [2155.6837947269396, 962.2719378531464],\n",
        "    [2536.92997829528, 1111.1658654307355],\n",
        "    [2111, 1228],\n",
        "    [2357, 1390],\n",
        "    [2034, 1501],\n",
        "    [2524, 1516],\n",
        "    [2129.96045745888, 1518.210195802624],\n",
        "    [2329.84272251348, 1525.2136125673999],\n",
        "    [875, 1751],\n",
        "    [1737, 1803],\n",
        "    [2164, 1807],\n",
        "    [2513, 1820],\n",
        "    [940, 1970]\n",
        "]\n",
        "\n",
        "# Group numbers into lines based on the condition that the difference is less than 50\n",
        "lines = []\n",
        "current_line = []\n",
        "\n",
        "for number in lst:\n",
        "    # Check if the current number is in the same line as the previous one\n",
        "    if not current_line or abs(number[1] - current_line[-1][1]) < 50:\n",
        "        current_line.append(number)\n",
        "    else:\n",
        "        lines.append(current_line)\n",
        "        current_line = [number]\n",
        "\n",
        "# Add the last line\n",
        "lines.append(current_line)\n",
        "\n",
        "# Print the lines and number[0] elements for each line\n",
        "for line in lines:\n",
        "    line_text = ' '.join(str(number[0]) for number in line)\n",
        "    print(f\"Line: {line_text}\")\n"
      ],
      "metadata": {
        "colab": {
          "base_uri": "https://localhost:8080/"
        },
        "id": "1XtorPjAa-KA",
        "outputId": "3dbeb0e9-dfa0-436b-803f-ddcc02f3d2b6"
      },
      "execution_count": 151,
      "outputs": [
        {
          "output_type": "stream",
          "name": "stdout",
          "text": [
            "Line: 1747\n",
            "Line: 2318 1892 2155.6837947269396\n",
            "Line: 2536.92997829528\n",
            "Line: 2111\n",
            "Line: 2357\n",
            "Line: 2034 2524 2129.96045745888 2329.84272251348\n",
            "Line: 875\n",
            "Line: 1737 2164 2513\n",
            "Line: 940\n"
          ]
        }
      ]
    },
    {
      "cell_type": "code",
      "source": [
        "sorted_word_box_dict"
      ],
      "metadata": {
        "id": "9yDDD1MAf0lI",
        "outputId": "5544cadc-3720-440d-cba4-6f62b0fd1012",
        "colab": {
          "base_uri": "https://localhost:8080/"
        }
      },
      "execution_count": 155,
      "outputs": [
        {
          "output_type": "execute_result",
          "data": {
            "text/plain": [
              "{'مصطفى': 2536.92997829528,\n",
              " 'مركز منيا': 2524,\n",
              " '٥٦ ٠١٤': 2513,\n",
              " 'ش سعد زغلول': 2357,\n",
              " 'القمح': 2329.84272251348,\n",
              " 'بطاقة': 2318,\n",
              " '١٣ ٠٩': 2164,\n",
              " 'تحقيق': 2155.6837947269396,\n",
              " 'الشر': 2129.96045745888,\n",
              " 'عاطف عبدالله ابراهيم': 2111,\n",
              " 'قية': 2034,\n",
              " 'الشخصية': 1892,\n",
              " 'جمهوزتذة صزالع بينمها': 1747,\n",
              " '١١ ٩٦ ٢': 1737,\n",
              " '6(9412479': 940,\n",
              " '١ 5 ٦٢١ ٩': 875}"
            ]
          },
          "metadata": {},
          "execution_count": 155
        }
      ]
    },
    {
      "cell_type": "code",
      "source": [],
      "metadata": {
        "id": "yE44pjsQf0m0"
      },
      "execution_count": null,
      "outputs": []
    },
    {
      "cell_type": "code",
      "source": [
        "sorted_word_box_dict = {'مصطفى': 2536.92997829528,\n",
        " 'مركز منيا': 2524,\n",
        " '٥٦ ٠١٤': 2513,\n",
        " 'ش سعد زغلول': 2357,\n",
        " 'القمح': 2329.84272251348,\n",
        " 'بطاقة': 2318,\n",
        " '١٣ ٠٩': 2164,\n",
        " 'تحقيق': 2155.6837947269396,\n",
        " 'الشر': 2129.96045745888,\n",
        " 'عاطف عبدالله ابراهيم': 2111,\n",
        " 'قية': 2034,\n",
        " 'الشخصية': 1892,\n",
        " 'جمهوزتذة صزالع بينمها': 1747,\n",
        " '١١ ٩٦ ٢': 1737,\n",
        " '6(9412479': 940,\n",
        " '١ 5 ٦٢١ ٩': 875}\n",
        "\n",
        "\n",
        "lst = [\n",
        "    [1747, 793],\n",
        "    [2318, 945],\n",
        "    [1892, 947],\n",
        "    [2155.6837947269396, 962.2719378531464],\n",
        "    [2536.92997829528, 1111.1658654307355],\n",
        "    [2111, 1228],\n",
        "    [2357, 1390],\n",
        "    [2034, 1501],\n",
        "    [2524, 1516],\n",
        "    [2129.96045745888, 1518.210195802624],\n",
        "    [2329.84272251348, 1525.2136125673999],\n",
        "    [875, 1751],\n",
        "    [1737, 1803],\n",
        "    [2164, 1807],\n",
        "    [2513, 1820],\n",
        "    [940, 1970]\n",
        "]\n",
        "\n",
        "# Group numbers into lines based on the condition that the difference is less than 50\n",
        "lines = []\n",
        "current_line = []\n",
        "\n",
        "for number in lst:\n",
        "    # Check if the current number is in the same line as the previous one\n",
        "    if not current_line or abs(number[1] - current_line[-1][1]) < 50:\n",
        "        current_line.append(number)\n",
        "    else:\n",
        "        lines.append(current_line)\n",
        "        current_line = [number]\n",
        "\n",
        "# Add the last line\n",
        "lines.append(current_line)\n",
        "\n",
        "# Return the keys from sorted_word_box_dict corresponding to number[0] elements for each line\n",
        "result = [[sorted_word_box_dict[number[0]] for number in line] for line in lines]\n",
        "result"
      ],
      "metadata": {
        "id": "1fJW02XOfR52",
        "outputId": "ed54c172-d98a-463c-c054-24bcc90b4558",
        "colab": {
          "base_uri": "https://localhost:8080/",
          "height": 390
        }
      },
      "execution_count": 156,
      "outputs": [
        {
          "output_type": "error",
          "ename": "KeyError",
          "evalue": "ignored",
          "traceback": [
            "\u001b[0;31m---------------------------------------------------------------------------\u001b[0m",
            "\u001b[0;31mKeyError\u001b[0m                                  Traceback (most recent call last)",
            "\u001b[0;32m<ipython-input-156-904b590fe59d>\u001b[0m in \u001b[0;36m<cell line: 54>\u001b[0;34m()\u001b[0m\n\u001b[1;32m     52\u001b[0m \u001b[0;34m\u001b[0m\u001b[0m\n\u001b[1;32m     53\u001b[0m \u001b[0;31m# Return the keys from sorted_word_box_dict corresponding to number[0] elements for each line\u001b[0m\u001b[0;34m\u001b[0m\u001b[0;34m\u001b[0m\u001b[0m\n\u001b[0;32m---> 54\u001b[0;31m \u001b[0mresult\u001b[0m \u001b[0;34m=\u001b[0m \u001b[0;34m[\u001b[0m\u001b[0;34m[\u001b[0m\u001b[0msorted_word_box_dict\u001b[0m\u001b[0;34m[\u001b[0m\u001b[0mnumber\u001b[0m\u001b[0;34m[\u001b[0m\u001b[0;36m0\u001b[0m\u001b[0;34m]\u001b[0m\u001b[0;34m]\u001b[0m \u001b[0;32mfor\u001b[0m \u001b[0mnumber\u001b[0m \u001b[0;32min\u001b[0m \u001b[0mline\u001b[0m\u001b[0;34m]\u001b[0m \u001b[0;32mfor\u001b[0m \u001b[0mline\u001b[0m \u001b[0;32min\u001b[0m \u001b[0mlines\u001b[0m\u001b[0;34m]\u001b[0m\u001b[0;34m\u001b[0m\u001b[0;34m\u001b[0m\u001b[0m\n\u001b[0m\u001b[1;32m     55\u001b[0m \u001b[0mresult\u001b[0m\u001b[0;34m\u001b[0m\u001b[0;34m\u001b[0m\u001b[0m\n",
            "\u001b[0;32m<ipython-input-156-904b590fe59d>\u001b[0m in \u001b[0;36m<listcomp>\u001b[0;34m(.0)\u001b[0m\n\u001b[1;32m     52\u001b[0m \u001b[0;34m\u001b[0m\u001b[0m\n\u001b[1;32m     53\u001b[0m \u001b[0;31m# Return the keys from sorted_word_box_dict corresponding to number[0] elements for each line\u001b[0m\u001b[0;34m\u001b[0m\u001b[0;34m\u001b[0m\u001b[0m\n\u001b[0;32m---> 54\u001b[0;31m \u001b[0mresult\u001b[0m \u001b[0;34m=\u001b[0m \u001b[0;34m[\u001b[0m\u001b[0;34m[\u001b[0m\u001b[0msorted_word_box_dict\u001b[0m\u001b[0;34m[\u001b[0m\u001b[0mnumber\u001b[0m\u001b[0;34m[\u001b[0m\u001b[0;36m0\u001b[0m\u001b[0;34m]\u001b[0m\u001b[0;34m]\u001b[0m \u001b[0;32mfor\u001b[0m \u001b[0mnumber\u001b[0m \u001b[0;32min\u001b[0m \u001b[0mline\u001b[0m\u001b[0;34m]\u001b[0m \u001b[0;32mfor\u001b[0m \u001b[0mline\u001b[0m \u001b[0;32min\u001b[0m \u001b[0mlines\u001b[0m\u001b[0;34m]\u001b[0m\u001b[0;34m\u001b[0m\u001b[0;34m\u001b[0m\u001b[0m\n\u001b[0m\u001b[1;32m     55\u001b[0m \u001b[0mresult\u001b[0m\u001b[0;34m\u001b[0m\u001b[0;34m\u001b[0m\u001b[0m\n",
            "\u001b[0;32m<ipython-input-156-904b590fe59d>\u001b[0m in \u001b[0;36m<listcomp>\u001b[0;34m(.0)\u001b[0m\n\u001b[1;32m     52\u001b[0m \u001b[0;34m\u001b[0m\u001b[0m\n\u001b[1;32m     53\u001b[0m \u001b[0;31m# Return the keys from sorted_word_box_dict corresponding to number[0] elements for each line\u001b[0m\u001b[0;34m\u001b[0m\u001b[0;34m\u001b[0m\u001b[0m\n\u001b[0;32m---> 54\u001b[0;31m \u001b[0mresult\u001b[0m \u001b[0;34m=\u001b[0m \u001b[0;34m[\u001b[0m\u001b[0;34m[\u001b[0m\u001b[0msorted_word_box_dict\u001b[0m\u001b[0;34m[\u001b[0m\u001b[0mnumber\u001b[0m\u001b[0;34m[\u001b[0m\u001b[0;36m0\u001b[0m\u001b[0;34m]\u001b[0m\u001b[0;34m]\u001b[0m \u001b[0;32mfor\u001b[0m \u001b[0mnumber\u001b[0m \u001b[0;32min\u001b[0m \u001b[0mline\u001b[0m\u001b[0;34m]\u001b[0m \u001b[0;32mfor\u001b[0m \u001b[0mline\u001b[0m \u001b[0;32min\u001b[0m \u001b[0mlines\u001b[0m\u001b[0;34m]\u001b[0m\u001b[0;34m\u001b[0m\u001b[0;34m\u001b[0m\u001b[0m\n\u001b[0m\u001b[1;32m     55\u001b[0m \u001b[0mresult\u001b[0m\u001b[0;34m\u001b[0m\u001b[0;34m\u001b[0m\u001b[0m\n",
            "\u001b[0;31mKeyError\u001b[0m: 1747"
          ]
        }
      ]
    },
    {
      "cell_type": "code",
      "source": [
        "# Group words into lines based on the vertical position\n",
        "lines = []\n",
        "current_line = []\n",
        "\n",
        "# Iterate through the OCR result\n",
        "for detection in result:\n",
        "    word = detection[1]\n",
        "    box = detection[0][0][1]  # Assuming you want to use the y-coordinate of the top-left corner\n",
        "\n",
        "    # Check if the current word is in the same line as the previous one\n",
        "    if not current_line or abs(box - current_line[-1][1]) < 100:\n",
        "        current_line.append((word, box))\n",
        "    else:\n",
        "        lines.append(current_line)\n",
        "        current_line = [(word, box)]\n",
        "\n",
        "# Add the last line\n",
        "lines.append(current_line)\n",
        "\n",
        "# Filter lines where the box difference between words is less than 100\n",
        "filtered_lines = [line for line in lines if all(abs(line[i][1] - line[i-1][1]) < 50 for i in range(1, len(line)))]\n",
        "\n",
        "# Print the filtered lines and words\n",
        "for line in filtered_lines:\n",
        "    line_text = ' '.join(word[0] for word in line)\n",
        "    print(f\"Line: {line_text}\")"
      ],
      "metadata": {
        "colab": {
          "base_uri": "https://localhost:8080/"
        },
        "id": "AbbFxzEnHsAd",
        "outputId": "fcf8d264-5d5f-4c7d-a3e6-1ce46c81e15f"
      },
      "execution_count": 26,
      "outputs": [
        {
          "output_type": "stream",
          "name": "stdout",
          "text": [
            "Line: جمهوزتذة صزالع بينمها\n",
            "Line: الشخصية بطاقة\n",
            "Line: عاطف عبدالله ابراهيم\n",
            "Line: ش سعد زغلول\n",
            "Line: قية مركز منيا\n",
            "Line: 6(9412479\n",
            "Line: تحقيق\n",
            "Line: مصطفى\n",
            "Line: الشر القمح\n"
          ]
        }
      ]
    },
    {
      "cell_type": "code",
      "source": [
        "# Initialize variables to store the two largest bounding boxes\n",
        "largest_boxes = [(None, 0), (None, 0)]  # (Word, Bounding Box Area)\n",
        "\n",
        "# Iterate through the OCR result to find the two largest bounding boxes\n",
        "for detection in result:\n",
        "    word = detection[1]\n",
        "    box = detection[0]\n",
        "\n",
        "    # Calculate the area of the bounding box (assuming a rectangular bounding box)\n",
        "    box_area = (box[2][0] - box[0][0]) * (box[2][1] - box[0][1])\n",
        "\n",
        "    # Update the two largest bounding boxes\n",
        "    if box_area > largest_boxes[0][1]:\n",
        "        largest_boxes[1] = largest_boxes[0]\n",
        "        largest_boxes[0] = (word, box_area)\n",
        "    elif box_area > largest_boxes[1][1]:\n",
        "        largest_boxes[1] = (word, box_area)\n",
        "\n",
        "# Print the two largest words and their bounding boxes\n",
        "for i, (word, box_area) in enumerate(largest_boxes, start=1):\n",
        "    print(f\"Top {i} Largest Word: {word}, Bounding Box Area: {box_area}\")\n"
      ],
      "metadata": {
        "colab": {
          "base_uri": "https://localhost:8080/"
        },
        "id": "FjuQrlnxEYoh",
        "outputId": "1519c9f5-72b3-406e-849b-f4eedddeb02e"
      },
      "execution_count": 14,
      "outputs": [
        {
          "output_type": "stream",
          "name": "stdout",
          "text": [
            "Top 1 Largest Word: جمهوزتذة صزالع بينمها, Bounding Box Area: 137618\n",
            "Top 2 Largest Word: عاطف عبدالله ابراهيم, Bounding Box Area: 76680\n"
          ]
        }
      ]
    },
    {
      "cell_type": "code",
      "source": [
        "# Initialize a list to store the largest bounding boxes\n",
        "largest_boxes = []\n",
        "\n",
        "# Iterate through the OCR result to find the 10 largest bounding boxes\n",
        "for detection in result:\n",
        "    word = detection[1]\n",
        "    box = detection[0]\n",
        "\n",
        "    # Calculate the area of the bounding box (assuming a rectangular bounding box)\n",
        "    box_area = (box[2][0] - box[0][0]) * (box[2][1] - box[0][1])\n",
        "\n",
        "    # Check if the current box has a larger area than the smallest box in the list\n",
        "    if len(largest_boxes) < 10 or box_area > largest_boxes[-1][1]:\n",
        "        # Add the current box to the list and sort the list\n",
        "        largest_boxes.append((word, box_area))\n",
        "        largest_boxes.sort(key=lambda x: x[1], reverse=True)\n",
        "        # Keep only the top 10 largest boxes\n",
        "        largest_boxes = largest_boxes[:10]\n",
        "\n",
        "# Print the 10 largest words and their bounding boxes\n",
        "for i, (word, box_area) in enumerate(largest_boxes, start=1):\n",
        "    print(f\"Top {i} Largest Word: {word}, Bounding Box Area: {box_area}\")\n"
      ],
      "metadata": {
        "colab": {
          "base_uri": "https://localhost:8080/"
        },
        "id": "1bmlcEDwFv7O",
        "outputId": "05996429-048c-4a0c-e9f7-68a59016a0e5"
      },
      "execution_count": 16,
      "outputs": [
        {
          "output_type": "stream",
          "name": "stdout",
          "text": [
            "Top 1 Largest Word: جمهوزتذة صزالع بينمها, Bounding Box Area: 137618\n",
            "Top 2 Largest Word: عاطف عبدالله ابراهيم, Bounding Box Area: 76680\n",
            "Top 3 Largest Word: 6(9412479, Bounding Box Area: 52430\n",
            "Top 4 Largest Word: ش سعد زغلول, Bounding Box Area: 48076\n",
            "Top 5 Largest Word: ١١ ٩٦ ٢, Bounding Box Area: 39794\n",
            "Top 6 Largest Word: ١ 5 ٦٢١ ٩, Bounding Box Area: 35000\n",
            "Top 7 Largest Word: ٥٦ ٠١٤, Bounding Box Area: 32568\n",
            "Top 8 Largest Word: مركز منيا, Bounding Box Area: 31100\n",
            "Top 9 Largest Word: ١٣ ٠٩, Bounding Box Area: 30804\n",
            "Top 10 Largest Word: مصطفى, Bounding Box Area: 25611.41195176036\n"
          ]
        }
      ]
    },
    {
      "cell_type": "code",
      "source": [],
      "metadata": {
        "id": "C4SW9kgyFv8d"
      },
      "execution_count": null,
      "outputs": []
    },
    {
      "cell_type": "code",
      "source": [
        "pip install ar-corrector"
      ],
      "metadata": {
        "colab": {
          "base_uri": "https://localhost:8080/"
        },
        "id": "XBKqB6OSkcxf",
        "outputId": "bb9584d1-5c98-4bc4-8d4a-bff57d37b97a"
      },
      "execution_count": 11,
      "outputs": [
        {
          "output_type": "stream",
          "name": "stdout",
          "text": [
            "Collecting ar-corrector\n",
            "  Downloading ar_corrector-1.1.6-py3-none-any.whl (53.4 MB)\n",
            "\u001b[2K     \u001b[90m━━━━━━━━━━━━━━━━━━━━━━━━━━━━━━━━━━━━━━━━\u001b[0m \u001b[32m53.4/53.4 MB\u001b[0m \u001b[31m17.3 MB/s\u001b[0m eta \u001b[36m0:00:00\u001b[0m\n",
            "\u001b[?25hRequirement already satisfied: requests in /usr/local/lib/python3.10/dist-packages (from ar-corrector) (2.31.0)\n",
            "Requirement already satisfied: charset-normalizer<4,>=2 in /usr/local/lib/python3.10/dist-packages (from requests->ar-corrector) (3.3.2)\n",
            "Requirement already satisfied: idna<4,>=2.5 in /usr/local/lib/python3.10/dist-packages (from requests->ar-corrector) (3.4)\n",
            "Requirement already satisfied: urllib3<3,>=1.21.1 in /usr/local/lib/python3.10/dist-packages (from requests->ar-corrector) (2.0.7)\n",
            "Requirement already satisfied: certifi>=2017.4.17 in /usr/local/lib/python3.10/dist-packages (from requests->ar-corrector) (2023.7.22)\n",
            "Installing collected packages: ar-corrector\n",
            "Successfully installed ar-corrector-1.1.6\n"
          ]
        }
      ]
    },
    {
      "cell_type": "code",
      "source": [
        "from ar_corrector.corrector import Corrector\n",
        "corr = Corrector()\n",
        "\n",
        "sent = 'القمح الشر قية مركز منيا'\n",
        "print(corr.contextual_correct(sent))"
      ],
      "metadata": {
        "colab": {
          "base_uri": "https://localhost:8080/"
        },
        "id": "6ij9_EeokI8_",
        "outputId": "4eded6a5-9621-4dda-92fc-79b3c1fca029"
      },
      "execution_count": 12,
      "outputs": [
        {
          "output_type": "stream",
          "name": "stdout",
          "text": [
            "القمح الشر قية مركز منيا\n"
          ]
        }
      ]
    },
    {
      "cell_type": "code",
      "source": [
        "# Assuming sorted_word_box_dict is the dictionary with words as keys and box values as values\n",
        "\n",
        "# Convert the dictionary to a list of tuples for easy iteration\n",
        "sorted_items = list(sorted_word_box_dict.items())\n",
        "\n",
        "# Group words into lines based on the condition that the difference is less than 50\n",
        "lines = []\n",
        "current_line = []\n",
        "\n",
        "for (word, box) in sorted_items:\n",
        "    # Check if the current box is in the same line as the previous one\n",
        "    if not current_line or abs(box - current_line[-1][-1][1]) < 50:\n",
        "        current_line.append((word, box))\n",
        "    else:\n",
        "        lines.append(current_line)\n",
        "        current_line = [(word, box)]\n",
        "\n",
        "# Add the last line\n",
        "lines.append(current_line)\n",
        "\n",
        "# Create a dictionary to store each line as a list of dictionaries\n",
        "lines_dict = {}\n",
        "\n",
        "# Iterate through lines and store them in the lines_dict\n",
        "for i, line in enumerate(lines, start=1):\n",
        "    line_dict = {f'word_{j}': {'word': word, 'box': box} for j, (word, box) in enumerate(line, start=1)}\n",
        "    lines_dict[f'line_{i}'] = line_dict\n",
        "\n",
        "# Print the lines_dict\n",
        "for line_key, line_value in lines_dict.items():\n",
        "    print(f\"Line {line_key}: {line_value}\")\n"
      ],
      "metadata": {
        "colab": {
          "base_uri": "https://localhost:8080/",
          "height": 245
        },
        "id": "oHoj5518PVGg",
        "outputId": "37763616-8d2a-440f-a099-c75e8fe3f43b"
      },
      "execution_count": 45,
      "outputs": [
        {
          "output_type": "error",
          "ename": "TypeError",
          "evalue": "ignored",
          "traceback": [
            "\u001b[0;31m---------------------------------------------------------------------------\u001b[0m",
            "\u001b[0;31mTypeError\u001b[0m                                 Traceback (most recent call last)",
            "\u001b[0;32m<ipython-input-45-90b3d7f119e8>\u001b[0m in \u001b[0;36m<cell line: 10>\u001b[0;34m()\u001b[0m\n\u001b[1;32m     10\u001b[0m \u001b[0;32mfor\u001b[0m \u001b[0;34m(\u001b[0m\u001b[0mword\u001b[0m\u001b[0;34m,\u001b[0m \u001b[0mbox\u001b[0m\u001b[0;34m)\u001b[0m \u001b[0;32min\u001b[0m \u001b[0msorted_items\u001b[0m\u001b[0;34m:\u001b[0m\u001b[0;34m\u001b[0m\u001b[0;34m\u001b[0m\u001b[0m\n\u001b[1;32m     11\u001b[0m     \u001b[0;31m# Check if the current box is in the same line as the previous one\u001b[0m\u001b[0;34m\u001b[0m\u001b[0;34m\u001b[0m\u001b[0m\n\u001b[0;32m---> 12\u001b[0;31m     \u001b[0;32mif\u001b[0m \u001b[0;32mnot\u001b[0m \u001b[0mcurrent_line\u001b[0m \u001b[0;32mor\u001b[0m \u001b[0mabs\u001b[0m\u001b[0;34m(\u001b[0m\u001b[0mbox\u001b[0m \u001b[0;34m-\u001b[0m \u001b[0mcurrent_line\u001b[0m\u001b[0;34m[\u001b[0m\u001b[0;34m-\u001b[0m\u001b[0;36m1\u001b[0m\u001b[0;34m]\u001b[0m\u001b[0;34m[\u001b[0m\u001b[0;34m-\u001b[0m\u001b[0;36m1\u001b[0m\u001b[0;34m]\u001b[0m\u001b[0;34m[\u001b[0m\u001b[0;36m1\u001b[0m\u001b[0;34m]\u001b[0m\u001b[0;34m)\u001b[0m \u001b[0;34m<\u001b[0m \u001b[0;36m50\u001b[0m\u001b[0;34m:\u001b[0m\u001b[0;34m\u001b[0m\u001b[0;34m\u001b[0m\u001b[0m\n\u001b[0m\u001b[1;32m     13\u001b[0m         \u001b[0mcurrent_line\u001b[0m\u001b[0;34m.\u001b[0m\u001b[0mappend\u001b[0m\u001b[0;34m(\u001b[0m\u001b[0;34m(\u001b[0m\u001b[0mword\u001b[0m\u001b[0;34m,\u001b[0m \u001b[0mbox\u001b[0m\u001b[0;34m)\u001b[0m\u001b[0;34m)\u001b[0m\u001b[0;34m\u001b[0m\u001b[0;34m\u001b[0m\u001b[0m\n\u001b[1;32m     14\u001b[0m     \u001b[0;32melse\u001b[0m\u001b[0;34m:\u001b[0m\u001b[0;34m\u001b[0m\u001b[0;34m\u001b[0m\u001b[0m\n",
            "\u001b[0;31mTypeError\u001b[0m: 'int' object is not subscriptable"
          ]
        }
      ]
    },
    {
      "cell_type": "code",
      "source": [
        "# Assuming sorted_word_box_dict is the dictionary with words as keys and box values as values\n",
        "\n",
        "# Convert the dictionary to a list of tuples for easy iteration\n",
        "sorted_items = list(sorted_word_box_dict.items())\n",
        "\n",
        "# Group words into lines based on the condition that the difference is less than 50\n",
        "lines = []\n",
        "current_line = []\n",
        "\n",
        "for (word, box) in sorted_items:\n",
        "    # Check if the current box is in the same line as the previous one\n",
        "    if not current_line or abs(box - current_line[-1][-1]['box']) < 50:\n",
        "        current_line.append({'word': word, 'box': box})\n",
        "    else:\n",
        "        lines.append(current_line)\n",
        "        current_line = [{'word': word, 'box': box}]\n",
        "\n",
        "# Add the last line\n",
        "lines.append(current_line)\n",
        "\n",
        "# Create a dictionary to store each line as a list of dictionaries\n",
        "lines_dict = {}\n",
        "\n",
        "# Iterate through lines and store them in the lines_dict\n",
        "for i, line in enumerate(lines, start=1):\n",
        "    line_dict = {f'word_{j}': word_data for j, word_data in enumerate(line, start=1)}\n",
        "    lines_dict[f'line_{i}'] = line_dict\n",
        "\n",
        "# Print the lines_dict\n",
        "for line_key, line_value in lines_dict.items():\n",
        "    print(f\"Line {line_key}: {line_value}\")\n"
      ],
      "metadata": {
        "colab": {
          "base_uri": "https://localhost:8080/",
          "height": 245
        },
        "id": "S8O0nOH0PVJD",
        "outputId": "d5489467-48b2-43f1-c6bd-14d13322ee98"
      },
      "execution_count": 46,
      "outputs": [
        {
          "output_type": "error",
          "ename": "KeyError",
          "evalue": "ignored",
          "traceback": [
            "\u001b[0;31m---------------------------------------------------------------------------\u001b[0m",
            "\u001b[0;31mKeyError\u001b[0m                                  Traceback (most recent call last)",
            "\u001b[0;32m<ipython-input-46-3fc56aa3e0c0>\u001b[0m in \u001b[0;36m<cell line: 10>\u001b[0;34m()\u001b[0m\n\u001b[1;32m     10\u001b[0m \u001b[0;32mfor\u001b[0m \u001b[0;34m(\u001b[0m\u001b[0mword\u001b[0m\u001b[0;34m,\u001b[0m \u001b[0mbox\u001b[0m\u001b[0;34m)\u001b[0m \u001b[0;32min\u001b[0m \u001b[0msorted_items\u001b[0m\u001b[0;34m:\u001b[0m\u001b[0;34m\u001b[0m\u001b[0;34m\u001b[0m\u001b[0m\n\u001b[1;32m     11\u001b[0m     \u001b[0;31m# Check if the current box is in the same line as the previous one\u001b[0m\u001b[0;34m\u001b[0m\u001b[0;34m\u001b[0m\u001b[0m\n\u001b[0;32m---> 12\u001b[0;31m     \u001b[0;32mif\u001b[0m \u001b[0;32mnot\u001b[0m \u001b[0mcurrent_line\u001b[0m \u001b[0;32mor\u001b[0m \u001b[0mabs\u001b[0m\u001b[0;34m(\u001b[0m\u001b[0mbox\u001b[0m \u001b[0;34m-\u001b[0m \u001b[0mcurrent_line\u001b[0m\u001b[0;34m[\u001b[0m\u001b[0;34m-\u001b[0m\u001b[0;36m1\u001b[0m\u001b[0;34m]\u001b[0m\u001b[0;34m[\u001b[0m\u001b[0;34m-\u001b[0m\u001b[0;36m1\u001b[0m\u001b[0;34m]\u001b[0m\u001b[0;34m[\u001b[0m\u001b[0;34m'box'\u001b[0m\u001b[0;34m]\u001b[0m\u001b[0;34m)\u001b[0m \u001b[0;34m<\u001b[0m \u001b[0;36m50\u001b[0m\u001b[0;34m:\u001b[0m\u001b[0;34m\u001b[0m\u001b[0;34m\u001b[0m\u001b[0m\n\u001b[0m\u001b[1;32m     13\u001b[0m         \u001b[0mcurrent_line\u001b[0m\u001b[0;34m.\u001b[0m\u001b[0mappend\u001b[0m\u001b[0;34m(\u001b[0m\u001b[0;34m{\u001b[0m\u001b[0;34m'word'\u001b[0m\u001b[0;34m:\u001b[0m \u001b[0mword\u001b[0m\u001b[0;34m,\u001b[0m \u001b[0;34m'box'\u001b[0m\u001b[0;34m:\u001b[0m \u001b[0mbox\u001b[0m\u001b[0;34m}\u001b[0m\u001b[0;34m)\u001b[0m\u001b[0;34m\u001b[0m\u001b[0;34m\u001b[0m\u001b[0m\n\u001b[1;32m     14\u001b[0m     \u001b[0;32melse\u001b[0m\u001b[0;34m:\u001b[0m\u001b[0;34m\u001b[0m\u001b[0;34m\u001b[0m\u001b[0m\n",
            "\u001b[0;31mKeyError\u001b[0m: -1"
          ]
        }
      ]
    },
    {
      "cell_type": "code",
      "source": [
        "# Assuming sorted_word_box_dict is the dictionary with words as keys and box values as values\n",
        "\n",
        "# Convert the dictionary to a list of tuples for easy iteration\n",
        "sorted_items = list(sorted_word_box_dict.items())\n",
        "\n",
        "# Group words into lines based on the condition that the difference is less than 50\n",
        "lines = []\n",
        "current_line = []\n",
        "\n",
        "for (word, box) in sorted_items:\n",
        "    # Check if the current box is in the same line as the previous one\n",
        "    if not current_line or abs(box - current_line[-1]['box']) < 50:\n",
        "        current_line.append({'word': word, 'box': box})\n",
        "    else:\n",
        "        lines.append(current_line)\n",
        "        current_line = [{'word': word, 'box': box}]\n",
        "\n",
        "# Add the last line\n",
        "lines.append(current_line)\n",
        "\n",
        "# Create a dictionary to store each line as a list of dictionaries\n",
        "lines_dict = {}\n",
        "\n",
        "# Iterate through lines and store them in the lines_dict\n",
        "for i, line in enumerate(lines, start=1):\n",
        "    line_dict = {f'word_{j}': word_data for j, word_data in enumerate(line, start=1)}\n",
        "    lines_dict[f'line_{i}'] = line_dict\n",
        "\n",
        "# Print the lines_dict\n",
        "for line_key, line_value in lines_dict.items():\n",
        "    print(f\"Line {line_key}: {line_value}\")\n"
      ],
      "metadata": {
        "colab": {
          "base_uri": "https://localhost:8080/"
        },
        "id": "UimN42jhPVL_",
        "outputId": "2b86d6f1-6fd3-47e3-f34c-6790e64c1d77"
      },
      "execution_count": 52,
      "outputs": [
        {
          "output_type": "stream",
          "name": "stdout",
          "text": [
            "Line line_1: {'word_1': {'word': 'جمهوزتذة صزالع بينمها', 'box': 793}}\n",
            "Line line_2: {'word_1': {'word': 'بطاقة', 'box': 945}, 'word_2': {'word': 'الشخصية', 'box': 947}, 'word_3': {'word': 'تحقيق', 'box': 962}}\n",
            "Line line_3: {'word_1': {'word': 'مصطفى', 'box': 1111}}\n",
            "Line line_4: {'word_1': {'word': 'عاطف عبدالله ابراهيم', 'box': 1228}}\n",
            "Line line_5: {'word_1': {'word': 'ش سعد زغلول', 'box': 1390}}\n",
            "Line line_6: {'word_1': {'word': 'قية', 'box': 1501}, 'word_2': {'word': 'مركز منيا', 'box': 1516}, 'word_3': {'word': 'الشر', 'box': 1518}, 'word_4': {'word': 'القمح', 'box': 1525}}\n",
            "Line line_7: {'word_1': {'word': '١ 5 ٦٢١ ٩', 'box': 1751}}\n",
            "Line line_8: {'word_1': {'word': '١١ ٩٦ ٢', 'box': 1803}, 'word_2': {'word': '١٣ ٠٩', 'box': 1807}, 'word_3': {'word': '٥٦ ٠١٤', 'box': 1820}}\n",
            "Line line_9: {'word_1': {'word': '6(9412479', 'box': 1970}}\n"
          ]
        }
      ]
    },
    {
      "cell_type": "code",
      "source": [
        "# Assuming sorted_word_box_dict is the dictionary with words as keys and box values as values\n",
        "\n",
        "# Convert the dictionary to a list of tuples for easy iteration\n",
        "sorted_items = list(sorted_word_box_dict.items())\n",
        "\n",
        "# Group words into lines based on the condition that the difference is less than 50\n",
        "lines = []\n",
        "current_line = []\n",
        "\n",
        "for (word, box) in sorted_items:\n",
        "    # Check if the current box is in the same line as the previous one\n",
        "    if not current_line or abs(box - current_line[-1]['boxes'][-1]) < 50:\n",
        "        current_line[-1]['words'].append(word)\n",
        "        current_line[-1]['boxes'].append(box)\n",
        "    else:\n",
        "        current_line.append({'words': [word], 'boxes': [box]})\n",
        "\n",
        "# Create a dictionary to store each line as a list of dictionaries\n",
        "lines_dict = {}\n",
        "\n",
        "# Iterate through lines and store them in the lines_dict\n",
        "for i, line in enumerate(lines, start=1):\n",
        "    line_dict = {f'word_{j}': {'word': word, 'box': box} for j, (word, box) in enumerate(zip(line['words'], line['boxes']), start=1)}\n",
        "    lines_dict[f'line_{i}'] = line_dict\n",
        "\n",
        "# Print the lines_dict\n",
        "for line_key, line_value in lines_dict.items():\n",
        "    print(f\"Line {line_key}: {line_value}\")\n"
      ],
      "metadata": {
        "colab": {
          "base_uri": "https://localhost:8080/",
          "height": 245
        },
        "id": "cBVuHiJ5PztB",
        "outputId": "fcdf834c-3038-419c-a3e7-83b0a28aeb3a"
      },
      "execution_count": 49,
      "outputs": [
        {
          "output_type": "error",
          "ename": "IndexError",
          "evalue": "ignored",
          "traceback": [
            "\u001b[0;31m---------------------------------------------------------------------------\u001b[0m",
            "\u001b[0;31mIndexError\u001b[0m                                Traceback (most recent call last)",
            "\u001b[0;32m<ipython-input-49-c1180060d930>\u001b[0m in \u001b[0;36m<cell line: 10>\u001b[0;34m()\u001b[0m\n\u001b[1;32m     11\u001b[0m     \u001b[0;31m# Check if the current box is in the same line as the previous one\u001b[0m\u001b[0;34m\u001b[0m\u001b[0;34m\u001b[0m\u001b[0m\n\u001b[1;32m     12\u001b[0m     \u001b[0;32mif\u001b[0m \u001b[0;32mnot\u001b[0m \u001b[0mcurrent_line\u001b[0m \u001b[0;32mor\u001b[0m \u001b[0mabs\u001b[0m\u001b[0;34m(\u001b[0m\u001b[0mbox\u001b[0m \u001b[0;34m-\u001b[0m \u001b[0mcurrent_line\u001b[0m\u001b[0;34m[\u001b[0m\u001b[0;34m-\u001b[0m\u001b[0;36m1\u001b[0m\u001b[0;34m]\u001b[0m\u001b[0;34m[\u001b[0m\u001b[0;34m'boxes'\u001b[0m\u001b[0;34m]\u001b[0m\u001b[0;34m[\u001b[0m\u001b[0;34m-\u001b[0m\u001b[0;36m1\u001b[0m\u001b[0;34m]\u001b[0m\u001b[0;34m)\u001b[0m \u001b[0;34m<\u001b[0m \u001b[0;36m50\u001b[0m\u001b[0;34m:\u001b[0m\u001b[0;34m\u001b[0m\u001b[0;34m\u001b[0m\u001b[0m\n\u001b[0;32m---> 13\u001b[0;31m         \u001b[0mcurrent_line\u001b[0m\u001b[0;34m[\u001b[0m\u001b[0;34m-\u001b[0m\u001b[0;36m1\u001b[0m\u001b[0;34m]\u001b[0m\u001b[0;34m[\u001b[0m\u001b[0;34m'words'\u001b[0m\u001b[0;34m]\u001b[0m\u001b[0;34m.\u001b[0m\u001b[0mappend\u001b[0m\u001b[0;34m(\u001b[0m\u001b[0mword\u001b[0m\u001b[0;34m)\u001b[0m\u001b[0;34m\u001b[0m\u001b[0;34m\u001b[0m\u001b[0m\n\u001b[0m\u001b[1;32m     14\u001b[0m         \u001b[0mcurrent_line\u001b[0m\u001b[0;34m[\u001b[0m\u001b[0;34m-\u001b[0m\u001b[0;36m1\u001b[0m\u001b[0;34m]\u001b[0m\u001b[0;34m[\u001b[0m\u001b[0;34m'boxes'\u001b[0m\u001b[0;34m]\u001b[0m\u001b[0;34m.\u001b[0m\u001b[0mappend\u001b[0m\u001b[0;34m(\u001b[0m\u001b[0mbox\u001b[0m\u001b[0;34m)\u001b[0m\u001b[0;34m\u001b[0m\u001b[0;34m\u001b[0m\u001b[0m\n\u001b[1;32m     15\u001b[0m     \u001b[0;32melse\u001b[0m\u001b[0;34m:\u001b[0m\u001b[0;34m\u001b[0m\u001b[0;34m\u001b[0m\u001b[0m\n",
            "\u001b[0;31mIndexError\u001b[0m: list index out of range"
          ]
        }
      ]
    },
    {
      "cell_type": "code",
      "source": [],
      "metadata": {
        "id": "9cgESW5nVcnu"
      },
      "execution_count": null,
      "outputs": []
    },
    {
      "cell_type": "code",
      "source": [
        "# Assuming sorted_word_box_dict is the dictionary with words as keys and box values as values\n",
        "\n",
        "# Convert the dictionary to a list of tuples for easy iteration\n",
        "sorted_items = list(sorted_word_box_dict.items())\n",
        "\n",
        "# Group words into lines based on the condition that the difference is less than 50\n",
        "lines = []\n",
        "current_line = []\n",
        "\n",
        "for (word, box) in sorted_items:\n",
        "    # Check if the current box is in the same line as the previous one\n",
        "    if not current_line or abs(box - current_line[-1]['boxes'][-1]) < 50:\n",
        "        if not current_line:\n",
        "            current_line.append({'words': [word], 'boxes': [box]})\n",
        "        else:\n",
        "            current_line[-1]['words'].append(word)\n",
        "            current_line[-1]['boxes'].append(box)\n",
        "    else:\n",
        "        current_line.append({'words': [word], 'boxes': [box]})\n",
        "\n",
        "# Create a dictionary to store each line as a list of dictionaries\n",
        "lines_dict = {}\n",
        "\n",
        "# Iterate through lines and store them in the lines_dict\n",
        "for i, line in enumerate(lines, start=1):\n",
        "    line_dict = {f'word_{j}': {'word': word, 'box': box} for j, (word, box) in enumerate(zip(line['words'], line['boxes']), start=1)}\n",
        "    lines_dict[f'line_{i}'] = line_dict\n",
        "\n",
        "# Print the lines_dict\n",
        "for line_key, line_value in lines_dict.items():\n",
        "    print(f\"Line {line_key}: {line_value}\")"
      ],
      "metadata": {
        "id": "ggKlV63xQkFY"
      },
      "execution_count": 50,
      "outputs": []
    },
    {
      "cell_type": "code",
      "source": [
        "# Assuming sorted_word_box_dict is the dictionary with words as keys and box values as values\n",
        "\n",
        "# Convert the dictionary to a list of tuples for easy iteration\n",
        "sorted_items = list(sorted_word_box_dict.items())\n",
        "\n",
        "# Group words into lines based on the condition that the difference is less than 50\n",
        "lines = []\n",
        "current_line = []\n",
        "\n",
        "for (word, box) in sorted_items:\n",
        "    # Check if the current box is in the same line as the previous one\n",
        "    if not current_line or abs(box[0] - current_line[-1][-1][1][0]) < 50:\n",
        "        current_line.append((word, box))\n",
        "    else:\n",
        "        lines.append(current_line)\n",
        "        current_line = [(word, box)]\n",
        "\n",
        "# Add the last line\n",
        "lines.append(current_line)\n",
        "\n",
        "# Sort the words in each line based on the x-coordinate of the top-left corner\n",
        "for line in lines:\n",
        "    line.sort(key=lambda item: item[1][0])\n",
        "\n",
        "# Print the lines and words\n",
        "for line in lines:\n",
        "    line_text = ' '.join(word[0] for word in line)\n",
        "    print(f\"Line: {line_text}\")\n"
      ],
      "metadata": {
        "colab": {
          "base_uri": "https://localhost:8080/",
          "height": 245
        },
        "id": "aTwUeJsnVf8N",
        "outputId": "bd8cd343-437a-4903-ffc4-fcdd56c7b6ce"
      },
      "execution_count": 76,
      "outputs": [
        {
          "output_type": "error",
          "ename": "IndexError",
          "evalue": "ignored",
          "traceback": [
            "\u001b[0;31m---------------------------------------------------------------------------\u001b[0m",
            "\u001b[0;31mIndexError\u001b[0m                                Traceback (most recent call last)",
            "\u001b[0;32m<ipython-input-76-d1a5d070dbe3>\u001b[0m in \u001b[0;36m<cell line: 10>\u001b[0;34m()\u001b[0m\n\u001b[1;32m     10\u001b[0m \u001b[0;32mfor\u001b[0m \u001b[0;34m(\u001b[0m\u001b[0mword\u001b[0m\u001b[0;34m,\u001b[0m \u001b[0mbox\u001b[0m\u001b[0;34m)\u001b[0m \u001b[0;32min\u001b[0m \u001b[0msorted_items\u001b[0m\u001b[0;34m:\u001b[0m\u001b[0;34m\u001b[0m\u001b[0;34m\u001b[0m\u001b[0m\n\u001b[1;32m     11\u001b[0m     \u001b[0;31m# Check if the current box is in the same line as the previous one\u001b[0m\u001b[0;34m\u001b[0m\u001b[0;34m\u001b[0m\u001b[0m\n\u001b[0;32m---> 12\u001b[0;31m     \u001b[0;32mif\u001b[0m \u001b[0;32mnot\u001b[0m \u001b[0mcurrent_line\u001b[0m \u001b[0;32mor\u001b[0m \u001b[0mabs\u001b[0m\u001b[0;34m(\u001b[0m\u001b[0mbox\u001b[0m\u001b[0;34m[\u001b[0m\u001b[0;36m0\u001b[0m\u001b[0;34m]\u001b[0m \u001b[0;34m-\u001b[0m \u001b[0mcurrent_line\u001b[0m\u001b[0;34m[\u001b[0m\u001b[0;34m-\u001b[0m\u001b[0;36m1\u001b[0m\u001b[0;34m]\u001b[0m\u001b[0;34m[\u001b[0m\u001b[0;34m-\u001b[0m\u001b[0;36m1\u001b[0m\u001b[0;34m]\u001b[0m\u001b[0;34m[\u001b[0m\u001b[0;36m1\u001b[0m\u001b[0;34m]\u001b[0m\u001b[0;34m[\u001b[0m\u001b[0;36m0\u001b[0m\u001b[0;34m]\u001b[0m\u001b[0;34m)\u001b[0m \u001b[0;34m<\u001b[0m \u001b[0;36m50\u001b[0m\u001b[0;34m:\u001b[0m\u001b[0;34m\u001b[0m\u001b[0;34m\u001b[0m\u001b[0m\n\u001b[0m\u001b[1;32m     13\u001b[0m         \u001b[0mcurrent_line\u001b[0m\u001b[0;34m.\u001b[0m\u001b[0mappend\u001b[0m\u001b[0;34m(\u001b[0m\u001b[0;34m(\u001b[0m\u001b[0mword\u001b[0m\u001b[0;34m,\u001b[0m \u001b[0mbox\u001b[0m\u001b[0;34m)\u001b[0m\u001b[0;34m)\u001b[0m\u001b[0;34m\u001b[0m\u001b[0;34m\u001b[0m\u001b[0m\n\u001b[1;32m     14\u001b[0m     \u001b[0;32melse\u001b[0m\u001b[0;34m:\u001b[0m\u001b[0;34m\u001b[0m\u001b[0;34m\u001b[0m\u001b[0m\n",
            "\u001b[0;31mIndexError\u001b[0m: invalid index to scalar variable."
          ]
        }
      ]
    },
    {
      "cell_type": "code",
      "source": [
        "# Assuming sorted_word_box_dict is the dictionary with words as keys and box values as values\n",
        "\n",
        "# Convert the dictionary to a list of tuples for easy iteration\n",
        "sorted_items = list(sorted_word_box_dict.items())\n",
        "\n",
        "# Group words into lines based on the condition that the difference is less than 50\n",
        "lines = []\n",
        "current_line = []\n",
        "\n",
        "for (word, box) in sorted_items:\n",
        "    # Extracting x-coordinate of the top-left corner based on the structure of the bounding box\n",
        "    x_coordinate = box[0][0] if isinstance(box, list) else box[0]\n",
        "\n",
        "    # Check if the current box is in the same line as the previous one\n",
        "    if not current_line or abs(x_coordinate - current_line[-1][-1][1][0]) < 50:\n",
        "        current_line.append((word, box))\n",
        "    else:\n",
        "        lines.append(current_line)\n",
        "        current_line = [(word, box)]\n",
        "\n",
        "# Add the last line\n",
        "lines.append(current_line)\n",
        "\n",
        "# Sort the words in each line based on the x-coordinate of the top-left corner\n",
        "for line in lines:\n",
        "    line.sort(key=lambda item: item[1][0][0] if isinstance(item[1], list) else item[1][0])\n",
        "\n",
        "# Print the lines and words\n",
        "for line in lines:\n",
        "    line_text = ' '.join(word[0] for word in line)\n",
        "    print(f\"Line: {line_text}\")\n"
      ],
      "metadata": {
        "colab": {
          "base_uri": "https://localhost:8080/",
          "height": 262
        },
        "id": "NfUDKW17Vf-_",
        "outputId": "18509976-d7d6-46db-aa01-5d2abeef4cbd"
      },
      "execution_count": 77,
      "outputs": [
        {
          "output_type": "error",
          "ename": "IndexError",
          "evalue": "ignored",
          "traceback": [
            "\u001b[0;31m---------------------------------------------------------------------------\u001b[0m",
            "\u001b[0;31mIndexError\u001b[0m                                Traceback (most recent call last)",
            "\u001b[0;32m<ipython-input-77-9068665cf854>\u001b[0m in \u001b[0;36m<cell line: 10>\u001b[0;34m()\u001b[0m\n\u001b[1;32m     10\u001b[0m \u001b[0;32mfor\u001b[0m \u001b[0;34m(\u001b[0m\u001b[0mword\u001b[0m\u001b[0;34m,\u001b[0m \u001b[0mbox\u001b[0m\u001b[0;34m)\u001b[0m \u001b[0;32min\u001b[0m \u001b[0msorted_items\u001b[0m\u001b[0;34m:\u001b[0m\u001b[0;34m\u001b[0m\u001b[0;34m\u001b[0m\u001b[0m\n\u001b[1;32m     11\u001b[0m     \u001b[0;31m# Extracting x-coordinate of the top-left corner based on the structure of the bounding box\u001b[0m\u001b[0;34m\u001b[0m\u001b[0;34m\u001b[0m\u001b[0m\n\u001b[0;32m---> 12\u001b[0;31m     \u001b[0mx_coordinate\u001b[0m \u001b[0;34m=\u001b[0m \u001b[0mbox\u001b[0m\u001b[0;34m[\u001b[0m\u001b[0;36m0\u001b[0m\u001b[0;34m]\u001b[0m\u001b[0;34m[\u001b[0m\u001b[0;36m0\u001b[0m\u001b[0;34m]\u001b[0m \u001b[0;32mif\u001b[0m \u001b[0misinstance\u001b[0m\u001b[0;34m(\u001b[0m\u001b[0mbox\u001b[0m\u001b[0;34m,\u001b[0m \u001b[0mlist\u001b[0m\u001b[0;34m)\u001b[0m \u001b[0;32melse\u001b[0m \u001b[0mbox\u001b[0m\u001b[0;34m[\u001b[0m\u001b[0;36m0\u001b[0m\u001b[0;34m]\u001b[0m\u001b[0;34m\u001b[0m\u001b[0;34m\u001b[0m\u001b[0m\n\u001b[0m\u001b[1;32m     13\u001b[0m \u001b[0;34m\u001b[0m\u001b[0m\n\u001b[1;32m     14\u001b[0m     \u001b[0;31m# Check if the current box is in the same line as the previous one\u001b[0m\u001b[0;34m\u001b[0m\u001b[0;34m\u001b[0m\u001b[0m\n",
            "\u001b[0;31mIndexError\u001b[0m: invalid index to scalar variable."
          ]
        }
      ]
    },
    {
      "cell_type": "code",
      "source": [
        "# Assuming sorted_word_box_dict is the dictionary with words as keys and box values as values\n",
        "\n",
        "# Convert the dictionary to a list of tuples for easy iteration\n",
        "sorted_items = list(sorted_word_box_dict.items())\n",
        "\n",
        "# Group words into lines based on the condition that the difference is less than 50\n",
        "lines = []\n",
        "current_line = []\n",
        "\n",
        "for (word, box) in sorted_items:\n",
        "    # Extracting x-coordinate of the top-left corner based on the structure of the bounding box\n",
        "    x_coordinate = box[0][0] if isinstance(box, (list, tuple)) and len(box) > 0 and isinstance(box[0], (list, tuple)) else box[0]\n",
        "\n",
        "    # Check if the current box is in the same line as the previous one\n",
        "    if not current_line or abs(x_coordinate - current_line[-1][-1][1][0]) < 50:\n",
        "        current_line.append((word, box))\n",
        "    else:\n",
        "        lines.append(current_line)\n",
        "        current_line = [(word, box)]\n",
        "\n",
        "# Add the last line\n",
        "lines.append(current_line)\n",
        "\n",
        "# Sort the words in each line based on the x-coordinate of the top-left corner\n",
        "for line in lines:\n",
        "    line.sort(key=lambda item: item[1][0][0] if isinstance(item[1], (list, tuple)) and len(item[1]) > 0 and isinstance(item[1][0], (list, tuple)) else item[1][0])\n",
        "\n",
        "# Print the lines and words\n",
        "for line in lines:\n",
        "    line_text = ' '.join(word[0] for word in line)\n",
        "    print(f\"Line: {line_text}\")\n"
      ],
      "metadata": {
        "colab": {
          "base_uri": "https://localhost:8080/",
          "height": 245
        },
        "id": "JZwVZqJtVyAt",
        "outputId": "98cc91fb-ba20-4981-adc8-9fda55307b90"
      },
      "execution_count": 78,
      "outputs": [
        {
          "output_type": "error",
          "ename": "IndexError",
          "evalue": "ignored",
          "traceback": [
            "\u001b[0;31m---------------------------------------------------------------------------\u001b[0m",
            "\u001b[0;31mIndexError\u001b[0m                                Traceback (most recent call last)",
            "\u001b[0;32m<ipython-input-78-79d6ede5ed8a>\u001b[0m in \u001b[0;36m<cell line: 10>\u001b[0;34m()\u001b[0m\n\u001b[1;32m     13\u001b[0m \u001b[0;34m\u001b[0m\u001b[0m\n\u001b[1;32m     14\u001b[0m     \u001b[0;31m# Check if the current box is in the same line as the previous one\u001b[0m\u001b[0;34m\u001b[0m\u001b[0;34m\u001b[0m\u001b[0m\n\u001b[0;32m---> 15\u001b[0;31m     \u001b[0;32mif\u001b[0m \u001b[0;32mnot\u001b[0m \u001b[0mcurrent_line\u001b[0m \u001b[0;32mor\u001b[0m \u001b[0mabs\u001b[0m\u001b[0;34m(\u001b[0m\u001b[0mx_coordinate\u001b[0m \u001b[0;34m-\u001b[0m \u001b[0mcurrent_line\u001b[0m\u001b[0;34m[\u001b[0m\u001b[0;34m-\u001b[0m\u001b[0;36m1\u001b[0m\u001b[0;34m]\u001b[0m\u001b[0;34m[\u001b[0m\u001b[0;34m-\u001b[0m\u001b[0;36m1\u001b[0m\u001b[0;34m]\u001b[0m\u001b[0;34m[\u001b[0m\u001b[0;36m1\u001b[0m\u001b[0;34m]\u001b[0m\u001b[0;34m[\u001b[0m\u001b[0;36m0\u001b[0m\u001b[0;34m]\u001b[0m\u001b[0;34m)\u001b[0m \u001b[0;34m<\u001b[0m \u001b[0;36m50\u001b[0m\u001b[0;34m:\u001b[0m\u001b[0;34m\u001b[0m\u001b[0;34m\u001b[0m\u001b[0m\n\u001b[0m\u001b[1;32m     16\u001b[0m         \u001b[0mcurrent_line\u001b[0m\u001b[0;34m.\u001b[0m\u001b[0mappend\u001b[0m\u001b[0;34m(\u001b[0m\u001b[0;34m(\u001b[0m\u001b[0mword\u001b[0m\u001b[0;34m,\u001b[0m \u001b[0mbox\u001b[0m\u001b[0;34m)\u001b[0m\u001b[0;34m)\u001b[0m\u001b[0;34m\u001b[0m\u001b[0;34m\u001b[0m\u001b[0m\n\u001b[1;32m     17\u001b[0m     \u001b[0;32melse\u001b[0m\u001b[0;34m:\u001b[0m\u001b[0;34m\u001b[0m\u001b[0;34m\u001b[0m\u001b[0m\n",
            "\u001b[0;31mIndexError\u001b[0m: invalid index to scalar variable."
          ]
        }
      ]
    },
    {
      "cell_type": "code",
      "source": [
        "sorted_word_box_dict = {\n",
        "    'مصطفى': 2536.92997829528,\n",
        "    'مركز منيا': 2524,\n",
        "    '٥٦ ٠١٤': 2513,\n",
        "    'ش سعد زغلول': 2357,\n",
        "    'القمح': 2329.84272251348,\n",
        "    'بطاقة': 2318,\n",
        "    '١٣ ٠٩': 2164,\n",
        "    'تحقيق': 2155.6837947269396,\n",
        "    'الشر': 2129.96045745888,\n",
        "    'عاطف عبدالله ابراهيم': 2111,\n",
        "    'قية': 2034,\n",
        "    'الشخصية': 1892,\n",
        "    'جمهوزتذة صزالع بينمها': 1747,\n",
        "    '١١ ٩٦ ٢': 1737,\n",
        "    '6(9412479': 940,\n",
        "    '١ 5 ٦٢١ ٩': 875\n",
        "}\n",
        "\n",
        "lst = [\n",
        "    [1747, 793],\n",
        "    [2318, 945],\n",
        "    [1892, 947],\n",
        "    [2155.6837947269396, 962.2719378531464],\n",
        "    [2536.92997829528, 1111.1658654307355],\n",
        "    [2111, 1228],\n",
        "    [2357, 1390],\n",
        "    [2034, 1501],\n",
        "    [2524, 1516],\n",
        "    [2129.96045745888, 1518.210195802624],\n",
        "    [2329.84272251348, 1525.2136125673999],\n",
        "    [875, 1751],\n",
        "    [1737, 1803],\n",
        "    [2164, 1807],\n",
        "    [2513, 1820],\n",
        "    [940, 1970]\n",
        "]\n",
        "\n",
        "# Group numbers into lines based on the condition that the difference is less than 50\n",
        "lines = []\n",
        "current_line = []\n",
        "\n",
        "for number in lst:\n",
        "    # Check if the current number is in the same line as the previous one\n",
        "    if not current_line or abs(number[1] - current_line[-1][-1]) < 50:\n",
        "        current_line.append(number)\n",
        "    else:\n",
        "        lines.append(current_line)\n",
        "        current_line = [number]\n",
        "\n",
        "# Add the last line\n",
        "lines.append(current_line)\n",
        "\n",
        "# Return the Arabic words corresponding to the x-coordinates for each line\n",
        "result = [[key for key, value in sorted_word_box_dict.items() if value == number[0]] for line in lines]\n",
        "result"
      ],
      "metadata": {
        "colab": {
          "base_uri": "https://localhost:8080/"
        },
        "id": "CtCYSvbmVyDs",
        "outputId": "b16751c9-b789-44ed-8d1b-e5d85a0f50fb"
      },
      "execution_count": 157,
      "outputs": [
        {
          "output_type": "execute_result",
          "data": {
            "text/plain": [
              "[['6(9412479'],\n",
              " ['6(9412479'],\n",
              " ['6(9412479'],\n",
              " ['6(9412479'],\n",
              " ['6(9412479'],\n",
              " ['6(9412479'],\n",
              " ['6(9412479'],\n",
              " ['6(9412479'],\n",
              " ['6(9412479']]"
            ]
          },
          "metadata": {},
          "execution_count": 157
        }
      ]
    },
    {
      "cell_type": "code",
      "source": [
        "sorted_word_box_dict = {\n",
        "    'مصطفى': 2536.92997829528,\n",
        "    'مركز منيا': 2524,\n",
        "    '٥٦ ٠١٤': 2513,\n",
        "    'ش سعد زغلول': 2357,\n",
        "    'القمح': 2329.84272251348,\n",
        "    'بطاقة': 2318,\n",
        "    '١٣ ٠٩': 2164,\n",
        "    'تحقيق': 2155.6837947269396,\n",
        "    'الشر': 2129.96045745888,\n",
        "    'عاطف عبدالله ابراهيم': 2111,\n",
        "    'قية': 2034,\n",
        "    'الشخصية': 1892,\n",
        "    'جمهوزتذة صزالع بينمها': 1747,\n",
        "    '١١ ٩٦ ٢': 1737,\n",
        "    '6(9412479': 940,\n",
        "    '١ 5 ٦٢١ ٩': 875\n",
        "}\n",
        "\n",
        "lst = [\n",
        "    [1747, 793],\n",
        "    [2318, 945],\n",
        "    [1892, 947],\n",
        "    [2155.6837947269396, 962.2719378531464],\n",
        "    [2536.92997829528, 1111.1658654307355],\n",
        "    [2111, 1228],\n",
        "    [2357, 1390],\n",
        "    [2034, 1501],\n",
        "    [2524, 1516],\n",
        "    [2129.96045745888, 1518.210195802624],\n",
        "    [2329.84272251348, 1525.2136125673999],\n",
        "    [875, 1751],\n",
        "    [1737, 1803],\n",
        "    [2164, 1807],\n",
        "    [2513, 1820],\n",
        "    [940, 1970]\n",
        "]\n",
        "\n",
        "# Group numbers into lines based on the condition that the difference is less than 50 in x-coordinates\n",
        "lines = []\n",
        "current_line = []\n",
        "\n",
        "for number in lst:\n",
        "    # Check if the current number is in the same line as the previous one\n",
        "    if not current_line or abs(number[0] - current_line[-1][0]) < 50:\n",
        "        current_line.append(number)\n",
        "    else:\n",
        "        lines.append(current_line)\n",
        "        current_line = [number]\n",
        "\n",
        "# Add the last line\n",
        "lines.append(current_line)\n",
        "\n",
        "# Return the Arabic words corresponding to the x-coordinates for each line\n",
        "result = [[key for key, value in sorted_word_box_dict.items() if value == number[0]] for line in lines]\n",
        "result\n"
      ],
      "metadata": {
        "colab": {
          "base_uri": "https://localhost:8080/"
        },
        "id": "BQeBqpuTVyFf",
        "outputId": "f7827063-ced3-4cb0-b7b1-b3551db5df10"
      },
      "execution_count": 158,
      "outputs": [
        {
          "output_type": "execute_result",
          "data": {
            "text/plain": [
              "[['6(9412479'],\n",
              " ['6(9412479'],\n",
              " ['6(9412479'],\n",
              " ['6(9412479'],\n",
              " ['6(9412479'],\n",
              " ['6(9412479'],\n",
              " ['6(9412479'],\n",
              " ['6(9412479'],\n",
              " ['6(9412479'],\n",
              " ['6(9412479'],\n",
              " ['6(9412479'],\n",
              " ['6(9412479'],\n",
              " ['6(9412479'],\n",
              " ['6(9412479'],\n",
              " ['6(9412479'],\n",
              " ['6(9412479']]"
            ]
          },
          "metadata": {},
          "execution_count": 158
        }
      ]
    },
    {
      "cell_type": "code",
      "source": [
        "sorted_word_box_dict = {\n",
        "    'مصطفى': 2536.92997829528,\n",
        "    'مركز منيا': 2524,\n",
        "    '٥٦ ٠١٤': 2513,\n",
        "    'ش سعد زغلول': 2357,\n",
        "    'القمح': 2329.84272251348,\n",
        "    'بطاقة': 2318,\n",
        "    '١٣ ٠٩': 2164,\n",
        "    'تحقيق': 2155.6837947269396,\n",
        "    'الشر': 2129.96045745888,\n",
        "    'عاطف عبدالله ابراهيم': 2111,\n",
        "    'قية': 2034,\n",
        "    'الشخصية': 1892,\n",
        "    'جمهوزتذة صزالع بينمها': 1747,\n",
        "    '١١ ٩٦ ٢': 1737,\n",
        "    '6(9412479': 940,\n",
        "    '١ 5 ٦٢١ ٩': 875\n",
        "}\n",
        "\n",
        "lst = [\n",
        "    [1747, 793],\n",
        "    [2318, 945],\n",
        "    [1892, 947],\n",
        "    [2155.6837947269396, 962.2719378531464],\n",
        "    [2536.92997829528, 1111.1658654307355],\n",
        "    [2111, 1228],\n",
        "    [2357, 1390],\n",
        "    [2034, 1501],\n",
        "    [2524, 1516],\n",
        "    [2129.96045745888, 1518.210195802624],\n",
        "    [2329.84272251348, 1525.2136125673999],\n",
        "    [875, 1751],\n",
        "    [1737, 1803],\n",
        "    [2164, 1807],\n",
        "    [2513, 1820],\n",
        "    [940, 1970]\n",
        "]\n",
        "\n",
        "# Define a threshold for considering coordinates in the same line\n",
        "threshold = 50\n",
        "\n",
        "# Group numbers into lines based on the condition that the difference is less than the threshold\n",
        "lines = []\n",
        "current_line = []\n",
        "\n",
        "for number in lst:\n",
        "    # Check if the current number is in the same line as the previous one\n",
        "    if not current_line or all(abs(number[i] - current_line[-1][i]) < threshold for i in range(2)):\n",
        "        current_line.append(number)\n",
        "    else:\n",
        "        lines.append(current_line)\n",
        "        current_line = [number]\n",
        "\n",
        "# Add the last line\n",
        "lines.append(current_line)\n",
        "\n",
        "# Return the Arabic words corresponding to the x-coordinates for each line\n",
        "result = [[key for key, value in sorted_word_box_dict.items() if value == number[0]] for line in lines]\n",
        "result\n"
      ],
      "metadata": {
        "id": "4ZFXitsigjlI",
        "outputId": "62a1465f-b1dd-4eae-d58f-8278626240c8",
        "colab": {
          "base_uri": "https://localhost:8080/"
        }
      },
      "execution_count": 159,
      "outputs": [
        {
          "output_type": "execute_result",
          "data": {
            "text/plain": [
              "[['6(9412479'],\n",
              " ['6(9412479'],\n",
              " ['6(9412479'],\n",
              " ['6(9412479'],\n",
              " ['6(9412479'],\n",
              " ['6(9412479'],\n",
              " ['6(9412479'],\n",
              " ['6(9412479'],\n",
              " ['6(9412479'],\n",
              " ['6(9412479'],\n",
              " ['6(9412479'],\n",
              " ['6(9412479'],\n",
              " ['6(9412479'],\n",
              " ['6(9412479'],\n",
              " ['6(9412479'],\n",
              " ['6(9412479']]"
            ]
          },
          "metadata": {},
          "execution_count": 159
        }
      ]
    },
    {
      "cell_type": "code",
      "source": [],
      "metadata": {
        "id": "WGhaYVClgjwo"
      },
      "execution_count": null,
      "outputs": []
    }
  ]
}