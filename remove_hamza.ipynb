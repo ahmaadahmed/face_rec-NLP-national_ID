{
  "nbformat": 4,
  "nbformat_minor": 0,
  "metadata": {
    "colab": {
      "provenance": [],
      "gpuType": "T4"
    },
    "kernelspec": {
      "name": "python3",
      "display_name": "Python 3"
    },
    "language_info": {
      "name": "python"
    },
    "accelerator": "GPU",
    "widgets": {
      "application/vnd.jupyter.widget-state+json": {
        "af9fb18c7e18454297c2322c54590619": {
          "model_module": "@jupyter-widgets/controls",
          "model_name": "HBoxModel",
          "model_module_version": "1.5.0",
          "state": {
            "_dom_classes": [],
            "_model_module": "@jupyter-widgets/controls",
            "_model_module_version": "1.5.0",
            "_model_name": "HBoxModel",
            "_view_count": null,
            "_view_module": "@jupyter-widgets/controls",
            "_view_module_version": "1.5.0",
            "_view_name": "HBoxView",
            "box_style": "",
            "children": [
              "IPY_MODEL_6e7eea7a1bba4061b19eb12b2d454f1a",
              "IPY_MODEL_5335706e814844ec9efd71bd67983e20",
              "IPY_MODEL_878f3c593b36420e9813d7fe54581912"
            ],
            "layout": "IPY_MODEL_fd5cb7f6ec004166a7e55d67a2613470"
          }
        },
        "6e7eea7a1bba4061b19eb12b2d454f1a": {
          "model_module": "@jupyter-widgets/controls",
          "model_name": "HTMLModel",
          "model_module_version": "1.5.0",
          "state": {
            "_dom_classes": [],
            "_model_module": "@jupyter-widgets/controls",
            "_model_module_version": "1.5.0",
            "_model_name": "HTMLModel",
            "_view_count": null,
            "_view_module": "@jupyter-widgets/controls",
            "_view_module_version": "1.5.0",
            "_view_name": "HTMLView",
            "description": "",
            "description_tooltip": null,
            "layout": "IPY_MODEL_7824d2c0a8324b8f9ff8654f57de2079",
            "placeholder": "​",
            "style": "IPY_MODEL_aad40e7f72044b338767665e49dc369a",
            "value": "config.json: 100%"
          }
        },
        "5335706e814844ec9efd71bd67983e20": {
          "model_module": "@jupyter-widgets/controls",
          "model_name": "FloatProgressModel",
          "model_module_version": "1.5.0",
          "state": {
            "_dom_classes": [],
            "_model_module": "@jupyter-widgets/controls",
            "_model_module_version": "1.5.0",
            "_model_name": "FloatProgressModel",
            "_view_count": null,
            "_view_module": "@jupyter-widgets/controls",
            "_view_module_version": "1.5.0",
            "_view_name": "ProgressView",
            "bar_style": "success",
            "description": "",
            "description_tooltip": null,
            "layout": "IPY_MODEL_752baf79e0b74d8a8d2850dd962f5275",
            "max": 666,
            "min": 0,
            "orientation": "horizontal",
            "style": "IPY_MODEL_3432ae983c0545549e6c99c98c68cca7",
            "value": 666
          }
        },
        "878f3c593b36420e9813d7fe54581912": {
          "model_module": "@jupyter-widgets/controls",
          "model_name": "HTMLModel",
          "model_module_version": "1.5.0",
          "state": {
            "_dom_classes": [],
            "_model_module": "@jupyter-widgets/controls",
            "_model_module_version": "1.5.0",
            "_model_name": "HTMLModel",
            "_view_count": null,
            "_view_module": "@jupyter-widgets/controls",
            "_view_module_version": "1.5.0",
            "_view_name": "HTMLView",
            "description": "",
            "description_tooltip": null,
            "layout": "IPY_MODEL_a8cd12c546d3497f97cc0998e9b9b173",
            "placeholder": "​",
            "style": "IPY_MODEL_fc464cc868aa4ac9b3063a621c84efcf",
            "value": " 666/666 [00:00&lt;00:00, 16.3kB/s]"
          }
        },
        "fd5cb7f6ec004166a7e55d67a2613470": {
          "model_module": "@jupyter-widgets/base",
          "model_name": "LayoutModel",
          "model_module_version": "1.2.0",
          "state": {
            "_model_module": "@jupyter-widgets/base",
            "_model_module_version": "1.2.0",
            "_model_name": "LayoutModel",
            "_view_count": null,
            "_view_module": "@jupyter-widgets/base",
            "_view_module_version": "1.2.0",
            "_view_name": "LayoutView",
            "align_content": null,
            "align_items": null,
            "align_self": null,
            "border": null,
            "bottom": null,
            "display": null,
            "flex": null,
            "flex_flow": null,
            "grid_area": null,
            "grid_auto_columns": null,
            "grid_auto_flow": null,
            "grid_auto_rows": null,
            "grid_column": null,
            "grid_gap": null,
            "grid_row": null,
            "grid_template_areas": null,
            "grid_template_columns": null,
            "grid_template_rows": null,
            "height": null,
            "justify_content": null,
            "justify_items": null,
            "left": null,
            "margin": null,
            "max_height": null,
            "max_width": null,
            "min_height": null,
            "min_width": null,
            "object_fit": null,
            "object_position": null,
            "order": null,
            "overflow": null,
            "overflow_x": null,
            "overflow_y": null,
            "padding": null,
            "right": null,
            "top": null,
            "visibility": null,
            "width": null
          }
        },
        "7824d2c0a8324b8f9ff8654f57de2079": {
          "model_module": "@jupyter-widgets/base",
          "model_name": "LayoutModel",
          "model_module_version": "1.2.0",
          "state": {
            "_model_module": "@jupyter-widgets/base",
            "_model_module_version": "1.2.0",
            "_model_name": "LayoutModel",
            "_view_count": null,
            "_view_module": "@jupyter-widgets/base",
            "_view_module_version": "1.2.0",
            "_view_name": "LayoutView",
            "align_content": null,
            "align_items": null,
            "align_self": null,
            "border": null,
            "bottom": null,
            "display": null,
            "flex": null,
            "flex_flow": null,
            "grid_area": null,
            "grid_auto_columns": null,
            "grid_auto_flow": null,
            "grid_auto_rows": null,
            "grid_column": null,
            "grid_gap": null,
            "grid_row": null,
            "grid_template_areas": null,
            "grid_template_columns": null,
            "grid_template_rows": null,
            "height": null,
            "justify_content": null,
            "justify_items": null,
            "left": null,
            "margin": null,
            "max_height": null,
            "max_width": null,
            "min_height": null,
            "min_width": null,
            "object_fit": null,
            "object_position": null,
            "order": null,
            "overflow": null,
            "overflow_x": null,
            "overflow_y": null,
            "padding": null,
            "right": null,
            "top": null,
            "visibility": null,
            "width": null
          }
        },
        "aad40e7f72044b338767665e49dc369a": {
          "model_module": "@jupyter-widgets/controls",
          "model_name": "DescriptionStyleModel",
          "model_module_version": "1.5.0",
          "state": {
            "_model_module": "@jupyter-widgets/controls",
            "_model_module_version": "1.5.0",
            "_model_name": "DescriptionStyleModel",
            "_view_count": null,
            "_view_module": "@jupyter-widgets/base",
            "_view_module_version": "1.2.0",
            "_view_name": "StyleView",
            "description_width": ""
          }
        },
        "752baf79e0b74d8a8d2850dd962f5275": {
          "model_module": "@jupyter-widgets/base",
          "model_name": "LayoutModel",
          "model_module_version": "1.2.0",
          "state": {
            "_model_module": "@jupyter-widgets/base",
            "_model_module_version": "1.2.0",
            "_model_name": "LayoutModel",
            "_view_count": null,
            "_view_module": "@jupyter-widgets/base",
            "_view_module_version": "1.2.0",
            "_view_name": "LayoutView",
            "align_content": null,
            "align_items": null,
            "align_self": null,
            "border": null,
            "bottom": null,
            "display": null,
            "flex": null,
            "flex_flow": null,
            "grid_area": null,
            "grid_auto_columns": null,
            "grid_auto_flow": null,
            "grid_auto_rows": null,
            "grid_column": null,
            "grid_gap": null,
            "grid_row": null,
            "grid_template_areas": null,
            "grid_template_columns": null,
            "grid_template_rows": null,
            "height": null,
            "justify_content": null,
            "justify_items": null,
            "left": null,
            "margin": null,
            "max_height": null,
            "max_width": null,
            "min_height": null,
            "min_width": null,
            "object_fit": null,
            "object_position": null,
            "order": null,
            "overflow": null,
            "overflow_x": null,
            "overflow_y": null,
            "padding": null,
            "right": null,
            "top": null,
            "visibility": null,
            "width": null
          }
        },
        "3432ae983c0545549e6c99c98c68cca7": {
          "model_module": "@jupyter-widgets/controls",
          "model_name": "ProgressStyleModel",
          "model_module_version": "1.5.0",
          "state": {
            "_model_module": "@jupyter-widgets/controls",
            "_model_module_version": "1.5.0",
            "_model_name": "ProgressStyleModel",
            "_view_count": null,
            "_view_module": "@jupyter-widgets/base",
            "_view_module_version": "1.2.0",
            "_view_name": "StyleView",
            "bar_color": null,
            "description_width": ""
          }
        },
        "a8cd12c546d3497f97cc0998e9b9b173": {
          "model_module": "@jupyter-widgets/base",
          "model_name": "LayoutModel",
          "model_module_version": "1.2.0",
          "state": {
            "_model_module": "@jupyter-widgets/base",
            "_model_module_version": "1.2.0",
            "_model_name": "LayoutModel",
            "_view_count": null,
            "_view_module": "@jupyter-widgets/base",
            "_view_module_version": "1.2.0",
            "_view_name": "LayoutView",
            "align_content": null,
            "align_items": null,
            "align_self": null,
            "border": null,
            "bottom": null,
            "display": null,
            "flex": null,
            "flex_flow": null,
            "grid_area": null,
            "grid_auto_columns": null,
            "grid_auto_flow": null,
            "grid_auto_rows": null,
            "grid_column": null,
            "grid_gap": null,
            "grid_row": null,
            "grid_template_areas": null,
            "grid_template_columns": null,
            "grid_template_rows": null,
            "height": null,
            "justify_content": null,
            "justify_items": null,
            "left": null,
            "margin": null,
            "max_height": null,
            "max_width": null,
            "min_height": null,
            "min_width": null,
            "object_fit": null,
            "object_position": null,
            "order": null,
            "overflow": null,
            "overflow_x": null,
            "overflow_y": null,
            "padding": null,
            "right": null,
            "top": null,
            "visibility": null,
            "width": null
          }
        },
        "fc464cc868aa4ac9b3063a621c84efcf": {
          "model_module": "@jupyter-widgets/controls",
          "model_name": "DescriptionStyleModel",
          "model_module_version": "1.5.0",
          "state": {
            "_model_module": "@jupyter-widgets/controls",
            "_model_module_version": "1.5.0",
            "_model_name": "DescriptionStyleModel",
            "_view_count": null,
            "_view_module": "@jupyter-widgets/base",
            "_view_module_version": "1.2.0",
            "_view_name": "StyleView",
            "description_width": ""
          }
        },
        "10757ff71e594379bd39929d693aa706": {
          "model_module": "@jupyter-widgets/controls",
          "model_name": "HBoxModel",
          "model_module_version": "1.5.0",
          "state": {
            "_dom_classes": [],
            "_model_module": "@jupyter-widgets/controls",
            "_model_module_version": "1.5.0",
            "_model_name": "HBoxModel",
            "_view_count": null,
            "_view_module": "@jupyter-widgets/controls",
            "_view_module_version": "1.5.0",
            "_view_name": "HBoxView",
            "box_style": "",
            "children": [
              "IPY_MODEL_952d5efd98114b79af8b0601495e6c81",
              "IPY_MODEL_ab3097334d2d4ede905c7ea7547e7551",
              "IPY_MODEL_5a10ac33620146e08b3403dd9c2016ad"
            ],
            "layout": "IPY_MODEL_1761bde3bc47438c8cb85e30f134f8c8"
          }
        },
        "952d5efd98114b79af8b0601495e6c81": {
          "model_module": "@jupyter-widgets/controls",
          "model_name": "HTMLModel",
          "model_module_version": "1.5.0",
          "state": {
            "_dom_classes": [],
            "_model_module": "@jupyter-widgets/controls",
            "_model_module_version": "1.5.0",
            "_model_name": "HTMLModel",
            "_view_count": null,
            "_view_module": "@jupyter-widgets/controls",
            "_view_module_version": "1.5.0",
            "_view_name": "HTMLView",
            "description": "",
            "description_tooltip": null,
            "layout": "IPY_MODEL_17f17d80e1e247a5813dd4ade569fe42",
            "placeholder": "​",
            "style": "IPY_MODEL_a203b62a36af43e9b98c08ce80dc98e9",
            "value": "model.safetensors: 100%"
          }
        },
        "ab3097334d2d4ede905c7ea7547e7551": {
          "model_module": "@jupyter-widgets/controls",
          "model_name": "FloatProgressModel",
          "model_module_version": "1.5.0",
          "state": {
            "_dom_classes": [],
            "_model_module": "@jupyter-widgets/controls",
            "_model_module_version": "1.5.0",
            "_model_name": "FloatProgressModel",
            "_view_count": null,
            "_view_module": "@jupyter-widgets/controls",
            "_view_module_version": "1.5.0",
            "_view_name": "ProgressView",
            "bar_style": "success",
            "description": "",
            "description_tooltip": null,
            "layout": "IPY_MODEL_aa36b2808be14da9ba49d50e795cf8d2",
            "max": 510359598,
            "min": 0,
            "orientation": "horizontal",
            "style": "IPY_MODEL_52ecb93593274019a1d72ea1b656a9fd",
            "value": 510359598
          }
        },
        "5a10ac33620146e08b3403dd9c2016ad": {
          "model_module": "@jupyter-widgets/controls",
          "model_name": "HTMLModel",
          "model_module_version": "1.5.0",
          "state": {
            "_dom_classes": [],
            "_model_module": "@jupyter-widgets/controls",
            "_model_module_version": "1.5.0",
            "_model_name": "HTMLModel",
            "_view_count": null,
            "_view_module": "@jupyter-widgets/controls",
            "_view_module_version": "1.5.0",
            "_view_name": "HTMLView",
            "description": "",
            "description_tooltip": null,
            "layout": "IPY_MODEL_e069434b002b425fbc939754c0db5bda",
            "placeholder": "​",
            "style": "IPY_MODEL_994a2c57dc77440ab57dbd1d2a3fafde",
            "value": " 510M/510M [00:41&lt;00:00, 6.31MB/s]"
          }
        },
        "1761bde3bc47438c8cb85e30f134f8c8": {
          "model_module": "@jupyter-widgets/base",
          "model_name": "LayoutModel",
          "model_module_version": "1.2.0",
          "state": {
            "_model_module": "@jupyter-widgets/base",
            "_model_module_version": "1.2.0",
            "_model_name": "LayoutModel",
            "_view_count": null,
            "_view_module": "@jupyter-widgets/base",
            "_view_module_version": "1.2.0",
            "_view_name": "LayoutView",
            "align_content": null,
            "align_items": null,
            "align_self": null,
            "border": null,
            "bottom": null,
            "display": null,
            "flex": null,
            "flex_flow": null,
            "grid_area": null,
            "grid_auto_columns": null,
            "grid_auto_flow": null,
            "grid_auto_rows": null,
            "grid_column": null,
            "grid_gap": null,
            "grid_row": null,
            "grid_template_areas": null,
            "grid_template_columns": null,
            "grid_template_rows": null,
            "height": null,
            "justify_content": null,
            "justify_items": null,
            "left": null,
            "margin": null,
            "max_height": null,
            "max_width": null,
            "min_height": null,
            "min_width": null,
            "object_fit": null,
            "object_position": null,
            "order": null,
            "overflow": null,
            "overflow_x": null,
            "overflow_y": null,
            "padding": null,
            "right": null,
            "top": null,
            "visibility": null,
            "width": null
          }
        },
        "17f17d80e1e247a5813dd4ade569fe42": {
          "model_module": "@jupyter-widgets/base",
          "model_name": "LayoutModel",
          "model_module_version": "1.2.0",
          "state": {
            "_model_module": "@jupyter-widgets/base",
            "_model_module_version": "1.2.0",
            "_model_name": "LayoutModel",
            "_view_count": null,
            "_view_module": "@jupyter-widgets/base",
            "_view_module_version": "1.2.0",
            "_view_name": "LayoutView",
            "align_content": null,
            "align_items": null,
            "align_self": null,
            "border": null,
            "bottom": null,
            "display": null,
            "flex": null,
            "flex_flow": null,
            "grid_area": null,
            "grid_auto_columns": null,
            "grid_auto_flow": null,
            "grid_auto_rows": null,
            "grid_column": null,
            "grid_gap": null,
            "grid_row": null,
            "grid_template_areas": null,
            "grid_template_columns": null,
            "grid_template_rows": null,
            "height": null,
            "justify_content": null,
            "justify_items": null,
            "left": null,
            "margin": null,
            "max_height": null,
            "max_width": null,
            "min_height": null,
            "min_width": null,
            "object_fit": null,
            "object_position": null,
            "order": null,
            "overflow": null,
            "overflow_x": null,
            "overflow_y": null,
            "padding": null,
            "right": null,
            "top": null,
            "visibility": null,
            "width": null
          }
        },
        "a203b62a36af43e9b98c08ce80dc98e9": {
          "model_module": "@jupyter-widgets/controls",
          "model_name": "DescriptionStyleModel",
          "model_module_version": "1.5.0",
          "state": {
            "_model_module": "@jupyter-widgets/controls",
            "_model_module_version": "1.5.0",
            "_model_name": "DescriptionStyleModel",
            "_view_count": null,
            "_view_module": "@jupyter-widgets/base",
            "_view_module_version": "1.2.0",
            "_view_name": "StyleView",
            "description_width": ""
          }
        },
        "aa36b2808be14da9ba49d50e795cf8d2": {
          "model_module": "@jupyter-widgets/base",
          "model_name": "LayoutModel",
          "model_module_version": "1.2.0",
          "state": {
            "_model_module": "@jupyter-widgets/base",
            "_model_module_version": "1.2.0",
            "_model_name": "LayoutModel",
            "_view_count": null,
            "_view_module": "@jupyter-widgets/base",
            "_view_module_version": "1.2.0",
            "_view_name": "LayoutView",
            "align_content": null,
            "align_items": null,
            "align_self": null,
            "border": null,
            "bottom": null,
            "display": null,
            "flex": null,
            "flex_flow": null,
            "grid_area": null,
            "grid_auto_columns": null,
            "grid_auto_flow": null,
            "grid_auto_rows": null,
            "grid_column": null,
            "grid_gap": null,
            "grid_row": null,
            "grid_template_areas": null,
            "grid_template_columns": null,
            "grid_template_rows": null,
            "height": null,
            "justify_content": null,
            "justify_items": null,
            "left": null,
            "margin": null,
            "max_height": null,
            "max_width": null,
            "min_height": null,
            "min_width": null,
            "object_fit": null,
            "object_position": null,
            "order": null,
            "overflow": null,
            "overflow_x": null,
            "overflow_y": null,
            "padding": null,
            "right": null,
            "top": null,
            "visibility": null,
            "width": null
          }
        },
        "52ecb93593274019a1d72ea1b656a9fd": {
          "model_module": "@jupyter-widgets/controls",
          "model_name": "ProgressStyleModel",
          "model_module_version": "1.5.0",
          "state": {
            "_model_module": "@jupyter-widgets/controls",
            "_model_module_version": "1.5.0",
            "_model_name": "ProgressStyleModel",
            "_view_count": null,
            "_view_module": "@jupyter-widgets/base",
            "_view_module_version": "1.2.0",
            "_view_name": "StyleView",
            "bar_color": null,
            "description_width": ""
          }
        },
        "e069434b002b425fbc939754c0db5bda": {
          "model_module": "@jupyter-widgets/base",
          "model_name": "LayoutModel",
          "model_module_version": "1.2.0",
          "state": {
            "_model_module": "@jupyter-widgets/base",
            "_model_module_version": "1.2.0",
            "_model_name": "LayoutModel",
            "_view_count": null,
            "_view_module": "@jupyter-widgets/base",
            "_view_module_version": "1.2.0",
            "_view_name": "LayoutView",
            "align_content": null,
            "align_items": null,
            "align_self": null,
            "border": null,
            "bottom": null,
            "display": null,
            "flex": null,
            "flex_flow": null,
            "grid_area": null,
            "grid_auto_columns": null,
            "grid_auto_flow": null,
            "grid_auto_rows": null,
            "grid_column": null,
            "grid_gap": null,
            "grid_row": null,
            "grid_template_areas": null,
            "grid_template_columns": null,
            "grid_template_rows": null,
            "height": null,
            "justify_content": null,
            "justify_items": null,
            "left": null,
            "margin": null,
            "max_height": null,
            "max_width": null,
            "min_height": null,
            "min_width": null,
            "object_fit": null,
            "object_position": null,
            "order": null,
            "overflow": null,
            "overflow_x": null,
            "overflow_y": null,
            "padding": null,
            "right": null,
            "top": null,
            "visibility": null,
            "width": null
          }
        },
        "994a2c57dc77440ab57dbd1d2a3fafde": {
          "model_module": "@jupyter-widgets/controls",
          "model_name": "DescriptionStyleModel",
          "model_module_version": "1.5.0",
          "state": {
            "_model_module": "@jupyter-widgets/controls",
            "_model_module_version": "1.5.0",
            "_model_name": "DescriptionStyleModel",
            "_view_count": null,
            "_view_module": "@jupyter-widgets/base",
            "_view_module_version": "1.2.0",
            "_view_name": "StyleView",
            "description_width": ""
          }
        },
        "c86a20d6b4f044a1a09a3e208d6b02df": {
          "model_module": "@jupyter-widgets/controls",
          "model_name": "HBoxModel",
          "model_module_version": "1.5.0",
          "state": {
            "_dom_classes": [],
            "_model_module": "@jupyter-widgets/controls",
            "_model_module_version": "1.5.0",
            "_model_name": "HBoxModel",
            "_view_count": null,
            "_view_module": "@jupyter-widgets/controls",
            "_view_module_version": "1.5.0",
            "_view_name": "HBoxView",
            "box_style": "",
            "children": [
              "IPY_MODEL_56a734d8ff3e4d8b9ce14f250b483e99",
              "IPY_MODEL_b854483d2ba04273aba2bb7d3f7ac83e",
              "IPY_MODEL_874c3f1272bf412392df9fb84bad6012"
            ],
            "layout": "IPY_MODEL_70e6301bb986491f9085f54dd4762e21"
          }
        },
        "56a734d8ff3e4d8b9ce14f250b483e99": {
          "model_module": "@jupyter-widgets/controls",
          "model_name": "HTMLModel",
          "model_module_version": "1.5.0",
          "state": {
            "_dom_classes": [],
            "_model_module": "@jupyter-widgets/controls",
            "_model_module_version": "1.5.0",
            "_model_name": "HTMLModel",
            "_view_count": null,
            "_view_module": "@jupyter-widgets/controls",
            "_view_module_version": "1.5.0",
            "_view_name": "HTMLView",
            "description": "",
            "description_tooltip": null,
            "layout": "IPY_MODEL_e2cd2038a16c40138a02a1e776d1e9a1",
            "placeholder": "​",
            "style": "IPY_MODEL_2e06e837e83344db9109acbbba046afb",
            "value": "tokenizer_config.json: 100%"
          }
        },
        "b854483d2ba04273aba2bb7d3f7ac83e": {
          "model_module": "@jupyter-widgets/controls",
          "model_name": "FloatProgressModel",
          "model_module_version": "1.5.0",
          "state": {
            "_dom_classes": [],
            "_model_module": "@jupyter-widgets/controls",
            "_model_module_version": "1.5.0",
            "_model_name": "FloatProgressModel",
            "_view_count": null,
            "_view_module": "@jupyter-widgets/controls",
            "_view_module_version": "1.5.0",
            "_view_name": "ProgressView",
            "bar_style": "success",
            "description": "",
            "description_tooltip": null,
            "layout": "IPY_MODEL_97772fd2016c479194c97cddba541c74",
            "max": 30,
            "min": 0,
            "orientation": "horizontal",
            "style": "IPY_MODEL_02c7d0d941b84a95acde5258510860fd",
            "value": 30
          }
        },
        "874c3f1272bf412392df9fb84bad6012": {
          "model_module": "@jupyter-widgets/controls",
          "model_name": "HTMLModel",
          "model_module_version": "1.5.0",
          "state": {
            "_dom_classes": [],
            "_model_module": "@jupyter-widgets/controls",
            "_model_module_version": "1.5.0",
            "_model_name": "HTMLModel",
            "_view_count": null,
            "_view_module": "@jupyter-widgets/controls",
            "_view_module_version": "1.5.0",
            "_view_name": "HTMLView",
            "description": "",
            "description_tooltip": null,
            "layout": "IPY_MODEL_e147b708b3914f669047342466e934fc",
            "placeholder": "​",
            "style": "IPY_MODEL_bfde19a5c23f4c72a6920cdc5ececc58",
            "value": " 30.0/30.0 [00:00&lt;00:00, 1.79kB/s]"
          }
        },
        "70e6301bb986491f9085f54dd4762e21": {
          "model_module": "@jupyter-widgets/base",
          "model_name": "LayoutModel",
          "model_module_version": "1.2.0",
          "state": {
            "_model_module": "@jupyter-widgets/base",
            "_model_module_version": "1.2.0",
            "_model_name": "LayoutModel",
            "_view_count": null,
            "_view_module": "@jupyter-widgets/base",
            "_view_module_version": "1.2.0",
            "_view_name": "LayoutView",
            "align_content": null,
            "align_items": null,
            "align_self": null,
            "border": null,
            "bottom": null,
            "display": null,
            "flex": null,
            "flex_flow": null,
            "grid_area": null,
            "grid_auto_columns": null,
            "grid_auto_flow": null,
            "grid_auto_rows": null,
            "grid_column": null,
            "grid_gap": null,
            "grid_row": null,
            "grid_template_areas": null,
            "grid_template_columns": null,
            "grid_template_rows": null,
            "height": null,
            "justify_content": null,
            "justify_items": null,
            "left": null,
            "margin": null,
            "max_height": null,
            "max_width": null,
            "min_height": null,
            "min_width": null,
            "object_fit": null,
            "object_position": null,
            "order": null,
            "overflow": null,
            "overflow_x": null,
            "overflow_y": null,
            "padding": null,
            "right": null,
            "top": null,
            "visibility": null,
            "width": null
          }
        },
        "e2cd2038a16c40138a02a1e776d1e9a1": {
          "model_module": "@jupyter-widgets/base",
          "model_name": "LayoutModel",
          "model_module_version": "1.2.0",
          "state": {
            "_model_module": "@jupyter-widgets/base",
            "_model_module_version": "1.2.0",
            "_model_name": "LayoutModel",
            "_view_count": null,
            "_view_module": "@jupyter-widgets/base",
            "_view_module_version": "1.2.0",
            "_view_name": "LayoutView",
            "align_content": null,
            "align_items": null,
            "align_self": null,
            "border": null,
            "bottom": null,
            "display": null,
            "flex": null,
            "flex_flow": null,
            "grid_area": null,
            "grid_auto_columns": null,
            "grid_auto_flow": null,
            "grid_auto_rows": null,
            "grid_column": null,
            "grid_gap": null,
            "grid_row": null,
            "grid_template_areas": null,
            "grid_template_columns": null,
            "grid_template_rows": null,
            "height": null,
            "justify_content": null,
            "justify_items": null,
            "left": null,
            "margin": null,
            "max_height": null,
            "max_width": null,
            "min_height": null,
            "min_width": null,
            "object_fit": null,
            "object_position": null,
            "order": null,
            "overflow": null,
            "overflow_x": null,
            "overflow_y": null,
            "padding": null,
            "right": null,
            "top": null,
            "visibility": null,
            "width": null
          }
        },
        "2e06e837e83344db9109acbbba046afb": {
          "model_module": "@jupyter-widgets/controls",
          "model_name": "DescriptionStyleModel",
          "model_module_version": "1.5.0",
          "state": {
            "_model_module": "@jupyter-widgets/controls",
            "_model_module_version": "1.5.0",
            "_model_name": "DescriptionStyleModel",
            "_view_count": null,
            "_view_module": "@jupyter-widgets/base",
            "_view_module_version": "1.2.0",
            "_view_name": "StyleView",
            "description_width": ""
          }
        },
        "97772fd2016c479194c97cddba541c74": {
          "model_module": "@jupyter-widgets/base",
          "model_name": "LayoutModel",
          "model_module_version": "1.2.0",
          "state": {
            "_model_module": "@jupyter-widgets/base",
            "_model_module_version": "1.2.0",
            "_model_name": "LayoutModel",
            "_view_count": null,
            "_view_module": "@jupyter-widgets/base",
            "_view_module_version": "1.2.0",
            "_view_name": "LayoutView",
            "align_content": null,
            "align_items": null,
            "align_self": null,
            "border": null,
            "bottom": null,
            "display": null,
            "flex": null,
            "flex_flow": null,
            "grid_area": null,
            "grid_auto_columns": null,
            "grid_auto_flow": null,
            "grid_auto_rows": null,
            "grid_column": null,
            "grid_gap": null,
            "grid_row": null,
            "grid_template_areas": null,
            "grid_template_columns": null,
            "grid_template_rows": null,
            "height": null,
            "justify_content": null,
            "justify_items": null,
            "left": null,
            "margin": null,
            "max_height": null,
            "max_width": null,
            "min_height": null,
            "min_width": null,
            "object_fit": null,
            "object_position": null,
            "order": null,
            "overflow": null,
            "overflow_x": null,
            "overflow_y": null,
            "padding": null,
            "right": null,
            "top": null,
            "visibility": null,
            "width": null
          }
        },
        "02c7d0d941b84a95acde5258510860fd": {
          "model_module": "@jupyter-widgets/controls",
          "model_name": "ProgressStyleModel",
          "model_module_version": "1.5.0",
          "state": {
            "_model_module": "@jupyter-widgets/controls",
            "_model_module_version": "1.5.0",
            "_model_name": "ProgressStyleModel",
            "_view_count": null,
            "_view_module": "@jupyter-widgets/base",
            "_view_module_version": "1.2.0",
            "_view_name": "StyleView",
            "bar_color": null,
            "description_width": ""
          }
        },
        "e147b708b3914f669047342466e934fc": {
          "model_module": "@jupyter-widgets/base",
          "model_name": "LayoutModel",
          "model_module_version": "1.2.0",
          "state": {
            "_model_module": "@jupyter-widgets/base",
            "_model_module_version": "1.2.0",
            "_model_name": "LayoutModel",
            "_view_count": null,
            "_view_module": "@jupyter-widgets/base",
            "_view_module_version": "1.2.0",
            "_view_name": "LayoutView",
            "align_content": null,
            "align_items": null,
            "align_self": null,
            "border": null,
            "bottom": null,
            "display": null,
            "flex": null,
            "flex_flow": null,
            "grid_area": null,
            "grid_auto_columns": null,
            "grid_auto_flow": null,
            "grid_auto_rows": null,
            "grid_column": null,
            "grid_gap": null,
            "grid_row": null,
            "grid_template_areas": null,
            "grid_template_columns": null,
            "grid_template_rows": null,
            "height": null,
            "justify_content": null,
            "justify_items": null,
            "left": null,
            "margin": null,
            "max_height": null,
            "max_width": null,
            "min_height": null,
            "min_width": null,
            "object_fit": null,
            "object_position": null,
            "order": null,
            "overflow": null,
            "overflow_x": null,
            "overflow_y": null,
            "padding": null,
            "right": null,
            "top": null,
            "visibility": null,
            "width": null
          }
        },
        "bfde19a5c23f4c72a6920cdc5ececc58": {
          "model_module": "@jupyter-widgets/controls",
          "model_name": "DescriptionStyleModel",
          "model_module_version": "1.5.0",
          "state": {
            "_model_module": "@jupyter-widgets/controls",
            "_model_module_version": "1.5.0",
            "_model_name": "DescriptionStyleModel",
            "_view_count": null,
            "_view_module": "@jupyter-widgets/base",
            "_view_module_version": "1.2.0",
            "_view_name": "StyleView",
            "description_width": ""
          }
        },
        "b7578ae7b3c24a239c02f68bc24e5c96": {
          "model_module": "@jupyter-widgets/controls",
          "model_name": "HBoxModel",
          "model_module_version": "1.5.0",
          "state": {
            "_dom_classes": [],
            "_model_module": "@jupyter-widgets/controls",
            "_model_module_version": "1.5.0",
            "_model_name": "HBoxModel",
            "_view_count": null,
            "_view_module": "@jupyter-widgets/controls",
            "_view_module_version": "1.5.0",
            "_view_name": "HBoxView",
            "box_style": "",
            "children": [
              "IPY_MODEL_b6ec5a28c4d34dbfb8e20ab4c3207e98",
              "IPY_MODEL_b0c109f239234ad7827a5c0a93906386",
              "IPY_MODEL_c3a3ac0c1c754a9695057cc5e3b2d459"
            ],
            "layout": "IPY_MODEL_765fda34211443fe90bfabc0aeff2e65"
          }
        },
        "b6ec5a28c4d34dbfb8e20ab4c3207e98": {
          "model_module": "@jupyter-widgets/controls",
          "model_name": "HTMLModel",
          "model_module_version": "1.5.0",
          "state": {
            "_dom_classes": [],
            "_model_module": "@jupyter-widgets/controls",
            "_model_module_version": "1.5.0",
            "_model_name": "HTMLModel",
            "_view_count": null,
            "_view_module": "@jupyter-widgets/controls",
            "_view_module_version": "1.5.0",
            "_view_name": "HTMLView",
            "description": "",
            "description_tooltip": null,
            "layout": "IPY_MODEL_e2845c92e4d64eaab3dc50717c14a81e",
            "placeholder": "​",
            "style": "IPY_MODEL_c65e2d647fc345588d6331d7ff1ff3f6",
            "value": "vocab.json: 100%"
          }
        },
        "b0c109f239234ad7827a5c0a93906386": {
          "model_module": "@jupyter-widgets/controls",
          "model_name": "FloatProgressModel",
          "model_module_version": "1.5.0",
          "state": {
            "_dom_classes": [],
            "_model_module": "@jupyter-widgets/controls",
            "_model_module_version": "1.5.0",
            "_model_name": "FloatProgressModel",
            "_view_count": null,
            "_view_module": "@jupyter-widgets/controls",
            "_view_module_version": "1.5.0",
            "_view_name": "ProgressView",
            "bar_style": "success",
            "description": "",
            "description_tooltip": null,
            "layout": "IPY_MODEL_98266130d0dc4bcc807614335ae4f8d4",
            "max": 1548817,
            "min": 0,
            "orientation": "horizontal",
            "style": "IPY_MODEL_d1e8ddac38954ac893d1e3af34113a1f",
            "value": 1548817
          }
        },
        "c3a3ac0c1c754a9695057cc5e3b2d459": {
          "model_module": "@jupyter-widgets/controls",
          "model_name": "HTMLModel",
          "model_module_version": "1.5.0",
          "state": {
            "_dom_classes": [],
            "_model_module": "@jupyter-widgets/controls",
            "_model_module_version": "1.5.0",
            "_model_name": "HTMLModel",
            "_view_count": null,
            "_view_module": "@jupyter-widgets/controls",
            "_view_module_version": "1.5.0",
            "_view_name": "HTMLView",
            "description": "",
            "description_tooltip": null,
            "layout": "IPY_MODEL_e1f870b8ae2c49e88b06270c2dda6d07",
            "placeholder": "​",
            "style": "IPY_MODEL_e44be141bcd84847891595fecab4d802",
            "value": " 1.55M/1.55M [00:00&lt;00:00, 3.75MB/s]"
          }
        },
        "765fda34211443fe90bfabc0aeff2e65": {
          "model_module": "@jupyter-widgets/base",
          "model_name": "LayoutModel",
          "model_module_version": "1.2.0",
          "state": {
            "_model_module": "@jupyter-widgets/base",
            "_model_module_version": "1.2.0",
            "_model_name": "LayoutModel",
            "_view_count": null,
            "_view_module": "@jupyter-widgets/base",
            "_view_module_version": "1.2.0",
            "_view_name": "LayoutView",
            "align_content": null,
            "align_items": null,
            "align_self": null,
            "border": null,
            "bottom": null,
            "display": null,
            "flex": null,
            "flex_flow": null,
            "grid_area": null,
            "grid_auto_columns": null,
            "grid_auto_flow": null,
            "grid_auto_rows": null,
            "grid_column": null,
            "grid_gap": null,
            "grid_row": null,
            "grid_template_areas": null,
            "grid_template_columns": null,
            "grid_template_rows": null,
            "height": null,
            "justify_content": null,
            "justify_items": null,
            "left": null,
            "margin": null,
            "max_height": null,
            "max_width": null,
            "min_height": null,
            "min_width": null,
            "object_fit": null,
            "object_position": null,
            "order": null,
            "overflow": null,
            "overflow_x": null,
            "overflow_y": null,
            "padding": null,
            "right": null,
            "top": null,
            "visibility": null,
            "width": null
          }
        },
        "e2845c92e4d64eaab3dc50717c14a81e": {
          "model_module": "@jupyter-widgets/base",
          "model_name": "LayoutModel",
          "model_module_version": "1.2.0",
          "state": {
            "_model_module": "@jupyter-widgets/base",
            "_model_module_version": "1.2.0",
            "_model_name": "LayoutModel",
            "_view_count": null,
            "_view_module": "@jupyter-widgets/base",
            "_view_module_version": "1.2.0",
            "_view_name": "LayoutView",
            "align_content": null,
            "align_items": null,
            "align_self": null,
            "border": null,
            "bottom": null,
            "display": null,
            "flex": null,
            "flex_flow": null,
            "grid_area": null,
            "grid_auto_columns": null,
            "grid_auto_flow": null,
            "grid_auto_rows": null,
            "grid_column": null,
            "grid_gap": null,
            "grid_row": null,
            "grid_template_areas": null,
            "grid_template_columns": null,
            "grid_template_rows": null,
            "height": null,
            "justify_content": null,
            "justify_items": null,
            "left": null,
            "margin": null,
            "max_height": null,
            "max_width": null,
            "min_height": null,
            "min_width": null,
            "object_fit": null,
            "object_position": null,
            "order": null,
            "overflow": null,
            "overflow_x": null,
            "overflow_y": null,
            "padding": null,
            "right": null,
            "top": null,
            "visibility": null,
            "width": null
          }
        },
        "c65e2d647fc345588d6331d7ff1ff3f6": {
          "model_module": "@jupyter-widgets/controls",
          "model_name": "DescriptionStyleModel",
          "model_module_version": "1.5.0",
          "state": {
            "_model_module": "@jupyter-widgets/controls",
            "_model_module_version": "1.5.0",
            "_model_name": "DescriptionStyleModel",
            "_view_count": null,
            "_view_module": "@jupyter-widgets/base",
            "_view_module_version": "1.2.0",
            "_view_name": "StyleView",
            "description_width": ""
          }
        },
        "98266130d0dc4bcc807614335ae4f8d4": {
          "model_module": "@jupyter-widgets/base",
          "model_name": "LayoutModel",
          "model_module_version": "1.2.0",
          "state": {
            "_model_module": "@jupyter-widgets/base",
            "_model_module_version": "1.2.0",
            "_model_name": "LayoutModel",
            "_view_count": null,
            "_view_module": "@jupyter-widgets/base",
            "_view_module_version": "1.2.0",
            "_view_name": "LayoutView",
            "align_content": null,
            "align_items": null,
            "align_self": null,
            "border": null,
            "bottom": null,
            "display": null,
            "flex": null,
            "flex_flow": null,
            "grid_area": null,
            "grid_auto_columns": null,
            "grid_auto_flow": null,
            "grid_auto_rows": null,
            "grid_column": null,
            "grid_gap": null,
            "grid_row": null,
            "grid_template_areas": null,
            "grid_template_columns": null,
            "grid_template_rows": null,
            "height": null,
            "justify_content": null,
            "justify_items": null,
            "left": null,
            "margin": null,
            "max_height": null,
            "max_width": null,
            "min_height": null,
            "min_width": null,
            "object_fit": null,
            "object_position": null,
            "order": null,
            "overflow": null,
            "overflow_x": null,
            "overflow_y": null,
            "padding": null,
            "right": null,
            "top": null,
            "visibility": null,
            "width": null
          }
        },
        "d1e8ddac38954ac893d1e3af34113a1f": {
          "model_module": "@jupyter-widgets/controls",
          "model_name": "ProgressStyleModel",
          "model_module_version": "1.5.0",
          "state": {
            "_model_module": "@jupyter-widgets/controls",
            "_model_module_version": "1.5.0",
            "_model_name": "ProgressStyleModel",
            "_view_count": null,
            "_view_module": "@jupyter-widgets/base",
            "_view_module_version": "1.2.0",
            "_view_name": "StyleView",
            "bar_color": null,
            "description_width": ""
          }
        },
        "e1f870b8ae2c49e88b06270c2dda6d07": {
          "model_module": "@jupyter-widgets/base",
          "model_name": "LayoutModel",
          "model_module_version": "1.2.0",
          "state": {
            "_model_module": "@jupyter-widgets/base",
            "_model_module_version": "1.2.0",
            "_model_name": "LayoutModel",
            "_view_count": null,
            "_view_module": "@jupyter-widgets/base",
            "_view_module_version": "1.2.0",
            "_view_name": "LayoutView",
            "align_content": null,
            "align_items": null,
            "align_self": null,
            "border": null,
            "bottom": null,
            "display": null,
            "flex": null,
            "flex_flow": null,
            "grid_area": null,
            "grid_auto_columns": null,
            "grid_auto_flow": null,
            "grid_auto_rows": null,
            "grid_column": null,
            "grid_gap": null,
            "grid_row": null,
            "grid_template_areas": null,
            "grid_template_columns": null,
            "grid_template_rows": null,
            "height": null,
            "justify_content": null,
            "justify_items": null,
            "left": null,
            "margin": null,
            "max_height": null,
            "max_width": null,
            "min_height": null,
            "min_width": null,
            "object_fit": null,
            "object_position": null,
            "order": null,
            "overflow": null,
            "overflow_x": null,
            "overflow_y": null,
            "padding": null,
            "right": null,
            "top": null,
            "visibility": null,
            "width": null
          }
        },
        "e44be141bcd84847891595fecab4d802": {
          "model_module": "@jupyter-widgets/controls",
          "model_name": "DescriptionStyleModel",
          "model_module_version": "1.5.0",
          "state": {
            "_model_module": "@jupyter-widgets/controls",
            "_model_module_version": "1.5.0",
            "_model_name": "DescriptionStyleModel",
            "_view_count": null,
            "_view_module": "@jupyter-widgets/base",
            "_view_module_version": "1.2.0",
            "_view_name": "StyleView",
            "description_width": ""
          }
        },
        "51a4477c52444b3caca1e247fb2d3fe0": {
          "model_module": "@jupyter-widgets/controls",
          "model_name": "HBoxModel",
          "model_module_version": "1.5.0",
          "state": {
            "_dom_classes": [],
            "_model_module": "@jupyter-widgets/controls",
            "_model_module_version": "1.5.0",
            "_model_name": "HBoxModel",
            "_view_count": null,
            "_view_module": "@jupyter-widgets/controls",
            "_view_module_version": "1.5.0",
            "_view_name": "HBoxView",
            "box_style": "",
            "children": [
              "IPY_MODEL_d98ffa9c0e0643819f7ccd9a4b34a625",
              "IPY_MODEL_872c9a54528f4daaa69eb996ffcbb95e",
              "IPY_MODEL_2aed776181264604992b73f606a1e334"
            ],
            "layout": "IPY_MODEL_6f5af29132d441e88b6ec53caee1e77a"
          }
        },
        "d98ffa9c0e0643819f7ccd9a4b34a625": {
          "model_module": "@jupyter-widgets/controls",
          "model_name": "HTMLModel",
          "model_module_version": "1.5.0",
          "state": {
            "_dom_classes": [],
            "_model_module": "@jupyter-widgets/controls",
            "_model_module_version": "1.5.0",
            "_model_name": "HTMLModel",
            "_view_count": null,
            "_view_module": "@jupyter-widgets/controls",
            "_view_module_version": "1.5.0",
            "_view_name": "HTMLView",
            "description": "",
            "description_tooltip": null,
            "layout": "IPY_MODEL_ad4e4d62b83540d3a0eba9e7c9a0b83b",
            "placeholder": "​",
            "style": "IPY_MODEL_9a134f1703de490ead7271fd8ec54d5d",
            "value": "merges.txt: 100%"
          }
        },
        "872c9a54528f4daaa69eb996ffcbb95e": {
          "model_module": "@jupyter-widgets/controls",
          "model_name": "FloatProgressModel",
          "model_module_version": "1.5.0",
          "state": {
            "_dom_classes": [],
            "_model_module": "@jupyter-widgets/controls",
            "_model_module_version": "1.5.0",
            "_model_name": "FloatProgressModel",
            "_view_count": null,
            "_view_module": "@jupyter-widgets/controls",
            "_view_module_version": "1.5.0",
            "_view_name": "ProgressView",
            "bar_style": "success",
            "description": "",
            "description_tooltip": null,
            "layout": "IPY_MODEL_8cf217495e084b8387494c493e9b7666",
            "max": 1207232,
            "min": 0,
            "orientation": "horizontal",
            "style": "IPY_MODEL_98c4b9ac03c440dfa06280ffed5f624d",
            "value": 1207232
          }
        },
        "2aed776181264604992b73f606a1e334": {
          "model_module": "@jupyter-widgets/controls",
          "model_name": "HTMLModel",
          "model_module_version": "1.5.0",
          "state": {
            "_dom_classes": [],
            "_model_module": "@jupyter-widgets/controls",
            "_model_module_version": "1.5.0",
            "_model_name": "HTMLModel",
            "_view_count": null,
            "_view_module": "@jupyter-widgets/controls",
            "_view_module_version": "1.5.0",
            "_view_name": "HTMLView",
            "description": "",
            "description_tooltip": null,
            "layout": "IPY_MODEL_81d531be208b4001abdee7d97c6c58f2",
            "placeholder": "​",
            "style": "IPY_MODEL_b7e5484e85b94676a00afd34275a2fc9",
            "value": " 1.21M/1.21M [00:00&lt;00:00, 7.35MB/s]"
          }
        },
        "6f5af29132d441e88b6ec53caee1e77a": {
          "model_module": "@jupyter-widgets/base",
          "model_name": "LayoutModel",
          "model_module_version": "1.2.0",
          "state": {
            "_model_module": "@jupyter-widgets/base",
            "_model_module_version": "1.2.0",
            "_model_name": "LayoutModel",
            "_view_count": null,
            "_view_module": "@jupyter-widgets/base",
            "_view_module_version": "1.2.0",
            "_view_name": "LayoutView",
            "align_content": null,
            "align_items": null,
            "align_self": null,
            "border": null,
            "bottom": null,
            "display": null,
            "flex": null,
            "flex_flow": null,
            "grid_area": null,
            "grid_auto_columns": null,
            "grid_auto_flow": null,
            "grid_auto_rows": null,
            "grid_column": null,
            "grid_gap": null,
            "grid_row": null,
            "grid_template_areas": null,
            "grid_template_columns": null,
            "grid_template_rows": null,
            "height": null,
            "justify_content": null,
            "justify_items": null,
            "left": null,
            "margin": null,
            "max_height": null,
            "max_width": null,
            "min_height": null,
            "min_width": null,
            "object_fit": null,
            "object_position": null,
            "order": null,
            "overflow": null,
            "overflow_x": null,
            "overflow_y": null,
            "padding": null,
            "right": null,
            "top": null,
            "visibility": null,
            "width": null
          }
        },
        "ad4e4d62b83540d3a0eba9e7c9a0b83b": {
          "model_module": "@jupyter-widgets/base",
          "model_name": "LayoutModel",
          "model_module_version": "1.2.0",
          "state": {
            "_model_module": "@jupyter-widgets/base",
            "_model_module_version": "1.2.0",
            "_model_name": "LayoutModel",
            "_view_count": null,
            "_view_module": "@jupyter-widgets/base",
            "_view_module_version": "1.2.0",
            "_view_name": "LayoutView",
            "align_content": null,
            "align_items": null,
            "align_self": null,
            "border": null,
            "bottom": null,
            "display": null,
            "flex": null,
            "flex_flow": null,
            "grid_area": null,
            "grid_auto_columns": null,
            "grid_auto_flow": null,
            "grid_auto_rows": null,
            "grid_column": null,
            "grid_gap": null,
            "grid_row": null,
            "grid_template_areas": null,
            "grid_template_columns": null,
            "grid_template_rows": null,
            "height": null,
            "justify_content": null,
            "justify_items": null,
            "left": null,
            "margin": null,
            "max_height": null,
            "max_width": null,
            "min_height": null,
            "min_width": null,
            "object_fit": null,
            "object_position": null,
            "order": null,
            "overflow": null,
            "overflow_x": null,
            "overflow_y": null,
            "padding": null,
            "right": null,
            "top": null,
            "visibility": null,
            "width": null
          }
        },
        "9a134f1703de490ead7271fd8ec54d5d": {
          "model_module": "@jupyter-widgets/controls",
          "model_name": "DescriptionStyleModel",
          "model_module_version": "1.5.0",
          "state": {
            "_model_module": "@jupyter-widgets/controls",
            "_model_module_version": "1.5.0",
            "_model_name": "DescriptionStyleModel",
            "_view_count": null,
            "_view_module": "@jupyter-widgets/base",
            "_view_module_version": "1.2.0",
            "_view_name": "StyleView",
            "description_width": ""
          }
        },
        "8cf217495e084b8387494c493e9b7666": {
          "model_module": "@jupyter-widgets/base",
          "model_name": "LayoutModel",
          "model_module_version": "1.2.0",
          "state": {
            "_model_module": "@jupyter-widgets/base",
            "_model_module_version": "1.2.0",
            "_model_name": "LayoutModel",
            "_view_count": null,
            "_view_module": "@jupyter-widgets/base",
            "_view_module_version": "1.2.0",
            "_view_name": "LayoutView",
            "align_content": null,
            "align_items": null,
            "align_self": null,
            "border": null,
            "bottom": null,
            "display": null,
            "flex": null,
            "flex_flow": null,
            "grid_area": null,
            "grid_auto_columns": null,
            "grid_auto_flow": null,
            "grid_auto_rows": null,
            "grid_column": null,
            "grid_gap": null,
            "grid_row": null,
            "grid_template_areas": null,
            "grid_template_columns": null,
            "grid_template_rows": null,
            "height": null,
            "justify_content": null,
            "justify_items": null,
            "left": null,
            "margin": null,
            "max_height": null,
            "max_width": null,
            "min_height": null,
            "min_width": null,
            "object_fit": null,
            "object_position": null,
            "order": null,
            "overflow": null,
            "overflow_x": null,
            "overflow_y": null,
            "padding": null,
            "right": null,
            "top": null,
            "visibility": null,
            "width": null
          }
        },
        "98c4b9ac03c440dfa06280ffed5f624d": {
          "model_module": "@jupyter-widgets/controls",
          "model_name": "ProgressStyleModel",
          "model_module_version": "1.5.0",
          "state": {
            "_model_module": "@jupyter-widgets/controls",
            "_model_module_version": "1.5.0",
            "_model_name": "ProgressStyleModel",
            "_view_count": null,
            "_view_module": "@jupyter-widgets/base",
            "_view_module_version": "1.2.0",
            "_view_name": "StyleView",
            "bar_color": null,
            "description_width": ""
          }
        },
        "81d531be208b4001abdee7d97c6c58f2": {
          "model_module": "@jupyter-widgets/base",
          "model_name": "LayoutModel",
          "model_module_version": "1.2.0",
          "state": {
            "_model_module": "@jupyter-widgets/base",
            "_model_module_version": "1.2.0",
            "_model_name": "LayoutModel",
            "_view_count": null,
            "_view_module": "@jupyter-widgets/base",
            "_view_module_version": "1.2.0",
            "_view_name": "LayoutView",
            "align_content": null,
            "align_items": null,
            "align_self": null,
            "border": null,
            "bottom": null,
            "display": null,
            "flex": null,
            "flex_flow": null,
            "grid_area": null,
            "grid_auto_columns": null,
            "grid_auto_flow": null,
            "grid_auto_rows": null,
            "grid_column": null,
            "grid_gap": null,
            "grid_row": null,
            "grid_template_areas": null,
            "grid_template_columns": null,
            "grid_template_rows": null,
            "height": null,
            "justify_content": null,
            "justify_items": null,
            "left": null,
            "margin": null,
            "max_height": null,
            "max_width": null,
            "min_height": null,
            "min_width": null,
            "object_fit": null,
            "object_position": null,
            "order": null,
            "overflow": null,
            "overflow_x": null,
            "overflow_y": null,
            "padding": null,
            "right": null,
            "top": null,
            "visibility": null,
            "width": null
          }
        },
        "b7e5484e85b94676a00afd34275a2fc9": {
          "model_module": "@jupyter-widgets/controls",
          "model_name": "DescriptionStyleModel",
          "model_module_version": "1.5.0",
          "state": {
            "_model_module": "@jupyter-widgets/controls",
            "_model_module_version": "1.5.0",
            "_model_name": "DescriptionStyleModel",
            "_view_count": null,
            "_view_module": "@jupyter-widgets/base",
            "_view_module_version": "1.2.0",
            "_view_name": "StyleView",
            "description_width": ""
          }
        },
        "792e5b63717340569087a52fe5c662e6": {
          "model_module": "@jupyter-widgets/controls",
          "model_name": "HBoxModel",
          "model_module_version": "1.5.0",
          "state": {
            "_dom_classes": [],
            "_model_module": "@jupyter-widgets/controls",
            "_model_module_version": "1.5.0",
            "_model_name": "HBoxModel",
            "_view_count": null,
            "_view_module": "@jupyter-widgets/controls",
            "_view_module_version": "1.5.0",
            "_view_name": "HBoxView",
            "box_style": "",
            "children": [
              "IPY_MODEL_65156d17bc7649e4946629f29bd6a924",
              "IPY_MODEL_867c5185769a4cc3b383563cc5086db5",
              "IPY_MODEL_8c29bcce6d0841cbb5bc64b3d6c93950"
            ],
            "layout": "IPY_MODEL_04e0afdb39ab4a1e842321528210244f"
          }
        },
        "65156d17bc7649e4946629f29bd6a924": {
          "model_module": "@jupyter-widgets/controls",
          "model_name": "HTMLModel",
          "model_module_version": "1.5.0",
          "state": {
            "_dom_classes": [],
            "_model_module": "@jupyter-widgets/controls",
            "_model_module_version": "1.5.0",
            "_model_name": "HTMLModel",
            "_view_count": null,
            "_view_module": "@jupyter-widgets/controls",
            "_view_module_version": "1.5.0",
            "_view_name": "HTMLView",
            "description": "",
            "description_tooltip": null,
            "layout": "IPY_MODEL_3446d812d8ad4e88aee747abc7cf4705",
            "placeholder": "​",
            "style": "IPY_MODEL_87f4c29b8b404e5dbcd27a1af47ed5d6",
            "value": "special_tokens_map.json: 100%"
          }
        },
        "867c5185769a4cc3b383563cc5086db5": {
          "model_module": "@jupyter-widgets/controls",
          "model_name": "FloatProgressModel",
          "model_module_version": "1.5.0",
          "state": {
            "_dom_classes": [],
            "_model_module": "@jupyter-widgets/controls",
            "_model_module_version": "1.5.0",
            "_model_name": "FloatProgressModel",
            "_view_count": null,
            "_view_module": "@jupyter-widgets/controls",
            "_view_module_version": "1.5.0",
            "_view_name": "ProgressView",
            "bar_style": "success",
            "description": "",
            "description_tooltip": null,
            "layout": "IPY_MODEL_12ff57f9b6a04839bb411a59bfa02dc2",
            "max": 120,
            "min": 0,
            "orientation": "horizontal",
            "style": "IPY_MODEL_b207dccdc68348908ef248d9db015c1f",
            "value": 120
          }
        },
        "8c29bcce6d0841cbb5bc64b3d6c93950": {
          "model_module": "@jupyter-widgets/controls",
          "model_name": "HTMLModel",
          "model_module_version": "1.5.0",
          "state": {
            "_dom_classes": [],
            "_model_module": "@jupyter-widgets/controls",
            "_model_module_version": "1.5.0",
            "_model_name": "HTMLModel",
            "_view_count": null,
            "_view_module": "@jupyter-widgets/controls",
            "_view_module_version": "1.5.0",
            "_view_name": "HTMLView",
            "description": "",
            "description_tooltip": null,
            "layout": "IPY_MODEL_b0f32d8b6cc743b2b97760b89bd7310a",
            "placeholder": "​",
            "style": "IPY_MODEL_13846f52c163437098aedc1e99fc5b1d",
            "value": " 120/120 [00:00&lt;00:00, 5.36kB/s]"
          }
        },
        "04e0afdb39ab4a1e842321528210244f": {
          "model_module": "@jupyter-widgets/base",
          "model_name": "LayoutModel",
          "model_module_version": "1.2.0",
          "state": {
            "_model_module": "@jupyter-widgets/base",
            "_model_module_version": "1.2.0",
            "_model_name": "LayoutModel",
            "_view_count": null,
            "_view_module": "@jupyter-widgets/base",
            "_view_module_version": "1.2.0",
            "_view_name": "LayoutView",
            "align_content": null,
            "align_items": null,
            "align_self": null,
            "border": null,
            "bottom": null,
            "display": null,
            "flex": null,
            "flex_flow": null,
            "grid_area": null,
            "grid_auto_columns": null,
            "grid_auto_flow": null,
            "grid_auto_rows": null,
            "grid_column": null,
            "grid_gap": null,
            "grid_row": null,
            "grid_template_areas": null,
            "grid_template_columns": null,
            "grid_template_rows": null,
            "height": null,
            "justify_content": null,
            "justify_items": null,
            "left": null,
            "margin": null,
            "max_height": null,
            "max_width": null,
            "min_height": null,
            "min_width": null,
            "object_fit": null,
            "object_position": null,
            "order": null,
            "overflow": null,
            "overflow_x": null,
            "overflow_y": null,
            "padding": null,
            "right": null,
            "top": null,
            "visibility": null,
            "width": null
          }
        },
        "3446d812d8ad4e88aee747abc7cf4705": {
          "model_module": "@jupyter-widgets/base",
          "model_name": "LayoutModel",
          "model_module_version": "1.2.0",
          "state": {
            "_model_module": "@jupyter-widgets/base",
            "_model_module_version": "1.2.0",
            "_model_name": "LayoutModel",
            "_view_count": null,
            "_view_module": "@jupyter-widgets/base",
            "_view_module_version": "1.2.0",
            "_view_name": "LayoutView",
            "align_content": null,
            "align_items": null,
            "align_self": null,
            "border": null,
            "bottom": null,
            "display": null,
            "flex": null,
            "flex_flow": null,
            "grid_area": null,
            "grid_auto_columns": null,
            "grid_auto_flow": null,
            "grid_auto_rows": null,
            "grid_column": null,
            "grid_gap": null,
            "grid_row": null,
            "grid_template_areas": null,
            "grid_template_columns": null,
            "grid_template_rows": null,
            "height": null,
            "justify_content": null,
            "justify_items": null,
            "left": null,
            "margin": null,
            "max_height": null,
            "max_width": null,
            "min_height": null,
            "min_width": null,
            "object_fit": null,
            "object_position": null,
            "order": null,
            "overflow": null,
            "overflow_x": null,
            "overflow_y": null,
            "padding": null,
            "right": null,
            "top": null,
            "visibility": null,
            "width": null
          }
        },
        "87f4c29b8b404e5dbcd27a1af47ed5d6": {
          "model_module": "@jupyter-widgets/controls",
          "model_name": "DescriptionStyleModel",
          "model_module_version": "1.5.0",
          "state": {
            "_model_module": "@jupyter-widgets/controls",
            "_model_module_version": "1.5.0",
            "_model_name": "DescriptionStyleModel",
            "_view_count": null,
            "_view_module": "@jupyter-widgets/base",
            "_view_module_version": "1.2.0",
            "_view_name": "StyleView",
            "description_width": ""
          }
        },
        "12ff57f9b6a04839bb411a59bfa02dc2": {
          "model_module": "@jupyter-widgets/base",
          "model_name": "LayoutModel",
          "model_module_version": "1.2.0",
          "state": {
            "_model_module": "@jupyter-widgets/base",
            "_model_module_version": "1.2.0",
            "_model_name": "LayoutModel",
            "_view_count": null,
            "_view_module": "@jupyter-widgets/base",
            "_view_module_version": "1.2.0",
            "_view_name": "LayoutView",
            "align_content": null,
            "align_items": null,
            "align_self": null,
            "border": null,
            "bottom": null,
            "display": null,
            "flex": null,
            "flex_flow": null,
            "grid_area": null,
            "grid_auto_columns": null,
            "grid_auto_flow": null,
            "grid_auto_rows": null,
            "grid_column": null,
            "grid_gap": null,
            "grid_row": null,
            "grid_template_areas": null,
            "grid_template_columns": null,
            "grid_template_rows": null,
            "height": null,
            "justify_content": null,
            "justify_items": null,
            "left": null,
            "margin": null,
            "max_height": null,
            "max_width": null,
            "min_height": null,
            "min_width": null,
            "object_fit": null,
            "object_position": null,
            "order": null,
            "overflow": null,
            "overflow_x": null,
            "overflow_y": null,
            "padding": null,
            "right": null,
            "top": null,
            "visibility": null,
            "width": null
          }
        },
        "b207dccdc68348908ef248d9db015c1f": {
          "model_module": "@jupyter-widgets/controls",
          "model_name": "ProgressStyleModel",
          "model_module_version": "1.5.0",
          "state": {
            "_model_module": "@jupyter-widgets/controls",
            "_model_module_version": "1.5.0",
            "_model_name": "ProgressStyleModel",
            "_view_count": null,
            "_view_module": "@jupyter-widgets/base",
            "_view_module_version": "1.2.0",
            "_view_name": "StyleView",
            "bar_color": null,
            "description_width": ""
          }
        },
        "b0f32d8b6cc743b2b97760b89bd7310a": {
          "model_module": "@jupyter-widgets/base",
          "model_name": "LayoutModel",
          "model_module_version": "1.2.0",
          "state": {
            "_model_module": "@jupyter-widgets/base",
            "_model_module_version": "1.2.0",
            "_model_name": "LayoutModel",
            "_view_count": null,
            "_view_module": "@jupyter-widgets/base",
            "_view_module_version": "1.2.0",
            "_view_name": "LayoutView",
            "align_content": null,
            "align_items": null,
            "align_self": null,
            "border": null,
            "bottom": null,
            "display": null,
            "flex": null,
            "flex_flow": null,
            "grid_area": null,
            "grid_auto_columns": null,
            "grid_auto_flow": null,
            "grid_auto_rows": null,
            "grid_column": null,
            "grid_gap": null,
            "grid_row": null,
            "grid_template_areas": null,
            "grid_template_columns": null,
            "grid_template_rows": null,
            "height": null,
            "justify_content": null,
            "justify_items": null,
            "left": null,
            "margin": null,
            "max_height": null,
            "max_width": null,
            "min_height": null,
            "min_width": null,
            "object_fit": null,
            "object_position": null,
            "order": null,
            "overflow": null,
            "overflow_x": null,
            "overflow_y": null,
            "padding": null,
            "right": null,
            "top": null,
            "visibility": null,
            "width": null
          }
        },
        "13846f52c163437098aedc1e99fc5b1d": {
          "model_module": "@jupyter-widgets/controls",
          "model_name": "DescriptionStyleModel",
          "model_module_version": "1.5.0",
          "state": {
            "_model_module": "@jupyter-widgets/controls",
            "_model_module_version": "1.5.0",
            "_model_name": "DescriptionStyleModel",
            "_view_count": null,
            "_view_module": "@jupyter-widgets/base",
            "_view_module_version": "1.2.0",
            "_view_name": "StyleView",
            "description_width": ""
          }
        },
        "db1c7514af1b488db43d11c28929e7f2": {
          "model_module": "@jupyter-widgets/controls",
          "model_name": "HBoxModel",
          "model_module_version": "1.5.0",
          "state": {
            "_dom_classes": [],
            "_model_module": "@jupyter-widgets/controls",
            "_model_module_version": "1.5.0",
            "_model_name": "HBoxModel",
            "_view_count": null,
            "_view_module": "@jupyter-widgets/controls",
            "_view_module_version": "1.5.0",
            "_view_name": "HBoxView",
            "box_style": "",
            "children": [
              "IPY_MODEL_233d6696146a40028151614a405ee04e",
              "IPY_MODEL_cc812cf8b2f148279394456ba3bf6890",
              "IPY_MODEL_97b96a1a2be54d62bbd2461b4a116824"
            ],
            "layout": "IPY_MODEL_113374bc06514a8ea04b951f0cdc3190"
          }
        },
        "233d6696146a40028151614a405ee04e": {
          "model_module": "@jupyter-widgets/controls",
          "model_name": "HTMLModel",
          "model_module_version": "1.5.0",
          "state": {
            "_dom_classes": [],
            "_model_module": "@jupyter-widgets/controls",
            "_model_module_version": "1.5.0",
            "_model_name": "HTMLModel",
            "_view_count": null,
            "_view_module": "@jupyter-widgets/controls",
            "_view_module_version": "1.5.0",
            "_view_name": "HTMLView",
            "description": "",
            "description_tooltip": null,
            "layout": "IPY_MODEL_d7bd73c2b4264d62960164ba6bd27585",
            "placeholder": "​",
            "style": "IPY_MODEL_8d83a8c45a944f868b9e3e0115d4c7e0",
            "value": "vocab.json: 100%"
          }
        },
        "cc812cf8b2f148279394456ba3bf6890": {
          "model_module": "@jupyter-widgets/controls",
          "model_name": "FloatProgressModel",
          "model_module_version": "1.5.0",
          "state": {
            "_dom_classes": [],
            "_model_module": "@jupyter-widgets/controls",
            "_model_module_version": "1.5.0",
            "_model_name": "FloatProgressModel",
            "_view_count": null,
            "_view_module": "@jupyter-widgets/controls",
            "_view_module_version": "1.5.0",
            "_view_name": "ProgressView",
            "bar_style": "success",
            "description": "",
            "description_tooltip": null,
            "layout": "IPY_MODEL_859d6ff74650457c931061117e74a807",
            "max": 1042301,
            "min": 0,
            "orientation": "horizontal",
            "style": "IPY_MODEL_90af610ab52f413aa5bdeae6d48fa5f7",
            "value": 1042301
          }
        },
        "97b96a1a2be54d62bbd2461b4a116824": {
          "model_module": "@jupyter-widgets/controls",
          "model_name": "HTMLModel",
          "model_module_version": "1.5.0",
          "state": {
            "_dom_classes": [],
            "_model_module": "@jupyter-widgets/controls",
            "_model_module_version": "1.5.0",
            "_model_name": "HTMLModel",
            "_view_count": null,
            "_view_module": "@jupyter-widgets/controls",
            "_view_module_version": "1.5.0",
            "_view_name": "HTMLView",
            "description": "",
            "description_tooltip": null,
            "layout": "IPY_MODEL_ed24e1af50db4d3aa5f07aaa5002cf95",
            "placeholder": "​",
            "style": "IPY_MODEL_60708669f6a14e3ab06589b63abd5712",
            "value": " 1.04M/1.04M [00:00&lt;00:00, 6.36MB/s]"
          }
        },
        "113374bc06514a8ea04b951f0cdc3190": {
          "model_module": "@jupyter-widgets/base",
          "model_name": "LayoutModel",
          "model_module_version": "1.2.0",
          "state": {
            "_model_module": "@jupyter-widgets/base",
            "_model_module_version": "1.2.0",
            "_model_name": "LayoutModel",
            "_view_count": null,
            "_view_module": "@jupyter-widgets/base",
            "_view_module_version": "1.2.0",
            "_view_name": "LayoutView",
            "align_content": null,
            "align_items": null,
            "align_self": null,
            "border": null,
            "bottom": null,
            "display": null,
            "flex": null,
            "flex_flow": null,
            "grid_area": null,
            "grid_auto_columns": null,
            "grid_auto_flow": null,
            "grid_auto_rows": null,
            "grid_column": null,
            "grid_gap": null,
            "grid_row": null,
            "grid_template_areas": null,
            "grid_template_columns": null,
            "grid_template_rows": null,
            "height": null,
            "justify_content": null,
            "justify_items": null,
            "left": null,
            "margin": null,
            "max_height": null,
            "max_width": null,
            "min_height": null,
            "min_width": null,
            "object_fit": null,
            "object_position": null,
            "order": null,
            "overflow": null,
            "overflow_x": null,
            "overflow_y": null,
            "padding": null,
            "right": null,
            "top": null,
            "visibility": null,
            "width": null
          }
        },
        "d7bd73c2b4264d62960164ba6bd27585": {
          "model_module": "@jupyter-widgets/base",
          "model_name": "LayoutModel",
          "model_module_version": "1.2.0",
          "state": {
            "_model_module": "@jupyter-widgets/base",
            "_model_module_version": "1.2.0",
            "_model_name": "LayoutModel",
            "_view_count": null,
            "_view_module": "@jupyter-widgets/base",
            "_view_module_version": "1.2.0",
            "_view_name": "LayoutView",
            "align_content": null,
            "align_items": null,
            "align_self": null,
            "border": null,
            "bottom": null,
            "display": null,
            "flex": null,
            "flex_flow": null,
            "grid_area": null,
            "grid_auto_columns": null,
            "grid_auto_flow": null,
            "grid_auto_rows": null,
            "grid_column": null,
            "grid_gap": null,
            "grid_row": null,
            "grid_template_areas": null,
            "grid_template_columns": null,
            "grid_template_rows": null,
            "height": null,
            "justify_content": null,
            "justify_items": null,
            "left": null,
            "margin": null,
            "max_height": null,
            "max_width": null,
            "min_height": null,
            "min_width": null,
            "object_fit": null,
            "object_position": null,
            "order": null,
            "overflow": null,
            "overflow_x": null,
            "overflow_y": null,
            "padding": null,
            "right": null,
            "top": null,
            "visibility": null,
            "width": null
          }
        },
        "8d83a8c45a944f868b9e3e0115d4c7e0": {
          "model_module": "@jupyter-widgets/controls",
          "model_name": "DescriptionStyleModel",
          "model_module_version": "1.5.0",
          "state": {
            "_model_module": "@jupyter-widgets/controls",
            "_model_module_version": "1.5.0",
            "_model_name": "DescriptionStyleModel",
            "_view_count": null,
            "_view_module": "@jupyter-widgets/base",
            "_view_module_version": "1.2.0",
            "_view_name": "StyleView",
            "description_width": ""
          }
        },
        "859d6ff74650457c931061117e74a807": {
          "model_module": "@jupyter-widgets/base",
          "model_name": "LayoutModel",
          "model_module_version": "1.2.0",
          "state": {
            "_model_module": "@jupyter-widgets/base",
            "_model_module_version": "1.2.0",
            "_model_name": "LayoutModel",
            "_view_count": null,
            "_view_module": "@jupyter-widgets/base",
            "_view_module_version": "1.2.0",
            "_view_name": "LayoutView",
            "align_content": null,
            "align_items": null,
            "align_self": null,
            "border": null,
            "bottom": null,
            "display": null,
            "flex": null,
            "flex_flow": null,
            "grid_area": null,
            "grid_auto_columns": null,
            "grid_auto_flow": null,
            "grid_auto_rows": null,
            "grid_column": null,
            "grid_gap": null,
            "grid_row": null,
            "grid_template_areas": null,
            "grid_template_columns": null,
            "grid_template_rows": null,
            "height": null,
            "justify_content": null,
            "justify_items": null,
            "left": null,
            "margin": null,
            "max_height": null,
            "max_width": null,
            "min_height": null,
            "min_width": null,
            "object_fit": null,
            "object_position": null,
            "order": null,
            "overflow": null,
            "overflow_x": null,
            "overflow_y": null,
            "padding": null,
            "right": null,
            "top": null,
            "visibility": null,
            "width": null
          }
        },
        "90af610ab52f413aa5bdeae6d48fa5f7": {
          "model_module": "@jupyter-widgets/controls",
          "model_name": "ProgressStyleModel",
          "model_module_version": "1.5.0",
          "state": {
            "_model_module": "@jupyter-widgets/controls",
            "_model_module_version": "1.5.0",
            "_model_name": "ProgressStyleModel",
            "_view_count": null,
            "_view_module": "@jupyter-widgets/base",
            "_view_module_version": "1.2.0",
            "_view_name": "StyleView",
            "bar_color": null,
            "description_width": ""
          }
        },
        "ed24e1af50db4d3aa5f07aaa5002cf95": {
          "model_module": "@jupyter-widgets/base",
          "model_name": "LayoutModel",
          "model_module_version": "1.2.0",
          "state": {
            "_model_module": "@jupyter-widgets/base",
            "_model_module_version": "1.2.0",
            "_model_name": "LayoutModel",
            "_view_count": null,
            "_view_module": "@jupyter-widgets/base",
            "_view_module_version": "1.2.0",
            "_view_name": "LayoutView",
            "align_content": null,
            "align_items": null,
            "align_self": null,
            "border": null,
            "bottom": null,
            "display": null,
            "flex": null,
            "flex_flow": null,
            "grid_area": null,
            "grid_auto_columns": null,
            "grid_auto_flow": null,
            "grid_auto_rows": null,
            "grid_column": null,
            "grid_gap": null,
            "grid_row": null,
            "grid_template_areas": null,
            "grid_template_columns": null,
            "grid_template_rows": null,
            "height": null,
            "justify_content": null,
            "justify_items": null,
            "left": null,
            "margin": null,
            "max_height": null,
            "max_width": null,
            "min_height": null,
            "min_width": null,
            "object_fit": null,
            "object_position": null,
            "order": null,
            "overflow": null,
            "overflow_x": null,
            "overflow_y": null,
            "padding": null,
            "right": null,
            "top": null,
            "visibility": null,
            "width": null
          }
        },
        "60708669f6a14e3ab06589b63abd5712": {
          "model_module": "@jupyter-widgets/controls",
          "model_name": "DescriptionStyleModel",
          "model_module_version": "1.5.0",
          "state": {
            "_model_module": "@jupyter-widgets/controls",
            "_model_module_version": "1.5.0",
            "_model_name": "DescriptionStyleModel",
            "_view_count": null,
            "_view_module": "@jupyter-widgets/base",
            "_view_module_version": "1.2.0",
            "_view_name": "StyleView",
            "description_width": ""
          }
        },
        "80d37fda276e416b8f369d6d21bf73a2": {
          "model_module": "@jupyter-widgets/controls",
          "model_name": "HBoxModel",
          "model_module_version": "1.5.0",
          "state": {
            "_dom_classes": [],
            "_model_module": "@jupyter-widgets/controls",
            "_model_module_version": "1.5.0",
            "_model_name": "HBoxModel",
            "_view_count": null,
            "_view_module": "@jupyter-widgets/controls",
            "_view_module_version": "1.5.0",
            "_view_name": "HBoxView",
            "box_style": "",
            "children": [
              "IPY_MODEL_457714a161f14ad3a71e4b37eb5c89e5",
              "IPY_MODEL_28570b56050e4ca5b874e33de32cc3a1",
              "IPY_MODEL_b02cf2cb4c624884b187331de262c928"
            ],
            "layout": "IPY_MODEL_00a42f77cc364859af07fb9e235b7c28"
          }
        },
        "457714a161f14ad3a71e4b37eb5c89e5": {
          "model_module": "@jupyter-widgets/controls",
          "model_name": "HTMLModel",
          "model_module_version": "1.5.0",
          "state": {
            "_dom_classes": [],
            "_model_module": "@jupyter-widgets/controls",
            "_model_module_version": "1.5.0",
            "_model_name": "HTMLModel",
            "_view_count": null,
            "_view_module": "@jupyter-widgets/controls",
            "_view_module_version": "1.5.0",
            "_view_name": "HTMLView",
            "description": "",
            "description_tooltip": null,
            "layout": "IPY_MODEL_2e410a2eaf874426807685f6c2d1f949",
            "placeholder": "​",
            "style": "IPY_MODEL_6903965ae3844e84948c8fa431d59c6f",
            "value": "merges.txt: 100%"
          }
        },
        "28570b56050e4ca5b874e33de32cc3a1": {
          "model_module": "@jupyter-widgets/controls",
          "model_name": "FloatProgressModel",
          "model_module_version": "1.5.0",
          "state": {
            "_dom_classes": [],
            "_model_module": "@jupyter-widgets/controls",
            "_model_module_version": "1.5.0",
            "_model_name": "FloatProgressModel",
            "_view_count": null,
            "_view_module": "@jupyter-widgets/controls",
            "_view_module_version": "1.5.0",
            "_view_name": "ProgressView",
            "bar_style": "success",
            "description": "",
            "description_tooltip": null,
            "layout": "IPY_MODEL_c3fe1632faf4400d8bb7fdd5c5e28a75",
            "max": 456318,
            "min": 0,
            "orientation": "horizontal",
            "style": "IPY_MODEL_f4955eb94b6543ef84dadccf1883dc03",
            "value": 456318
          }
        },
        "b02cf2cb4c624884b187331de262c928": {
          "model_module": "@jupyter-widgets/controls",
          "model_name": "HTMLModel",
          "model_module_version": "1.5.0",
          "state": {
            "_dom_classes": [],
            "_model_module": "@jupyter-widgets/controls",
            "_model_module_version": "1.5.0",
            "_model_name": "HTMLModel",
            "_view_count": null,
            "_view_module": "@jupyter-widgets/controls",
            "_view_module_version": "1.5.0",
            "_view_name": "HTMLView",
            "description": "",
            "description_tooltip": null,
            "layout": "IPY_MODEL_6250bd1d2ae14320a2dd9179b53f44b9",
            "placeholder": "​",
            "style": "IPY_MODEL_539affb036334f808658dd65f264d358",
            "value": " 456k/456k [00:00&lt;00:00, 8.66MB/s]"
          }
        },
        "00a42f77cc364859af07fb9e235b7c28": {
          "model_module": "@jupyter-widgets/base",
          "model_name": "LayoutModel",
          "model_module_version": "1.2.0",
          "state": {
            "_model_module": "@jupyter-widgets/base",
            "_model_module_version": "1.2.0",
            "_model_name": "LayoutModel",
            "_view_count": null,
            "_view_module": "@jupyter-widgets/base",
            "_view_module_version": "1.2.0",
            "_view_name": "LayoutView",
            "align_content": null,
            "align_items": null,
            "align_self": null,
            "border": null,
            "bottom": null,
            "display": null,
            "flex": null,
            "flex_flow": null,
            "grid_area": null,
            "grid_auto_columns": null,
            "grid_auto_flow": null,
            "grid_auto_rows": null,
            "grid_column": null,
            "grid_gap": null,
            "grid_row": null,
            "grid_template_areas": null,
            "grid_template_columns": null,
            "grid_template_rows": null,
            "height": null,
            "justify_content": null,
            "justify_items": null,
            "left": null,
            "margin": null,
            "max_height": null,
            "max_width": null,
            "min_height": null,
            "min_width": null,
            "object_fit": null,
            "object_position": null,
            "order": null,
            "overflow": null,
            "overflow_x": null,
            "overflow_y": null,
            "padding": null,
            "right": null,
            "top": null,
            "visibility": null,
            "width": null
          }
        },
        "2e410a2eaf874426807685f6c2d1f949": {
          "model_module": "@jupyter-widgets/base",
          "model_name": "LayoutModel",
          "model_module_version": "1.2.0",
          "state": {
            "_model_module": "@jupyter-widgets/base",
            "_model_module_version": "1.2.0",
            "_model_name": "LayoutModel",
            "_view_count": null,
            "_view_module": "@jupyter-widgets/base",
            "_view_module_version": "1.2.0",
            "_view_name": "LayoutView",
            "align_content": null,
            "align_items": null,
            "align_self": null,
            "border": null,
            "bottom": null,
            "display": null,
            "flex": null,
            "flex_flow": null,
            "grid_area": null,
            "grid_auto_columns": null,
            "grid_auto_flow": null,
            "grid_auto_rows": null,
            "grid_column": null,
            "grid_gap": null,
            "grid_row": null,
            "grid_template_areas": null,
            "grid_template_columns": null,
            "grid_template_rows": null,
            "height": null,
            "justify_content": null,
            "justify_items": null,
            "left": null,
            "margin": null,
            "max_height": null,
            "max_width": null,
            "min_height": null,
            "min_width": null,
            "object_fit": null,
            "object_position": null,
            "order": null,
            "overflow": null,
            "overflow_x": null,
            "overflow_y": null,
            "padding": null,
            "right": null,
            "top": null,
            "visibility": null,
            "width": null
          }
        },
        "6903965ae3844e84948c8fa431d59c6f": {
          "model_module": "@jupyter-widgets/controls",
          "model_name": "DescriptionStyleModel",
          "model_module_version": "1.5.0",
          "state": {
            "_model_module": "@jupyter-widgets/controls",
            "_model_module_version": "1.5.0",
            "_model_name": "DescriptionStyleModel",
            "_view_count": null,
            "_view_module": "@jupyter-widgets/base",
            "_view_module_version": "1.2.0",
            "_view_name": "StyleView",
            "description_width": ""
          }
        },
        "c3fe1632faf4400d8bb7fdd5c5e28a75": {
          "model_module": "@jupyter-widgets/base",
          "model_name": "LayoutModel",
          "model_module_version": "1.2.0",
          "state": {
            "_model_module": "@jupyter-widgets/base",
            "_model_module_version": "1.2.0",
            "_model_name": "LayoutModel",
            "_view_count": null,
            "_view_module": "@jupyter-widgets/base",
            "_view_module_version": "1.2.0",
            "_view_name": "LayoutView",
            "align_content": null,
            "align_items": null,
            "align_self": null,
            "border": null,
            "bottom": null,
            "display": null,
            "flex": null,
            "flex_flow": null,
            "grid_area": null,
            "grid_auto_columns": null,
            "grid_auto_flow": null,
            "grid_auto_rows": null,
            "grid_column": null,
            "grid_gap": null,
            "grid_row": null,
            "grid_template_areas": null,
            "grid_template_columns": null,
            "grid_template_rows": null,
            "height": null,
            "justify_content": null,
            "justify_items": null,
            "left": null,
            "margin": null,
            "max_height": null,
            "max_width": null,
            "min_height": null,
            "min_width": null,
            "object_fit": null,
            "object_position": null,
            "order": null,
            "overflow": null,
            "overflow_x": null,
            "overflow_y": null,
            "padding": null,
            "right": null,
            "top": null,
            "visibility": null,
            "width": null
          }
        },
        "f4955eb94b6543ef84dadccf1883dc03": {
          "model_module": "@jupyter-widgets/controls",
          "model_name": "ProgressStyleModel",
          "model_module_version": "1.5.0",
          "state": {
            "_model_module": "@jupyter-widgets/controls",
            "_model_module_version": "1.5.0",
            "_model_name": "ProgressStyleModel",
            "_view_count": null,
            "_view_module": "@jupyter-widgets/base",
            "_view_module_version": "1.2.0",
            "_view_name": "StyleView",
            "bar_color": null,
            "description_width": ""
          }
        },
        "6250bd1d2ae14320a2dd9179b53f44b9": {
          "model_module": "@jupyter-widgets/base",
          "model_name": "LayoutModel",
          "model_module_version": "1.2.0",
          "state": {
            "_model_module": "@jupyter-widgets/base",
            "_model_module_version": "1.2.0",
            "_model_name": "LayoutModel",
            "_view_count": null,
            "_view_module": "@jupyter-widgets/base",
            "_view_module_version": "1.2.0",
            "_view_name": "LayoutView",
            "align_content": null,
            "align_items": null,
            "align_self": null,
            "border": null,
            "bottom": null,
            "display": null,
            "flex": null,
            "flex_flow": null,
            "grid_area": null,
            "grid_auto_columns": null,
            "grid_auto_flow": null,
            "grid_auto_rows": null,
            "grid_column": null,
            "grid_gap": null,
            "grid_row": null,
            "grid_template_areas": null,
            "grid_template_columns": null,
            "grid_template_rows": null,
            "height": null,
            "justify_content": null,
            "justify_items": null,
            "left": null,
            "margin": null,
            "max_height": null,
            "max_width": null,
            "min_height": null,
            "min_width": null,
            "object_fit": null,
            "object_position": null,
            "order": null,
            "overflow": null,
            "overflow_x": null,
            "overflow_y": null,
            "padding": null,
            "right": null,
            "top": null,
            "visibility": null,
            "width": null
          }
        },
        "539affb036334f808658dd65f264d358": {
          "model_module": "@jupyter-widgets/controls",
          "model_name": "DescriptionStyleModel",
          "model_module_version": "1.5.0",
          "state": {
            "_model_module": "@jupyter-widgets/controls",
            "_model_module_version": "1.5.0",
            "_model_name": "DescriptionStyleModel",
            "_view_count": null,
            "_view_module": "@jupyter-widgets/base",
            "_view_module_version": "1.2.0",
            "_view_name": "StyleView",
            "description_width": ""
          }
        },
        "a4f0d1d1bfc44c26af9ace0feeeec51e": {
          "model_module": "@jupyter-widgets/controls",
          "model_name": "HBoxModel",
          "model_module_version": "1.5.0",
          "state": {
            "_dom_classes": [],
            "_model_module": "@jupyter-widgets/controls",
            "_model_module_version": "1.5.0",
            "_model_name": "HBoxModel",
            "_view_count": null,
            "_view_module": "@jupyter-widgets/controls",
            "_view_module_version": "1.5.0",
            "_view_name": "HBoxView",
            "box_style": "",
            "children": [
              "IPY_MODEL_0a36a3b3c06549bc94b6b2b5c872ffc6",
              "IPY_MODEL_f69a9139bce7417fbba5c7bde064eda7",
              "IPY_MODEL_ec7fdd60804448bfa7a0067f8452cdec"
            ],
            "layout": "IPY_MODEL_4380d0b9ebf84bdab493175ae4f23b83"
          }
        },
        "0a36a3b3c06549bc94b6b2b5c872ffc6": {
          "model_module": "@jupyter-widgets/controls",
          "model_name": "HTMLModel",
          "model_module_version": "1.5.0",
          "state": {
            "_dom_classes": [],
            "_model_module": "@jupyter-widgets/controls",
            "_model_module_version": "1.5.0",
            "_model_name": "HTMLModel",
            "_view_count": null,
            "_view_module": "@jupyter-widgets/controls",
            "_view_module_version": "1.5.0",
            "_view_name": "HTMLView",
            "description": "",
            "description_tooltip": null,
            "layout": "IPY_MODEL_6906dbf75ecc43ca9170078c454842f4",
            "placeholder": "​",
            "style": "IPY_MODEL_0efac6642fec4e339d08e9485d6a4cfa",
            "value": "tokenizer.json: 100%"
          }
        },
        "f69a9139bce7417fbba5c7bde064eda7": {
          "model_module": "@jupyter-widgets/controls",
          "model_name": "FloatProgressModel",
          "model_module_version": "1.5.0",
          "state": {
            "_dom_classes": [],
            "_model_module": "@jupyter-widgets/controls",
            "_model_module_version": "1.5.0",
            "_model_name": "FloatProgressModel",
            "_view_count": null,
            "_view_module": "@jupyter-widgets/controls",
            "_view_module_version": "1.5.0",
            "_view_name": "ProgressView",
            "bar_style": "success",
            "description": "",
            "description_tooltip": null,
            "layout": "IPY_MODEL_5d6f11944c31485b88e1a1f8d4fc0dcc",
            "max": 1355256,
            "min": 0,
            "orientation": "horizontal",
            "style": "IPY_MODEL_4eeefcc85b0a44048432ababb10948ed",
            "value": 1355256
          }
        },
        "ec7fdd60804448bfa7a0067f8452cdec": {
          "model_module": "@jupyter-widgets/controls",
          "model_name": "HTMLModel",
          "model_module_version": "1.5.0",
          "state": {
            "_dom_classes": [],
            "_model_module": "@jupyter-widgets/controls",
            "_model_module_version": "1.5.0",
            "_model_name": "HTMLModel",
            "_view_count": null,
            "_view_module": "@jupyter-widgets/controls",
            "_view_module_version": "1.5.0",
            "_view_name": "HTMLView",
            "description": "",
            "description_tooltip": null,
            "layout": "IPY_MODEL_8ca9f18f1ebf4e7f81a2b3a436fdefc3",
            "placeholder": "​",
            "style": "IPY_MODEL_6c38bda4bf7e42a990ec7d78a159d99a",
            "value": " 1.36M/1.36M [00:00&lt;00:00, 12.2MB/s]"
          }
        },
        "4380d0b9ebf84bdab493175ae4f23b83": {
          "model_module": "@jupyter-widgets/base",
          "model_name": "LayoutModel",
          "model_module_version": "1.2.0",
          "state": {
            "_model_module": "@jupyter-widgets/base",
            "_model_module_version": "1.2.0",
            "_model_name": "LayoutModel",
            "_view_count": null,
            "_view_module": "@jupyter-widgets/base",
            "_view_module_version": "1.2.0",
            "_view_name": "LayoutView",
            "align_content": null,
            "align_items": null,
            "align_self": null,
            "border": null,
            "bottom": null,
            "display": null,
            "flex": null,
            "flex_flow": null,
            "grid_area": null,
            "grid_auto_columns": null,
            "grid_auto_flow": null,
            "grid_auto_rows": null,
            "grid_column": null,
            "grid_gap": null,
            "grid_row": null,
            "grid_template_areas": null,
            "grid_template_columns": null,
            "grid_template_rows": null,
            "height": null,
            "justify_content": null,
            "justify_items": null,
            "left": null,
            "margin": null,
            "max_height": null,
            "max_width": null,
            "min_height": null,
            "min_width": null,
            "object_fit": null,
            "object_position": null,
            "order": null,
            "overflow": null,
            "overflow_x": null,
            "overflow_y": null,
            "padding": null,
            "right": null,
            "top": null,
            "visibility": null,
            "width": null
          }
        },
        "6906dbf75ecc43ca9170078c454842f4": {
          "model_module": "@jupyter-widgets/base",
          "model_name": "LayoutModel",
          "model_module_version": "1.2.0",
          "state": {
            "_model_module": "@jupyter-widgets/base",
            "_model_module_version": "1.2.0",
            "_model_name": "LayoutModel",
            "_view_count": null,
            "_view_module": "@jupyter-widgets/base",
            "_view_module_version": "1.2.0",
            "_view_name": "LayoutView",
            "align_content": null,
            "align_items": null,
            "align_self": null,
            "border": null,
            "bottom": null,
            "display": null,
            "flex": null,
            "flex_flow": null,
            "grid_area": null,
            "grid_auto_columns": null,
            "grid_auto_flow": null,
            "grid_auto_rows": null,
            "grid_column": null,
            "grid_gap": null,
            "grid_row": null,
            "grid_template_areas": null,
            "grid_template_columns": null,
            "grid_template_rows": null,
            "height": null,
            "justify_content": null,
            "justify_items": null,
            "left": null,
            "margin": null,
            "max_height": null,
            "max_width": null,
            "min_height": null,
            "min_width": null,
            "object_fit": null,
            "object_position": null,
            "order": null,
            "overflow": null,
            "overflow_x": null,
            "overflow_y": null,
            "padding": null,
            "right": null,
            "top": null,
            "visibility": null,
            "width": null
          }
        },
        "0efac6642fec4e339d08e9485d6a4cfa": {
          "model_module": "@jupyter-widgets/controls",
          "model_name": "DescriptionStyleModel",
          "model_module_version": "1.5.0",
          "state": {
            "_model_module": "@jupyter-widgets/controls",
            "_model_module_version": "1.5.0",
            "_model_name": "DescriptionStyleModel",
            "_view_count": null,
            "_view_module": "@jupyter-widgets/base",
            "_view_module_version": "1.2.0",
            "_view_name": "StyleView",
            "description_width": ""
          }
        },
        "5d6f11944c31485b88e1a1f8d4fc0dcc": {
          "model_module": "@jupyter-widgets/base",
          "model_name": "LayoutModel",
          "model_module_version": "1.2.0",
          "state": {
            "_model_module": "@jupyter-widgets/base",
            "_model_module_version": "1.2.0",
            "_model_name": "LayoutModel",
            "_view_count": null,
            "_view_module": "@jupyter-widgets/base",
            "_view_module_version": "1.2.0",
            "_view_name": "LayoutView",
            "align_content": null,
            "align_items": null,
            "align_self": null,
            "border": null,
            "bottom": null,
            "display": null,
            "flex": null,
            "flex_flow": null,
            "grid_area": null,
            "grid_auto_columns": null,
            "grid_auto_flow": null,
            "grid_auto_rows": null,
            "grid_column": null,
            "grid_gap": null,
            "grid_row": null,
            "grid_template_areas": null,
            "grid_template_columns": null,
            "grid_template_rows": null,
            "height": null,
            "justify_content": null,
            "justify_items": null,
            "left": null,
            "margin": null,
            "max_height": null,
            "max_width": null,
            "min_height": null,
            "min_width": null,
            "object_fit": null,
            "object_position": null,
            "order": null,
            "overflow": null,
            "overflow_x": null,
            "overflow_y": null,
            "padding": null,
            "right": null,
            "top": null,
            "visibility": null,
            "width": null
          }
        },
        "4eeefcc85b0a44048432ababb10948ed": {
          "model_module": "@jupyter-widgets/controls",
          "model_name": "ProgressStyleModel",
          "model_module_version": "1.5.0",
          "state": {
            "_model_module": "@jupyter-widgets/controls",
            "_model_module_version": "1.5.0",
            "_model_name": "ProgressStyleModel",
            "_view_count": null,
            "_view_module": "@jupyter-widgets/base",
            "_view_module_version": "1.2.0",
            "_view_name": "StyleView",
            "bar_color": null,
            "description_width": ""
          }
        },
        "8ca9f18f1ebf4e7f81a2b3a436fdefc3": {
          "model_module": "@jupyter-widgets/base",
          "model_name": "LayoutModel",
          "model_module_version": "1.2.0",
          "state": {
            "_model_module": "@jupyter-widgets/base",
            "_model_module_version": "1.2.0",
            "_model_name": "LayoutModel",
            "_view_count": null,
            "_view_module": "@jupyter-widgets/base",
            "_view_module_version": "1.2.0",
            "_view_name": "LayoutView",
            "align_content": null,
            "align_items": null,
            "align_self": null,
            "border": null,
            "bottom": null,
            "display": null,
            "flex": null,
            "flex_flow": null,
            "grid_area": null,
            "grid_auto_columns": null,
            "grid_auto_flow": null,
            "grid_auto_rows": null,
            "grid_column": null,
            "grid_gap": null,
            "grid_row": null,
            "grid_template_areas": null,
            "grid_template_columns": null,
            "grid_template_rows": null,
            "height": null,
            "justify_content": null,
            "justify_items": null,
            "left": null,
            "margin": null,
            "max_height": null,
            "max_width": null,
            "min_height": null,
            "min_width": null,
            "object_fit": null,
            "object_position": null,
            "order": null,
            "overflow": null,
            "overflow_x": null,
            "overflow_y": null,
            "padding": null,
            "right": null,
            "top": null,
            "visibility": null,
            "width": null
          }
        },
        "6c38bda4bf7e42a990ec7d78a159d99a": {
          "model_module": "@jupyter-widgets/controls",
          "model_name": "DescriptionStyleModel",
          "model_module_version": "1.5.0",
          "state": {
            "_model_module": "@jupyter-widgets/controls",
            "_model_module_version": "1.5.0",
            "_model_name": "DescriptionStyleModel",
            "_view_count": null,
            "_view_module": "@jupyter-widgets/base",
            "_view_module_version": "1.2.0",
            "_view_name": "StyleView",
            "description_width": ""
          }
        },
        "27e1db4633734425b2abe9bf62483dec": {
          "model_module": "@jupyter-widgets/controls",
          "model_name": "HBoxModel",
          "model_module_version": "1.5.0",
          "state": {
            "_dom_classes": [],
            "_model_module": "@jupyter-widgets/controls",
            "_model_module_version": "1.5.0",
            "_model_name": "HBoxModel",
            "_view_count": null,
            "_view_module": "@jupyter-widgets/controls",
            "_view_module_version": "1.5.0",
            "_view_name": "HBoxView",
            "box_style": "",
            "children": [
              "IPY_MODEL_a249cd20a1114ac4875b62ef0f560504",
              "IPY_MODEL_a12cea7b280548cab9916ef484c2e6ec",
              "IPY_MODEL_d9c6995ed2994d50ba0209b6c27a9ee4"
            ],
            "layout": "IPY_MODEL_6706c7ecf3ca4dbb9c7128b0c8ab1cde"
          }
        },
        "a249cd20a1114ac4875b62ef0f560504": {
          "model_module": "@jupyter-widgets/controls",
          "model_name": "HTMLModel",
          "model_module_version": "1.5.0",
          "state": {
            "_dom_classes": [],
            "_model_module": "@jupyter-widgets/controls",
            "_model_module_version": "1.5.0",
            "_model_name": "HTMLModel",
            "_view_count": null,
            "_view_module": "@jupyter-widgets/controls",
            "_view_module_version": "1.5.0",
            "_view_name": "HTMLView",
            "description": "",
            "description_tooltip": null,
            "layout": "IPY_MODEL_54c07863d1754f8484fc508fcccc16fd",
            "placeholder": "​",
            "style": "IPY_MODEL_5cca1652cd534f9da25b2f67d81f66db",
            "value": "config.json: 100%"
          }
        },
        "a12cea7b280548cab9916ef484c2e6ec": {
          "model_module": "@jupyter-widgets/controls",
          "model_name": "FloatProgressModel",
          "model_module_version": "1.5.0",
          "state": {
            "_dom_classes": [],
            "_model_module": "@jupyter-widgets/controls",
            "_model_module_version": "1.5.0",
            "_model_name": "FloatProgressModel",
            "_view_count": null,
            "_view_module": "@jupyter-widgets/controls",
            "_view_module_version": "1.5.0",
            "_view_name": "ProgressView",
            "bar_style": "success",
            "description": "",
            "description_tooltip": null,
            "layout": "IPY_MODEL_dab0f41a54ac4318bfb269e0721df91e",
            "max": 665,
            "min": 0,
            "orientation": "horizontal",
            "style": "IPY_MODEL_3bfa897958ad4d16bd18c1af1a16a6b2",
            "value": 665
          }
        },
        "d9c6995ed2994d50ba0209b6c27a9ee4": {
          "model_module": "@jupyter-widgets/controls",
          "model_name": "HTMLModel",
          "model_module_version": "1.5.0",
          "state": {
            "_dom_classes": [],
            "_model_module": "@jupyter-widgets/controls",
            "_model_module_version": "1.5.0",
            "_model_name": "HTMLModel",
            "_view_count": null,
            "_view_module": "@jupyter-widgets/controls",
            "_view_module_version": "1.5.0",
            "_view_name": "HTMLView",
            "description": "",
            "description_tooltip": null,
            "layout": "IPY_MODEL_18693fe7f0954cf8bb6a1de3f87d799e",
            "placeholder": "​",
            "style": "IPY_MODEL_b20b6168ff084a3888fc2957f1c77351",
            "value": " 665/665 [00:00&lt;00:00, 11.4kB/s]"
          }
        },
        "6706c7ecf3ca4dbb9c7128b0c8ab1cde": {
          "model_module": "@jupyter-widgets/base",
          "model_name": "LayoutModel",
          "model_module_version": "1.2.0",
          "state": {
            "_model_module": "@jupyter-widgets/base",
            "_model_module_version": "1.2.0",
            "_model_name": "LayoutModel",
            "_view_count": null,
            "_view_module": "@jupyter-widgets/base",
            "_view_module_version": "1.2.0",
            "_view_name": "LayoutView",
            "align_content": null,
            "align_items": null,
            "align_self": null,
            "border": null,
            "bottom": null,
            "display": null,
            "flex": null,
            "flex_flow": null,
            "grid_area": null,
            "grid_auto_columns": null,
            "grid_auto_flow": null,
            "grid_auto_rows": null,
            "grid_column": null,
            "grid_gap": null,
            "grid_row": null,
            "grid_template_areas": null,
            "grid_template_columns": null,
            "grid_template_rows": null,
            "height": null,
            "justify_content": null,
            "justify_items": null,
            "left": null,
            "margin": null,
            "max_height": null,
            "max_width": null,
            "min_height": null,
            "min_width": null,
            "object_fit": null,
            "object_position": null,
            "order": null,
            "overflow": null,
            "overflow_x": null,
            "overflow_y": null,
            "padding": null,
            "right": null,
            "top": null,
            "visibility": null,
            "width": null
          }
        },
        "54c07863d1754f8484fc508fcccc16fd": {
          "model_module": "@jupyter-widgets/base",
          "model_name": "LayoutModel",
          "model_module_version": "1.2.0",
          "state": {
            "_model_module": "@jupyter-widgets/base",
            "_model_module_version": "1.2.0",
            "_model_name": "LayoutModel",
            "_view_count": null,
            "_view_module": "@jupyter-widgets/base",
            "_view_module_version": "1.2.0",
            "_view_name": "LayoutView",
            "align_content": null,
            "align_items": null,
            "align_self": null,
            "border": null,
            "bottom": null,
            "display": null,
            "flex": null,
            "flex_flow": null,
            "grid_area": null,
            "grid_auto_columns": null,
            "grid_auto_flow": null,
            "grid_auto_rows": null,
            "grid_column": null,
            "grid_gap": null,
            "grid_row": null,
            "grid_template_areas": null,
            "grid_template_columns": null,
            "grid_template_rows": null,
            "height": null,
            "justify_content": null,
            "justify_items": null,
            "left": null,
            "margin": null,
            "max_height": null,
            "max_width": null,
            "min_height": null,
            "min_width": null,
            "object_fit": null,
            "object_position": null,
            "order": null,
            "overflow": null,
            "overflow_x": null,
            "overflow_y": null,
            "padding": null,
            "right": null,
            "top": null,
            "visibility": null,
            "width": null
          }
        },
        "5cca1652cd534f9da25b2f67d81f66db": {
          "model_module": "@jupyter-widgets/controls",
          "model_name": "DescriptionStyleModel",
          "model_module_version": "1.5.0",
          "state": {
            "_model_module": "@jupyter-widgets/controls",
            "_model_module_version": "1.5.0",
            "_model_name": "DescriptionStyleModel",
            "_view_count": null,
            "_view_module": "@jupyter-widgets/base",
            "_view_module_version": "1.2.0",
            "_view_name": "StyleView",
            "description_width": ""
          }
        },
        "dab0f41a54ac4318bfb269e0721df91e": {
          "model_module": "@jupyter-widgets/base",
          "model_name": "LayoutModel",
          "model_module_version": "1.2.0",
          "state": {
            "_model_module": "@jupyter-widgets/base",
            "_model_module_version": "1.2.0",
            "_model_name": "LayoutModel",
            "_view_count": null,
            "_view_module": "@jupyter-widgets/base",
            "_view_module_version": "1.2.0",
            "_view_name": "LayoutView",
            "align_content": null,
            "align_items": null,
            "align_self": null,
            "border": null,
            "bottom": null,
            "display": null,
            "flex": null,
            "flex_flow": null,
            "grid_area": null,
            "grid_auto_columns": null,
            "grid_auto_flow": null,
            "grid_auto_rows": null,
            "grid_column": null,
            "grid_gap": null,
            "grid_row": null,
            "grid_template_areas": null,
            "grid_template_columns": null,
            "grid_template_rows": null,
            "height": null,
            "justify_content": null,
            "justify_items": null,
            "left": null,
            "margin": null,
            "max_height": null,
            "max_width": null,
            "min_height": null,
            "min_width": null,
            "object_fit": null,
            "object_position": null,
            "order": null,
            "overflow": null,
            "overflow_x": null,
            "overflow_y": null,
            "padding": null,
            "right": null,
            "top": null,
            "visibility": null,
            "width": null
          }
        },
        "3bfa897958ad4d16bd18c1af1a16a6b2": {
          "model_module": "@jupyter-widgets/controls",
          "model_name": "ProgressStyleModel",
          "model_module_version": "1.5.0",
          "state": {
            "_model_module": "@jupyter-widgets/controls",
            "_model_module_version": "1.5.0",
            "_model_name": "ProgressStyleModel",
            "_view_count": null,
            "_view_module": "@jupyter-widgets/base",
            "_view_module_version": "1.2.0",
            "_view_name": "StyleView",
            "bar_color": null,
            "description_width": ""
          }
        },
        "18693fe7f0954cf8bb6a1de3f87d799e": {
          "model_module": "@jupyter-widgets/base",
          "model_name": "LayoutModel",
          "model_module_version": "1.2.0",
          "state": {
            "_model_module": "@jupyter-widgets/base",
            "_model_module_version": "1.2.0",
            "_model_name": "LayoutModel",
            "_view_count": null,
            "_view_module": "@jupyter-widgets/base",
            "_view_module_version": "1.2.0",
            "_view_name": "LayoutView",
            "align_content": null,
            "align_items": null,
            "align_self": null,
            "border": null,
            "bottom": null,
            "display": null,
            "flex": null,
            "flex_flow": null,
            "grid_area": null,
            "grid_auto_columns": null,
            "grid_auto_flow": null,
            "grid_auto_rows": null,
            "grid_column": null,
            "grid_gap": null,
            "grid_row": null,
            "grid_template_areas": null,
            "grid_template_columns": null,
            "grid_template_rows": null,
            "height": null,
            "justify_content": null,
            "justify_items": null,
            "left": null,
            "margin": null,
            "max_height": null,
            "max_width": null,
            "min_height": null,
            "min_width": null,
            "object_fit": null,
            "object_position": null,
            "order": null,
            "overflow": null,
            "overflow_x": null,
            "overflow_y": null,
            "padding": null,
            "right": null,
            "top": null,
            "visibility": null,
            "width": null
          }
        },
        "b20b6168ff084a3888fc2957f1c77351": {
          "model_module": "@jupyter-widgets/controls",
          "model_name": "DescriptionStyleModel",
          "model_module_version": "1.5.0",
          "state": {
            "_model_module": "@jupyter-widgets/controls",
            "_model_module_version": "1.5.0",
            "_model_name": "DescriptionStyleModel",
            "_view_count": null,
            "_view_module": "@jupyter-widgets/base",
            "_view_module_version": "1.2.0",
            "_view_name": "StyleView",
            "description_width": ""
          }
        },
        "fcdb3e6d3f3f4cfbbe704313680d8a28": {
          "model_module": "@jupyter-widgets/controls",
          "model_name": "HBoxModel",
          "model_module_version": "1.5.0",
          "state": {
            "_dom_classes": [],
            "_model_module": "@jupyter-widgets/controls",
            "_model_module_version": "1.5.0",
            "_model_name": "HBoxModel",
            "_view_count": null,
            "_view_module": "@jupyter-widgets/controls",
            "_view_module_version": "1.5.0",
            "_view_name": "HBoxView",
            "box_style": "",
            "children": [
              "IPY_MODEL_d0a73c022bb749048f5880cc720bc860",
              "IPY_MODEL_f57b3be18c504044a977b0e9c0d8a280",
              "IPY_MODEL_f1d3cb46258a43228903b803e1ba5256"
            ],
            "layout": "IPY_MODEL_566031977cfd46a594eddd9a36658321"
          }
        },
        "d0a73c022bb749048f5880cc720bc860": {
          "model_module": "@jupyter-widgets/controls",
          "model_name": "HTMLModel",
          "model_module_version": "1.5.0",
          "state": {
            "_dom_classes": [],
            "_model_module": "@jupyter-widgets/controls",
            "_model_module_version": "1.5.0",
            "_model_name": "HTMLModel",
            "_view_count": null,
            "_view_module": "@jupyter-widgets/controls",
            "_view_module_version": "1.5.0",
            "_view_name": "HTMLView",
            "description": "",
            "description_tooltip": null,
            "layout": "IPY_MODEL_0273df3feba541a3bc589b5f41bda340",
            "placeholder": "​",
            "style": "IPY_MODEL_6e1ffb45de2c4f6898c0d588214c9c19",
            "value": "model.safetensors: 100%"
          }
        },
        "f57b3be18c504044a977b0e9c0d8a280": {
          "model_module": "@jupyter-widgets/controls",
          "model_name": "FloatProgressModel",
          "model_module_version": "1.5.0",
          "state": {
            "_dom_classes": [],
            "_model_module": "@jupyter-widgets/controls",
            "_model_module_version": "1.5.0",
            "_model_name": "FloatProgressModel",
            "_view_count": null,
            "_view_module": "@jupyter-widgets/controls",
            "_view_module_version": "1.5.0",
            "_view_name": "ProgressView",
            "bar_style": "success",
            "description": "",
            "description_tooltip": null,
            "layout": "IPY_MODEL_2f0f1cdae50f47e1bceca956e083e2c2",
            "max": 548105171,
            "min": 0,
            "orientation": "horizontal",
            "style": "IPY_MODEL_c9fac6d427744c6d91c63db955773452",
            "value": 548105171
          }
        },
        "f1d3cb46258a43228903b803e1ba5256": {
          "model_module": "@jupyter-widgets/controls",
          "model_name": "HTMLModel",
          "model_module_version": "1.5.0",
          "state": {
            "_dom_classes": [],
            "_model_module": "@jupyter-widgets/controls",
            "_model_module_version": "1.5.0",
            "_model_name": "HTMLModel",
            "_view_count": null,
            "_view_module": "@jupyter-widgets/controls",
            "_view_module_version": "1.5.0",
            "_view_name": "HTMLView",
            "description": "",
            "description_tooltip": null,
            "layout": "IPY_MODEL_98a932c1c8b247ca9408596344c073c5",
            "placeholder": "​",
            "style": "IPY_MODEL_ed86af6905d4461fa77487b9d5da7617",
            "value": " 548M/548M [00:07&lt;00:00, 92.8MB/s]"
          }
        },
        "566031977cfd46a594eddd9a36658321": {
          "model_module": "@jupyter-widgets/base",
          "model_name": "LayoutModel",
          "model_module_version": "1.2.0",
          "state": {
            "_model_module": "@jupyter-widgets/base",
            "_model_module_version": "1.2.0",
            "_model_name": "LayoutModel",
            "_view_count": null,
            "_view_module": "@jupyter-widgets/base",
            "_view_module_version": "1.2.0",
            "_view_name": "LayoutView",
            "align_content": null,
            "align_items": null,
            "align_self": null,
            "border": null,
            "bottom": null,
            "display": null,
            "flex": null,
            "flex_flow": null,
            "grid_area": null,
            "grid_auto_columns": null,
            "grid_auto_flow": null,
            "grid_auto_rows": null,
            "grid_column": null,
            "grid_gap": null,
            "grid_row": null,
            "grid_template_areas": null,
            "grid_template_columns": null,
            "grid_template_rows": null,
            "height": null,
            "justify_content": null,
            "justify_items": null,
            "left": null,
            "margin": null,
            "max_height": null,
            "max_width": null,
            "min_height": null,
            "min_width": null,
            "object_fit": null,
            "object_position": null,
            "order": null,
            "overflow": null,
            "overflow_x": null,
            "overflow_y": null,
            "padding": null,
            "right": null,
            "top": null,
            "visibility": null,
            "width": null
          }
        },
        "0273df3feba541a3bc589b5f41bda340": {
          "model_module": "@jupyter-widgets/base",
          "model_name": "LayoutModel",
          "model_module_version": "1.2.0",
          "state": {
            "_model_module": "@jupyter-widgets/base",
            "_model_module_version": "1.2.0",
            "_model_name": "LayoutModel",
            "_view_count": null,
            "_view_module": "@jupyter-widgets/base",
            "_view_module_version": "1.2.0",
            "_view_name": "LayoutView",
            "align_content": null,
            "align_items": null,
            "align_self": null,
            "border": null,
            "bottom": null,
            "display": null,
            "flex": null,
            "flex_flow": null,
            "grid_area": null,
            "grid_auto_columns": null,
            "grid_auto_flow": null,
            "grid_auto_rows": null,
            "grid_column": null,
            "grid_gap": null,
            "grid_row": null,
            "grid_template_areas": null,
            "grid_template_columns": null,
            "grid_template_rows": null,
            "height": null,
            "justify_content": null,
            "justify_items": null,
            "left": null,
            "margin": null,
            "max_height": null,
            "max_width": null,
            "min_height": null,
            "min_width": null,
            "object_fit": null,
            "object_position": null,
            "order": null,
            "overflow": null,
            "overflow_x": null,
            "overflow_y": null,
            "padding": null,
            "right": null,
            "top": null,
            "visibility": null,
            "width": null
          }
        },
        "6e1ffb45de2c4f6898c0d588214c9c19": {
          "model_module": "@jupyter-widgets/controls",
          "model_name": "DescriptionStyleModel",
          "model_module_version": "1.5.0",
          "state": {
            "_model_module": "@jupyter-widgets/controls",
            "_model_module_version": "1.5.0",
            "_model_name": "DescriptionStyleModel",
            "_view_count": null,
            "_view_module": "@jupyter-widgets/base",
            "_view_module_version": "1.2.0",
            "_view_name": "StyleView",
            "description_width": ""
          }
        },
        "2f0f1cdae50f47e1bceca956e083e2c2": {
          "model_module": "@jupyter-widgets/base",
          "model_name": "LayoutModel",
          "model_module_version": "1.2.0",
          "state": {
            "_model_module": "@jupyter-widgets/base",
            "_model_module_version": "1.2.0",
            "_model_name": "LayoutModel",
            "_view_count": null,
            "_view_module": "@jupyter-widgets/base",
            "_view_module_version": "1.2.0",
            "_view_name": "LayoutView",
            "align_content": null,
            "align_items": null,
            "align_self": null,
            "border": null,
            "bottom": null,
            "display": null,
            "flex": null,
            "flex_flow": null,
            "grid_area": null,
            "grid_auto_columns": null,
            "grid_auto_flow": null,
            "grid_auto_rows": null,
            "grid_column": null,
            "grid_gap": null,
            "grid_row": null,
            "grid_template_areas": null,
            "grid_template_columns": null,
            "grid_template_rows": null,
            "height": null,
            "justify_content": null,
            "justify_items": null,
            "left": null,
            "margin": null,
            "max_height": null,
            "max_width": null,
            "min_height": null,
            "min_width": null,
            "object_fit": null,
            "object_position": null,
            "order": null,
            "overflow": null,
            "overflow_x": null,
            "overflow_y": null,
            "padding": null,
            "right": null,
            "top": null,
            "visibility": null,
            "width": null
          }
        },
        "c9fac6d427744c6d91c63db955773452": {
          "model_module": "@jupyter-widgets/controls",
          "model_name": "ProgressStyleModel",
          "model_module_version": "1.5.0",
          "state": {
            "_model_module": "@jupyter-widgets/controls",
            "_model_module_version": "1.5.0",
            "_model_name": "ProgressStyleModel",
            "_view_count": null,
            "_view_module": "@jupyter-widgets/base",
            "_view_module_version": "1.2.0",
            "_view_name": "StyleView",
            "bar_color": null,
            "description_width": ""
          }
        },
        "98a932c1c8b247ca9408596344c073c5": {
          "model_module": "@jupyter-widgets/base",
          "model_name": "LayoutModel",
          "model_module_version": "1.2.0",
          "state": {
            "_model_module": "@jupyter-widgets/base",
            "_model_module_version": "1.2.0",
            "_model_name": "LayoutModel",
            "_view_count": null,
            "_view_module": "@jupyter-widgets/base",
            "_view_module_version": "1.2.0",
            "_view_name": "LayoutView",
            "align_content": null,
            "align_items": null,
            "align_self": null,
            "border": null,
            "bottom": null,
            "display": null,
            "flex": null,
            "flex_flow": null,
            "grid_area": null,
            "grid_auto_columns": null,
            "grid_auto_flow": null,
            "grid_auto_rows": null,
            "grid_column": null,
            "grid_gap": null,
            "grid_row": null,
            "grid_template_areas": null,
            "grid_template_columns": null,
            "grid_template_rows": null,
            "height": null,
            "justify_content": null,
            "justify_items": null,
            "left": null,
            "margin": null,
            "max_height": null,
            "max_width": null,
            "min_height": null,
            "min_width": null,
            "object_fit": null,
            "object_position": null,
            "order": null,
            "overflow": null,
            "overflow_x": null,
            "overflow_y": null,
            "padding": null,
            "right": null,
            "top": null,
            "visibility": null,
            "width": null
          }
        },
        "ed86af6905d4461fa77487b9d5da7617": {
          "model_module": "@jupyter-widgets/controls",
          "model_name": "DescriptionStyleModel",
          "model_module_version": "1.5.0",
          "state": {
            "_model_module": "@jupyter-widgets/controls",
            "_model_module_version": "1.5.0",
            "_model_name": "DescriptionStyleModel",
            "_view_count": null,
            "_view_module": "@jupyter-widgets/base",
            "_view_module_version": "1.2.0",
            "_view_name": "StyleView",
            "description_width": ""
          }
        },
        "79d27e4db2e743838471d2d27d2d8348": {
          "model_module": "@jupyter-widgets/controls",
          "model_name": "HBoxModel",
          "model_module_version": "1.5.0",
          "state": {
            "_dom_classes": [],
            "_model_module": "@jupyter-widgets/controls",
            "_model_module_version": "1.5.0",
            "_model_name": "HBoxModel",
            "_view_count": null,
            "_view_module": "@jupyter-widgets/controls",
            "_view_module_version": "1.5.0",
            "_view_name": "HBoxView",
            "box_style": "",
            "children": [
              "IPY_MODEL_87dd631fbe984a0c8ee7c7d9261d84b8",
              "IPY_MODEL_3e272fbede454664bbc2f457d87ede84",
              "IPY_MODEL_fbfbdaaf28014f20a4145e8f5d56ddf7"
            ],
            "layout": "IPY_MODEL_57abdfc028d0493ba182e6ffc83edd01"
          }
        },
        "87dd631fbe984a0c8ee7c7d9261d84b8": {
          "model_module": "@jupyter-widgets/controls",
          "model_name": "HTMLModel",
          "model_module_version": "1.5.0",
          "state": {
            "_dom_classes": [],
            "_model_module": "@jupyter-widgets/controls",
            "_model_module_version": "1.5.0",
            "_model_name": "HTMLModel",
            "_view_count": null,
            "_view_module": "@jupyter-widgets/controls",
            "_view_module_version": "1.5.0",
            "_view_name": "HTMLView",
            "description": "",
            "description_tooltip": null,
            "layout": "IPY_MODEL_af84924af89747728afc19c6e91caa31",
            "placeholder": "​",
            "style": "IPY_MODEL_927f260fde194adeafad4611dc7be694",
            "value": "generation_config.json: 100%"
          }
        },
        "3e272fbede454664bbc2f457d87ede84": {
          "model_module": "@jupyter-widgets/controls",
          "model_name": "FloatProgressModel",
          "model_module_version": "1.5.0",
          "state": {
            "_dom_classes": [],
            "_model_module": "@jupyter-widgets/controls",
            "_model_module_version": "1.5.0",
            "_model_name": "FloatProgressModel",
            "_view_count": null,
            "_view_module": "@jupyter-widgets/controls",
            "_view_module_version": "1.5.0",
            "_view_name": "ProgressView",
            "bar_style": "success",
            "description": "",
            "description_tooltip": null,
            "layout": "IPY_MODEL_0087d512a8734354a171c06123151d9d",
            "max": 124,
            "min": 0,
            "orientation": "horizontal",
            "style": "IPY_MODEL_080dc6d151f849fda3ed59d389c98836",
            "value": 124
          }
        },
        "fbfbdaaf28014f20a4145e8f5d56ddf7": {
          "model_module": "@jupyter-widgets/controls",
          "model_name": "HTMLModel",
          "model_module_version": "1.5.0",
          "state": {
            "_dom_classes": [],
            "_model_module": "@jupyter-widgets/controls",
            "_model_module_version": "1.5.0",
            "_model_name": "HTMLModel",
            "_view_count": null,
            "_view_module": "@jupyter-widgets/controls",
            "_view_module_version": "1.5.0",
            "_view_name": "HTMLView",
            "description": "",
            "description_tooltip": null,
            "layout": "IPY_MODEL_27896864b0744b99951681f59f8a86d7",
            "placeholder": "​",
            "style": "IPY_MODEL_e995c30856f144e1a2516d206679b560",
            "value": " 124/124 [00:00&lt;00:00, 2.13kB/s]"
          }
        },
        "57abdfc028d0493ba182e6ffc83edd01": {
          "model_module": "@jupyter-widgets/base",
          "model_name": "LayoutModel",
          "model_module_version": "1.2.0",
          "state": {
            "_model_module": "@jupyter-widgets/base",
            "_model_module_version": "1.2.0",
            "_model_name": "LayoutModel",
            "_view_count": null,
            "_view_module": "@jupyter-widgets/base",
            "_view_module_version": "1.2.0",
            "_view_name": "LayoutView",
            "align_content": null,
            "align_items": null,
            "align_self": null,
            "border": null,
            "bottom": null,
            "display": null,
            "flex": null,
            "flex_flow": null,
            "grid_area": null,
            "grid_auto_columns": null,
            "grid_auto_flow": null,
            "grid_auto_rows": null,
            "grid_column": null,
            "grid_gap": null,
            "grid_row": null,
            "grid_template_areas": null,
            "grid_template_columns": null,
            "grid_template_rows": null,
            "height": null,
            "justify_content": null,
            "justify_items": null,
            "left": null,
            "margin": null,
            "max_height": null,
            "max_width": null,
            "min_height": null,
            "min_width": null,
            "object_fit": null,
            "object_position": null,
            "order": null,
            "overflow": null,
            "overflow_x": null,
            "overflow_y": null,
            "padding": null,
            "right": null,
            "top": null,
            "visibility": null,
            "width": null
          }
        },
        "af84924af89747728afc19c6e91caa31": {
          "model_module": "@jupyter-widgets/base",
          "model_name": "LayoutModel",
          "model_module_version": "1.2.0",
          "state": {
            "_model_module": "@jupyter-widgets/base",
            "_model_module_version": "1.2.0",
            "_model_name": "LayoutModel",
            "_view_count": null,
            "_view_module": "@jupyter-widgets/base",
            "_view_module_version": "1.2.0",
            "_view_name": "LayoutView",
            "align_content": null,
            "align_items": null,
            "align_self": null,
            "border": null,
            "bottom": null,
            "display": null,
            "flex": null,
            "flex_flow": null,
            "grid_area": null,
            "grid_auto_columns": null,
            "grid_auto_flow": null,
            "grid_auto_rows": null,
            "grid_column": null,
            "grid_gap": null,
            "grid_row": null,
            "grid_template_areas": null,
            "grid_template_columns": null,
            "grid_template_rows": null,
            "height": null,
            "justify_content": null,
            "justify_items": null,
            "left": null,
            "margin": null,
            "max_height": null,
            "max_width": null,
            "min_height": null,
            "min_width": null,
            "object_fit": null,
            "object_position": null,
            "order": null,
            "overflow": null,
            "overflow_x": null,
            "overflow_y": null,
            "padding": null,
            "right": null,
            "top": null,
            "visibility": null,
            "width": null
          }
        },
        "927f260fde194adeafad4611dc7be694": {
          "model_module": "@jupyter-widgets/controls",
          "model_name": "DescriptionStyleModel",
          "model_module_version": "1.5.0",
          "state": {
            "_model_module": "@jupyter-widgets/controls",
            "_model_module_version": "1.5.0",
            "_model_name": "DescriptionStyleModel",
            "_view_count": null,
            "_view_module": "@jupyter-widgets/base",
            "_view_module_version": "1.2.0",
            "_view_name": "StyleView",
            "description_width": ""
          }
        },
        "0087d512a8734354a171c06123151d9d": {
          "model_module": "@jupyter-widgets/base",
          "model_name": "LayoutModel",
          "model_module_version": "1.2.0",
          "state": {
            "_model_module": "@jupyter-widgets/base",
            "_model_module_version": "1.2.0",
            "_model_name": "LayoutModel",
            "_view_count": null,
            "_view_module": "@jupyter-widgets/base",
            "_view_module_version": "1.2.0",
            "_view_name": "LayoutView",
            "align_content": null,
            "align_items": null,
            "align_self": null,
            "border": null,
            "bottom": null,
            "display": null,
            "flex": null,
            "flex_flow": null,
            "grid_area": null,
            "grid_auto_columns": null,
            "grid_auto_flow": null,
            "grid_auto_rows": null,
            "grid_column": null,
            "grid_gap": null,
            "grid_row": null,
            "grid_template_areas": null,
            "grid_template_columns": null,
            "grid_template_rows": null,
            "height": null,
            "justify_content": null,
            "justify_items": null,
            "left": null,
            "margin": null,
            "max_height": null,
            "max_width": null,
            "min_height": null,
            "min_width": null,
            "object_fit": null,
            "object_position": null,
            "order": null,
            "overflow": null,
            "overflow_x": null,
            "overflow_y": null,
            "padding": null,
            "right": null,
            "top": null,
            "visibility": null,
            "width": null
          }
        },
        "080dc6d151f849fda3ed59d389c98836": {
          "model_module": "@jupyter-widgets/controls",
          "model_name": "ProgressStyleModel",
          "model_module_version": "1.5.0",
          "state": {
            "_model_module": "@jupyter-widgets/controls",
            "_model_module_version": "1.5.0",
            "_model_name": "ProgressStyleModel",
            "_view_count": null,
            "_view_module": "@jupyter-widgets/base",
            "_view_module_version": "1.2.0",
            "_view_name": "StyleView",
            "bar_color": null,
            "description_width": ""
          }
        },
        "27896864b0744b99951681f59f8a86d7": {
          "model_module": "@jupyter-widgets/base",
          "model_name": "LayoutModel",
          "model_module_version": "1.2.0",
          "state": {
            "_model_module": "@jupyter-widgets/base",
            "_model_module_version": "1.2.0",
            "_model_name": "LayoutModel",
            "_view_count": null,
            "_view_module": "@jupyter-widgets/base",
            "_view_module_version": "1.2.0",
            "_view_name": "LayoutView",
            "align_content": null,
            "align_items": null,
            "align_self": null,
            "border": null,
            "bottom": null,
            "display": null,
            "flex": null,
            "flex_flow": null,
            "grid_area": null,
            "grid_auto_columns": null,
            "grid_auto_flow": null,
            "grid_auto_rows": null,
            "grid_column": null,
            "grid_gap": null,
            "grid_row": null,
            "grid_template_areas": null,
            "grid_template_columns": null,
            "grid_template_rows": null,
            "height": null,
            "justify_content": null,
            "justify_items": null,
            "left": null,
            "margin": null,
            "max_height": null,
            "max_width": null,
            "min_height": null,
            "min_width": null,
            "object_fit": null,
            "object_position": null,
            "order": null,
            "overflow": null,
            "overflow_x": null,
            "overflow_y": null,
            "padding": null,
            "right": null,
            "top": null,
            "visibility": null,
            "width": null
          }
        },
        "e995c30856f144e1a2516d206679b560": {
          "model_module": "@jupyter-widgets/controls",
          "model_name": "DescriptionStyleModel",
          "model_module_version": "1.5.0",
          "state": {
            "_model_module": "@jupyter-widgets/controls",
            "_model_module_version": "1.5.0",
            "_model_name": "DescriptionStyleModel",
            "_view_count": null,
            "_view_module": "@jupyter-widgets/base",
            "_view_module_version": "1.2.0",
            "_view_name": "StyleView",
            "description_width": ""
          }
        },
        "16363c371d2a4fe4a3c4c99407b71baa": {
          "model_module": "@jupyter-widgets/controls",
          "model_name": "HBoxModel",
          "model_module_version": "1.5.0",
          "state": {
            "_dom_classes": [],
            "_model_module": "@jupyter-widgets/controls",
            "_model_module_version": "1.5.0",
            "_model_name": "HBoxModel",
            "_view_count": null,
            "_view_module": "@jupyter-widgets/controls",
            "_view_module_version": "1.5.0",
            "_view_name": "HBoxView",
            "box_style": "",
            "children": [
              "IPY_MODEL_79469b09197c4e4e9022a3abe7a689a5",
              "IPY_MODEL_3e322a93d4e540fc8afcdd650eb76aea",
              "IPY_MODEL_231340a1e28d415cb14500c68f20bb61"
            ],
            "layout": "IPY_MODEL_87c61ce677f14b3f82d6e139d2a7391f"
          }
        },
        "79469b09197c4e4e9022a3abe7a689a5": {
          "model_module": "@jupyter-widgets/controls",
          "model_name": "HTMLModel",
          "model_module_version": "1.5.0",
          "state": {
            "_dom_classes": [],
            "_model_module": "@jupyter-widgets/controls",
            "_model_module_version": "1.5.0",
            "_model_name": "HTMLModel",
            "_view_count": null,
            "_view_module": "@jupyter-widgets/controls",
            "_view_module_version": "1.5.0",
            "_view_name": "HTMLView",
            "description": "",
            "description_tooltip": null,
            "layout": "IPY_MODEL_93ab342a93564136b7ae39d2bcd47a50",
            "placeholder": "​",
            "style": "IPY_MODEL_25a80e7efc8b4b99894d7ef99a9ba1f0",
            "value": "tokenizer_config.json: 100%"
          }
        },
        "3e322a93d4e540fc8afcdd650eb76aea": {
          "model_module": "@jupyter-widgets/controls",
          "model_name": "FloatProgressModel",
          "model_module_version": "1.5.0",
          "state": {
            "_dom_classes": [],
            "_model_module": "@jupyter-widgets/controls",
            "_model_module_version": "1.5.0",
            "_model_name": "FloatProgressModel",
            "_view_count": null,
            "_view_module": "@jupyter-widgets/controls",
            "_view_module_version": "1.5.0",
            "_view_name": "ProgressView",
            "bar_style": "success",
            "description": "",
            "description_tooltip": null,
            "layout": "IPY_MODEL_0f031b9104cd4afcad59b77c635578e0",
            "max": 382,
            "min": 0,
            "orientation": "horizontal",
            "style": "IPY_MODEL_04ac777e73d8451990fa1a64907da969",
            "value": 382
          }
        },
        "231340a1e28d415cb14500c68f20bb61": {
          "model_module": "@jupyter-widgets/controls",
          "model_name": "HTMLModel",
          "model_module_version": "1.5.0",
          "state": {
            "_dom_classes": [],
            "_model_module": "@jupyter-widgets/controls",
            "_model_module_version": "1.5.0",
            "_model_name": "HTMLModel",
            "_view_count": null,
            "_view_module": "@jupyter-widgets/controls",
            "_view_module_version": "1.5.0",
            "_view_name": "HTMLView",
            "description": "",
            "description_tooltip": null,
            "layout": "IPY_MODEL_a95ebecf28014e31b528e8c9e0692d27",
            "placeholder": "​",
            "style": "IPY_MODEL_5ceb09ad13ed4eca87b2f6d00f9a8ea5",
            "value": " 382/382 [00:00&lt;00:00, 6.13kB/s]"
          }
        },
        "87c61ce677f14b3f82d6e139d2a7391f": {
          "model_module": "@jupyter-widgets/base",
          "model_name": "LayoutModel",
          "model_module_version": "1.2.0",
          "state": {
            "_model_module": "@jupyter-widgets/base",
            "_model_module_version": "1.2.0",
            "_model_name": "LayoutModel",
            "_view_count": null,
            "_view_module": "@jupyter-widgets/base",
            "_view_module_version": "1.2.0",
            "_view_name": "LayoutView",
            "align_content": null,
            "align_items": null,
            "align_self": null,
            "border": null,
            "bottom": null,
            "display": null,
            "flex": null,
            "flex_flow": null,
            "grid_area": null,
            "grid_auto_columns": null,
            "grid_auto_flow": null,
            "grid_auto_rows": null,
            "grid_column": null,
            "grid_gap": null,
            "grid_row": null,
            "grid_template_areas": null,
            "grid_template_columns": null,
            "grid_template_rows": null,
            "height": null,
            "justify_content": null,
            "justify_items": null,
            "left": null,
            "margin": null,
            "max_height": null,
            "max_width": null,
            "min_height": null,
            "min_width": null,
            "object_fit": null,
            "object_position": null,
            "order": null,
            "overflow": null,
            "overflow_x": null,
            "overflow_y": null,
            "padding": null,
            "right": null,
            "top": null,
            "visibility": null,
            "width": null
          }
        },
        "93ab342a93564136b7ae39d2bcd47a50": {
          "model_module": "@jupyter-widgets/base",
          "model_name": "LayoutModel",
          "model_module_version": "1.2.0",
          "state": {
            "_model_module": "@jupyter-widgets/base",
            "_model_module_version": "1.2.0",
            "_model_name": "LayoutModel",
            "_view_count": null,
            "_view_module": "@jupyter-widgets/base",
            "_view_module_version": "1.2.0",
            "_view_name": "LayoutView",
            "align_content": null,
            "align_items": null,
            "align_self": null,
            "border": null,
            "bottom": null,
            "display": null,
            "flex": null,
            "flex_flow": null,
            "grid_area": null,
            "grid_auto_columns": null,
            "grid_auto_flow": null,
            "grid_auto_rows": null,
            "grid_column": null,
            "grid_gap": null,
            "grid_row": null,
            "grid_template_areas": null,
            "grid_template_columns": null,
            "grid_template_rows": null,
            "height": null,
            "justify_content": null,
            "justify_items": null,
            "left": null,
            "margin": null,
            "max_height": null,
            "max_width": null,
            "min_height": null,
            "min_width": null,
            "object_fit": null,
            "object_position": null,
            "order": null,
            "overflow": null,
            "overflow_x": null,
            "overflow_y": null,
            "padding": null,
            "right": null,
            "top": null,
            "visibility": null,
            "width": null
          }
        },
        "25a80e7efc8b4b99894d7ef99a9ba1f0": {
          "model_module": "@jupyter-widgets/controls",
          "model_name": "DescriptionStyleModel",
          "model_module_version": "1.5.0",
          "state": {
            "_model_module": "@jupyter-widgets/controls",
            "_model_module_version": "1.5.0",
            "_model_name": "DescriptionStyleModel",
            "_view_count": null,
            "_view_module": "@jupyter-widgets/base",
            "_view_module_version": "1.2.0",
            "_view_name": "StyleView",
            "description_width": ""
          }
        },
        "0f031b9104cd4afcad59b77c635578e0": {
          "model_module": "@jupyter-widgets/base",
          "model_name": "LayoutModel",
          "model_module_version": "1.2.0",
          "state": {
            "_model_module": "@jupyter-widgets/base",
            "_model_module_version": "1.2.0",
            "_model_name": "LayoutModel",
            "_view_count": null,
            "_view_module": "@jupyter-widgets/base",
            "_view_module_version": "1.2.0",
            "_view_name": "LayoutView",
            "align_content": null,
            "align_items": null,
            "align_self": null,
            "border": null,
            "bottom": null,
            "display": null,
            "flex": null,
            "flex_flow": null,
            "grid_area": null,
            "grid_auto_columns": null,
            "grid_auto_flow": null,
            "grid_auto_rows": null,
            "grid_column": null,
            "grid_gap": null,
            "grid_row": null,
            "grid_template_areas": null,
            "grid_template_columns": null,
            "grid_template_rows": null,
            "height": null,
            "justify_content": null,
            "justify_items": null,
            "left": null,
            "margin": null,
            "max_height": null,
            "max_width": null,
            "min_height": null,
            "min_width": null,
            "object_fit": null,
            "object_position": null,
            "order": null,
            "overflow": null,
            "overflow_x": null,
            "overflow_y": null,
            "padding": null,
            "right": null,
            "top": null,
            "visibility": null,
            "width": null
          }
        },
        "04ac777e73d8451990fa1a64907da969": {
          "model_module": "@jupyter-widgets/controls",
          "model_name": "ProgressStyleModel",
          "model_module_version": "1.5.0",
          "state": {
            "_model_module": "@jupyter-widgets/controls",
            "_model_module_version": "1.5.0",
            "_model_name": "ProgressStyleModel",
            "_view_count": null,
            "_view_module": "@jupyter-widgets/base",
            "_view_module_version": "1.2.0",
            "_view_name": "StyleView",
            "bar_color": null,
            "description_width": ""
          }
        },
        "a95ebecf28014e31b528e8c9e0692d27": {
          "model_module": "@jupyter-widgets/base",
          "model_name": "LayoutModel",
          "model_module_version": "1.2.0",
          "state": {
            "_model_module": "@jupyter-widgets/base",
            "_model_module_version": "1.2.0",
            "_model_name": "LayoutModel",
            "_view_count": null,
            "_view_module": "@jupyter-widgets/base",
            "_view_module_version": "1.2.0",
            "_view_name": "LayoutView",
            "align_content": null,
            "align_items": null,
            "align_self": null,
            "border": null,
            "bottom": null,
            "display": null,
            "flex": null,
            "flex_flow": null,
            "grid_area": null,
            "grid_auto_columns": null,
            "grid_auto_flow": null,
            "grid_auto_rows": null,
            "grid_column": null,
            "grid_gap": null,
            "grid_row": null,
            "grid_template_areas": null,
            "grid_template_columns": null,
            "grid_template_rows": null,
            "height": null,
            "justify_content": null,
            "justify_items": null,
            "left": null,
            "margin": null,
            "max_height": null,
            "max_width": null,
            "min_height": null,
            "min_width": null,
            "object_fit": null,
            "object_position": null,
            "order": null,
            "overflow": null,
            "overflow_x": null,
            "overflow_y": null,
            "padding": null,
            "right": null,
            "top": null,
            "visibility": null,
            "width": null
          }
        },
        "5ceb09ad13ed4eca87b2f6d00f9a8ea5": {
          "model_module": "@jupyter-widgets/controls",
          "model_name": "DescriptionStyleModel",
          "model_module_version": "1.5.0",
          "state": {
            "_model_module": "@jupyter-widgets/controls",
            "_model_module_version": "1.5.0",
            "_model_name": "DescriptionStyleModel",
            "_view_count": null,
            "_view_module": "@jupyter-widgets/base",
            "_view_module_version": "1.2.0",
            "_view_name": "StyleView",
            "description_width": ""
          }
        },
        "96271cd2507f465994d079b6b83a83d6": {
          "model_module": "@jupyter-widgets/controls",
          "model_name": "HBoxModel",
          "model_module_version": "1.5.0",
          "state": {
            "_dom_classes": [],
            "_model_module": "@jupyter-widgets/controls",
            "_model_module_version": "1.5.0",
            "_model_name": "HBoxModel",
            "_view_count": null,
            "_view_module": "@jupyter-widgets/controls",
            "_view_module_version": "1.5.0",
            "_view_name": "HBoxView",
            "box_style": "",
            "children": [
              "IPY_MODEL_25c034ff11a1439f8e848cd4a851f9c9",
              "IPY_MODEL_2264a775f2b34bcc8e025e0ebe68170d",
              "IPY_MODEL_f7325d22f2b64471b977ba35d88b5d77"
            ],
            "layout": "IPY_MODEL_6949d2fdbf6041ddb291878886592d7a"
          }
        },
        "25c034ff11a1439f8e848cd4a851f9c9": {
          "model_module": "@jupyter-widgets/controls",
          "model_name": "HTMLModel",
          "model_module_version": "1.5.0",
          "state": {
            "_dom_classes": [],
            "_model_module": "@jupyter-widgets/controls",
            "_model_module_version": "1.5.0",
            "_model_name": "HTMLModel",
            "_view_count": null,
            "_view_module": "@jupyter-widgets/controls",
            "_view_module_version": "1.5.0",
            "_view_name": "HTMLView",
            "description": "",
            "description_tooltip": null,
            "layout": "IPY_MODEL_7a5a89d5d2914ec5908915129724d92b",
            "placeholder": "​",
            "style": "IPY_MODEL_75e6b6b641d44412bd4d1920a4095277",
            "value": "config.json: 100%"
          }
        },
        "2264a775f2b34bcc8e025e0ebe68170d": {
          "model_module": "@jupyter-widgets/controls",
          "model_name": "FloatProgressModel",
          "model_module_version": "1.5.0",
          "state": {
            "_dom_classes": [],
            "_model_module": "@jupyter-widgets/controls",
            "_model_module_version": "1.5.0",
            "_model_name": "FloatProgressModel",
            "_view_count": null,
            "_view_module": "@jupyter-widgets/controls",
            "_view_module_version": "1.5.0",
            "_view_name": "ProgressView",
            "bar_style": "success",
            "description": "",
            "description_tooltip": null,
            "layout": "IPY_MODEL_eb0d6e1162244135b620cc77afc35cdc",
            "max": 385,
            "min": 0,
            "orientation": "horizontal",
            "style": "IPY_MODEL_c7e187e5977945b590128e56d62442d0",
            "value": 385
          }
        },
        "f7325d22f2b64471b977ba35d88b5d77": {
          "model_module": "@jupyter-widgets/controls",
          "model_name": "HTMLModel",
          "model_module_version": "1.5.0",
          "state": {
            "_dom_classes": [],
            "_model_module": "@jupyter-widgets/controls",
            "_model_module_version": "1.5.0",
            "_model_name": "HTMLModel",
            "_view_count": null,
            "_view_module": "@jupyter-widgets/controls",
            "_view_module_version": "1.5.0",
            "_view_name": "HTMLView",
            "description": "",
            "description_tooltip": null,
            "layout": "IPY_MODEL_b144f91122d145648b8cf50e043850b6",
            "placeholder": "​",
            "style": "IPY_MODEL_e5432479ce0a4540a087f19d659e86a7",
            "value": " 385/385 [00:00&lt;00:00, 8.01kB/s]"
          }
        },
        "6949d2fdbf6041ddb291878886592d7a": {
          "model_module": "@jupyter-widgets/base",
          "model_name": "LayoutModel",
          "model_module_version": "1.2.0",
          "state": {
            "_model_module": "@jupyter-widgets/base",
            "_model_module_version": "1.2.0",
            "_model_name": "LayoutModel",
            "_view_count": null,
            "_view_module": "@jupyter-widgets/base",
            "_view_module_version": "1.2.0",
            "_view_name": "LayoutView",
            "align_content": null,
            "align_items": null,
            "align_self": null,
            "border": null,
            "bottom": null,
            "display": null,
            "flex": null,
            "flex_flow": null,
            "grid_area": null,
            "grid_auto_columns": null,
            "grid_auto_flow": null,
            "grid_auto_rows": null,
            "grid_column": null,
            "grid_gap": null,
            "grid_row": null,
            "grid_template_areas": null,
            "grid_template_columns": null,
            "grid_template_rows": null,
            "height": null,
            "justify_content": null,
            "justify_items": null,
            "left": null,
            "margin": null,
            "max_height": null,
            "max_width": null,
            "min_height": null,
            "min_width": null,
            "object_fit": null,
            "object_position": null,
            "order": null,
            "overflow": null,
            "overflow_x": null,
            "overflow_y": null,
            "padding": null,
            "right": null,
            "top": null,
            "visibility": null,
            "width": null
          }
        },
        "7a5a89d5d2914ec5908915129724d92b": {
          "model_module": "@jupyter-widgets/base",
          "model_name": "LayoutModel",
          "model_module_version": "1.2.0",
          "state": {
            "_model_module": "@jupyter-widgets/base",
            "_model_module_version": "1.2.0",
            "_model_name": "LayoutModel",
            "_view_count": null,
            "_view_module": "@jupyter-widgets/base",
            "_view_module_version": "1.2.0",
            "_view_name": "LayoutView",
            "align_content": null,
            "align_items": null,
            "align_self": null,
            "border": null,
            "bottom": null,
            "display": null,
            "flex": null,
            "flex_flow": null,
            "grid_area": null,
            "grid_auto_columns": null,
            "grid_auto_flow": null,
            "grid_auto_rows": null,
            "grid_column": null,
            "grid_gap": null,
            "grid_row": null,
            "grid_template_areas": null,
            "grid_template_columns": null,
            "grid_template_rows": null,
            "height": null,
            "justify_content": null,
            "justify_items": null,
            "left": null,
            "margin": null,
            "max_height": null,
            "max_width": null,
            "min_height": null,
            "min_width": null,
            "object_fit": null,
            "object_position": null,
            "order": null,
            "overflow": null,
            "overflow_x": null,
            "overflow_y": null,
            "padding": null,
            "right": null,
            "top": null,
            "visibility": null,
            "width": null
          }
        },
        "75e6b6b641d44412bd4d1920a4095277": {
          "model_module": "@jupyter-widgets/controls",
          "model_name": "DescriptionStyleModel",
          "model_module_version": "1.5.0",
          "state": {
            "_model_module": "@jupyter-widgets/controls",
            "_model_module_version": "1.5.0",
            "_model_name": "DescriptionStyleModel",
            "_view_count": null,
            "_view_module": "@jupyter-widgets/base",
            "_view_module_version": "1.2.0",
            "_view_name": "StyleView",
            "description_width": ""
          }
        },
        "eb0d6e1162244135b620cc77afc35cdc": {
          "model_module": "@jupyter-widgets/base",
          "model_name": "LayoutModel",
          "model_module_version": "1.2.0",
          "state": {
            "_model_module": "@jupyter-widgets/base",
            "_model_module_version": "1.2.0",
            "_model_name": "LayoutModel",
            "_view_count": null,
            "_view_module": "@jupyter-widgets/base",
            "_view_module_version": "1.2.0",
            "_view_name": "LayoutView",
            "align_content": null,
            "align_items": null,
            "align_self": null,
            "border": null,
            "bottom": null,
            "display": null,
            "flex": null,
            "flex_flow": null,
            "grid_area": null,
            "grid_auto_columns": null,
            "grid_auto_flow": null,
            "grid_auto_rows": null,
            "grid_column": null,
            "grid_gap": null,
            "grid_row": null,
            "grid_template_areas": null,
            "grid_template_columns": null,
            "grid_template_rows": null,
            "height": null,
            "justify_content": null,
            "justify_items": null,
            "left": null,
            "margin": null,
            "max_height": null,
            "max_width": null,
            "min_height": null,
            "min_width": null,
            "object_fit": null,
            "object_position": null,
            "order": null,
            "overflow": null,
            "overflow_x": null,
            "overflow_y": null,
            "padding": null,
            "right": null,
            "top": null,
            "visibility": null,
            "width": null
          }
        },
        "c7e187e5977945b590128e56d62442d0": {
          "model_module": "@jupyter-widgets/controls",
          "model_name": "ProgressStyleModel",
          "model_module_version": "1.5.0",
          "state": {
            "_model_module": "@jupyter-widgets/controls",
            "_model_module_version": "1.5.0",
            "_model_name": "ProgressStyleModel",
            "_view_count": null,
            "_view_module": "@jupyter-widgets/base",
            "_view_module_version": "1.2.0",
            "_view_name": "StyleView",
            "bar_color": null,
            "description_width": ""
          }
        },
        "b144f91122d145648b8cf50e043850b6": {
          "model_module": "@jupyter-widgets/base",
          "model_name": "LayoutModel",
          "model_module_version": "1.2.0",
          "state": {
            "_model_module": "@jupyter-widgets/base",
            "_model_module_version": "1.2.0",
            "_model_name": "LayoutModel",
            "_view_count": null,
            "_view_module": "@jupyter-widgets/base",
            "_view_module_version": "1.2.0",
            "_view_name": "LayoutView",
            "align_content": null,
            "align_items": null,
            "align_self": null,
            "border": null,
            "bottom": null,
            "display": null,
            "flex": null,
            "flex_flow": null,
            "grid_area": null,
            "grid_auto_columns": null,
            "grid_auto_flow": null,
            "grid_auto_rows": null,
            "grid_column": null,
            "grid_gap": null,
            "grid_row": null,
            "grid_template_areas": null,
            "grid_template_columns": null,
            "grid_template_rows": null,
            "height": null,
            "justify_content": null,
            "justify_items": null,
            "left": null,
            "margin": null,
            "max_height": null,
            "max_width": null,
            "min_height": null,
            "min_width": null,
            "object_fit": null,
            "object_position": null,
            "order": null,
            "overflow": null,
            "overflow_x": null,
            "overflow_y": null,
            "padding": null,
            "right": null,
            "top": null,
            "visibility": null,
            "width": null
          }
        },
        "e5432479ce0a4540a087f19d659e86a7": {
          "model_module": "@jupyter-widgets/controls",
          "model_name": "DescriptionStyleModel",
          "model_module_version": "1.5.0",
          "state": {
            "_model_module": "@jupyter-widgets/controls",
            "_model_module_version": "1.5.0",
            "_model_name": "DescriptionStyleModel",
            "_view_count": null,
            "_view_module": "@jupyter-widgets/base",
            "_view_module_version": "1.2.0",
            "_view_name": "StyleView",
            "description_width": ""
          }
        },
        "8e8f13c23e45492eb043842fa78f6474": {
          "model_module": "@jupyter-widgets/controls",
          "model_name": "HBoxModel",
          "model_module_version": "1.5.0",
          "state": {
            "_dom_classes": [],
            "_model_module": "@jupyter-widgets/controls",
            "_model_module_version": "1.5.0",
            "_model_name": "HBoxModel",
            "_view_count": null,
            "_view_module": "@jupyter-widgets/controls",
            "_view_module_version": "1.5.0",
            "_view_name": "HBoxView",
            "box_style": "",
            "children": [
              "IPY_MODEL_863e0886bfc54ce6ba0c115d9926c9aa",
              "IPY_MODEL_63db52583de74a99b69ad95f18dd7127",
              "IPY_MODEL_5d8dd673da3d4829b8e08c61c631a122"
            ],
            "layout": "IPY_MODEL_71db29669d144bf78bb5107bcebb7838"
          }
        },
        "863e0886bfc54ce6ba0c115d9926c9aa": {
          "model_module": "@jupyter-widgets/controls",
          "model_name": "HTMLModel",
          "model_module_version": "1.5.0",
          "state": {
            "_dom_classes": [],
            "_model_module": "@jupyter-widgets/controls",
            "_model_module_version": "1.5.0",
            "_model_name": "HTMLModel",
            "_view_count": null,
            "_view_module": "@jupyter-widgets/controls",
            "_view_module_version": "1.5.0",
            "_view_name": "HTMLView",
            "description": "",
            "description_tooltip": null,
            "layout": "IPY_MODEL_38a3aeb323cc40af88dc9e37139d3c5f",
            "placeholder": "​",
            "style": "IPY_MODEL_b86c85a9f985400babb13398fe9ccfcc",
            "value": "vocab.txt: 100%"
          }
        },
        "63db52583de74a99b69ad95f18dd7127": {
          "model_module": "@jupyter-widgets/controls",
          "model_name": "FloatProgressModel",
          "model_module_version": "1.5.0",
          "state": {
            "_dom_classes": [],
            "_model_module": "@jupyter-widgets/controls",
            "_model_module_version": "1.5.0",
            "_model_name": "FloatProgressModel",
            "_view_count": null,
            "_view_module": "@jupyter-widgets/controls",
            "_view_module_version": "1.5.0",
            "_view_name": "ProgressView",
            "bar_style": "success",
            "description": "",
            "description_tooltip": null,
            "layout": "IPY_MODEL_f9b532b833254a1fa9e7c2f3a3f757dc",
            "max": 824793,
            "min": 0,
            "orientation": "horizontal",
            "style": "IPY_MODEL_e54e684b634345feacb81a3786ad2021",
            "value": 824793
          }
        },
        "5d8dd673da3d4829b8e08c61c631a122": {
          "model_module": "@jupyter-widgets/controls",
          "model_name": "HTMLModel",
          "model_module_version": "1.5.0",
          "state": {
            "_dom_classes": [],
            "_model_module": "@jupyter-widgets/controls",
            "_model_module_version": "1.5.0",
            "_model_name": "HTMLModel",
            "_view_count": null,
            "_view_module": "@jupyter-widgets/controls",
            "_view_module_version": "1.5.0",
            "_view_name": "HTMLView",
            "description": "",
            "description_tooltip": null,
            "layout": "IPY_MODEL_f044cc8511eb4dea9ccceb45c27e9c62",
            "placeholder": "​",
            "style": "IPY_MODEL_72fd6066ea524cefbd37c2ffe845f7d2",
            "value": " 825k/825k [00:00&lt;00:00, 3.48MB/s]"
          }
        },
        "71db29669d144bf78bb5107bcebb7838": {
          "model_module": "@jupyter-widgets/base",
          "model_name": "LayoutModel",
          "model_module_version": "1.2.0",
          "state": {
            "_model_module": "@jupyter-widgets/base",
            "_model_module_version": "1.2.0",
            "_model_name": "LayoutModel",
            "_view_count": null,
            "_view_module": "@jupyter-widgets/base",
            "_view_module_version": "1.2.0",
            "_view_name": "LayoutView",
            "align_content": null,
            "align_items": null,
            "align_self": null,
            "border": null,
            "bottom": null,
            "display": null,
            "flex": null,
            "flex_flow": null,
            "grid_area": null,
            "grid_auto_columns": null,
            "grid_auto_flow": null,
            "grid_auto_rows": null,
            "grid_column": null,
            "grid_gap": null,
            "grid_row": null,
            "grid_template_areas": null,
            "grid_template_columns": null,
            "grid_template_rows": null,
            "height": null,
            "justify_content": null,
            "justify_items": null,
            "left": null,
            "margin": null,
            "max_height": null,
            "max_width": null,
            "min_height": null,
            "min_width": null,
            "object_fit": null,
            "object_position": null,
            "order": null,
            "overflow": null,
            "overflow_x": null,
            "overflow_y": null,
            "padding": null,
            "right": null,
            "top": null,
            "visibility": null,
            "width": null
          }
        },
        "38a3aeb323cc40af88dc9e37139d3c5f": {
          "model_module": "@jupyter-widgets/base",
          "model_name": "LayoutModel",
          "model_module_version": "1.2.0",
          "state": {
            "_model_module": "@jupyter-widgets/base",
            "_model_module_version": "1.2.0",
            "_model_name": "LayoutModel",
            "_view_count": null,
            "_view_module": "@jupyter-widgets/base",
            "_view_module_version": "1.2.0",
            "_view_name": "LayoutView",
            "align_content": null,
            "align_items": null,
            "align_self": null,
            "border": null,
            "bottom": null,
            "display": null,
            "flex": null,
            "flex_flow": null,
            "grid_area": null,
            "grid_auto_columns": null,
            "grid_auto_flow": null,
            "grid_auto_rows": null,
            "grid_column": null,
            "grid_gap": null,
            "grid_row": null,
            "grid_template_areas": null,
            "grid_template_columns": null,
            "grid_template_rows": null,
            "height": null,
            "justify_content": null,
            "justify_items": null,
            "left": null,
            "margin": null,
            "max_height": null,
            "max_width": null,
            "min_height": null,
            "min_width": null,
            "object_fit": null,
            "object_position": null,
            "order": null,
            "overflow": null,
            "overflow_x": null,
            "overflow_y": null,
            "padding": null,
            "right": null,
            "top": null,
            "visibility": null,
            "width": null
          }
        },
        "b86c85a9f985400babb13398fe9ccfcc": {
          "model_module": "@jupyter-widgets/controls",
          "model_name": "DescriptionStyleModel",
          "model_module_version": "1.5.0",
          "state": {
            "_model_module": "@jupyter-widgets/controls",
            "_model_module_version": "1.5.0",
            "_model_name": "DescriptionStyleModel",
            "_view_count": null,
            "_view_module": "@jupyter-widgets/base",
            "_view_module_version": "1.2.0",
            "_view_name": "StyleView",
            "description_width": ""
          }
        },
        "f9b532b833254a1fa9e7c2f3a3f757dc": {
          "model_module": "@jupyter-widgets/base",
          "model_name": "LayoutModel",
          "model_module_version": "1.2.0",
          "state": {
            "_model_module": "@jupyter-widgets/base",
            "_model_module_version": "1.2.0",
            "_model_name": "LayoutModel",
            "_view_count": null,
            "_view_module": "@jupyter-widgets/base",
            "_view_module_version": "1.2.0",
            "_view_name": "LayoutView",
            "align_content": null,
            "align_items": null,
            "align_self": null,
            "border": null,
            "bottom": null,
            "display": null,
            "flex": null,
            "flex_flow": null,
            "grid_area": null,
            "grid_auto_columns": null,
            "grid_auto_flow": null,
            "grid_auto_rows": null,
            "grid_column": null,
            "grid_gap": null,
            "grid_row": null,
            "grid_template_areas": null,
            "grid_template_columns": null,
            "grid_template_rows": null,
            "height": null,
            "justify_content": null,
            "justify_items": null,
            "left": null,
            "margin": null,
            "max_height": null,
            "max_width": null,
            "min_height": null,
            "min_width": null,
            "object_fit": null,
            "object_position": null,
            "order": null,
            "overflow": null,
            "overflow_x": null,
            "overflow_y": null,
            "padding": null,
            "right": null,
            "top": null,
            "visibility": null,
            "width": null
          }
        },
        "e54e684b634345feacb81a3786ad2021": {
          "model_module": "@jupyter-widgets/controls",
          "model_name": "ProgressStyleModel",
          "model_module_version": "1.5.0",
          "state": {
            "_model_module": "@jupyter-widgets/controls",
            "_model_module_version": "1.5.0",
            "_model_name": "ProgressStyleModel",
            "_view_count": null,
            "_view_module": "@jupyter-widgets/base",
            "_view_module_version": "1.2.0",
            "_view_name": "StyleView",
            "bar_color": null,
            "description_width": ""
          }
        },
        "f044cc8511eb4dea9ccceb45c27e9c62": {
          "model_module": "@jupyter-widgets/base",
          "model_name": "LayoutModel",
          "model_module_version": "1.2.0",
          "state": {
            "_model_module": "@jupyter-widgets/base",
            "_model_module_version": "1.2.0",
            "_model_name": "LayoutModel",
            "_view_count": null,
            "_view_module": "@jupyter-widgets/base",
            "_view_module_version": "1.2.0",
            "_view_name": "LayoutView",
            "align_content": null,
            "align_items": null,
            "align_self": null,
            "border": null,
            "bottom": null,
            "display": null,
            "flex": null,
            "flex_flow": null,
            "grid_area": null,
            "grid_auto_columns": null,
            "grid_auto_flow": null,
            "grid_auto_rows": null,
            "grid_column": null,
            "grid_gap": null,
            "grid_row": null,
            "grid_template_areas": null,
            "grid_template_columns": null,
            "grid_template_rows": null,
            "height": null,
            "justify_content": null,
            "justify_items": null,
            "left": null,
            "margin": null,
            "max_height": null,
            "max_width": null,
            "min_height": null,
            "min_width": null,
            "object_fit": null,
            "object_position": null,
            "order": null,
            "overflow": null,
            "overflow_x": null,
            "overflow_y": null,
            "padding": null,
            "right": null,
            "top": null,
            "visibility": null,
            "width": null
          }
        },
        "72fd6066ea524cefbd37c2ffe845f7d2": {
          "model_module": "@jupyter-widgets/controls",
          "model_name": "DescriptionStyleModel",
          "model_module_version": "1.5.0",
          "state": {
            "_model_module": "@jupyter-widgets/controls",
            "_model_module_version": "1.5.0",
            "_model_name": "DescriptionStyleModel",
            "_view_count": null,
            "_view_module": "@jupyter-widgets/base",
            "_view_module_version": "1.2.0",
            "_view_name": "StyleView",
            "description_width": ""
          }
        },
        "6b73c9e662c24935b39659978c523d4d": {
          "model_module": "@jupyter-widgets/controls",
          "model_name": "HBoxModel",
          "model_module_version": "1.5.0",
          "state": {
            "_dom_classes": [],
            "_model_module": "@jupyter-widgets/controls",
            "_model_module_version": "1.5.0",
            "_model_name": "HBoxModel",
            "_view_count": null,
            "_view_module": "@jupyter-widgets/controls",
            "_view_module_version": "1.5.0",
            "_view_name": "HBoxView",
            "box_style": "",
            "children": [
              "IPY_MODEL_b837ace718c94180ae9ef7e841ac065a",
              "IPY_MODEL_4f0b18f985094116a01a3eeaa3794cac",
              "IPY_MODEL_b9b1fe807c4543a798c3ab053c836697"
            ],
            "layout": "IPY_MODEL_f0508279736d46d2973606245c476809"
          }
        },
        "b837ace718c94180ae9ef7e841ac065a": {
          "model_module": "@jupyter-widgets/controls",
          "model_name": "HTMLModel",
          "model_module_version": "1.5.0",
          "state": {
            "_dom_classes": [],
            "_model_module": "@jupyter-widgets/controls",
            "_model_module_version": "1.5.0",
            "_model_name": "HTMLModel",
            "_view_count": null,
            "_view_module": "@jupyter-widgets/controls",
            "_view_module_version": "1.5.0",
            "_view_name": "HTMLView",
            "description": "",
            "description_tooltip": null,
            "layout": "IPY_MODEL_d697287baa9a4eeda9d43c7ea2498ed3",
            "placeholder": "​",
            "style": "IPY_MODEL_b51e1313efec4a4e94b9f5c9c8ced44f",
            "value": "tokenizer.json: 100%"
          }
        },
        "4f0b18f985094116a01a3eeaa3794cac": {
          "model_module": "@jupyter-widgets/controls",
          "model_name": "FloatProgressModel",
          "model_module_version": "1.5.0",
          "state": {
            "_dom_classes": [],
            "_model_module": "@jupyter-widgets/controls",
            "_model_module_version": "1.5.0",
            "_model_name": "FloatProgressModel",
            "_view_count": null,
            "_view_module": "@jupyter-widgets/controls",
            "_view_module_version": "1.5.0",
            "_view_name": "ProgressView",
            "bar_style": "success",
            "description": "",
            "description_tooltip": null,
            "layout": "IPY_MODEL_4d021440f5454bea875d6499053800da",
            "max": 2642362,
            "min": 0,
            "orientation": "horizontal",
            "style": "IPY_MODEL_44013a9b1b25449eba8cd5a2fddbc973",
            "value": 2642362
          }
        },
        "b9b1fe807c4543a798c3ab053c836697": {
          "model_module": "@jupyter-widgets/controls",
          "model_name": "HTMLModel",
          "model_module_version": "1.5.0",
          "state": {
            "_dom_classes": [],
            "_model_module": "@jupyter-widgets/controls",
            "_model_module_version": "1.5.0",
            "_model_name": "HTMLModel",
            "_view_count": null,
            "_view_module": "@jupyter-widgets/controls",
            "_view_module_version": "1.5.0",
            "_view_name": "HTMLView",
            "description": "",
            "description_tooltip": null,
            "layout": "IPY_MODEL_882ffd2bd6ad4307941731c52c0d4c03",
            "placeholder": "​",
            "style": "IPY_MODEL_b13337b1299d48bfa360ca1b966c44cd",
            "value": " 2.64M/2.64M [00:00&lt;00:00, 9.40MB/s]"
          }
        },
        "f0508279736d46d2973606245c476809": {
          "model_module": "@jupyter-widgets/base",
          "model_name": "LayoutModel",
          "model_module_version": "1.2.0",
          "state": {
            "_model_module": "@jupyter-widgets/base",
            "_model_module_version": "1.2.0",
            "_model_name": "LayoutModel",
            "_view_count": null,
            "_view_module": "@jupyter-widgets/base",
            "_view_module_version": "1.2.0",
            "_view_name": "LayoutView",
            "align_content": null,
            "align_items": null,
            "align_self": null,
            "border": null,
            "bottom": null,
            "display": null,
            "flex": null,
            "flex_flow": null,
            "grid_area": null,
            "grid_auto_columns": null,
            "grid_auto_flow": null,
            "grid_auto_rows": null,
            "grid_column": null,
            "grid_gap": null,
            "grid_row": null,
            "grid_template_areas": null,
            "grid_template_columns": null,
            "grid_template_rows": null,
            "height": null,
            "justify_content": null,
            "justify_items": null,
            "left": null,
            "margin": null,
            "max_height": null,
            "max_width": null,
            "min_height": null,
            "min_width": null,
            "object_fit": null,
            "object_position": null,
            "order": null,
            "overflow": null,
            "overflow_x": null,
            "overflow_y": null,
            "padding": null,
            "right": null,
            "top": null,
            "visibility": null,
            "width": null
          }
        },
        "d697287baa9a4eeda9d43c7ea2498ed3": {
          "model_module": "@jupyter-widgets/base",
          "model_name": "LayoutModel",
          "model_module_version": "1.2.0",
          "state": {
            "_model_module": "@jupyter-widgets/base",
            "_model_module_version": "1.2.0",
            "_model_name": "LayoutModel",
            "_view_count": null,
            "_view_module": "@jupyter-widgets/base",
            "_view_module_version": "1.2.0",
            "_view_name": "LayoutView",
            "align_content": null,
            "align_items": null,
            "align_self": null,
            "border": null,
            "bottom": null,
            "display": null,
            "flex": null,
            "flex_flow": null,
            "grid_area": null,
            "grid_auto_columns": null,
            "grid_auto_flow": null,
            "grid_auto_rows": null,
            "grid_column": null,
            "grid_gap": null,
            "grid_row": null,
            "grid_template_areas": null,
            "grid_template_columns": null,
            "grid_template_rows": null,
            "height": null,
            "justify_content": null,
            "justify_items": null,
            "left": null,
            "margin": null,
            "max_height": null,
            "max_width": null,
            "min_height": null,
            "min_width": null,
            "object_fit": null,
            "object_position": null,
            "order": null,
            "overflow": null,
            "overflow_x": null,
            "overflow_y": null,
            "padding": null,
            "right": null,
            "top": null,
            "visibility": null,
            "width": null
          }
        },
        "b51e1313efec4a4e94b9f5c9c8ced44f": {
          "model_module": "@jupyter-widgets/controls",
          "model_name": "DescriptionStyleModel",
          "model_module_version": "1.5.0",
          "state": {
            "_model_module": "@jupyter-widgets/controls",
            "_model_module_version": "1.5.0",
            "_model_name": "DescriptionStyleModel",
            "_view_count": null,
            "_view_module": "@jupyter-widgets/base",
            "_view_module_version": "1.2.0",
            "_view_name": "StyleView",
            "description_width": ""
          }
        },
        "4d021440f5454bea875d6499053800da": {
          "model_module": "@jupyter-widgets/base",
          "model_name": "LayoutModel",
          "model_module_version": "1.2.0",
          "state": {
            "_model_module": "@jupyter-widgets/base",
            "_model_module_version": "1.2.0",
            "_model_name": "LayoutModel",
            "_view_count": null,
            "_view_module": "@jupyter-widgets/base",
            "_view_module_version": "1.2.0",
            "_view_name": "LayoutView",
            "align_content": null,
            "align_items": null,
            "align_self": null,
            "border": null,
            "bottom": null,
            "display": null,
            "flex": null,
            "flex_flow": null,
            "grid_area": null,
            "grid_auto_columns": null,
            "grid_auto_flow": null,
            "grid_auto_rows": null,
            "grid_column": null,
            "grid_gap": null,
            "grid_row": null,
            "grid_template_areas": null,
            "grid_template_columns": null,
            "grid_template_rows": null,
            "height": null,
            "justify_content": null,
            "justify_items": null,
            "left": null,
            "margin": null,
            "max_height": null,
            "max_width": null,
            "min_height": null,
            "min_width": null,
            "object_fit": null,
            "object_position": null,
            "order": null,
            "overflow": null,
            "overflow_x": null,
            "overflow_y": null,
            "padding": null,
            "right": null,
            "top": null,
            "visibility": null,
            "width": null
          }
        },
        "44013a9b1b25449eba8cd5a2fddbc973": {
          "model_module": "@jupyter-widgets/controls",
          "model_name": "ProgressStyleModel",
          "model_module_version": "1.5.0",
          "state": {
            "_model_module": "@jupyter-widgets/controls",
            "_model_module_version": "1.5.0",
            "_model_name": "ProgressStyleModel",
            "_view_count": null,
            "_view_module": "@jupyter-widgets/base",
            "_view_module_version": "1.2.0",
            "_view_name": "StyleView",
            "bar_color": null,
            "description_width": ""
          }
        },
        "882ffd2bd6ad4307941731c52c0d4c03": {
          "model_module": "@jupyter-widgets/base",
          "model_name": "LayoutModel",
          "model_module_version": "1.2.0",
          "state": {
            "_model_module": "@jupyter-widgets/base",
            "_model_module_version": "1.2.0",
            "_model_name": "LayoutModel",
            "_view_count": null,
            "_view_module": "@jupyter-widgets/base",
            "_view_module_version": "1.2.0",
            "_view_name": "LayoutView",
            "align_content": null,
            "align_items": null,
            "align_self": null,
            "border": null,
            "bottom": null,
            "display": null,
            "flex": null,
            "flex_flow": null,
            "grid_area": null,
            "grid_auto_columns": null,
            "grid_auto_flow": null,
            "grid_auto_rows": null,
            "grid_column": null,
            "grid_gap": null,
            "grid_row": null,
            "grid_template_areas": null,
            "grid_template_columns": null,
            "grid_template_rows": null,
            "height": null,
            "justify_content": null,
            "justify_items": null,
            "left": null,
            "margin": null,
            "max_height": null,
            "max_width": null,
            "min_height": null,
            "min_width": null,
            "object_fit": null,
            "object_position": null,
            "order": null,
            "overflow": null,
            "overflow_x": null,
            "overflow_y": null,
            "padding": null,
            "right": null,
            "top": null,
            "visibility": null,
            "width": null
          }
        },
        "b13337b1299d48bfa360ca1b966c44cd": {
          "model_module": "@jupyter-widgets/controls",
          "model_name": "DescriptionStyleModel",
          "model_module_version": "1.5.0",
          "state": {
            "_model_module": "@jupyter-widgets/controls",
            "_model_module_version": "1.5.0",
            "_model_name": "DescriptionStyleModel",
            "_view_count": null,
            "_view_module": "@jupyter-widgets/base",
            "_view_module_version": "1.2.0",
            "_view_name": "StyleView",
            "description_width": ""
          }
        },
        "e21b74e154da48aea2353b36ddbbeb7a": {
          "model_module": "@jupyter-widgets/controls",
          "model_name": "HBoxModel",
          "model_module_version": "1.5.0",
          "state": {
            "_dom_classes": [],
            "_model_module": "@jupyter-widgets/controls",
            "_model_module_version": "1.5.0",
            "_model_name": "HBoxModel",
            "_view_count": null,
            "_view_module": "@jupyter-widgets/controls",
            "_view_module_version": "1.5.0",
            "_view_name": "HBoxView",
            "box_style": "",
            "children": [
              "IPY_MODEL_c01f2c1e3f4e4a52b4c26903854aeaee",
              "IPY_MODEL_4480ce3aa6324817b748dcac61fd88cd",
              "IPY_MODEL_5f0f1509f7f24272b3c0d95933cddcfa"
            ],
            "layout": "IPY_MODEL_0d65b9cef938434190af5d20d5ca17c7"
          }
        },
        "c01f2c1e3f4e4a52b4c26903854aeaee": {
          "model_module": "@jupyter-widgets/controls",
          "model_name": "HTMLModel",
          "model_module_version": "1.5.0",
          "state": {
            "_dom_classes": [],
            "_model_module": "@jupyter-widgets/controls",
            "_model_module_version": "1.5.0",
            "_model_name": "HTMLModel",
            "_view_count": null,
            "_view_module": "@jupyter-widgets/controls",
            "_view_module_version": "1.5.0",
            "_view_name": "HTMLView",
            "description": "",
            "description_tooltip": null,
            "layout": "IPY_MODEL_6f763494e8224f328f30ed273231df0b",
            "placeholder": "​",
            "style": "IPY_MODEL_439681e17b1d4e6dbc2e568584b03d1b",
            "value": "special_tokens_map.json: 100%"
          }
        },
        "4480ce3aa6324817b748dcac61fd88cd": {
          "model_module": "@jupyter-widgets/controls",
          "model_name": "FloatProgressModel",
          "model_module_version": "1.5.0",
          "state": {
            "_dom_classes": [],
            "_model_module": "@jupyter-widgets/controls",
            "_model_module_version": "1.5.0",
            "_model_name": "FloatProgressModel",
            "_view_count": null,
            "_view_module": "@jupyter-widgets/controls",
            "_view_module_version": "1.5.0",
            "_view_name": "ProgressView",
            "bar_style": "success",
            "description": "",
            "description_tooltip": null,
            "layout": "IPY_MODEL_3fa225b2bf6c4f909acee5be061707f2",
            "max": 112,
            "min": 0,
            "orientation": "horizontal",
            "style": "IPY_MODEL_59513d416f364f239d2c5d0b390396a2",
            "value": 112
          }
        },
        "5f0f1509f7f24272b3c0d95933cddcfa": {
          "model_module": "@jupyter-widgets/controls",
          "model_name": "HTMLModel",
          "model_module_version": "1.5.0",
          "state": {
            "_dom_classes": [],
            "_model_module": "@jupyter-widgets/controls",
            "_model_module_version": "1.5.0",
            "_model_name": "HTMLModel",
            "_view_count": null,
            "_view_module": "@jupyter-widgets/controls",
            "_view_module_version": "1.5.0",
            "_view_name": "HTMLView",
            "description": "",
            "description_tooltip": null,
            "layout": "IPY_MODEL_cf1cad3b6cd64632af264496cfb488ef",
            "placeholder": "​",
            "style": "IPY_MODEL_3ca88248c91a49dc8eaf601aa919c0b7",
            "value": " 112/112 [00:00&lt;00:00, 1.71kB/s]"
          }
        },
        "0d65b9cef938434190af5d20d5ca17c7": {
          "model_module": "@jupyter-widgets/base",
          "model_name": "LayoutModel",
          "model_module_version": "1.2.0",
          "state": {
            "_model_module": "@jupyter-widgets/base",
            "_model_module_version": "1.2.0",
            "_model_name": "LayoutModel",
            "_view_count": null,
            "_view_module": "@jupyter-widgets/base",
            "_view_module_version": "1.2.0",
            "_view_name": "LayoutView",
            "align_content": null,
            "align_items": null,
            "align_self": null,
            "border": null,
            "bottom": null,
            "display": null,
            "flex": null,
            "flex_flow": null,
            "grid_area": null,
            "grid_auto_columns": null,
            "grid_auto_flow": null,
            "grid_auto_rows": null,
            "grid_column": null,
            "grid_gap": null,
            "grid_row": null,
            "grid_template_areas": null,
            "grid_template_columns": null,
            "grid_template_rows": null,
            "height": null,
            "justify_content": null,
            "justify_items": null,
            "left": null,
            "margin": null,
            "max_height": null,
            "max_width": null,
            "min_height": null,
            "min_width": null,
            "object_fit": null,
            "object_position": null,
            "order": null,
            "overflow": null,
            "overflow_x": null,
            "overflow_y": null,
            "padding": null,
            "right": null,
            "top": null,
            "visibility": null,
            "width": null
          }
        },
        "6f763494e8224f328f30ed273231df0b": {
          "model_module": "@jupyter-widgets/base",
          "model_name": "LayoutModel",
          "model_module_version": "1.2.0",
          "state": {
            "_model_module": "@jupyter-widgets/base",
            "_model_module_version": "1.2.0",
            "_model_name": "LayoutModel",
            "_view_count": null,
            "_view_module": "@jupyter-widgets/base",
            "_view_module_version": "1.2.0",
            "_view_name": "LayoutView",
            "align_content": null,
            "align_items": null,
            "align_self": null,
            "border": null,
            "bottom": null,
            "display": null,
            "flex": null,
            "flex_flow": null,
            "grid_area": null,
            "grid_auto_columns": null,
            "grid_auto_flow": null,
            "grid_auto_rows": null,
            "grid_column": null,
            "grid_gap": null,
            "grid_row": null,
            "grid_template_areas": null,
            "grid_template_columns": null,
            "grid_template_rows": null,
            "height": null,
            "justify_content": null,
            "justify_items": null,
            "left": null,
            "margin": null,
            "max_height": null,
            "max_width": null,
            "min_height": null,
            "min_width": null,
            "object_fit": null,
            "object_position": null,
            "order": null,
            "overflow": null,
            "overflow_x": null,
            "overflow_y": null,
            "padding": null,
            "right": null,
            "top": null,
            "visibility": null,
            "width": null
          }
        },
        "439681e17b1d4e6dbc2e568584b03d1b": {
          "model_module": "@jupyter-widgets/controls",
          "model_name": "DescriptionStyleModel",
          "model_module_version": "1.5.0",
          "state": {
            "_model_module": "@jupyter-widgets/controls",
            "_model_module_version": "1.5.0",
            "_model_name": "DescriptionStyleModel",
            "_view_count": null,
            "_view_module": "@jupyter-widgets/base",
            "_view_module_version": "1.2.0",
            "_view_name": "StyleView",
            "description_width": ""
          }
        },
        "3fa225b2bf6c4f909acee5be061707f2": {
          "model_module": "@jupyter-widgets/base",
          "model_name": "LayoutModel",
          "model_module_version": "1.2.0",
          "state": {
            "_model_module": "@jupyter-widgets/base",
            "_model_module_version": "1.2.0",
            "_model_name": "LayoutModel",
            "_view_count": null,
            "_view_module": "@jupyter-widgets/base",
            "_view_module_version": "1.2.0",
            "_view_name": "LayoutView",
            "align_content": null,
            "align_items": null,
            "align_self": null,
            "border": null,
            "bottom": null,
            "display": null,
            "flex": null,
            "flex_flow": null,
            "grid_area": null,
            "grid_auto_columns": null,
            "grid_auto_flow": null,
            "grid_auto_rows": null,
            "grid_column": null,
            "grid_gap": null,
            "grid_row": null,
            "grid_template_areas": null,
            "grid_template_columns": null,
            "grid_template_rows": null,
            "height": null,
            "justify_content": null,
            "justify_items": null,
            "left": null,
            "margin": null,
            "max_height": null,
            "max_width": null,
            "min_height": null,
            "min_width": null,
            "object_fit": null,
            "object_position": null,
            "order": null,
            "overflow": null,
            "overflow_x": null,
            "overflow_y": null,
            "padding": null,
            "right": null,
            "top": null,
            "visibility": null,
            "width": null
          }
        },
        "59513d416f364f239d2c5d0b390396a2": {
          "model_module": "@jupyter-widgets/controls",
          "model_name": "ProgressStyleModel",
          "model_module_version": "1.5.0",
          "state": {
            "_model_module": "@jupyter-widgets/controls",
            "_model_module_version": "1.5.0",
            "_model_name": "ProgressStyleModel",
            "_view_count": null,
            "_view_module": "@jupyter-widgets/base",
            "_view_module_version": "1.2.0",
            "_view_name": "StyleView",
            "bar_color": null,
            "description_width": ""
          }
        },
        "cf1cad3b6cd64632af264496cfb488ef": {
          "model_module": "@jupyter-widgets/base",
          "model_name": "LayoutModel",
          "model_module_version": "1.2.0",
          "state": {
            "_model_module": "@jupyter-widgets/base",
            "_model_module_version": "1.2.0",
            "_model_name": "LayoutModel",
            "_view_count": null,
            "_view_module": "@jupyter-widgets/base",
            "_view_module_version": "1.2.0",
            "_view_name": "LayoutView",
            "align_content": null,
            "align_items": null,
            "align_self": null,
            "border": null,
            "bottom": null,
            "display": null,
            "flex": null,
            "flex_flow": null,
            "grid_area": null,
            "grid_auto_columns": null,
            "grid_auto_flow": null,
            "grid_auto_rows": null,
            "grid_column": null,
            "grid_gap": null,
            "grid_row": null,
            "grid_template_areas": null,
            "grid_template_columns": null,
            "grid_template_rows": null,
            "height": null,
            "justify_content": null,
            "justify_items": null,
            "left": null,
            "margin": null,
            "max_height": null,
            "max_width": null,
            "min_height": null,
            "min_width": null,
            "object_fit": null,
            "object_position": null,
            "order": null,
            "overflow": null,
            "overflow_x": null,
            "overflow_y": null,
            "padding": null,
            "right": null,
            "top": null,
            "visibility": null,
            "width": null
          }
        },
        "3ca88248c91a49dc8eaf601aa919c0b7": {
          "model_module": "@jupyter-widgets/controls",
          "model_name": "DescriptionStyleModel",
          "model_module_version": "1.5.0",
          "state": {
            "_model_module": "@jupyter-widgets/controls",
            "_model_module_version": "1.5.0",
            "_model_name": "DescriptionStyleModel",
            "_view_count": null,
            "_view_module": "@jupyter-widgets/base",
            "_view_module_version": "1.2.0",
            "_view_name": "StyleView",
            "description_width": ""
          }
        },
        "85a1f5fab93c447981afe4762c6852dc": {
          "model_module": "@jupyter-widgets/controls",
          "model_name": "HBoxModel",
          "model_module_version": "1.5.0",
          "state": {
            "_dom_classes": [],
            "_model_module": "@jupyter-widgets/controls",
            "_model_module_version": "1.5.0",
            "_model_name": "HBoxModel",
            "_view_count": null,
            "_view_module": "@jupyter-widgets/controls",
            "_view_module_version": "1.5.0",
            "_view_name": "HBoxView",
            "box_style": "",
            "children": [
              "IPY_MODEL_4fb9621e0a6e4553828fe1963637ace9",
              "IPY_MODEL_9fcd5cf161b64a1bb565e5293df9dc53",
              "IPY_MODEL_6c9c67c1d2b341ef8b3e3075b3ec5ee5"
            ],
            "layout": "IPY_MODEL_8b497da174f34a62920f630513f87737"
          }
        },
        "4fb9621e0a6e4553828fe1963637ace9": {
          "model_module": "@jupyter-widgets/controls",
          "model_name": "HTMLModel",
          "model_module_version": "1.5.0",
          "state": {
            "_dom_classes": [],
            "_model_module": "@jupyter-widgets/controls",
            "_model_module_version": "1.5.0",
            "_model_name": "HTMLModel",
            "_view_count": null,
            "_view_module": "@jupyter-widgets/controls",
            "_view_module_version": "1.5.0",
            "_view_name": "HTMLView",
            "description": "",
            "description_tooltip": null,
            "layout": "IPY_MODEL_c5aa89083da349df817d297e0dedb4c8",
            "placeholder": "​",
            "style": "IPY_MODEL_2f43833dc0004c31a8140b59bb5af4a8",
            "value": "tokenizer_config.json: 100%"
          }
        },
        "9fcd5cf161b64a1bb565e5293df9dc53": {
          "model_module": "@jupyter-widgets/controls",
          "model_name": "FloatProgressModel",
          "model_module_version": "1.5.0",
          "state": {
            "_dom_classes": [],
            "_model_module": "@jupyter-widgets/controls",
            "_model_module_version": "1.5.0",
            "_model_name": "FloatProgressModel",
            "_view_count": null,
            "_view_module": "@jupyter-widgets/controls",
            "_view_module_version": "1.5.0",
            "_view_name": "ProgressView",
            "bar_style": "success",
            "description": "",
            "description_tooltip": null,
            "layout": "IPY_MODEL_2848f2f4543d40a1aaabb07d9cd856bc",
            "max": 28,
            "min": 0,
            "orientation": "horizontal",
            "style": "IPY_MODEL_e97dfe2fe7954136867b4768a9a964bb",
            "value": 28
          }
        },
        "6c9c67c1d2b341ef8b3e3075b3ec5ee5": {
          "model_module": "@jupyter-widgets/controls",
          "model_name": "HTMLModel",
          "model_module_version": "1.5.0",
          "state": {
            "_dom_classes": [],
            "_model_module": "@jupyter-widgets/controls",
            "_model_module_version": "1.5.0",
            "_model_name": "HTMLModel",
            "_view_count": null,
            "_view_module": "@jupyter-widgets/controls",
            "_view_module_version": "1.5.0",
            "_view_name": "HTMLView",
            "description": "",
            "description_tooltip": null,
            "layout": "IPY_MODEL_7aa88f04186049d99b50e8b834a51965",
            "placeholder": "​",
            "style": "IPY_MODEL_f1ae33839e7c4e8f85f036d9713bde6b",
            "value": " 28.0/28.0 [00:00&lt;00:00, 600B/s]"
          }
        },
        "8b497da174f34a62920f630513f87737": {
          "model_module": "@jupyter-widgets/base",
          "model_name": "LayoutModel",
          "model_module_version": "1.2.0",
          "state": {
            "_model_module": "@jupyter-widgets/base",
            "_model_module_version": "1.2.0",
            "_model_name": "LayoutModel",
            "_view_count": null,
            "_view_module": "@jupyter-widgets/base",
            "_view_module_version": "1.2.0",
            "_view_name": "LayoutView",
            "align_content": null,
            "align_items": null,
            "align_self": null,
            "border": null,
            "bottom": null,
            "display": null,
            "flex": null,
            "flex_flow": null,
            "grid_area": null,
            "grid_auto_columns": null,
            "grid_auto_flow": null,
            "grid_auto_rows": null,
            "grid_column": null,
            "grid_gap": null,
            "grid_row": null,
            "grid_template_areas": null,
            "grid_template_columns": null,
            "grid_template_rows": null,
            "height": null,
            "justify_content": null,
            "justify_items": null,
            "left": null,
            "margin": null,
            "max_height": null,
            "max_width": null,
            "min_height": null,
            "min_width": null,
            "object_fit": null,
            "object_position": null,
            "order": null,
            "overflow": null,
            "overflow_x": null,
            "overflow_y": null,
            "padding": null,
            "right": null,
            "top": null,
            "visibility": null,
            "width": null
          }
        },
        "c5aa89083da349df817d297e0dedb4c8": {
          "model_module": "@jupyter-widgets/base",
          "model_name": "LayoutModel",
          "model_module_version": "1.2.0",
          "state": {
            "_model_module": "@jupyter-widgets/base",
            "_model_module_version": "1.2.0",
            "_model_name": "LayoutModel",
            "_view_count": null,
            "_view_module": "@jupyter-widgets/base",
            "_view_module_version": "1.2.0",
            "_view_name": "LayoutView",
            "align_content": null,
            "align_items": null,
            "align_self": null,
            "border": null,
            "bottom": null,
            "display": null,
            "flex": null,
            "flex_flow": null,
            "grid_area": null,
            "grid_auto_columns": null,
            "grid_auto_flow": null,
            "grid_auto_rows": null,
            "grid_column": null,
            "grid_gap": null,
            "grid_row": null,
            "grid_template_areas": null,
            "grid_template_columns": null,
            "grid_template_rows": null,
            "height": null,
            "justify_content": null,
            "justify_items": null,
            "left": null,
            "margin": null,
            "max_height": null,
            "max_width": null,
            "min_height": null,
            "min_width": null,
            "object_fit": null,
            "object_position": null,
            "order": null,
            "overflow": null,
            "overflow_x": null,
            "overflow_y": null,
            "padding": null,
            "right": null,
            "top": null,
            "visibility": null,
            "width": null
          }
        },
        "2f43833dc0004c31a8140b59bb5af4a8": {
          "model_module": "@jupyter-widgets/controls",
          "model_name": "DescriptionStyleModel",
          "model_module_version": "1.5.0",
          "state": {
            "_model_module": "@jupyter-widgets/controls",
            "_model_module_version": "1.5.0",
            "_model_name": "DescriptionStyleModel",
            "_view_count": null,
            "_view_module": "@jupyter-widgets/base",
            "_view_module_version": "1.2.0",
            "_view_name": "StyleView",
            "description_width": ""
          }
        },
        "2848f2f4543d40a1aaabb07d9cd856bc": {
          "model_module": "@jupyter-widgets/base",
          "model_name": "LayoutModel",
          "model_module_version": "1.2.0",
          "state": {
            "_model_module": "@jupyter-widgets/base",
            "_model_module_version": "1.2.0",
            "_model_name": "LayoutModel",
            "_view_count": null,
            "_view_module": "@jupyter-widgets/base",
            "_view_module_version": "1.2.0",
            "_view_name": "LayoutView",
            "align_content": null,
            "align_items": null,
            "align_self": null,
            "border": null,
            "bottom": null,
            "display": null,
            "flex": null,
            "flex_flow": null,
            "grid_area": null,
            "grid_auto_columns": null,
            "grid_auto_flow": null,
            "grid_auto_rows": null,
            "grid_column": null,
            "grid_gap": null,
            "grid_row": null,
            "grid_template_areas": null,
            "grid_template_columns": null,
            "grid_template_rows": null,
            "height": null,
            "justify_content": null,
            "justify_items": null,
            "left": null,
            "margin": null,
            "max_height": null,
            "max_width": null,
            "min_height": null,
            "min_width": null,
            "object_fit": null,
            "object_position": null,
            "order": null,
            "overflow": null,
            "overflow_x": null,
            "overflow_y": null,
            "padding": null,
            "right": null,
            "top": null,
            "visibility": null,
            "width": null
          }
        },
        "e97dfe2fe7954136867b4768a9a964bb": {
          "model_module": "@jupyter-widgets/controls",
          "model_name": "ProgressStyleModel",
          "model_module_version": "1.5.0",
          "state": {
            "_model_module": "@jupyter-widgets/controls",
            "_model_module_version": "1.5.0",
            "_model_name": "ProgressStyleModel",
            "_view_count": null,
            "_view_module": "@jupyter-widgets/base",
            "_view_module_version": "1.2.0",
            "_view_name": "StyleView",
            "bar_color": null,
            "description_width": ""
          }
        },
        "7aa88f04186049d99b50e8b834a51965": {
          "model_module": "@jupyter-widgets/base",
          "model_name": "LayoutModel",
          "model_module_version": "1.2.0",
          "state": {
            "_model_module": "@jupyter-widgets/base",
            "_model_module_version": "1.2.0",
            "_model_name": "LayoutModel",
            "_view_count": null,
            "_view_module": "@jupyter-widgets/base",
            "_view_module_version": "1.2.0",
            "_view_name": "LayoutView",
            "align_content": null,
            "align_items": null,
            "align_self": null,
            "border": null,
            "bottom": null,
            "display": null,
            "flex": null,
            "flex_flow": null,
            "grid_area": null,
            "grid_auto_columns": null,
            "grid_auto_flow": null,
            "grid_auto_rows": null,
            "grid_column": null,
            "grid_gap": null,
            "grid_row": null,
            "grid_template_areas": null,
            "grid_template_columns": null,
            "grid_template_rows": null,
            "height": null,
            "justify_content": null,
            "justify_items": null,
            "left": null,
            "margin": null,
            "max_height": null,
            "max_width": null,
            "min_height": null,
            "min_width": null,
            "object_fit": null,
            "object_position": null,
            "order": null,
            "overflow": null,
            "overflow_x": null,
            "overflow_y": null,
            "padding": null,
            "right": null,
            "top": null,
            "visibility": null,
            "width": null
          }
        },
        "f1ae33839e7c4e8f85f036d9713bde6b": {
          "model_module": "@jupyter-widgets/controls",
          "model_name": "DescriptionStyleModel",
          "model_module_version": "1.5.0",
          "state": {
            "_model_module": "@jupyter-widgets/controls",
            "_model_module_version": "1.5.0",
            "_model_name": "DescriptionStyleModel",
            "_view_count": null,
            "_view_module": "@jupyter-widgets/base",
            "_view_module_version": "1.2.0",
            "_view_name": "StyleView",
            "description_width": ""
          }
        },
        "5f227e993b384eef8939deb3dbd4ccde": {
          "model_module": "@jupyter-widgets/controls",
          "model_name": "HBoxModel",
          "model_module_version": "1.5.0",
          "state": {
            "_dom_classes": [],
            "_model_module": "@jupyter-widgets/controls",
            "_model_module_version": "1.5.0",
            "_model_name": "HBoxModel",
            "_view_count": null,
            "_view_module": "@jupyter-widgets/controls",
            "_view_module_version": "1.5.0",
            "_view_name": "HBoxView",
            "box_style": "",
            "children": [
              "IPY_MODEL_76fee7927aea4ea7bc27c39b0fd83902",
              "IPY_MODEL_c5a8af7f85d34bdfb80d746196056799",
              "IPY_MODEL_32e25912e27947b5a12e2d928085ad53"
            ],
            "layout": "IPY_MODEL_2940872bea354b8685400bf934dc9a80"
          }
        },
        "76fee7927aea4ea7bc27c39b0fd83902": {
          "model_module": "@jupyter-widgets/controls",
          "model_name": "HTMLModel",
          "model_module_version": "1.5.0",
          "state": {
            "_dom_classes": [],
            "_model_module": "@jupyter-widgets/controls",
            "_model_module_version": "1.5.0",
            "_model_name": "HTMLModel",
            "_view_count": null,
            "_view_module": "@jupyter-widgets/controls",
            "_view_module_version": "1.5.0",
            "_view_name": "HTMLView",
            "description": "",
            "description_tooltip": null,
            "layout": "IPY_MODEL_da57406b52704999a4a9dcf8492fe23a",
            "placeholder": "​",
            "style": "IPY_MODEL_6e8353fb439343658e26813bcb01deb7",
            "value": "config.json: 100%"
          }
        },
        "c5a8af7f85d34bdfb80d746196056799": {
          "model_module": "@jupyter-widgets/controls",
          "model_name": "FloatProgressModel",
          "model_module_version": "1.5.0",
          "state": {
            "_dom_classes": [],
            "_model_module": "@jupyter-widgets/controls",
            "_model_module_version": "1.5.0",
            "_model_name": "FloatProgressModel",
            "_view_count": null,
            "_view_module": "@jupyter-widgets/controls",
            "_view_module_version": "1.5.0",
            "_view_name": "ProgressView",
            "bar_style": "success",
            "description": "",
            "description_tooltip": null,
            "layout": "IPY_MODEL_1dd92096186a42beaa9bbd7f85ecc08e",
            "max": 570,
            "min": 0,
            "orientation": "horizontal",
            "style": "IPY_MODEL_83c6bdb01d1a457288dedc496817b8e1",
            "value": 570
          }
        },
        "32e25912e27947b5a12e2d928085ad53": {
          "model_module": "@jupyter-widgets/controls",
          "model_name": "HTMLModel",
          "model_module_version": "1.5.0",
          "state": {
            "_dom_classes": [],
            "_model_module": "@jupyter-widgets/controls",
            "_model_module_version": "1.5.0",
            "_model_name": "HTMLModel",
            "_view_count": null,
            "_view_module": "@jupyter-widgets/controls",
            "_view_module_version": "1.5.0",
            "_view_name": "HTMLView",
            "description": "",
            "description_tooltip": null,
            "layout": "IPY_MODEL_8e01c3b3445640a78a2e3401d6c4a1a5",
            "placeholder": "​",
            "style": "IPY_MODEL_31346eb5144446ac95eac85fdd6223b7",
            "value": " 570/570 [00:00&lt;00:00, 6.89kB/s]"
          }
        },
        "2940872bea354b8685400bf934dc9a80": {
          "model_module": "@jupyter-widgets/base",
          "model_name": "LayoutModel",
          "model_module_version": "1.2.0",
          "state": {
            "_model_module": "@jupyter-widgets/base",
            "_model_module_version": "1.2.0",
            "_model_name": "LayoutModel",
            "_view_count": null,
            "_view_module": "@jupyter-widgets/base",
            "_view_module_version": "1.2.0",
            "_view_name": "LayoutView",
            "align_content": null,
            "align_items": null,
            "align_self": null,
            "border": null,
            "bottom": null,
            "display": null,
            "flex": null,
            "flex_flow": null,
            "grid_area": null,
            "grid_auto_columns": null,
            "grid_auto_flow": null,
            "grid_auto_rows": null,
            "grid_column": null,
            "grid_gap": null,
            "grid_row": null,
            "grid_template_areas": null,
            "grid_template_columns": null,
            "grid_template_rows": null,
            "height": null,
            "justify_content": null,
            "justify_items": null,
            "left": null,
            "margin": null,
            "max_height": null,
            "max_width": null,
            "min_height": null,
            "min_width": null,
            "object_fit": null,
            "object_position": null,
            "order": null,
            "overflow": null,
            "overflow_x": null,
            "overflow_y": null,
            "padding": null,
            "right": null,
            "top": null,
            "visibility": null,
            "width": null
          }
        },
        "da57406b52704999a4a9dcf8492fe23a": {
          "model_module": "@jupyter-widgets/base",
          "model_name": "LayoutModel",
          "model_module_version": "1.2.0",
          "state": {
            "_model_module": "@jupyter-widgets/base",
            "_model_module_version": "1.2.0",
            "_model_name": "LayoutModel",
            "_view_count": null,
            "_view_module": "@jupyter-widgets/base",
            "_view_module_version": "1.2.0",
            "_view_name": "LayoutView",
            "align_content": null,
            "align_items": null,
            "align_self": null,
            "border": null,
            "bottom": null,
            "display": null,
            "flex": null,
            "flex_flow": null,
            "grid_area": null,
            "grid_auto_columns": null,
            "grid_auto_flow": null,
            "grid_auto_rows": null,
            "grid_column": null,
            "grid_gap": null,
            "grid_row": null,
            "grid_template_areas": null,
            "grid_template_columns": null,
            "grid_template_rows": null,
            "height": null,
            "justify_content": null,
            "justify_items": null,
            "left": null,
            "margin": null,
            "max_height": null,
            "max_width": null,
            "min_height": null,
            "min_width": null,
            "object_fit": null,
            "object_position": null,
            "order": null,
            "overflow": null,
            "overflow_x": null,
            "overflow_y": null,
            "padding": null,
            "right": null,
            "top": null,
            "visibility": null,
            "width": null
          }
        },
        "6e8353fb439343658e26813bcb01deb7": {
          "model_module": "@jupyter-widgets/controls",
          "model_name": "DescriptionStyleModel",
          "model_module_version": "1.5.0",
          "state": {
            "_model_module": "@jupyter-widgets/controls",
            "_model_module_version": "1.5.0",
            "_model_name": "DescriptionStyleModel",
            "_view_count": null,
            "_view_module": "@jupyter-widgets/base",
            "_view_module_version": "1.2.0",
            "_view_name": "StyleView",
            "description_width": ""
          }
        },
        "1dd92096186a42beaa9bbd7f85ecc08e": {
          "model_module": "@jupyter-widgets/base",
          "model_name": "LayoutModel",
          "model_module_version": "1.2.0",
          "state": {
            "_model_module": "@jupyter-widgets/base",
            "_model_module_version": "1.2.0",
            "_model_name": "LayoutModel",
            "_view_count": null,
            "_view_module": "@jupyter-widgets/base",
            "_view_module_version": "1.2.0",
            "_view_name": "LayoutView",
            "align_content": null,
            "align_items": null,
            "align_self": null,
            "border": null,
            "bottom": null,
            "display": null,
            "flex": null,
            "flex_flow": null,
            "grid_area": null,
            "grid_auto_columns": null,
            "grid_auto_flow": null,
            "grid_auto_rows": null,
            "grid_column": null,
            "grid_gap": null,
            "grid_row": null,
            "grid_template_areas": null,
            "grid_template_columns": null,
            "grid_template_rows": null,
            "height": null,
            "justify_content": null,
            "justify_items": null,
            "left": null,
            "margin": null,
            "max_height": null,
            "max_width": null,
            "min_height": null,
            "min_width": null,
            "object_fit": null,
            "object_position": null,
            "order": null,
            "overflow": null,
            "overflow_x": null,
            "overflow_y": null,
            "padding": null,
            "right": null,
            "top": null,
            "visibility": null,
            "width": null
          }
        },
        "83c6bdb01d1a457288dedc496817b8e1": {
          "model_module": "@jupyter-widgets/controls",
          "model_name": "ProgressStyleModel",
          "model_module_version": "1.5.0",
          "state": {
            "_model_module": "@jupyter-widgets/controls",
            "_model_module_version": "1.5.0",
            "_model_name": "ProgressStyleModel",
            "_view_count": null,
            "_view_module": "@jupyter-widgets/base",
            "_view_module_version": "1.2.0",
            "_view_name": "StyleView",
            "bar_color": null,
            "description_width": ""
          }
        },
        "8e01c3b3445640a78a2e3401d6c4a1a5": {
          "model_module": "@jupyter-widgets/base",
          "model_name": "LayoutModel",
          "model_module_version": "1.2.0",
          "state": {
            "_model_module": "@jupyter-widgets/base",
            "_model_module_version": "1.2.0",
            "_model_name": "LayoutModel",
            "_view_count": null,
            "_view_module": "@jupyter-widgets/base",
            "_view_module_version": "1.2.0",
            "_view_name": "LayoutView",
            "align_content": null,
            "align_items": null,
            "align_self": null,
            "border": null,
            "bottom": null,
            "display": null,
            "flex": null,
            "flex_flow": null,
            "grid_area": null,
            "grid_auto_columns": null,
            "grid_auto_flow": null,
            "grid_auto_rows": null,
            "grid_column": null,
            "grid_gap": null,
            "grid_row": null,
            "grid_template_areas": null,
            "grid_template_columns": null,
            "grid_template_rows": null,
            "height": null,
            "justify_content": null,
            "justify_items": null,
            "left": null,
            "margin": null,
            "max_height": null,
            "max_width": null,
            "min_height": null,
            "min_width": null,
            "object_fit": null,
            "object_position": null,
            "order": null,
            "overflow": null,
            "overflow_x": null,
            "overflow_y": null,
            "padding": null,
            "right": null,
            "top": null,
            "visibility": null,
            "width": null
          }
        },
        "31346eb5144446ac95eac85fdd6223b7": {
          "model_module": "@jupyter-widgets/controls",
          "model_name": "DescriptionStyleModel",
          "model_module_version": "1.5.0",
          "state": {
            "_model_module": "@jupyter-widgets/controls",
            "_model_module_version": "1.5.0",
            "_model_name": "DescriptionStyleModel",
            "_view_count": null,
            "_view_module": "@jupyter-widgets/base",
            "_view_module_version": "1.2.0",
            "_view_name": "StyleView",
            "description_width": ""
          }
        },
        "9d252e15b818448a8896080128d4c443": {
          "model_module": "@jupyter-widgets/controls",
          "model_name": "HBoxModel",
          "model_module_version": "1.5.0",
          "state": {
            "_dom_classes": [],
            "_model_module": "@jupyter-widgets/controls",
            "_model_module_version": "1.5.0",
            "_model_name": "HBoxModel",
            "_view_count": null,
            "_view_module": "@jupyter-widgets/controls",
            "_view_module_version": "1.5.0",
            "_view_name": "HBoxView",
            "box_style": "",
            "children": [
              "IPY_MODEL_b8d7b773a71946928e3cbbe8125a7966",
              "IPY_MODEL_88621ddbc37446f387fdffbc89fe7d42",
              "IPY_MODEL_3eb34cc5e3b44c8780afe188b3a09cde"
            ],
            "layout": "IPY_MODEL_491989a0a1be468ab1ac9bb9f0538452"
          }
        },
        "b8d7b773a71946928e3cbbe8125a7966": {
          "model_module": "@jupyter-widgets/controls",
          "model_name": "HTMLModel",
          "model_module_version": "1.5.0",
          "state": {
            "_dom_classes": [],
            "_model_module": "@jupyter-widgets/controls",
            "_model_module_version": "1.5.0",
            "_model_name": "HTMLModel",
            "_view_count": null,
            "_view_module": "@jupyter-widgets/controls",
            "_view_module_version": "1.5.0",
            "_view_name": "HTMLView",
            "description": "",
            "description_tooltip": null,
            "layout": "IPY_MODEL_0d4010b44d944b32b03e06197a092af6",
            "placeholder": "​",
            "style": "IPY_MODEL_0353ecf3c8e74a0ca50342f35201ad98",
            "value": "vocab.txt: 100%"
          }
        },
        "88621ddbc37446f387fdffbc89fe7d42": {
          "model_module": "@jupyter-widgets/controls",
          "model_name": "FloatProgressModel",
          "model_module_version": "1.5.0",
          "state": {
            "_dom_classes": [],
            "_model_module": "@jupyter-widgets/controls",
            "_model_module_version": "1.5.0",
            "_model_name": "FloatProgressModel",
            "_view_count": null,
            "_view_module": "@jupyter-widgets/controls",
            "_view_module_version": "1.5.0",
            "_view_name": "ProgressView",
            "bar_style": "success",
            "description": "",
            "description_tooltip": null,
            "layout": "IPY_MODEL_2c0bffaa794f40e7b2900dae8cbf1ebe",
            "max": 231508,
            "min": 0,
            "orientation": "horizontal",
            "style": "IPY_MODEL_d7f038e36f494cfabcd22ea0861d0084",
            "value": 231508
          }
        },
        "3eb34cc5e3b44c8780afe188b3a09cde": {
          "model_module": "@jupyter-widgets/controls",
          "model_name": "HTMLModel",
          "model_module_version": "1.5.0",
          "state": {
            "_dom_classes": [],
            "_model_module": "@jupyter-widgets/controls",
            "_model_module_version": "1.5.0",
            "_model_name": "HTMLModel",
            "_view_count": null,
            "_view_module": "@jupyter-widgets/controls",
            "_view_module_version": "1.5.0",
            "_view_name": "HTMLView",
            "description": "",
            "description_tooltip": null,
            "layout": "IPY_MODEL_e5d1836f38aa4b6692114e09b0a11199",
            "placeholder": "​",
            "style": "IPY_MODEL_d6025d612c8341cf85f7781804b6a1f2",
            "value": " 232k/232k [00:00&lt;00:00, 1.47MB/s]"
          }
        },
        "491989a0a1be468ab1ac9bb9f0538452": {
          "model_module": "@jupyter-widgets/base",
          "model_name": "LayoutModel",
          "model_module_version": "1.2.0",
          "state": {
            "_model_module": "@jupyter-widgets/base",
            "_model_module_version": "1.2.0",
            "_model_name": "LayoutModel",
            "_view_count": null,
            "_view_module": "@jupyter-widgets/base",
            "_view_module_version": "1.2.0",
            "_view_name": "LayoutView",
            "align_content": null,
            "align_items": null,
            "align_self": null,
            "border": null,
            "bottom": null,
            "display": null,
            "flex": null,
            "flex_flow": null,
            "grid_area": null,
            "grid_auto_columns": null,
            "grid_auto_flow": null,
            "grid_auto_rows": null,
            "grid_column": null,
            "grid_gap": null,
            "grid_row": null,
            "grid_template_areas": null,
            "grid_template_columns": null,
            "grid_template_rows": null,
            "height": null,
            "justify_content": null,
            "justify_items": null,
            "left": null,
            "margin": null,
            "max_height": null,
            "max_width": null,
            "min_height": null,
            "min_width": null,
            "object_fit": null,
            "object_position": null,
            "order": null,
            "overflow": null,
            "overflow_x": null,
            "overflow_y": null,
            "padding": null,
            "right": null,
            "top": null,
            "visibility": null,
            "width": null
          }
        },
        "0d4010b44d944b32b03e06197a092af6": {
          "model_module": "@jupyter-widgets/base",
          "model_name": "LayoutModel",
          "model_module_version": "1.2.0",
          "state": {
            "_model_module": "@jupyter-widgets/base",
            "_model_module_version": "1.2.0",
            "_model_name": "LayoutModel",
            "_view_count": null,
            "_view_module": "@jupyter-widgets/base",
            "_view_module_version": "1.2.0",
            "_view_name": "LayoutView",
            "align_content": null,
            "align_items": null,
            "align_self": null,
            "border": null,
            "bottom": null,
            "display": null,
            "flex": null,
            "flex_flow": null,
            "grid_area": null,
            "grid_auto_columns": null,
            "grid_auto_flow": null,
            "grid_auto_rows": null,
            "grid_column": null,
            "grid_gap": null,
            "grid_row": null,
            "grid_template_areas": null,
            "grid_template_columns": null,
            "grid_template_rows": null,
            "height": null,
            "justify_content": null,
            "justify_items": null,
            "left": null,
            "margin": null,
            "max_height": null,
            "max_width": null,
            "min_height": null,
            "min_width": null,
            "object_fit": null,
            "object_position": null,
            "order": null,
            "overflow": null,
            "overflow_x": null,
            "overflow_y": null,
            "padding": null,
            "right": null,
            "top": null,
            "visibility": null,
            "width": null
          }
        },
        "0353ecf3c8e74a0ca50342f35201ad98": {
          "model_module": "@jupyter-widgets/controls",
          "model_name": "DescriptionStyleModel",
          "model_module_version": "1.5.0",
          "state": {
            "_model_module": "@jupyter-widgets/controls",
            "_model_module_version": "1.5.0",
            "_model_name": "DescriptionStyleModel",
            "_view_count": null,
            "_view_module": "@jupyter-widgets/base",
            "_view_module_version": "1.2.0",
            "_view_name": "StyleView",
            "description_width": ""
          }
        },
        "2c0bffaa794f40e7b2900dae8cbf1ebe": {
          "model_module": "@jupyter-widgets/base",
          "model_name": "LayoutModel",
          "model_module_version": "1.2.0",
          "state": {
            "_model_module": "@jupyter-widgets/base",
            "_model_module_version": "1.2.0",
            "_model_name": "LayoutModel",
            "_view_count": null,
            "_view_module": "@jupyter-widgets/base",
            "_view_module_version": "1.2.0",
            "_view_name": "LayoutView",
            "align_content": null,
            "align_items": null,
            "align_self": null,
            "border": null,
            "bottom": null,
            "display": null,
            "flex": null,
            "flex_flow": null,
            "grid_area": null,
            "grid_auto_columns": null,
            "grid_auto_flow": null,
            "grid_auto_rows": null,
            "grid_column": null,
            "grid_gap": null,
            "grid_row": null,
            "grid_template_areas": null,
            "grid_template_columns": null,
            "grid_template_rows": null,
            "height": null,
            "justify_content": null,
            "justify_items": null,
            "left": null,
            "margin": null,
            "max_height": null,
            "max_width": null,
            "min_height": null,
            "min_width": null,
            "object_fit": null,
            "object_position": null,
            "order": null,
            "overflow": null,
            "overflow_x": null,
            "overflow_y": null,
            "padding": null,
            "right": null,
            "top": null,
            "visibility": null,
            "width": null
          }
        },
        "d7f038e36f494cfabcd22ea0861d0084": {
          "model_module": "@jupyter-widgets/controls",
          "model_name": "ProgressStyleModel",
          "model_module_version": "1.5.0",
          "state": {
            "_model_module": "@jupyter-widgets/controls",
            "_model_module_version": "1.5.0",
            "_model_name": "ProgressStyleModel",
            "_view_count": null,
            "_view_module": "@jupyter-widgets/base",
            "_view_module_version": "1.2.0",
            "_view_name": "StyleView",
            "bar_color": null,
            "description_width": ""
          }
        },
        "e5d1836f38aa4b6692114e09b0a11199": {
          "model_module": "@jupyter-widgets/base",
          "model_name": "LayoutModel",
          "model_module_version": "1.2.0",
          "state": {
            "_model_module": "@jupyter-widgets/base",
            "_model_module_version": "1.2.0",
            "_model_name": "LayoutModel",
            "_view_count": null,
            "_view_module": "@jupyter-widgets/base",
            "_view_module_version": "1.2.0",
            "_view_name": "LayoutView",
            "align_content": null,
            "align_items": null,
            "align_self": null,
            "border": null,
            "bottom": null,
            "display": null,
            "flex": null,
            "flex_flow": null,
            "grid_area": null,
            "grid_auto_columns": null,
            "grid_auto_flow": null,
            "grid_auto_rows": null,
            "grid_column": null,
            "grid_gap": null,
            "grid_row": null,
            "grid_template_areas": null,
            "grid_template_columns": null,
            "grid_template_rows": null,
            "height": null,
            "justify_content": null,
            "justify_items": null,
            "left": null,
            "margin": null,
            "max_height": null,
            "max_width": null,
            "min_height": null,
            "min_width": null,
            "object_fit": null,
            "object_position": null,
            "order": null,
            "overflow": null,
            "overflow_x": null,
            "overflow_y": null,
            "padding": null,
            "right": null,
            "top": null,
            "visibility": null,
            "width": null
          }
        },
        "d6025d612c8341cf85f7781804b6a1f2": {
          "model_module": "@jupyter-widgets/controls",
          "model_name": "DescriptionStyleModel",
          "model_module_version": "1.5.0",
          "state": {
            "_model_module": "@jupyter-widgets/controls",
            "_model_module_version": "1.5.0",
            "_model_name": "DescriptionStyleModel",
            "_view_count": null,
            "_view_module": "@jupyter-widgets/base",
            "_view_module_version": "1.2.0",
            "_view_name": "StyleView",
            "description_width": ""
          }
        },
        "bf26a80ec3d04917ac223a15e47a10ad": {
          "model_module": "@jupyter-widgets/controls",
          "model_name": "HBoxModel",
          "model_module_version": "1.5.0",
          "state": {
            "_dom_classes": [],
            "_model_module": "@jupyter-widgets/controls",
            "_model_module_version": "1.5.0",
            "_model_name": "HBoxModel",
            "_view_count": null,
            "_view_module": "@jupyter-widgets/controls",
            "_view_module_version": "1.5.0",
            "_view_name": "HBoxView",
            "box_style": "",
            "children": [
              "IPY_MODEL_18deece554e04eb1a7316727e1cc8e53",
              "IPY_MODEL_9fe945a07f3c4cc6bd8be6f91a61c7a0",
              "IPY_MODEL_320fa518b53349bcaaba71c51b610cda"
            ],
            "layout": "IPY_MODEL_eccefafddd4848c1916ab9dfb7d770cb"
          }
        },
        "18deece554e04eb1a7316727e1cc8e53": {
          "model_module": "@jupyter-widgets/controls",
          "model_name": "HTMLModel",
          "model_module_version": "1.5.0",
          "state": {
            "_dom_classes": [],
            "_model_module": "@jupyter-widgets/controls",
            "_model_module_version": "1.5.0",
            "_model_name": "HTMLModel",
            "_view_count": null,
            "_view_module": "@jupyter-widgets/controls",
            "_view_module_version": "1.5.0",
            "_view_name": "HTMLView",
            "description": "",
            "description_tooltip": null,
            "layout": "IPY_MODEL_8d9ea84a861b404cb438d9e4ab292189",
            "placeholder": "​",
            "style": "IPY_MODEL_756c7fecb2294bc4a27eff22ae3ad4c4",
            "value": "tokenizer.json: 100%"
          }
        },
        "9fe945a07f3c4cc6bd8be6f91a61c7a0": {
          "model_module": "@jupyter-widgets/controls",
          "model_name": "FloatProgressModel",
          "model_module_version": "1.5.0",
          "state": {
            "_dom_classes": [],
            "_model_module": "@jupyter-widgets/controls",
            "_model_module_version": "1.5.0",
            "_model_name": "FloatProgressModel",
            "_view_count": null,
            "_view_module": "@jupyter-widgets/controls",
            "_view_module_version": "1.5.0",
            "_view_name": "ProgressView",
            "bar_style": "success",
            "description": "",
            "description_tooltip": null,
            "layout": "IPY_MODEL_0cd54a913b0b46439a69361fa0a12d22",
            "max": 466062,
            "min": 0,
            "orientation": "horizontal",
            "style": "IPY_MODEL_98b13d9e8c4041cf9368f211e2c1a0c8",
            "value": 466062
          }
        },
        "320fa518b53349bcaaba71c51b610cda": {
          "model_module": "@jupyter-widgets/controls",
          "model_name": "HTMLModel",
          "model_module_version": "1.5.0",
          "state": {
            "_dom_classes": [],
            "_model_module": "@jupyter-widgets/controls",
            "_model_module_version": "1.5.0",
            "_model_name": "HTMLModel",
            "_view_count": null,
            "_view_module": "@jupyter-widgets/controls",
            "_view_module_version": "1.5.0",
            "_view_name": "HTMLView",
            "description": "",
            "description_tooltip": null,
            "layout": "IPY_MODEL_6dba36d53f7142948b247cfc46b64708",
            "placeholder": "​",
            "style": "IPY_MODEL_4ac2ccc0a7cf44deb7d1e3e0847b293e",
            "value": " 466k/466k [00:00&lt;00:00, 3.07MB/s]"
          }
        },
        "eccefafddd4848c1916ab9dfb7d770cb": {
          "model_module": "@jupyter-widgets/base",
          "model_name": "LayoutModel",
          "model_module_version": "1.2.0",
          "state": {
            "_model_module": "@jupyter-widgets/base",
            "_model_module_version": "1.2.0",
            "_model_name": "LayoutModel",
            "_view_count": null,
            "_view_module": "@jupyter-widgets/base",
            "_view_module_version": "1.2.0",
            "_view_name": "LayoutView",
            "align_content": null,
            "align_items": null,
            "align_self": null,
            "border": null,
            "bottom": null,
            "display": null,
            "flex": null,
            "flex_flow": null,
            "grid_area": null,
            "grid_auto_columns": null,
            "grid_auto_flow": null,
            "grid_auto_rows": null,
            "grid_column": null,
            "grid_gap": null,
            "grid_row": null,
            "grid_template_areas": null,
            "grid_template_columns": null,
            "grid_template_rows": null,
            "height": null,
            "justify_content": null,
            "justify_items": null,
            "left": null,
            "margin": null,
            "max_height": null,
            "max_width": null,
            "min_height": null,
            "min_width": null,
            "object_fit": null,
            "object_position": null,
            "order": null,
            "overflow": null,
            "overflow_x": null,
            "overflow_y": null,
            "padding": null,
            "right": null,
            "top": null,
            "visibility": null,
            "width": null
          }
        },
        "8d9ea84a861b404cb438d9e4ab292189": {
          "model_module": "@jupyter-widgets/base",
          "model_name": "LayoutModel",
          "model_module_version": "1.2.0",
          "state": {
            "_model_module": "@jupyter-widgets/base",
            "_model_module_version": "1.2.0",
            "_model_name": "LayoutModel",
            "_view_count": null,
            "_view_module": "@jupyter-widgets/base",
            "_view_module_version": "1.2.0",
            "_view_name": "LayoutView",
            "align_content": null,
            "align_items": null,
            "align_self": null,
            "border": null,
            "bottom": null,
            "display": null,
            "flex": null,
            "flex_flow": null,
            "grid_area": null,
            "grid_auto_columns": null,
            "grid_auto_flow": null,
            "grid_auto_rows": null,
            "grid_column": null,
            "grid_gap": null,
            "grid_row": null,
            "grid_template_areas": null,
            "grid_template_columns": null,
            "grid_template_rows": null,
            "height": null,
            "justify_content": null,
            "justify_items": null,
            "left": null,
            "margin": null,
            "max_height": null,
            "max_width": null,
            "min_height": null,
            "min_width": null,
            "object_fit": null,
            "object_position": null,
            "order": null,
            "overflow": null,
            "overflow_x": null,
            "overflow_y": null,
            "padding": null,
            "right": null,
            "top": null,
            "visibility": null,
            "width": null
          }
        },
        "756c7fecb2294bc4a27eff22ae3ad4c4": {
          "model_module": "@jupyter-widgets/controls",
          "model_name": "DescriptionStyleModel",
          "model_module_version": "1.5.0",
          "state": {
            "_model_module": "@jupyter-widgets/controls",
            "_model_module_version": "1.5.0",
            "_model_name": "DescriptionStyleModel",
            "_view_count": null,
            "_view_module": "@jupyter-widgets/base",
            "_view_module_version": "1.2.0",
            "_view_name": "StyleView",
            "description_width": ""
          }
        },
        "0cd54a913b0b46439a69361fa0a12d22": {
          "model_module": "@jupyter-widgets/base",
          "model_name": "LayoutModel",
          "model_module_version": "1.2.0",
          "state": {
            "_model_module": "@jupyter-widgets/base",
            "_model_module_version": "1.2.0",
            "_model_name": "LayoutModel",
            "_view_count": null,
            "_view_module": "@jupyter-widgets/base",
            "_view_module_version": "1.2.0",
            "_view_name": "LayoutView",
            "align_content": null,
            "align_items": null,
            "align_self": null,
            "border": null,
            "bottom": null,
            "display": null,
            "flex": null,
            "flex_flow": null,
            "grid_area": null,
            "grid_auto_columns": null,
            "grid_auto_flow": null,
            "grid_auto_rows": null,
            "grid_column": null,
            "grid_gap": null,
            "grid_row": null,
            "grid_template_areas": null,
            "grid_template_columns": null,
            "grid_template_rows": null,
            "height": null,
            "justify_content": null,
            "justify_items": null,
            "left": null,
            "margin": null,
            "max_height": null,
            "max_width": null,
            "min_height": null,
            "min_width": null,
            "object_fit": null,
            "object_position": null,
            "order": null,
            "overflow": null,
            "overflow_x": null,
            "overflow_y": null,
            "padding": null,
            "right": null,
            "top": null,
            "visibility": null,
            "width": null
          }
        },
        "98b13d9e8c4041cf9368f211e2c1a0c8": {
          "model_module": "@jupyter-widgets/controls",
          "model_name": "ProgressStyleModel",
          "model_module_version": "1.5.0",
          "state": {
            "_model_module": "@jupyter-widgets/controls",
            "_model_module_version": "1.5.0",
            "_model_name": "ProgressStyleModel",
            "_view_count": null,
            "_view_module": "@jupyter-widgets/base",
            "_view_module_version": "1.2.0",
            "_view_name": "StyleView",
            "bar_color": null,
            "description_width": ""
          }
        },
        "6dba36d53f7142948b247cfc46b64708": {
          "model_module": "@jupyter-widgets/base",
          "model_name": "LayoutModel",
          "model_module_version": "1.2.0",
          "state": {
            "_model_module": "@jupyter-widgets/base",
            "_model_module_version": "1.2.0",
            "_model_name": "LayoutModel",
            "_view_count": null,
            "_view_module": "@jupyter-widgets/base",
            "_view_module_version": "1.2.0",
            "_view_name": "LayoutView",
            "align_content": null,
            "align_items": null,
            "align_self": null,
            "border": null,
            "bottom": null,
            "display": null,
            "flex": null,
            "flex_flow": null,
            "grid_area": null,
            "grid_auto_columns": null,
            "grid_auto_flow": null,
            "grid_auto_rows": null,
            "grid_column": null,
            "grid_gap": null,
            "grid_row": null,
            "grid_template_areas": null,
            "grid_template_columns": null,
            "grid_template_rows": null,
            "height": null,
            "justify_content": null,
            "justify_items": null,
            "left": null,
            "margin": null,
            "max_height": null,
            "max_width": null,
            "min_height": null,
            "min_width": null,
            "object_fit": null,
            "object_position": null,
            "order": null,
            "overflow": null,
            "overflow_x": null,
            "overflow_y": null,
            "padding": null,
            "right": null,
            "top": null,
            "visibility": null,
            "width": null
          }
        },
        "4ac2ccc0a7cf44deb7d1e3e0847b293e": {
          "model_module": "@jupyter-widgets/controls",
          "model_name": "DescriptionStyleModel",
          "model_module_version": "1.5.0",
          "state": {
            "_model_module": "@jupyter-widgets/controls",
            "_model_module_version": "1.5.0",
            "_model_name": "DescriptionStyleModel",
            "_view_count": null,
            "_view_module": "@jupyter-widgets/base",
            "_view_module_version": "1.2.0",
            "_view_name": "StyleView",
            "description_width": ""
          }
        },
        "ef199f79266141a5bf41f2cdb8591b43": {
          "model_module": "@jupyter-widgets/controls",
          "model_name": "HBoxModel",
          "model_module_version": "1.5.0",
          "state": {
            "_dom_classes": [],
            "_model_module": "@jupyter-widgets/controls",
            "_model_module_version": "1.5.0",
            "_model_name": "HBoxModel",
            "_view_count": null,
            "_view_module": "@jupyter-widgets/controls",
            "_view_module_version": "1.5.0",
            "_view_name": "HBoxView",
            "box_style": "",
            "children": [
              "IPY_MODEL_d9f62ee066624fb2b40d760c3cdd5796",
              "IPY_MODEL_5b6c76e43c34437ba067d0ef640fd82d",
              "IPY_MODEL_fbbf7c9d170341858e22d7f0811ab083"
            ],
            "layout": "IPY_MODEL_2591bed469154a378b8f9515b1f053c1"
          }
        },
        "d9f62ee066624fb2b40d760c3cdd5796": {
          "model_module": "@jupyter-widgets/controls",
          "model_name": "HTMLModel",
          "model_module_version": "1.5.0",
          "state": {
            "_dom_classes": [],
            "_model_module": "@jupyter-widgets/controls",
            "_model_module_version": "1.5.0",
            "_model_name": "HTMLModel",
            "_view_count": null,
            "_view_module": "@jupyter-widgets/controls",
            "_view_module_version": "1.5.0",
            "_view_name": "HTMLView",
            "description": "",
            "description_tooltip": null,
            "layout": "IPY_MODEL_fa74e103e82e4dd3bd5b2e6678973393",
            "placeholder": "​",
            "style": "IPY_MODEL_d8b420e5adcf44f7b410816bd23fcbae",
            "value": "model.safetensors: 100%"
          }
        },
        "5b6c76e43c34437ba067d0ef640fd82d": {
          "model_module": "@jupyter-widgets/controls",
          "model_name": "FloatProgressModel",
          "model_module_version": "1.5.0",
          "state": {
            "_dom_classes": [],
            "_model_module": "@jupyter-widgets/controls",
            "_model_module_version": "1.5.0",
            "_model_name": "FloatProgressModel",
            "_view_count": null,
            "_view_module": "@jupyter-widgets/controls",
            "_view_module_version": "1.5.0",
            "_view_name": "ProgressView",
            "bar_style": "success",
            "description": "",
            "description_tooltip": null,
            "layout": "IPY_MODEL_89de0134981e456da3eea161c80cfffe",
            "max": 440449768,
            "min": 0,
            "orientation": "horizontal",
            "style": "IPY_MODEL_c5debb616738497a929bdcb06a35ef73",
            "value": 440449768
          }
        },
        "fbbf7c9d170341858e22d7f0811ab083": {
          "model_module": "@jupyter-widgets/controls",
          "model_name": "HTMLModel",
          "model_module_version": "1.5.0",
          "state": {
            "_dom_classes": [],
            "_model_module": "@jupyter-widgets/controls",
            "_model_module_version": "1.5.0",
            "_model_name": "HTMLModel",
            "_view_count": null,
            "_view_module": "@jupyter-widgets/controls",
            "_view_module_version": "1.5.0",
            "_view_name": "HTMLView",
            "description": "",
            "description_tooltip": null,
            "layout": "IPY_MODEL_0557a1dfd779415b96151336c6c73aa9",
            "placeholder": "​",
            "style": "IPY_MODEL_87b685ff137c49d3a2be68b5459b0717",
            "value": " 440M/440M [00:06&lt;00:00, 106MB/s]"
          }
        },
        "2591bed469154a378b8f9515b1f053c1": {
          "model_module": "@jupyter-widgets/base",
          "model_name": "LayoutModel",
          "model_module_version": "1.2.0",
          "state": {
            "_model_module": "@jupyter-widgets/base",
            "_model_module_version": "1.2.0",
            "_model_name": "LayoutModel",
            "_view_count": null,
            "_view_module": "@jupyter-widgets/base",
            "_view_module_version": "1.2.0",
            "_view_name": "LayoutView",
            "align_content": null,
            "align_items": null,
            "align_self": null,
            "border": null,
            "bottom": null,
            "display": null,
            "flex": null,
            "flex_flow": null,
            "grid_area": null,
            "grid_auto_columns": null,
            "grid_auto_flow": null,
            "grid_auto_rows": null,
            "grid_column": null,
            "grid_gap": null,
            "grid_row": null,
            "grid_template_areas": null,
            "grid_template_columns": null,
            "grid_template_rows": null,
            "height": null,
            "justify_content": null,
            "justify_items": null,
            "left": null,
            "margin": null,
            "max_height": null,
            "max_width": null,
            "min_height": null,
            "min_width": null,
            "object_fit": null,
            "object_position": null,
            "order": null,
            "overflow": null,
            "overflow_x": null,
            "overflow_y": null,
            "padding": null,
            "right": null,
            "top": null,
            "visibility": null,
            "width": null
          }
        },
        "fa74e103e82e4dd3bd5b2e6678973393": {
          "model_module": "@jupyter-widgets/base",
          "model_name": "LayoutModel",
          "model_module_version": "1.2.0",
          "state": {
            "_model_module": "@jupyter-widgets/base",
            "_model_module_version": "1.2.0",
            "_model_name": "LayoutModel",
            "_view_count": null,
            "_view_module": "@jupyter-widgets/base",
            "_view_module_version": "1.2.0",
            "_view_name": "LayoutView",
            "align_content": null,
            "align_items": null,
            "align_self": null,
            "border": null,
            "bottom": null,
            "display": null,
            "flex": null,
            "flex_flow": null,
            "grid_area": null,
            "grid_auto_columns": null,
            "grid_auto_flow": null,
            "grid_auto_rows": null,
            "grid_column": null,
            "grid_gap": null,
            "grid_row": null,
            "grid_template_areas": null,
            "grid_template_columns": null,
            "grid_template_rows": null,
            "height": null,
            "justify_content": null,
            "justify_items": null,
            "left": null,
            "margin": null,
            "max_height": null,
            "max_width": null,
            "min_height": null,
            "min_width": null,
            "object_fit": null,
            "object_position": null,
            "order": null,
            "overflow": null,
            "overflow_x": null,
            "overflow_y": null,
            "padding": null,
            "right": null,
            "top": null,
            "visibility": null,
            "width": null
          }
        },
        "d8b420e5adcf44f7b410816bd23fcbae": {
          "model_module": "@jupyter-widgets/controls",
          "model_name": "DescriptionStyleModel",
          "model_module_version": "1.5.0",
          "state": {
            "_model_module": "@jupyter-widgets/controls",
            "_model_module_version": "1.5.0",
            "_model_name": "DescriptionStyleModel",
            "_view_count": null,
            "_view_module": "@jupyter-widgets/base",
            "_view_module_version": "1.2.0",
            "_view_name": "StyleView",
            "description_width": ""
          }
        },
        "89de0134981e456da3eea161c80cfffe": {
          "model_module": "@jupyter-widgets/base",
          "model_name": "LayoutModel",
          "model_module_version": "1.2.0",
          "state": {
            "_model_module": "@jupyter-widgets/base",
            "_model_module_version": "1.2.0",
            "_model_name": "LayoutModel",
            "_view_count": null,
            "_view_module": "@jupyter-widgets/base",
            "_view_module_version": "1.2.0",
            "_view_name": "LayoutView",
            "align_content": null,
            "align_items": null,
            "align_self": null,
            "border": null,
            "bottom": null,
            "display": null,
            "flex": null,
            "flex_flow": null,
            "grid_area": null,
            "grid_auto_columns": null,
            "grid_auto_flow": null,
            "grid_auto_rows": null,
            "grid_column": null,
            "grid_gap": null,
            "grid_row": null,
            "grid_template_areas": null,
            "grid_template_columns": null,
            "grid_template_rows": null,
            "height": null,
            "justify_content": null,
            "justify_items": null,
            "left": null,
            "margin": null,
            "max_height": null,
            "max_width": null,
            "min_height": null,
            "min_width": null,
            "object_fit": null,
            "object_position": null,
            "order": null,
            "overflow": null,
            "overflow_x": null,
            "overflow_y": null,
            "padding": null,
            "right": null,
            "top": null,
            "visibility": null,
            "width": null
          }
        },
        "c5debb616738497a929bdcb06a35ef73": {
          "model_module": "@jupyter-widgets/controls",
          "model_name": "ProgressStyleModel",
          "model_module_version": "1.5.0",
          "state": {
            "_model_module": "@jupyter-widgets/controls",
            "_model_module_version": "1.5.0",
            "_model_name": "ProgressStyleModel",
            "_view_count": null,
            "_view_module": "@jupyter-widgets/base",
            "_view_module_version": "1.2.0",
            "_view_name": "StyleView",
            "bar_color": null,
            "description_width": ""
          }
        },
        "0557a1dfd779415b96151336c6c73aa9": {
          "model_module": "@jupyter-widgets/base",
          "model_name": "LayoutModel",
          "model_module_version": "1.2.0",
          "state": {
            "_model_module": "@jupyter-widgets/base",
            "_model_module_version": "1.2.0",
            "_model_name": "LayoutModel",
            "_view_count": null,
            "_view_module": "@jupyter-widgets/base",
            "_view_module_version": "1.2.0",
            "_view_name": "LayoutView",
            "align_content": null,
            "align_items": null,
            "align_self": null,
            "border": null,
            "bottom": null,
            "display": null,
            "flex": null,
            "flex_flow": null,
            "grid_area": null,
            "grid_auto_columns": null,
            "grid_auto_flow": null,
            "grid_auto_rows": null,
            "grid_column": null,
            "grid_gap": null,
            "grid_row": null,
            "grid_template_areas": null,
            "grid_template_columns": null,
            "grid_template_rows": null,
            "height": null,
            "justify_content": null,
            "justify_items": null,
            "left": null,
            "margin": null,
            "max_height": null,
            "max_width": null,
            "min_height": null,
            "min_width": null,
            "object_fit": null,
            "object_position": null,
            "order": null,
            "overflow": null,
            "overflow_x": null,
            "overflow_y": null,
            "padding": null,
            "right": null,
            "top": null,
            "visibility": null,
            "width": null
          }
        },
        "87b685ff137c49d3a2be68b5459b0717": {
          "model_module": "@jupyter-widgets/controls",
          "model_name": "DescriptionStyleModel",
          "model_module_version": "1.5.0",
          "state": {
            "_model_module": "@jupyter-widgets/controls",
            "_model_module_version": "1.5.0",
            "_model_name": "DescriptionStyleModel",
            "_view_count": null,
            "_view_module": "@jupyter-widgets/base",
            "_view_module_version": "1.2.0",
            "_view_name": "StyleView",
            "description_width": ""
          }
        }
      }
    }
  },
  "cells": [
    {
      "cell_type": "code",
      "execution_count": null,
      "metadata": {
        "id": "2fEKzwbrSJ0o"
      },
      "outputs": [],
      "source": [
        "from transformers import AutoTokenizer, AutoModelForMaskedLM\n",
        "import torch"
      ]
    },
    {
      "cell_type": "code",
      "source": [],
      "metadata": {
        "id": "8lThN1F-U5YK"
      },
      "execution_count": null,
      "outputs": []
    },
    {
      "cell_type": "code",
      "source": [
        "import string\n",
        "\n",
        "# Example sentence with punctuation\n",
        "sentence =\"النادي الأهليء\"\n",
        "\n",
        "# Remove punctuation from the sentence\n",
        "sentence_no_punct = sentence.translate(str.maketrans(\"\", \"\", string.punctuation))\n",
        "\n",
        "# Split the sentence into words\n",
        "words = sentence_no_punct.split()\n",
        "\n",
        "# Print each word in the sentence\n",
        "for word in words:\n",
        "    print(word)"
      ],
      "metadata": {
        "colab": {
          "base_uri": "https://localhost:8080/"
        },
        "id": "nbzv7MRyU5zp",
        "outputId": "03defea8-804a-4ec5-d485-b8e7989cc55e"
      },
      "execution_count": null,
      "outputs": [
        {
          "output_type": "stream",
          "name": "stdout",
          "text": [
            "النادي\n",
            "الأهليء\n"
          ]
        }
      ]
    },
    {
      "cell_type": "code",
      "source": [
        "from ar_corrector.corrector import Corrector\n",
        "corr = Corrector()"
      ],
      "metadata": {
        "id": "HCspFdWrU527"
      },
      "execution_count": null,
      "outputs": []
    },
    {
      "cell_type": "code",
      "source": [
        "pip install ar_corrector"
      ],
      "metadata": {
        "colab": {
          "base_uri": "https://localhost:8080/"
        },
        "id": "Si-Rx4p8gd2A",
        "outputId": "50447415-90de-4771-c007-ddf0d367da2b"
      },
      "execution_count": null,
      "outputs": [
        {
          "output_type": "stream",
          "name": "stdout",
          "text": [
            "Collecting ar_corrector\n",
            "  Downloading ar_corrector-1.1.6-py3-none-any.whl (53.4 MB)\n",
            "\u001b[2K     \u001b[90m━━━━━━━━━━━━━━━━━━━━━━━━━━━━━━━━━━━━━━━━\u001b[0m \u001b[32m53.4/53.4 MB\u001b[0m \u001b[31m9.4 MB/s\u001b[0m eta \u001b[36m0:00:00\u001b[0m\n",
            "\u001b[?25hRequirement already satisfied: requests in /usr/local/lib/python3.10/dist-packages (from ar_corrector) (2.31.0)\n",
            "Requirement already satisfied: charset-normalizer<4,>=2 in /usr/local/lib/python3.10/dist-packages (from requests->ar_corrector) (3.3.2)\n",
            "Requirement already satisfied: idna<4,>=2.5 in /usr/local/lib/python3.10/dist-packages (from requests->ar_corrector) (3.6)\n",
            "Requirement already satisfied: urllib3<3,>=1.21.1 in /usr/local/lib/python3.10/dist-packages (from requests->ar_corrector) (2.0.7)\n",
            "Requirement already satisfied: certifi>=2017.4.17 in /usr/local/lib/python3.10/dist-packages (from requests->ar_corrector) (2023.11.17)\n",
            "Installing collected packages: ar_corrector\n",
            "Successfully installed ar_corrector-1.1.6\n"
          ]
        }
      ]
    },
    {
      "cell_type": "code",
      "source": [
        "text = \"النادي الأهليء\""
      ],
      "metadata": {
        "id": "o9C_OqFXg4CS"
      },
      "execution_count": null,
      "outputs": []
    },
    {
      "cell_type": "code",
      "source": [
        "print(corr.contextual_correct(text))"
      ],
      "metadata": {
        "colab": {
          "base_uri": "https://localhost:8080/"
        },
        "id": "3PX6B6H5hO7e",
        "outputId": "0ab7bc3f-5674-4f2c-c16a-fba190b9e0c1"
      },
      "execution_count": null,
      "outputs": [
        {
          "output_type": "stream",
          "name": "stdout",
          "text": [
            "النادي الأهلي\n"
          ]
        }
      ]
    },
    {
      "cell_type": "code",
      "source": [
        "text = \" كما اعتمد المجلس المقترح المبدئي لإنشاء فرع النادي الأهلي بالعلمين الجديدة. كما اعتمد المجلس منح شركة الأهلي للمنشآت الرياضية كافة الحقوق المتعلقة بالاستاد المقرر إنشاوٌه خ سر إق الما مساحة 25 فداثا بفرع النادي بالشيخ زايدء ويشمل استادًا رياضيًا ومتحفا وصالة ألعاب ومدرسة وجامعة رياضية وفندقًا.. إلى آخره؛ مع اتخاذ كافة الإجراءات القانونية والإدارية اللازمة لذلك.\""
      ],
      "metadata": {
        "id": "fean2q3ChWpi"
      },
      "execution_count": null,
      "outputs": []
    },
    {
      "cell_type": "code",
      "source": [
        "print(corr.contextual_correct(text))"
      ],
      "metadata": {
        "colab": {
          "base_uri": "https://localhost:8080/"
        },
        "id": "7kAWrJ8Kh9ra",
        "outputId": "0fd80880-1ab2-471d-8293-5adcfe5822c2"
      },
      "execution_count": null,
      "outputs": [
        {
          "output_type": "stream",
          "name": "stdout",
          "text": [
            "كما اعتمد المجلس المقترح المبدئي لإنشاء فرع النادي الأهلي بالعلمين الجديدة كما اعتمد المجلس منح شركة الأهلي للمنشآت الرياضية كافة الحقوق المتعلقة بالاستاد المقرر إنشائه خ سر من الما مساحة من داثا بفرع النادي بالشيخ زايد ويشمل استنادًا رياضية ومتحفا وصالة ألعاب ومدرسة وجامعة رياضية وفندقًا.. إلى آخر مع اتخاذ كافة الإجراءات القانونية والإدارية اللازمة لذلك\n"
          ]
        }
      ]
    },
    {
      "cell_type": "code",
      "source": [
        "text = \"مجلس إدارة النادي الأهليء برئاسة الكابتن محمود الخطيبء عقد اجتماعًا مساء اليوم بمقر النادي بالجزيرة» لمناقشة العديد من الملفات المهمة التي تخص قطاعات النادي المختلفة في الفترة المقبلة. وفي بداية الجلسة استعرض المجلس جدول أعمال الجمعية العمومية العادية التي عقدت بتاريخ  و/١نوفمبر الجاريء وذلك بناءً على الخطاب الوارد إلى النادي من اللجنة الأولمبية المصرية بتاريخ نوفمبر الحالي؛ والذي يعتمد تفويض مجلس الإدارة في سلطات الجمعية العمومية» حيث اعتمد المجلس الميزانية عن العام المالي  -  والتي اقتربت من 5 مليارات جنيه؛ وقرر إرسالها إلى الجهة الإدارية لإرسالها إلى الجهاز المركزي للمحاسبات؛ وفقا لنص لائحة النظام الأساسي. كما استعرض المجلس المقترحات المقدمة من السادة أعضاء الجمعية العمومية» التي كانت محل تقدير من أعضاء مجلس الإدارة: لما تضمنته من مقترحات إيجابية وبناءة تسهم في تطوير مجالات العمل داخل النادي؛ وكلف المجلس الإدارات المختلفة لدراسة العديد من هذه المقترحات, علمًا بأن هناك بعض المقترحات كان قد تم البدء في تنفيذها من قبل مجلس الإدارة بالفعل. اعتمد المجلس الزيادة المقررة لقيمة العضوية الشاملة لمقر النادي بالجزيرة وفروعه المختلفة» التي ارتفعت من  ألفا إلى مليون جنيه للمؤهل العالي» والموافقة على البدء في تطبيقها بداية من  ر/ /5  كما اعتمد المجلس المقترح المبدئي لإنشاء فرع النادي الأهلي بالعلمين الجديدة. كما اعتمد المجلس منح شركة الأهلي للمنشآت الرياضية كافة الحقوق المتعلقة بالاستاد المقرر إنشاوٌه خ سر إق الما مساحة ٣٤ فدانا بفرع النادي بالشيخ زايدء ويشمل استادًا رياضيًا ومتحفا وصالة ألعاب ومدرسة وجامعة رياضية وفندقًا.. إلى آخره؛ مع اتخاذ كافة الإجراءات القانونية والإدارية اللازمة لذلك.\""
      ],
      "metadata": {
        "id": "ve2_F9tniCMe"
      },
      "execution_count": null,
      "outputs": []
    },
    {
      "cell_type": "code",
      "source": [
        "print(corr.contextual_correct(text))"
      ],
      "metadata": {
        "colab": {
          "base_uri": "https://localhost:8080/"
        },
        "id": "And58G-ligtW",
        "outputId": "be9931c6-6dba-4294-af40-658c8ef9cf51"
      },
      "execution_count": null,
      "outputs": [
        {
          "output_type": "stream",
          "name": "stdout",
          "text": [
            "مجلس إدارة النادي الأهلي برئاسة الكابتن محمود الخطيب عقد اجتماع مساء اليوم بمقر النادي بالجزيرة لمناقشة العديد من الملفات المهمة التي تخص قطاعات النادي المختلفة في الفترة المقبلة وفي بداية الجلسة استعرض المجلس جدول أعمال الجمعية العمومية العادية التي عقدت بتاريخ ونوفمبر التاريخ وذلك بناءً على الخطاب الوارد إلى النادي من اللجنة الأولمبية المصرية بتاريخ نوفمبر الحالي والذي يعتمد تفويض مجلس الإدارة في سلطات الجمعية العمومية حيث اعتمد المجلس الميزانية عن العام المالي في والتي اقتربت من أن مليارات جنيه وقرر إرسالها إلى الجهة الإدارية لإرسالها إلى الجهاز المركزي المحاسباتي وفقا لنص لائحة النظام الأساسي كما استعرض المجلس المقترحات المقدمة من السادة أعضاء الجمعية العمومية التي كانت محل تقدير من أعضاء مجلس الإدارة لما تضمنته من مقترحات إيجابية وبناءة تسهم في تطوير مجالات العمل داخل النادي وكلف المجلس الإدارات المختلفة لدراسة العديد من هذه المقترحات علمًا بأن هناك بعض المقترحات كان قد تم البدء في تنفيذها من قبل مجلس الإدارة بالفعل اعتمد المجلس الزيادة المقررة لقيمة العضوية الشاملة لمقر النادي بالجزيرة وفروعه المختلفة التي ارتفعت من ألفا إلى مليون جنيه المؤهل العالي والموافقة على البدء في تطبيقها بداية من أن ما كما اعتمد المجلس المقترح المبدئي لإنشاء فرع النادي الأهلي بالعلمين الجديدة كما اعتمد المجلس منح شركة الأهلي للمنشآت الرياضية كافة الحقوق المتعلقة بالاستاد المقرر إنشائه خ سر من الما مساحة من فدانا بفرع النادي بالشيخ زايد ويشمل استنادًا رياضية ومتحفا وصالة ألعاب ومدرسة وجامعة رياضية وفندقًا.. إلى آخر مع اتخاذ كافة الإجراءات القانونية والإدارية اللازمة لذلك\n"
          ]
        }
      ]
    },
    {
      "cell_type": "code",
      "source": [
        "text = \"ويتوقع الاتحاد البرازيلي التوقيع رسميا مع أنشيلوتي بحلول منتصف ينايرء مما يلغي بند تمديد عقده مع ربإل مدريد لعام آخرء ويقول الاتحاد إن لديه ضمانات قانونية لحماية مصالحه في حال انهيار الصفقة. وقال مسؤول بالاتحاد البرازيلي لرويترز :الرئيس (إدنالدو رودريغيز) لم يكن ليوقع مع فرناندو دينيز بعقد لمدة عام واحد في منصب موقت إذا لم يكن لديه خطة جادة. لم يتغير أي شيء في موقف الرئيس منذ آخر مرة تحدث فيها لوسائل الإعلام. الخطة هي كارلو أنشيلوتي ونحن مرتاحون للغاية وواثقون من التزامنا لحدوث ذلك. وقال رودريغيز لرويترز في مارس الماضيء إن التوقيع مع أنشيلوتي سيكون قرارا من دون تفكير. وعند تقديم المدرب المؤقت دينيز في يوليو الماضيء ظل واثقا: سيكون أنشيلوتي هناء يمكنكم أن تكونوا متأكدين من ذلك. ورفض أنشيلوتي باستمرار المشاركة في هذا النقاشء قائلا: لا أفكرفي ذلك (مستقبلي). أنا فخور أن المنتخب البرازيلي يتحدث عنيء لكنني لن أتحدث عن مستقبلي حتى ينتهي عقّدي. في النهاية» على الأكثر سيكون الانتظار لمدة 5 أشهر. ماذا تعني 5 أشهر عندما تفكر في قرار مصيري في الحياة؟.\""
      ],
      "metadata": {
        "id": "osw4lGAHigwL"
      },
      "execution_count": null,
      "outputs": []
    },
    {
      "cell_type": "code",
      "source": [
        "print(corr.contextual_correct(text))"
      ],
      "metadata": {
        "colab": {
          "base_uri": "https://localhost:8080/"
        },
        "id": "vhddSDDDkpYD",
        "outputId": "923401d2-0bd5-41d1-b06f-d6297405ff7b"
      },
      "execution_count": null,
      "outputs": [
        {
          "output_type": "stream",
          "name": "stdout",
          "text": [
            "ويتوقع الاتحاد البرازيلي التوقيع رسميا مع أنشيلوتي بحلول منتصف ينايرء مما يلغي بند تمديد عقده مع ريال مدريد لعام آخر ويقول الاتحاد إن لديه ضمانات قانونية لحماية مصالحه في حال انهيار الصفقة وقال مسؤول بالاتحاد البرازيلي لرويترز الرئيس (إدنالدو رودريغيز لم يكن ليوقع مع فرناندو دينيز بعقد لمدة عام واحد في منصب موقت إذا لم يكن لديه خطة جادة لم يتغير أي شيء في موقف الرئيس منذ آخر مرة تحدث فيها لوسائل الإعلام الخطة هي كارلو أنشيلوتي ونحن مرتاحون للغاية وواثقون من التزامنا لحدوث ذلك وقال رودريغيز لرويترز في مارس الماضي إن التوقيع مع أنشيلوتي سيكون قرارا من دون تفكير وعند تقديم المدرب المؤقت دينيز في يوليو الماضي ظل واثقا سيكون أنشيلوتي هناء يمكنكم أن تكونوا متأكدين من ذلك ورفض أنشيلوتي باستمرار المشاركة في هذا اللقاء قائلا لا أفكر ذلك (مستقبلي). أنا فخور أن المنتخب البرازيلي يتحدث عن لكنني لن أتحدث عن مستقبلي حتى ينتهي عقدي في النهاية على الأكثر سيكون الانتظار لمدة من شهر ماذا تعني أن أشهر عندما تفكر في قرار مصيري في الحياة\n"
          ]
        }
      ]
    },
    {
      "cell_type": "code",
      "source": [
        "text = \"ينايرء\""
      ],
      "metadata": {
        "id": "D2UE8Opckx3R"
      },
      "execution_count": null,
      "outputs": []
    },
    {
      "cell_type": "code",
      "source": [
        "print(corr.contextual_correct(text))"
      ],
      "metadata": {
        "colab": {
          "base_uri": "https://localhost:8080/"
        },
        "id": "cCiKV5IplNg3",
        "outputId": "c2ae170f-7c01-4332-b869-c262af298b12"
      },
      "execution_count": null,
      "outputs": [
        {
          "output_type": "stream",
          "name": "stdout",
          "text": [
            "ينايرء\n"
          ]
        }
      ]
    },
    {
      "cell_type": "code",
      "source": [
        "pip install farasa"
      ],
      "metadata": {
        "colab": {
          "base_uri": "https://localhost:8080/"
        },
        "id": "4fsl0AbApd2v",
        "outputId": "d3d4f49a-2694-4fa4-ddd3-7561c7a381fd"
      },
      "execution_count": null,
      "outputs": [
        {
          "output_type": "stream",
          "name": "stdout",
          "text": [
            "Collecting farasa\n",
            "  Downloading Farasa-0.0.1-py2.py3-none-any.whl (12.6 MB)\n",
            "\u001b[2K     \u001b[90m━━━━━━━━━━━━━━━━━━━━━━━━━━━━━━━━━━━━━━━━\u001b[0m \u001b[32m12.6/12.6 MB\u001b[0m \u001b[31m30.1 MB/s\u001b[0m eta \u001b[36m0:00:00\u001b[0m\n",
            "\u001b[?25hInstalling collected packages: farasa\n",
            "Successfully installed farasa-0.0.1\n"
          ]
        }
      ]
    },
    {
      "cell_type": "code",
      "source": [
        "from farasa.pos import FarasaPOSTagger\n",
        "from farasa.segmenter import FarasaSegmenter\n",
        "\n",
        "# Function to add punctuation between sentences\n",
        "def add_punctuation_between_sentences(text):\n",
        "    # Initialize Farasa segmenter\n",
        "    segmenter = FarasaSegmenter(interactive=True)\n",
        "\n",
        "    # Segment the input text into sentences\n",
        "    sentences = segmenter.segment(text)\n",
        "\n",
        "    # Add punctuation (a period) between sentences\n",
        "    text_with_punctuation = \" \".join(sentences) + \".\"\n",
        "\n",
        "    return text_with_punctuation\n",
        "\n",
        "# Example usage\n",
        "input_text = \"مرحبا. كيف حالك؟ هل أنت بخير؟\"\n",
        "text_with_punctuation = add_punctuation_between_sentences(input_text)\n",
        "\n",
        "print(\"Original text:\")\n",
        "print(input_text)\n",
        "print(\"\\nText with punctuation:\")\n",
        "print(text_with_punctuation)"
      ],
      "metadata": {
        "colab": {
          "base_uri": "https://localhost:8080/",
          "height": 383
        },
        "id": "hbfB20R6tTQD",
        "outputId": "3d302f8d-e0b1-4dcd-86bf-525e1c19eed4"
      },
      "execution_count": null,
      "outputs": [
        {
          "output_type": "error",
          "ename": "ModuleNotFoundError",
          "evalue": "ignored",
          "traceback": [
            "\u001b[0;31m---------------------------------------------------------------------------\u001b[0m",
            "\u001b[0;31mModuleNotFoundError\u001b[0m                       Traceback (most recent call last)",
            "\u001b[0;32m<ipython-input-40-1e58fd2e22b2>\u001b[0m in \u001b[0;36m<cell line: 1>\u001b[0;34m()\u001b[0m\n\u001b[0;32m----> 1\u001b[0;31m \u001b[0;32mfrom\u001b[0m \u001b[0mfarasa\u001b[0m\u001b[0;34m.\u001b[0m\u001b[0mpos\u001b[0m \u001b[0;32mimport\u001b[0m \u001b[0mFarasaPOSTagger\u001b[0m\u001b[0;34m\u001b[0m\u001b[0;34m\u001b[0m\u001b[0m\n\u001b[0m\u001b[1;32m      2\u001b[0m \u001b[0;32mfrom\u001b[0m \u001b[0mfarasa\u001b[0m\u001b[0;34m.\u001b[0m\u001b[0msegmenter\u001b[0m \u001b[0;32mimport\u001b[0m \u001b[0mFarasaSegmenter\u001b[0m\u001b[0;34m\u001b[0m\u001b[0;34m\u001b[0m\u001b[0m\n\u001b[1;32m      3\u001b[0m \u001b[0;34m\u001b[0m\u001b[0m\n\u001b[1;32m      4\u001b[0m \u001b[0;31m# Function to add punctuation between sentences\u001b[0m\u001b[0;34m\u001b[0m\u001b[0;34m\u001b[0m\u001b[0m\n\u001b[1;32m      5\u001b[0m \u001b[0;32mdef\u001b[0m \u001b[0madd_punctuation_between_sentences\u001b[0m\u001b[0;34m(\u001b[0m\u001b[0mtext\u001b[0m\u001b[0;34m)\u001b[0m\u001b[0;34m:\u001b[0m\u001b[0;34m\u001b[0m\u001b[0;34m\u001b[0m\u001b[0m\n",
            "\u001b[0;31mModuleNotFoundError\u001b[0m: No module named 'farasa.pos'",
            "",
            "\u001b[0;31m---------------------------------------------------------------------------\u001b[0;32m\nNOTE: If your import is failing due to a missing package, you can\nmanually install dependencies using either !pip or !apt.\n\nTo view examples of installing some common dependencies, click the\n\"Open Examples\" button below.\n\u001b[0;31m---------------------------------------------------------------------------\u001b[0m\n"
          ],
          "errorDetails": {
            "actions": [
              {
                "action": "open_url",
                "actionText": "Open Examples",
                "url": "/notebooks/snippets/importing_libraries.ipynb"
              }
            ]
          }
        }
      ]
    },
    {
      "cell_type": "code",
      "source": [
        "from farasa.segmenter import FarasaSegmenter\n",
        "\n",
        "# Function to add punctuation between sentences\n",
        "def add_punctuation_between_sentences(text):\n",
        "    # Initialize Farasa segmenter\n",
        "    segmenter = FarasaSegmenter(interactive=True)\n",
        "\n",
        "    # Segment the input text into sentences\n",
        "    sentences = segmenter.segment(text)\n",
        "\n",
        "    # Add punctuation (a period) between sentences\n",
        "    text_with_punctuation = \" \".join(sentences) + \".\"\n",
        "\n",
        "    return text_with_punctuation\n",
        "\n",
        "# Example usage\n",
        "input_text = \"مرحبا. كيف حالك؟ هل أنت بخير؟\"\n",
        "text_with_punctuation = add_punctuation_between_sentences(input_text)\n",
        "\n",
        "print(\"Original text:\")\n",
        "print(input_text)\n",
        "print(\"\\nText with punctuation:\")\n",
        "print(text_with_punctuation)"
      ],
      "metadata": {
        "colab": {
          "base_uri": "https://localhost:8080/",
          "height": 383
        },
        "id": "ANzBxLkOtTVF",
        "outputId": "f373af65-58e7-483c-950f-221302e05e6c"
      },
      "execution_count": null,
      "outputs": [
        {
          "output_type": "error",
          "ename": "ModuleNotFoundError",
          "evalue": "ignored",
          "traceback": [
            "\u001b[0;31m---------------------------------------------------------------------------\u001b[0m",
            "\u001b[0;31mModuleNotFoundError\u001b[0m                       Traceback (most recent call last)",
            "\u001b[0;32m<ipython-input-41-07745fd339a2>\u001b[0m in \u001b[0;36m<cell line: 1>\u001b[0;34m()\u001b[0m\n\u001b[0;32m----> 1\u001b[0;31m \u001b[0;32mfrom\u001b[0m \u001b[0mfarasa\u001b[0m\u001b[0;34m.\u001b[0m\u001b[0msegmenter\u001b[0m \u001b[0;32mimport\u001b[0m \u001b[0mFarasaSegmenter\u001b[0m\u001b[0;34m\u001b[0m\u001b[0;34m\u001b[0m\u001b[0m\n\u001b[0m\u001b[1;32m      2\u001b[0m \u001b[0;34m\u001b[0m\u001b[0m\n\u001b[1;32m      3\u001b[0m \u001b[0;31m# Function to add punctuation between sentences\u001b[0m\u001b[0;34m\u001b[0m\u001b[0;34m\u001b[0m\u001b[0m\n\u001b[1;32m      4\u001b[0m \u001b[0;32mdef\u001b[0m \u001b[0madd_punctuation_between_sentences\u001b[0m\u001b[0;34m(\u001b[0m\u001b[0mtext\u001b[0m\u001b[0;34m)\u001b[0m\u001b[0;34m:\u001b[0m\u001b[0;34m\u001b[0m\u001b[0;34m\u001b[0m\u001b[0m\n\u001b[1;32m      5\u001b[0m     \u001b[0;31m# Initialize Farasa segmenter\u001b[0m\u001b[0;34m\u001b[0m\u001b[0;34m\u001b[0m\u001b[0m\n",
            "\u001b[0;31mModuleNotFoundError\u001b[0m: No module named 'farasa.segmenter'",
            "",
            "\u001b[0;31m---------------------------------------------------------------------------\u001b[0;32m\nNOTE: If your import is failing due to a missing package, you can\nmanually install dependencies using either !pip or !apt.\n\nTo view examples of installing some common dependencies, click the\n\"Open Examples\" button below.\n\u001b[0;31m---------------------------------------------------------------------------\u001b[0m\n"
          ],
          "errorDetails": {
            "actions": [
              {
                "action": "open_url",
                "actionText": "Open Examples",
                "url": "/notebooks/snippets/importing_libraries.ipynb"
              }
            ]
          }
        }
      ]
    },
    {
      "cell_type": "code",
      "source": [
        "pip install arabicnlp"
      ],
      "metadata": {
        "colab": {
          "base_uri": "https://localhost:8080/"
        },
        "id": "tc6v5R4IuBS0",
        "outputId": "3394e119-d13a-4df4-d781-9d3166879d94"
      },
      "execution_count": null,
      "outputs": [
        {
          "output_type": "stream",
          "name": "stdout",
          "text": [
            "Collecting arabicnlp\n",
            "  Downloading arabicnlp-0.1.7-py3-none-any.whl (14.4 MB)\n",
            "\u001b[2K     \u001b[90m━━━━━━━━━━━━━━━━━━━━━━━━━━━━━━━━━━━━━━━━\u001b[0m \u001b[32m14.4/14.4 MB\u001b[0m \u001b[31m6.9 MB/s\u001b[0m eta \u001b[36m0:00:00\u001b[0m\n",
            "\u001b[?25hRequirement already satisfied: keras in /usr/local/lib/python3.10/dist-packages (from arabicnlp) (2.14.0)\n",
            "Requirement already satisfied: tensorflow in /usr/local/lib/python3.10/dist-packages (from arabicnlp) (2.14.0)\n",
            "Requirement already satisfied: absl-py>=1.0.0 in /usr/local/lib/python3.10/dist-packages (from tensorflow->arabicnlp) (1.4.0)\n",
            "Requirement already satisfied: astunparse>=1.6.0 in /usr/local/lib/python3.10/dist-packages (from tensorflow->arabicnlp) (1.6.3)\n",
            "Requirement already satisfied: flatbuffers>=23.5.26 in /usr/local/lib/python3.10/dist-packages (from tensorflow->arabicnlp) (23.5.26)\n",
            "Requirement already satisfied: gast!=0.5.0,!=0.5.1,!=0.5.2,>=0.2.1 in /usr/local/lib/python3.10/dist-packages (from tensorflow->arabicnlp) (0.5.4)\n",
            "Requirement already satisfied: google-pasta>=0.1.1 in /usr/local/lib/python3.10/dist-packages (from tensorflow->arabicnlp) (0.2.0)\n",
            "Requirement already satisfied: h5py>=2.9.0 in /usr/local/lib/python3.10/dist-packages (from tensorflow->arabicnlp) (3.9.0)\n",
            "Requirement already satisfied: libclang>=13.0.0 in /usr/local/lib/python3.10/dist-packages (from tensorflow->arabicnlp) (16.0.6)\n",
            "Requirement already satisfied: ml-dtypes==0.2.0 in /usr/local/lib/python3.10/dist-packages (from tensorflow->arabicnlp) (0.2.0)\n",
            "Requirement already satisfied: numpy>=1.23.5 in /usr/local/lib/python3.10/dist-packages (from tensorflow->arabicnlp) (1.23.5)\n",
            "Requirement already satisfied: opt-einsum>=2.3.2 in /usr/local/lib/python3.10/dist-packages (from tensorflow->arabicnlp) (3.3.0)\n",
            "Requirement already satisfied: packaging in /usr/local/lib/python3.10/dist-packages (from tensorflow->arabicnlp) (23.2)\n",
            "Requirement already satisfied: protobuf!=4.21.0,!=4.21.1,!=4.21.2,!=4.21.3,!=4.21.4,!=4.21.5,<5.0.0dev,>=3.20.3 in /usr/local/lib/python3.10/dist-packages (from tensorflow->arabicnlp) (3.20.3)\n",
            "Requirement already satisfied: setuptools in /usr/local/lib/python3.10/dist-packages (from tensorflow->arabicnlp) (67.7.2)\n",
            "Requirement already satisfied: six>=1.12.0 in /usr/local/lib/python3.10/dist-packages (from tensorflow->arabicnlp) (1.16.0)\n",
            "Requirement already satisfied: termcolor>=1.1.0 in /usr/local/lib/python3.10/dist-packages (from tensorflow->arabicnlp) (2.3.0)\n",
            "Requirement already satisfied: typing-extensions>=3.6.6 in /usr/local/lib/python3.10/dist-packages (from tensorflow->arabicnlp) (4.5.0)\n",
            "Requirement already satisfied: wrapt<1.15,>=1.11.0 in /usr/local/lib/python3.10/dist-packages (from tensorflow->arabicnlp) (1.14.1)\n",
            "Requirement already satisfied: tensorflow-io-gcs-filesystem>=0.23.1 in /usr/local/lib/python3.10/dist-packages (from tensorflow->arabicnlp) (0.34.0)\n",
            "Requirement already satisfied: grpcio<2.0,>=1.24.3 in /usr/local/lib/python3.10/dist-packages (from tensorflow->arabicnlp) (1.59.3)\n",
            "Requirement already satisfied: tensorboard<2.15,>=2.14 in /usr/local/lib/python3.10/dist-packages (from tensorflow->arabicnlp) (2.14.1)\n",
            "Requirement already satisfied: tensorflow-estimator<2.15,>=2.14.0 in /usr/local/lib/python3.10/dist-packages (from tensorflow->arabicnlp) (2.14.0)\n",
            "Requirement already satisfied: wheel<1.0,>=0.23.0 in /usr/local/lib/python3.10/dist-packages (from astunparse>=1.6.0->tensorflow->arabicnlp) (0.42.0)\n",
            "Requirement already satisfied: google-auth<3,>=1.6.3 in /usr/local/lib/python3.10/dist-packages (from tensorboard<2.15,>=2.14->tensorflow->arabicnlp) (2.17.3)\n",
            "Requirement already satisfied: google-auth-oauthlib<1.1,>=0.5 in /usr/local/lib/python3.10/dist-packages (from tensorboard<2.15,>=2.14->tensorflow->arabicnlp) (1.0.0)\n",
            "Requirement already satisfied: markdown>=2.6.8 in /usr/local/lib/python3.10/dist-packages (from tensorboard<2.15,>=2.14->tensorflow->arabicnlp) (3.5.1)\n",
            "Requirement already satisfied: requests<3,>=2.21.0 in /usr/local/lib/python3.10/dist-packages (from tensorboard<2.15,>=2.14->tensorflow->arabicnlp) (2.31.0)\n",
            "Requirement already satisfied: tensorboard-data-server<0.8.0,>=0.7.0 in /usr/local/lib/python3.10/dist-packages (from tensorboard<2.15,>=2.14->tensorflow->arabicnlp) (0.7.2)\n",
            "Requirement already satisfied: werkzeug>=1.0.1 in /usr/local/lib/python3.10/dist-packages (from tensorboard<2.15,>=2.14->tensorflow->arabicnlp) (3.0.1)\n",
            "Requirement already satisfied: cachetools<6.0,>=2.0.0 in /usr/local/lib/python3.10/dist-packages (from google-auth<3,>=1.6.3->tensorboard<2.15,>=2.14->tensorflow->arabicnlp) (5.3.2)\n",
            "Requirement already satisfied: pyasn1-modules>=0.2.1 in /usr/local/lib/python3.10/dist-packages (from google-auth<3,>=1.6.3->tensorboard<2.15,>=2.14->tensorflow->arabicnlp) (0.3.0)\n",
            "Requirement already satisfied: rsa<5,>=3.1.4 in /usr/local/lib/python3.10/dist-packages (from google-auth<3,>=1.6.3->tensorboard<2.15,>=2.14->tensorflow->arabicnlp) (4.9)\n",
            "Requirement already satisfied: requests-oauthlib>=0.7.0 in /usr/local/lib/python3.10/dist-packages (from google-auth-oauthlib<1.1,>=0.5->tensorboard<2.15,>=2.14->tensorflow->arabicnlp) (1.3.1)\n",
            "Requirement already satisfied: charset-normalizer<4,>=2 in /usr/local/lib/python3.10/dist-packages (from requests<3,>=2.21.0->tensorboard<2.15,>=2.14->tensorflow->arabicnlp) (3.3.2)\n",
            "Requirement already satisfied: idna<4,>=2.5 in /usr/local/lib/python3.10/dist-packages (from requests<3,>=2.21.0->tensorboard<2.15,>=2.14->tensorflow->arabicnlp) (3.6)\n",
            "Requirement already satisfied: urllib3<3,>=1.21.1 in /usr/local/lib/python3.10/dist-packages (from requests<3,>=2.21.0->tensorboard<2.15,>=2.14->tensorflow->arabicnlp) (2.0.7)\n",
            "Requirement already satisfied: certifi>=2017.4.17 in /usr/local/lib/python3.10/dist-packages (from requests<3,>=2.21.0->tensorboard<2.15,>=2.14->tensorflow->arabicnlp) (2023.11.17)\n",
            "Requirement already satisfied: MarkupSafe>=2.1.1 in /usr/local/lib/python3.10/dist-packages (from werkzeug>=1.0.1->tensorboard<2.15,>=2.14->tensorflow->arabicnlp) (2.1.3)\n",
            "Requirement already satisfied: pyasn1<0.6.0,>=0.4.6 in /usr/local/lib/python3.10/dist-packages (from pyasn1-modules>=0.2.1->google-auth<3,>=1.6.3->tensorboard<2.15,>=2.14->tensorflow->arabicnlp) (0.5.1)\n",
            "Requirement already satisfied: oauthlib>=3.0.0 in /usr/local/lib/python3.10/dist-packages (from requests-oauthlib>=0.7.0->google-auth-oauthlib<1.1,>=0.5->tensorboard<2.15,>=2.14->tensorflow->arabicnlp) (3.2.2)\n",
            "Installing collected packages: arabicnlp\n",
            "Successfully installed arabicnlp-0.1.7\n"
          ]
        }
      ]
    },
    {
      "cell_type": "code",
      "source": [
        "from arabicnlp import ArabicNLP\n",
        "\n",
        "# Initialize the ArabicNLP object\n",
        "anlp = ArabicNLP()\n",
        "\n",
        "# Input text\n",
        "text = \"السلام عليكم. كيف حالك؟ أتمنى أن تكون بخير.\"\n",
        "\n",
        "# Add punctuation marks between sentences\n",
        "result = anlp.add_punctuation(text)\n",
        "\n",
        "print(result)"
      ],
      "metadata": {
        "colab": {
          "base_uri": "https://localhost:8080/",
          "height": 462
        },
        "id": "f_yibRVltlY2",
        "outputId": "f73fba45-0139-4186-a78b-68098187a03c"
      },
      "execution_count": null,
      "outputs": [
        {
          "output_type": "stream",
          "name": "stderr",
          "text": [
            "WARNING:tensorflow:Layer lstm_3 will not use cuDNN kernels since it doesn't meet the criteria. It will use a generic GPU kernel as fallback when running on GPU.\n",
            "WARNING:tensorflow:Layer lstm_3 will not use cuDNN kernels since it doesn't meet the criteria. It will use a generic GPU kernel as fallback when running on GPU.\n",
            "WARNING:tensorflow:Layer lstm_3 will not use cuDNN kernels since it doesn't meet the criteria. It will use a generic GPU kernel as fallback when running on GPU.\n"
          ]
        },
        {
          "output_type": "error",
          "ename": "AttributeError",
          "evalue": "ignored",
          "traceback": [
            "\u001b[0;31m---------------------------------------------------------------------------\u001b[0m",
            "\u001b[0;31mAttributeError\u001b[0m                            Traceback (most recent call last)",
            "\u001b[0;32m<ipython-input-44-9ff2b67922da>\u001b[0m in \u001b[0;36m<cell line: 1>\u001b[0;34m()\u001b[0m\n\u001b[0;32m----> 1\u001b[0;31m \u001b[0;32mfrom\u001b[0m \u001b[0marabicnlp\u001b[0m \u001b[0;32mimport\u001b[0m \u001b[0mArabicNLP\u001b[0m\u001b[0;34m\u001b[0m\u001b[0;34m\u001b[0m\u001b[0m\n\u001b[0m\u001b[1;32m      2\u001b[0m \u001b[0;34m\u001b[0m\u001b[0m\n\u001b[1;32m      3\u001b[0m \u001b[0;31m# Initialize the ArabicNLP object\u001b[0m\u001b[0;34m\u001b[0m\u001b[0;34m\u001b[0m\u001b[0m\n\u001b[1;32m      4\u001b[0m \u001b[0manlp\u001b[0m \u001b[0;34m=\u001b[0m \u001b[0mArabicNLP\u001b[0m\u001b[0;34m(\u001b[0m\u001b[0;34m)\u001b[0m\u001b[0;34m\u001b[0m\u001b[0;34m\u001b[0m\u001b[0m\n\u001b[1;32m      5\u001b[0m \u001b[0;34m\u001b[0m\u001b[0m\n",
            "\u001b[0;32m/usr/local/lib/python3.10/dist-packages/arabicnlp/__init__.py\u001b[0m in \u001b[0;36m<module>\u001b[0;34m\u001b[0m\n\u001b[0;32m----> 1\u001b[0;31m \u001b[0;32mfrom\u001b[0m \u001b[0;34m.\u001b[0m\u001b[0mcore\u001b[0m \u001b[0;32mimport\u001b[0m \u001b[0mtokens\u001b[0m\u001b[0;34m,\u001b[0m \u001b[0mstems\u001b[0m\u001b[0;34m,\u001b[0m \u001b[0mtags\u001b[0m\u001b[0;34m,\u001b[0m \u001b[0mcorrect\u001b[0m\u001b[0;34m\u001b[0m\u001b[0;34m\u001b[0m\u001b[0m\n\u001b[0m\u001b[1;32m      2\u001b[0m \u001b[0;34m\u001b[0m\u001b[0m\n\u001b[1;32m      3\u001b[0m \u001b[0m__all__\u001b[0m \u001b[0;34m=\u001b[0m \u001b[0;34m(\u001b[0m\u001b[0mtokens\u001b[0m\u001b[0;34m,\u001b[0m \u001b[0mstems\u001b[0m\u001b[0;34m,\u001b[0m \u001b[0mtags\u001b[0m\u001b[0;34m,\u001b[0m \u001b[0mcorrect\u001b[0m\u001b[0;34m)\u001b[0m\u001b[0;34m\u001b[0m\u001b[0;34m\u001b[0m\u001b[0m\n\u001b[1;32m      4\u001b[0m \u001b[0m__version__\u001b[0m \u001b[0;34m=\u001b[0m \u001b[0;34m\"0.1.3\"\u001b[0m\u001b[0;34m\u001b[0m\u001b[0;34m\u001b[0m\u001b[0m\n",
            "\u001b[0;32m/usr/local/lib/python3.10/dist-packages/arabicnlp/core.py\u001b[0m in \u001b[0;36m<module>\u001b[0;34m\u001b[0m\n\u001b[1;32m      1\u001b[0m \u001b[0;32mimport\u001b[0m \u001b[0mre\u001b[0m\u001b[0;34m\u001b[0m\u001b[0;34m\u001b[0m\u001b[0m\n\u001b[1;32m      2\u001b[0m \u001b[0;32mfrom\u001b[0m \u001b[0;34m.\u001b[0m\u001b[0mstemmer\u001b[0m \u001b[0;32mimport\u001b[0m \u001b[0mArabicStemmer\u001b[0m\u001b[0;34m\u001b[0m\u001b[0;34m\u001b[0m\u001b[0m\n\u001b[0;32m----> 3\u001b[0;31m \u001b[0;32mfrom\u001b[0m \u001b[0;34m.\u001b[0m\u001b[0mpos_tagger\u001b[0m \u001b[0;32mimport\u001b[0m \u001b[0mtags\u001b[0m \u001b[0;32mas\u001b[0m \u001b[0m_tags\u001b[0m\u001b[0;34m\u001b[0m\u001b[0;34m\u001b[0m\u001b[0m\n\u001b[0m\u001b[1;32m      4\u001b[0m \u001b[0;32mfrom\u001b[0m \u001b[0;34m.\u001b[0m\u001b[0mcorrection\u001b[0m \u001b[0;32mimport\u001b[0m \u001b[0mspell_checker\u001b[0m\u001b[0;34m\u001b[0m\u001b[0;34m\u001b[0m\u001b[0m\n\u001b[1;32m      5\u001b[0m \u001b[0;34m\u001b[0m\u001b[0m\n",
            "\u001b[0;32m/usr/local/lib/python3.10/dist-packages/arabicnlp/pos_tagger.py\u001b[0m in \u001b[0;36m<module>\u001b[0;34m\u001b[0m\n\u001b[1;32m     70\u001b[0m \u001b[0mmodel\u001b[0m \u001b[0;34m=\u001b[0m \u001b[0mload_model\u001b[0m\u001b[0;34m(\u001b[0m\u001b[0mMODEL_PATH\u001b[0m\u001b[0;34m,\u001b[0m \u001b[0mcustom_objects\u001b[0m\u001b[0;34m=\u001b[0m\u001b[0;34m{\u001b[0m\u001b[0;34m'ignore_accuracy'\u001b[0m\u001b[0;34m:\u001b[0m \u001b[0m_ignore_class_accuracy\u001b[0m\u001b[0;34m(\u001b[0m\u001b[0;34m)\u001b[0m\u001b[0;34m}\u001b[0m\u001b[0;34m)\u001b[0m\u001b[0;34m\u001b[0m\u001b[0;34m\u001b[0m\u001b[0m\n\u001b[1;32m     71\u001b[0m \u001b[0;32mglobal\u001b[0m \u001b[0mgraph\u001b[0m\u001b[0;34m\u001b[0m\u001b[0;34m\u001b[0m\u001b[0m\n\u001b[0;32m---> 72\u001b[0;31m \u001b[0mgraph\u001b[0m \u001b[0;34m=\u001b[0m \u001b[0mtf\u001b[0m\u001b[0;34m.\u001b[0m\u001b[0mget_default_graph\u001b[0m\u001b[0;34m(\u001b[0m\u001b[0;34m)\u001b[0m\u001b[0;34m\u001b[0m\u001b[0;34m\u001b[0m\u001b[0m\n\u001b[0m\u001b[1;32m     73\u001b[0m \u001b[0;34m\u001b[0m\u001b[0m\n\u001b[1;32m     74\u001b[0m \u001b[0;32mwith\u001b[0m \u001b[0mopen\u001b[0m\u001b[0;34m(\u001b[0m\u001b[0mWORDINDEX_PATH\u001b[0m\u001b[0;34m,\u001b[0m \u001b[0;34m'rb'\u001b[0m\u001b[0;34m)\u001b[0m \u001b[0;32mas\u001b[0m \u001b[0mf\u001b[0m\u001b[0;34m:\u001b[0m\u001b[0;34m\u001b[0m\u001b[0;34m\u001b[0m\u001b[0m\n",
            "\u001b[0;31mAttributeError\u001b[0m: module 'tensorflow' has no attribute 'get_default_graph'"
          ]
        }
      ]
    },
    {
      "cell_type": "code",
      "source": [
        "pip install pyarabic"
      ],
      "metadata": {
        "colab": {
          "base_uri": "https://localhost:8080/"
        },
        "id": "21Gev2_quEJ0",
        "outputId": "0d87ebe4-f20e-4259-aae5-b8ca9abf7d2b"
      },
      "execution_count": null,
      "outputs": [
        {
          "output_type": "stream",
          "name": "stdout",
          "text": [
            "Collecting pyarabic\n",
            "  Downloading PyArabic-0.6.15-py3-none-any.whl (126 kB)\n",
            "\u001b[?25l     \u001b[90m━━━━━━━━━━━━━━━━━━━━━━━━━━━━━━━━━━━━━━━━\u001b[0m \u001b[32m0.0/126.4 kB\u001b[0m \u001b[31m?\u001b[0m eta \u001b[36m-:--:--\u001b[0m\r\u001b[2K     \u001b[91m━━━━━━━━━━━━━━━━━━━━━━━━━━━━━\u001b[0m\u001b[90m╺\u001b[0m\u001b[90m━━━━━━━━━━\u001b[0m \u001b[32m92.2/126.4 kB\u001b[0m \u001b[31m2.9 MB/s\u001b[0m eta \u001b[36m0:00:01\u001b[0m\r\u001b[2K     \u001b[90m━━━━━━━━━━━━━━━━━━━━━━━━━━━━━━━━━━━━━━━━\u001b[0m \u001b[32m126.4/126.4 kB\u001b[0m \u001b[31m3.1 MB/s\u001b[0m eta \u001b[36m0:00:00\u001b[0m\n",
            "\u001b[?25hRequirement already satisfied: six>=1.14.0 in /usr/local/lib/python3.10/dist-packages (from pyarabic) (1.16.0)\n",
            "Installing collected packages: pyarabic\n",
            "Successfully installed pyarabic-0.6.15\n"
          ]
        }
      ]
    },
    {
      "cell_type": "code",
      "source": [
        "from pyarabic.araby import sent_tokenize\n",
        "\n",
        "# Input text\n",
        "text = \"السلام عليكم. كيف حالك؟ أتمنى أن تكون بخير.\"\n",
        "\n",
        "# Tokenize the text into sentences\n",
        "sentences = sent_tokenize(text)\n",
        "\n",
        "# Join the sentences with punctuation marks\n",
        "result = \" \".join(sentences)\n",
        "\n",
        "print(result)"
      ],
      "metadata": {
        "colab": {
          "base_uri": "https://localhost:8080/",
          "height": 383
        },
        "id": "N_tl97jqugN7",
        "outputId": "1fdbcaa1-808e-4e77-ee8a-095abf6d41c7"
      },
      "execution_count": null,
      "outputs": [
        {
          "output_type": "error",
          "ename": "ImportError",
          "evalue": "ignored",
          "traceback": [
            "\u001b[0;31m---------------------------------------------------------------------------\u001b[0m",
            "\u001b[0;31mImportError\u001b[0m                               Traceback (most recent call last)",
            "\u001b[0;32m<ipython-input-46-e70b122dc007>\u001b[0m in \u001b[0;36m<cell line: 1>\u001b[0;34m()\u001b[0m\n\u001b[0;32m----> 1\u001b[0;31m \u001b[0;32mfrom\u001b[0m \u001b[0mpyarabic\u001b[0m\u001b[0;34m.\u001b[0m\u001b[0maraby\u001b[0m \u001b[0;32mimport\u001b[0m \u001b[0msent_tokenize\u001b[0m\u001b[0;34m\u001b[0m\u001b[0;34m\u001b[0m\u001b[0m\n\u001b[0m\u001b[1;32m      2\u001b[0m \u001b[0;34m\u001b[0m\u001b[0m\n\u001b[1;32m      3\u001b[0m \u001b[0;31m# Input text\u001b[0m\u001b[0;34m\u001b[0m\u001b[0;34m\u001b[0m\u001b[0m\n\u001b[1;32m      4\u001b[0m \u001b[0mtext\u001b[0m \u001b[0;34m=\u001b[0m \u001b[0;34m\"السلام عليكم. كيف حالك؟ أتمنى أن تكون بخير.\"\u001b[0m\u001b[0;34m\u001b[0m\u001b[0;34m\u001b[0m\u001b[0m\n\u001b[1;32m      5\u001b[0m \u001b[0;34m\u001b[0m\u001b[0m\n",
            "\u001b[0;31mImportError\u001b[0m: cannot import name 'sent_tokenize' from 'pyarabic.araby' (/usr/local/lib/python3.10/dist-packages/pyarabic/araby.py)",
            "",
            "\u001b[0;31m---------------------------------------------------------------------------\u001b[0;32m\nNOTE: If your import is failing due to a missing package, you can\nmanually install dependencies using either !pip or !apt.\n\nTo view examples of installing some common dependencies, click the\n\"Open Examples\" button below.\n\u001b[0;31m---------------------------------------------------------------------------\u001b[0m\n"
          ],
          "errorDetails": {
            "actions": [
              {
                "action": "open_url",
                "actionText": "Open Examples",
                "url": "/notebooks/snippets/importing_libraries.ipynb"
              }
            ]
          }
        }
      ]
    },
    {
      "cell_type": "code",
      "source": [
        "import nltk\n",
        "\n",
        "# Download the necessary resource\n",
        "nltk.download('punkt')\n",
        "\n",
        "# Rest of your code"
      ],
      "metadata": {
        "colab": {
          "base_uri": "https://localhost:8080/"
        },
        "id": "3x8-LxWvu609",
        "outputId": "b322283a-5561-4a6b-c7e2-b505a47f32d4"
      },
      "execution_count": null,
      "outputs": [
        {
          "output_type": "stream",
          "name": "stderr",
          "text": [
            "[nltk_data] Downloading package punkt to /root/nltk_data...\n",
            "[nltk_data]   Package punkt is already up-to-date!\n"
          ]
        },
        {
          "output_type": "execute_result",
          "data": {
            "text/plain": [
              "True"
            ]
          },
          "metadata": {},
          "execution_count": 48
        }
      ]
    },
    {
      "cell_type": "code",
      "source": [
        "pip install stanfordnlp"
      ],
      "metadata": {
        "colab": {
          "base_uri": "https://localhost:8080/"
        },
        "id": "LnU8sDeCwp7Z",
        "outputId": "3254fa5c-c12e-49a4-9cd5-136a52a9fd9e"
      },
      "execution_count": null,
      "outputs": [
        {
          "output_type": "stream",
          "name": "stdout",
          "text": [
            "Collecting stanfordnlp\n",
            "  Downloading stanfordnlp-0.2.0-py3-none-any.whl (158 kB)\n",
            "\u001b[2K     \u001b[90m━━━━━━━━━━━━━━━━━━━━━━━━━━━━━━━━━━━━━━━━\u001b[0m \u001b[32m158.8/158.8 kB\u001b[0m \u001b[31m3.6 MB/s\u001b[0m eta \u001b[36m0:00:00\u001b[0m\n",
            "\u001b[?25hRequirement already satisfied: numpy in /usr/local/lib/python3.10/dist-packages (from stanfordnlp) (1.23.5)\n",
            "Requirement already satisfied: protobuf in /usr/local/lib/python3.10/dist-packages (from stanfordnlp) (3.20.3)\n",
            "Requirement already satisfied: requests in /usr/local/lib/python3.10/dist-packages (from stanfordnlp) (2.31.0)\n",
            "Requirement already satisfied: torch>=1.0.0 in /usr/local/lib/python3.10/dist-packages (from stanfordnlp) (2.1.0+cu118)\n",
            "Requirement already satisfied: tqdm in /usr/local/lib/python3.10/dist-packages (from stanfordnlp) (4.66.1)\n",
            "Requirement already satisfied: filelock in /usr/local/lib/python3.10/dist-packages (from torch>=1.0.0->stanfordnlp) (3.13.1)\n",
            "Requirement already satisfied: typing-extensions in /usr/local/lib/python3.10/dist-packages (from torch>=1.0.0->stanfordnlp) (4.5.0)\n",
            "Requirement already satisfied: sympy in /usr/local/lib/python3.10/dist-packages (from torch>=1.0.0->stanfordnlp) (1.12)\n",
            "Requirement already satisfied: networkx in /usr/local/lib/python3.10/dist-packages (from torch>=1.0.0->stanfordnlp) (3.2.1)\n",
            "Requirement already satisfied: jinja2 in /usr/local/lib/python3.10/dist-packages (from torch>=1.0.0->stanfordnlp) (3.1.2)\n",
            "Requirement already satisfied: fsspec in /usr/local/lib/python3.10/dist-packages (from torch>=1.0.0->stanfordnlp) (2023.6.0)\n",
            "Requirement already satisfied: triton==2.1.0 in /usr/local/lib/python3.10/dist-packages (from torch>=1.0.0->stanfordnlp) (2.1.0)\n",
            "Requirement already satisfied: charset-normalizer<4,>=2 in /usr/local/lib/python3.10/dist-packages (from requests->stanfordnlp) (3.3.2)\n",
            "Requirement already satisfied: idna<4,>=2.5 in /usr/local/lib/python3.10/dist-packages (from requests->stanfordnlp) (3.6)\n",
            "Requirement already satisfied: urllib3<3,>=1.21.1 in /usr/local/lib/python3.10/dist-packages (from requests->stanfordnlp) (2.0.7)\n",
            "Requirement already satisfied: certifi>=2017.4.17 in /usr/local/lib/python3.10/dist-packages (from requests->stanfordnlp) (2023.11.17)\n",
            "Requirement already satisfied: MarkupSafe>=2.0 in /usr/local/lib/python3.10/dist-packages (from jinja2->torch>=1.0.0->stanfordnlp) (2.1.3)\n",
            "Requirement already satisfied: mpmath>=0.19 in /usr/local/lib/python3.10/dist-packages (from sympy->torch>=1.0.0->stanfordnlp) (1.3.0)\n",
            "Installing collected packages: stanfordnlp\n",
            "Successfully installed stanfordnlp-0.2.0\n"
          ]
        }
      ]
    },
    {
      "cell_type": "code",
      "source": [
        "import stanfordnlp\n",
        "\n",
        "# Initialize the StanfordNLP pipeline\n",
        "nlp = stanfordnlp.Pipeline(lang='ar')\n",
        "\n",
        "# Input text\n",
        "text = \"السلام عليكم. كيف حالك؟ أتمنى أن تكون بخير.\"\n",
        "\n",
        "# Process the text\n",
        "doc = nlp(text)\n",
        "\n",
        "# Join the sentences with punctuation marks\n",
        "result = \" \".join([sent.text for sent in doc.sentences])\n",
        "\n",
        "print(result)"
      ],
      "metadata": {
        "colab": {
          "base_uri": "https://localhost:8080/",
          "height": 1000
        },
        "id": "EKDchneSwp8w",
        "outputId": "82033416-8e89-49f1-d949-0314ed4c89b0"
      },
      "execution_count": null,
      "outputs": [
        {
          "output_type": "stream",
          "name": "stderr",
          "text": [
            "ERROR:root:Internal Python error in the inspect module.\n",
            "Below is the traceback from this internal error.\n",
            "\n"
          ]
        },
        {
          "output_type": "stream",
          "name": "stdout",
          "text": [
            "Use device: gpu\n",
            "---\n",
            "Loading: tokenize\n",
            "With settings: \n",
            "{'model_path': '/root/stanfordnlp_resources/ar_padt_models/ar_padt_tokenizer.pt', 'lang': 'ar', 'shorthand': 'ar_padt', 'mode': 'predict'}\n",
            "Cannot load model from /root/stanfordnlp_resources/ar_padt_models/ar_padt_tokenizer.pt\n",
            "Traceback (most recent call last):\n",
            "  File \"/usr/local/lib/python3.10/dist-packages/stanfordnlp/models/tokenize/trainer.py\", line 82, in load\n",
            "    checkpoint = torch.load(filename, lambda storage, loc: storage)\n",
            "  File \"/usr/local/lib/python3.10/dist-packages/torch/serialization.py\", line 986, in load\n",
            "    with _open_file_like(f, 'rb') as opened_file:\n",
            "  File \"/usr/local/lib/python3.10/dist-packages/torch/serialization.py\", line 435, in _open_file_like\n",
            "    return _open_file(name_or_buffer, mode)\n",
            "  File \"/usr/local/lib/python3.10/dist-packages/torch/serialization.py\", line 416, in __init__\n",
            "    super().__init__(open(name, mode))\n",
            "FileNotFoundError: [Errno 2] No such file or directory: '/root/stanfordnlp_resources/ar_padt_models/ar_padt_tokenizer.pt'\n",
            "\n",
            "During handling of the above exception, another exception occurred:\n",
            "\n",
            "Traceback (most recent call last):\n",
            "  File \"/usr/local/lib/python3.10/dist-packages/IPython/core/interactiveshell.py\", line 3553, in run_code\n",
            "    exec(code_obj, self.user_global_ns, self.user_ns)\n",
            "  File \"<ipython-input-51-f9bfff48ef41>\", line 4, in <cell line: 4>\n",
            "    nlp = stanfordnlp.Pipeline(lang='ar')\n",
            "  File \"/usr/local/lib/python3.10/dist-packages/stanfordnlp/pipeline/core.py\", line 121, in __init__\n",
            "    self.processors[processor_name] = NAME_TO_PROCESSOR_CLASS[processor_name](config=curr_processor_config,\n",
            "  File \"/usr/local/lib/python3.10/dist-packages/stanfordnlp/pipeline/processor.py\", line 102, in __init__\n",
            "    self._set_up_model(config, use_gpu)\n",
            "  File \"/usr/local/lib/python3.10/dist-packages/stanfordnlp/pipeline/tokenize_processor.py\", line 31, in _set_up_model\n",
            "    self._trainer = Trainer(model_file=config['model_path'], use_cuda=use_gpu)\n",
            "  File \"/usr/local/lib/python3.10/dist-packages/stanfordnlp/models/tokenize/trainer.py\", line 16, in __init__\n",
            "    self.load(model_file)\n",
            "  File \"/usr/local/lib/python3.10/dist-packages/stanfordnlp/models/tokenize/trainer.py\", line 85, in load\n",
            "    sys.exit(1)\n",
            "SystemExit: 1\n",
            "\n",
            "During handling of the above exception, another exception occurred:\n",
            "\n",
            "Traceback (most recent call last):\n",
            "  File \"/usr/local/lib/python3.10/dist-packages/IPython/core/ultratb.py\", line 1101, in get_records\n",
            "    return _fixed_getinnerframes(etb, number_of_lines_of_context, tb_offset)\n",
            "  File \"/usr/local/lib/python3.10/dist-packages/IPython/core/ultratb.py\", line 248, in wrapped\n",
            "    return f(*args, **kwargs)\n",
            "  File \"/usr/local/lib/python3.10/dist-packages/IPython/core/ultratb.py\", line 281, in _fixed_getinnerframes\n",
            "    records = fix_frame_records_filenames(inspect.getinnerframes(etb, context))\n",
            "  File \"/usr/lib/python3.10/inspect.py\", line 1662, in getinnerframes\n",
            "    frameinfo = (tb.tb_frame,) + getframeinfo(tb, context)\n",
            "AttributeError: 'tuple' object has no attribute 'tb_frame'\n"
          ]
        },
        {
          "output_type": "error",
          "ename": "TypeError",
          "evalue": "ignored",
          "traceback": [
            "\u001b[0;31m---------------------------------------------------------------------------\u001b[0m",
            "\u001b[0;31mFileNotFoundError\u001b[0m                         Traceback (most recent call last)",
            "\u001b[0;32m/usr/local/lib/python3.10/dist-packages/stanfordnlp/models/tokenize/trainer.py\u001b[0m in \u001b[0;36mload\u001b[0;34m(self, filename)\u001b[0m\n\u001b[1;32m     81\u001b[0m         \u001b[0;32mtry\u001b[0m\u001b[0;34m:\u001b[0m\u001b[0;34m\u001b[0m\u001b[0;34m\u001b[0m\u001b[0m\n\u001b[0;32m---> 82\u001b[0;31m             \u001b[0mcheckpoint\u001b[0m \u001b[0;34m=\u001b[0m \u001b[0mtorch\u001b[0m\u001b[0;34m.\u001b[0m\u001b[0mload\u001b[0m\u001b[0;34m(\u001b[0m\u001b[0mfilename\u001b[0m\u001b[0;34m,\u001b[0m \u001b[0;32mlambda\u001b[0m \u001b[0mstorage\u001b[0m\u001b[0;34m,\u001b[0m \u001b[0mloc\u001b[0m\u001b[0;34m:\u001b[0m \u001b[0mstorage\u001b[0m\u001b[0;34m)\u001b[0m\u001b[0;34m\u001b[0m\u001b[0;34m\u001b[0m\u001b[0m\n\u001b[0m\u001b[1;32m     83\u001b[0m         \u001b[0;32mexcept\u001b[0m \u001b[0mBaseException\u001b[0m\u001b[0;34m:\u001b[0m\u001b[0;34m\u001b[0m\u001b[0;34m\u001b[0m\u001b[0m\n",
            "\u001b[0;32m/usr/local/lib/python3.10/dist-packages/torch/serialization.py\u001b[0m in \u001b[0;36mload\u001b[0;34m(f, map_location, pickle_module, weights_only, mmap, **pickle_load_args)\u001b[0m\n\u001b[1;32m    985\u001b[0m \u001b[0;34m\u001b[0m\u001b[0m\n\u001b[0;32m--> 986\u001b[0;31m     \u001b[0;32mwith\u001b[0m \u001b[0m_open_file_like\u001b[0m\u001b[0;34m(\u001b[0m\u001b[0mf\u001b[0m\u001b[0;34m,\u001b[0m \u001b[0;34m'rb'\u001b[0m\u001b[0;34m)\u001b[0m \u001b[0;32mas\u001b[0m \u001b[0mopened_file\u001b[0m\u001b[0;34m:\u001b[0m\u001b[0;34m\u001b[0m\u001b[0;34m\u001b[0m\u001b[0m\n\u001b[0m\u001b[1;32m    987\u001b[0m         \u001b[0;32mif\u001b[0m \u001b[0m_is_zipfile\u001b[0m\u001b[0;34m(\u001b[0m\u001b[0mopened_file\u001b[0m\u001b[0;34m)\u001b[0m\u001b[0;34m:\u001b[0m\u001b[0;34m\u001b[0m\u001b[0;34m\u001b[0m\u001b[0m\n",
            "\u001b[0;32m/usr/local/lib/python3.10/dist-packages/torch/serialization.py\u001b[0m in \u001b[0;36m_open_file_like\u001b[0;34m(name_or_buffer, mode)\u001b[0m\n\u001b[1;32m    434\u001b[0m     \u001b[0;32mif\u001b[0m \u001b[0m_is_path\u001b[0m\u001b[0;34m(\u001b[0m\u001b[0mname_or_buffer\u001b[0m\u001b[0;34m)\u001b[0m\u001b[0;34m:\u001b[0m\u001b[0;34m\u001b[0m\u001b[0;34m\u001b[0m\u001b[0m\n\u001b[0;32m--> 435\u001b[0;31m         \u001b[0;32mreturn\u001b[0m \u001b[0m_open_file\u001b[0m\u001b[0;34m(\u001b[0m\u001b[0mname_or_buffer\u001b[0m\u001b[0;34m,\u001b[0m \u001b[0mmode\u001b[0m\u001b[0;34m)\u001b[0m\u001b[0;34m\u001b[0m\u001b[0;34m\u001b[0m\u001b[0m\n\u001b[0m\u001b[1;32m    436\u001b[0m     \u001b[0;32melse\u001b[0m\u001b[0;34m:\u001b[0m\u001b[0;34m\u001b[0m\u001b[0;34m\u001b[0m\u001b[0m\n",
            "\u001b[0;32m/usr/local/lib/python3.10/dist-packages/torch/serialization.py\u001b[0m in \u001b[0;36m__init__\u001b[0;34m(self, name, mode)\u001b[0m\n\u001b[1;32m    415\u001b[0m     \u001b[0;32mdef\u001b[0m \u001b[0m__init__\u001b[0m\u001b[0;34m(\u001b[0m\u001b[0mself\u001b[0m\u001b[0;34m,\u001b[0m \u001b[0mname\u001b[0m\u001b[0;34m,\u001b[0m \u001b[0mmode\u001b[0m\u001b[0;34m)\u001b[0m\u001b[0;34m:\u001b[0m\u001b[0;34m\u001b[0m\u001b[0;34m\u001b[0m\u001b[0m\n\u001b[0;32m--> 416\u001b[0;31m         \u001b[0msuper\u001b[0m\u001b[0;34m(\u001b[0m\u001b[0;34m)\u001b[0m\u001b[0;34m.\u001b[0m\u001b[0m__init__\u001b[0m\u001b[0;34m(\u001b[0m\u001b[0mopen\u001b[0m\u001b[0;34m(\u001b[0m\u001b[0mname\u001b[0m\u001b[0;34m,\u001b[0m \u001b[0mmode\u001b[0m\u001b[0;34m)\u001b[0m\u001b[0;34m)\u001b[0m\u001b[0;34m\u001b[0m\u001b[0;34m\u001b[0m\u001b[0m\n\u001b[0m\u001b[1;32m    417\u001b[0m \u001b[0;34m\u001b[0m\u001b[0m\n",
            "\u001b[0;31mFileNotFoundError\u001b[0m: [Errno 2] No such file or directory: '/root/stanfordnlp_resources/ar_padt_models/ar_padt_tokenizer.pt'",
            "\nDuring handling of the above exception, another exception occurred:\n",
            "\u001b[0;31mSystemExit\u001b[0m                                Traceback (most recent call last)",
            "    \u001b[0;31m[... skipping hidden 1 frame]\u001b[0m\n",
            "\u001b[0;32m<ipython-input-51-f9bfff48ef41>\u001b[0m in \u001b[0;36m<cell line: 4>\u001b[0;34m()\u001b[0m\n\u001b[1;32m      3\u001b[0m \u001b[0;31m# Initialize the StanfordNLP pipeline\u001b[0m\u001b[0;34m\u001b[0m\u001b[0;34m\u001b[0m\u001b[0m\n\u001b[0;32m----> 4\u001b[0;31m \u001b[0mnlp\u001b[0m \u001b[0;34m=\u001b[0m \u001b[0mstanfordnlp\u001b[0m\u001b[0;34m.\u001b[0m\u001b[0mPipeline\u001b[0m\u001b[0;34m(\u001b[0m\u001b[0mlang\u001b[0m\u001b[0;34m=\u001b[0m\u001b[0;34m'ar'\u001b[0m\u001b[0;34m)\u001b[0m\u001b[0;34m\u001b[0m\u001b[0;34m\u001b[0m\u001b[0m\n\u001b[0m\u001b[1;32m      5\u001b[0m \u001b[0;34m\u001b[0m\u001b[0m\n",
            "\u001b[0;32m/usr/local/lib/python3.10/dist-packages/stanfordnlp/pipeline/core.py\u001b[0m in \u001b[0;36m__init__\u001b[0;34m(self, processors, lang, models_dir, treebank, use_gpu, **kwargs)\u001b[0m\n\u001b[1;32m    120\u001b[0m                 \u001b[0;31m# try to build processor, throw an exception if there is a requirements issue\u001b[0m\u001b[0;34m\u001b[0m\u001b[0;34m\u001b[0m\u001b[0m\n\u001b[0;32m--> 121\u001b[0;31m                 self.processors[processor_name] = NAME_TO_PROCESSOR_CLASS[processor_name](config=curr_processor_config,\n\u001b[0m\u001b[1;32m    122\u001b[0m                                                                                           \u001b[0mpipeline\u001b[0m\u001b[0;34m=\u001b[0m\u001b[0mself\u001b[0m\u001b[0;34m,\u001b[0m\u001b[0;34m\u001b[0m\u001b[0;34m\u001b[0m\u001b[0m\n",
            "\u001b[0;32m/usr/local/lib/python3.10/dist-packages/stanfordnlp/pipeline/processor.py\u001b[0m in \u001b[0;36m__init__\u001b[0;34m(self, config, pipeline, use_gpu)\u001b[0m\n\u001b[1;32m    101\u001b[0m         \u001b[0mself\u001b[0m\u001b[0;34m.\u001b[0m\u001b[0m_vocab\u001b[0m \u001b[0;34m=\u001b[0m \u001b[0;32mNone\u001b[0m\u001b[0;34m\u001b[0m\u001b[0;34m\u001b[0m\u001b[0m\n\u001b[0;32m--> 102\u001b[0;31m         \u001b[0mself\u001b[0m\u001b[0;34m.\u001b[0m\u001b[0m_set_up_model\u001b[0m\u001b[0;34m(\u001b[0m\u001b[0mconfig\u001b[0m\u001b[0;34m,\u001b[0m \u001b[0muse_gpu\u001b[0m\u001b[0;34m)\u001b[0m\u001b[0;34m\u001b[0m\u001b[0;34m\u001b[0m\u001b[0m\n\u001b[0m\u001b[1;32m    103\u001b[0m         \u001b[0;31m# run set up process\u001b[0m\u001b[0;34m\u001b[0m\u001b[0;34m\u001b[0m\u001b[0m\n",
            "\u001b[0;32m/usr/local/lib/python3.10/dist-packages/stanfordnlp/pipeline/tokenize_processor.py\u001b[0m in \u001b[0;36m_set_up_model\u001b[0;34m(self, config, use_gpu)\u001b[0m\n\u001b[1;32m     30\u001b[0m         \u001b[0;32melse\u001b[0m\u001b[0;34m:\u001b[0m\u001b[0;34m\u001b[0m\u001b[0;34m\u001b[0m\u001b[0m\n\u001b[0;32m---> 31\u001b[0;31m             \u001b[0mself\u001b[0m\u001b[0;34m.\u001b[0m\u001b[0m_trainer\u001b[0m \u001b[0;34m=\u001b[0m \u001b[0mTrainer\u001b[0m\u001b[0;34m(\u001b[0m\u001b[0mmodel_file\u001b[0m\u001b[0;34m=\u001b[0m\u001b[0mconfig\u001b[0m\u001b[0;34m[\u001b[0m\u001b[0;34m'model_path'\u001b[0m\u001b[0;34m]\u001b[0m\u001b[0;34m,\u001b[0m \u001b[0muse_cuda\u001b[0m\u001b[0;34m=\u001b[0m\u001b[0muse_gpu\u001b[0m\u001b[0;34m)\u001b[0m\u001b[0;34m\u001b[0m\u001b[0;34m\u001b[0m\u001b[0m\n\u001b[0m\u001b[1;32m     32\u001b[0m \u001b[0;34m\u001b[0m\u001b[0m\n",
            "\u001b[0;32m/usr/local/lib/python3.10/dist-packages/stanfordnlp/models/tokenize/trainer.py\u001b[0m in \u001b[0;36m__init__\u001b[0;34m(self, args, vocab, model_file, use_cuda)\u001b[0m\n\u001b[1;32m     15\u001b[0m             \u001b[0;31m# load everything from file\u001b[0m\u001b[0;34m\u001b[0m\u001b[0;34m\u001b[0m\u001b[0m\n\u001b[0;32m---> 16\u001b[0;31m             \u001b[0mself\u001b[0m\u001b[0;34m.\u001b[0m\u001b[0mload\u001b[0m\u001b[0;34m(\u001b[0m\u001b[0mmodel_file\u001b[0m\u001b[0;34m)\u001b[0m\u001b[0;34m\u001b[0m\u001b[0;34m\u001b[0m\u001b[0m\n\u001b[0m\u001b[1;32m     17\u001b[0m         \u001b[0;32melse\u001b[0m\u001b[0;34m:\u001b[0m\u001b[0;34m\u001b[0m\u001b[0;34m\u001b[0m\u001b[0m\n",
            "\u001b[0;32m/usr/local/lib/python3.10/dist-packages/stanfordnlp/models/tokenize/trainer.py\u001b[0m in \u001b[0;36mload\u001b[0;34m(self, filename)\u001b[0m\n\u001b[1;32m     84\u001b[0m             \u001b[0mprint\u001b[0m\u001b[0;34m(\u001b[0m\u001b[0;34m\"Cannot load model from {}\"\u001b[0m\u001b[0;34m.\u001b[0m\u001b[0mformat\u001b[0m\u001b[0;34m(\u001b[0m\u001b[0mfilename\u001b[0m\u001b[0;34m)\u001b[0m\u001b[0;34m)\u001b[0m\u001b[0;34m\u001b[0m\u001b[0;34m\u001b[0m\u001b[0m\n\u001b[0;32m---> 85\u001b[0;31m             \u001b[0msys\u001b[0m\u001b[0;34m.\u001b[0m\u001b[0mexit\u001b[0m\u001b[0;34m(\u001b[0m\u001b[0;36m1\u001b[0m\u001b[0;34m)\u001b[0m\u001b[0;34m\u001b[0m\u001b[0;34m\u001b[0m\u001b[0m\n\u001b[0m\u001b[1;32m     86\u001b[0m         \u001b[0mself\u001b[0m\u001b[0;34m.\u001b[0m\u001b[0margs\u001b[0m \u001b[0;34m=\u001b[0m \u001b[0mcheckpoint\u001b[0m\u001b[0;34m[\u001b[0m\u001b[0;34m'config'\u001b[0m\u001b[0;34m]\u001b[0m\u001b[0;34m\u001b[0m\u001b[0;34m\u001b[0m\u001b[0m\n",
            "\u001b[0;31mSystemExit\u001b[0m: 1",
            "\nDuring handling of the above exception, another exception occurred:\n",
            "\u001b[0;31mTypeError\u001b[0m                                 Traceback (most recent call last)",
            "    \u001b[0;31m[... skipping hidden 1 frame]\u001b[0m\n",
            "\u001b[0;32m/usr/local/lib/python3.10/dist-packages/IPython/core/interactiveshell.py\u001b[0m in \u001b[0;36mshowtraceback\u001b[0;34m(self, exc_tuple, filename, tb_offset, exception_only, running_compiled_code)\u001b[0m\n\u001b[1;32m   2090\u001b[0m                     stb = ['An exception has occurred, use %tb to see '\n\u001b[1;32m   2091\u001b[0m                            'the full traceback.\\n']\n\u001b[0;32m-> 2092\u001b[0;31m                     stb.extend(self.InteractiveTB.get_exception_only(etype,\n\u001b[0m\u001b[1;32m   2093\u001b[0m                                                                      value))\n\u001b[1;32m   2094\u001b[0m                 \u001b[0;32melse\u001b[0m\u001b[0;34m:\u001b[0m\u001b[0;34m\u001b[0m\u001b[0;34m\u001b[0m\u001b[0m\n",
            "\u001b[0;32m/usr/local/lib/python3.10/dist-packages/IPython/core/ultratb.py\u001b[0m in \u001b[0;36mget_exception_only\u001b[0;34m(self, etype, value)\u001b[0m\n\u001b[1;32m    752\u001b[0m         \u001b[0mvalue\u001b[0m \u001b[0;34m:\u001b[0m \u001b[0mexception\u001b[0m \u001b[0mvalue\u001b[0m\u001b[0;34m\u001b[0m\u001b[0;34m\u001b[0m\u001b[0m\n\u001b[1;32m    753\u001b[0m         \"\"\"\n\u001b[0;32m--> 754\u001b[0;31m         \u001b[0;32mreturn\u001b[0m \u001b[0mListTB\u001b[0m\u001b[0;34m.\u001b[0m\u001b[0mstructured_traceback\u001b[0m\u001b[0;34m(\u001b[0m\u001b[0mself\u001b[0m\u001b[0;34m,\u001b[0m \u001b[0metype\u001b[0m\u001b[0;34m,\u001b[0m \u001b[0mvalue\u001b[0m\u001b[0;34m)\u001b[0m\u001b[0;34m\u001b[0m\u001b[0;34m\u001b[0m\u001b[0m\n\u001b[0m\u001b[1;32m    755\u001b[0m \u001b[0;34m\u001b[0m\u001b[0m\n\u001b[1;32m    756\u001b[0m     \u001b[0;32mdef\u001b[0m \u001b[0mshow_exception_only\u001b[0m\u001b[0;34m(\u001b[0m\u001b[0mself\u001b[0m\u001b[0;34m,\u001b[0m \u001b[0metype\u001b[0m\u001b[0;34m,\u001b[0m \u001b[0mevalue\u001b[0m\u001b[0;34m)\u001b[0m\u001b[0;34m:\u001b[0m\u001b[0;34m\u001b[0m\u001b[0;34m\u001b[0m\u001b[0m\n",
            "\u001b[0;32m/usr/local/lib/python3.10/dist-packages/IPython/core/ultratb.py\u001b[0m in \u001b[0;36mstructured_traceback\u001b[0;34m(self, etype, evalue, etb, tb_offset, context)\u001b[0m\n\u001b[1;32m    627\u001b[0m             \u001b[0mchained_exceptions_tb_offset\u001b[0m \u001b[0;34m=\u001b[0m \u001b[0;36m0\u001b[0m\u001b[0;34m\u001b[0m\u001b[0;34m\u001b[0m\u001b[0m\n\u001b[1;32m    628\u001b[0m             out_list = (\n\u001b[0;32m--> 629\u001b[0;31m                 self.structured_traceback(\n\u001b[0m\u001b[1;32m    630\u001b[0m                     \u001b[0metype\u001b[0m\u001b[0;34m,\u001b[0m \u001b[0mevalue\u001b[0m\u001b[0;34m,\u001b[0m \u001b[0;34m(\u001b[0m\u001b[0metb\u001b[0m\u001b[0;34m,\u001b[0m \u001b[0mchained_exc_ids\u001b[0m\u001b[0;34m)\u001b[0m\u001b[0;34m,\u001b[0m\u001b[0;34m\u001b[0m\u001b[0;34m\u001b[0m\u001b[0m\n\u001b[1;32m    631\u001b[0m                     chained_exceptions_tb_offset, context)\n",
            "\u001b[0;32m/usr/local/lib/python3.10/dist-packages/IPython/core/ultratb.py\u001b[0m in \u001b[0;36mstructured_traceback\u001b[0;34m(self, etype, value, tb, tb_offset, number_of_lines_of_context)\u001b[0m\n\u001b[1;32m   1365\u001b[0m         \u001b[0;32melse\u001b[0m\u001b[0;34m:\u001b[0m\u001b[0;34m\u001b[0m\u001b[0;34m\u001b[0m\u001b[0m\n\u001b[1;32m   1366\u001b[0m             \u001b[0mself\u001b[0m\u001b[0;34m.\u001b[0m\u001b[0mtb\u001b[0m \u001b[0;34m=\u001b[0m \u001b[0mtb\u001b[0m\u001b[0;34m\u001b[0m\u001b[0;34m\u001b[0m\u001b[0m\n\u001b[0;32m-> 1367\u001b[0;31m         return FormattedTB.structured_traceback(\n\u001b[0m\u001b[1;32m   1368\u001b[0m             self, etype, value, tb, tb_offset, number_of_lines_of_context)\n\u001b[1;32m   1369\u001b[0m \u001b[0;34m\u001b[0m\u001b[0m\n",
            "\u001b[0;32m/usr/local/lib/python3.10/dist-packages/IPython/core/ultratb.py\u001b[0m in \u001b[0;36mstructured_traceback\u001b[0;34m(self, etype, value, tb, tb_offset, number_of_lines_of_context)\u001b[0m\n\u001b[1;32m   1265\u001b[0m         \u001b[0;32mif\u001b[0m \u001b[0mmode\u001b[0m \u001b[0;32min\u001b[0m \u001b[0mself\u001b[0m\u001b[0;34m.\u001b[0m\u001b[0mverbose_modes\u001b[0m\u001b[0;34m:\u001b[0m\u001b[0;34m\u001b[0m\u001b[0;34m\u001b[0m\u001b[0m\n\u001b[1;32m   1266\u001b[0m             \u001b[0;31m# Verbose modes need a full traceback\u001b[0m\u001b[0;34m\u001b[0m\u001b[0;34m\u001b[0m\u001b[0m\n\u001b[0;32m-> 1267\u001b[0;31m             return VerboseTB.structured_traceback(\n\u001b[0m\u001b[1;32m   1268\u001b[0m                 \u001b[0mself\u001b[0m\u001b[0;34m,\u001b[0m \u001b[0metype\u001b[0m\u001b[0;34m,\u001b[0m \u001b[0mvalue\u001b[0m\u001b[0;34m,\u001b[0m \u001b[0mtb\u001b[0m\u001b[0;34m,\u001b[0m \u001b[0mtb_offset\u001b[0m\u001b[0;34m,\u001b[0m \u001b[0mnumber_of_lines_of_context\u001b[0m\u001b[0;34m\u001b[0m\u001b[0;34m\u001b[0m\u001b[0m\n\u001b[1;32m   1269\u001b[0m             )\n",
            "\u001b[0;32m/usr/local/lib/python3.10/dist-packages/IPython/core/ultratb.py\u001b[0m in \u001b[0;36mstructured_traceback\u001b[0;34m(self, etype, evalue, etb, tb_offset, number_of_lines_of_context)\u001b[0m\n\u001b[1;32m   1122\u001b[0m         \u001b[0;34m\"\"\"Return a nice text document describing the traceback.\"\"\"\u001b[0m\u001b[0;34m\u001b[0m\u001b[0;34m\u001b[0m\u001b[0m\n\u001b[1;32m   1123\u001b[0m \u001b[0;34m\u001b[0m\u001b[0m\n\u001b[0;32m-> 1124\u001b[0;31m         formatted_exception = self.format_exception_as_a_whole(etype, evalue, etb, number_of_lines_of_context,\n\u001b[0m\u001b[1;32m   1125\u001b[0m                                                                tb_offset)\n\u001b[1;32m   1126\u001b[0m \u001b[0;34m\u001b[0m\u001b[0m\n",
            "\u001b[0;32m/usr/local/lib/python3.10/dist-packages/IPython/core/ultratb.py\u001b[0m in \u001b[0;36mformat_exception_as_a_whole\u001b[0;34m(self, etype, evalue, etb, number_of_lines_of_context, tb_offset)\u001b[0m\n\u001b[1;32m   1080\u001b[0m \u001b[0;34m\u001b[0m\u001b[0m\n\u001b[1;32m   1081\u001b[0m \u001b[0;34m\u001b[0m\u001b[0m\n\u001b[0;32m-> 1082\u001b[0;31m         \u001b[0mlast_unique\u001b[0m\u001b[0;34m,\u001b[0m \u001b[0mrecursion_repeat\u001b[0m \u001b[0;34m=\u001b[0m \u001b[0mfind_recursion\u001b[0m\u001b[0;34m(\u001b[0m\u001b[0morig_etype\u001b[0m\u001b[0;34m,\u001b[0m \u001b[0mevalue\u001b[0m\u001b[0;34m,\u001b[0m \u001b[0mrecords\u001b[0m\u001b[0;34m)\u001b[0m\u001b[0;34m\u001b[0m\u001b[0;34m\u001b[0m\u001b[0m\n\u001b[0m\u001b[1;32m   1083\u001b[0m \u001b[0;34m\u001b[0m\u001b[0m\n\u001b[1;32m   1084\u001b[0m         \u001b[0mframes\u001b[0m \u001b[0;34m=\u001b[0m \u001b[0mself\u001b[0m\u001b[0;34m.\u001b[0m\u001b[0mformat_records\u001b[0m\u001b[0;34m(\u001b[0m\u001b[0mrecords\u001b[0m\u001b[0;34m,\u001b[0m \u001b[0mlast_unique\u001b[0m\u001b[0;34m,\u001b[0m \u001b[0mrecursion_repeat\u001b[0m\u001b[0;34m)\u001b[0m\u001b[0;34m\u001b[0m\u001b[0;34m\u001b[0m\u001b[0m\n",
            "\u001b[0;32m/usr/local/lib/python3.10/dist-packages/IPython/core/ultratb.py\u001b[0m in \u001b[0;36mfind_recursion\u001b[0;34m(etype, value, records)\u001b[0m\n\u001b[1;32m    380\u001b[0m     \u001b[0;31m# first frame (from in to out) that looks different.\u001b[0m\u001b[0;34m\u001b[0m\u001b[0;34m\u001b[0m\u001b[0m\n\u001b[1;32m    381\u001b[0m     \u001b[0;32mif\u001b[0m \u001b[0;32mnot\u001b[0m \u001b[0mis_recursion_error\u001b[0m\u001b[0;34m(\u001b[0m\u001b[0metype\u001b[0m\u001b[0;34m,\u001b[0m \u001b[0mvalue\u001b[0m\u001b[0;34m,\u001b[0m \u001b[0mrecords\u001b[0m\u001b[0;34m)\u001b[0m\u001b[0;34m:\u001b[0m\u001b[0;34m\u001b[0m\u001b[0;34m\u001b[0m\u001b[0m\n\u001b[0;32m--> 382\u001b[0;31m         \u001b[0;32mreturn\u001b[0m \u001b[0mlen\u001b[0m\u001b[0;34m(\u001b[0m\u001b[0mrecords\u001b[0m\u001b[0;34m)\u001b[0m\u001b[0;34m,\u001b[0m \u001b[0;36m0\u001b[0m\u001b[0;34m\u001b[0m\u001b[0;34m\u001b[0m\u001b[0m\n\u001b[0m\u001b[1;32m    383\u001b[0m \u001b[0;34m\u001b[0m\u001b[0m\n\u001b[1;32m    384\u001b[0m     \u001b[0;31m# Select filename, lineno, func_name to track frames with\u001b[0m\u001b[0;34m\u001b[0m\u001b[0;34m\u001b[0m\u001b[0m\n",
            "\u001b[0;31mTypeError\u001b[0m: object of type 'NoneType' has no len()"
          ]
        }
      ]
    },
    {
      "cell_type": "code",
      "source": [
        "pip install pyarabic"
      ],
      "metadata": {
        "colab": {
          "base_uri": "https://localhost:8080/"
        },
        "id": "-HJqvC7Gwp-p",
        "outputId": "f8f61f55-1de1-4ffb-d858-2735110208cf"
      },
      "execution_count": null,
      "outputs": [
        {
          "output_type": "stream",
          "name": "stdout",
          "text": [
            "Requirement already satisfied: pyarabic in /usr/local/lib/python3.10/dist-packages (0.6.15)\n",
            "Requirement already satisfied: six>=1.14.0 in /usr/local/lib/python3.10/dist-packages (from pyarabic) (1.16.0)\n"
          ]
        }
      ]
    },
    {
      "cell_type": "code",
      "source": [
        "from pyarabic.araby import strip_tashkeel, strip_tatweel, vocalize\n",
        "\n",
        "# Define the Arabic text without punctuation marks\n",
        "text = 'هذا نص بدون علامات ترقيم'\n",
        "\n",
        "# Strip diacritics and tatweel (elongation)\n",
        "text_stripped = strip_tashkeel(strip_tatweel(text))\n",
        "\n",
        "# Add punctuation marks and vocalization\n",
        "text_with_punctuation = vocalize(text_stripped)\n",
        "\n",
        "# Print the text with punctuation marks\n",
        "print(text_with_punctuation)"
      ],
      "metadata": {
        "colab": {
          "base_uri": "https://localhost:8080/",
          "height": 383
        },
        "id": "OQ5GcFJDwqDW",
        "outputId": "3a991915-b8dc-48e4-d6fa-594f721544e4"
      },
      "execution_count": null,
      "outputs": [
        {
          "output_type": "error",
          "ename": "ImportError",
          "evalue": "ignored",
          "traceback": [
            "\u001b[0;31m---------------------------------------------------------------------------\u001b[0m",
            "\u001b[0;31mImportError\u001b[0m                               Traceback (most recent call last)",
            "\u001b[0;32m<ipython-input-58-e2205e4aedfd>\u001b[0m in \u001b[0;36m<cell line: 1>\u001b[0;34m()\u001b[0m\n\u001b[0;32m----> 1\u001b[0;31m \u001b[0;32mfrom\u001b[0m \u001b[0mpyarabic\u001b[0m\u001b[0;34m.\u001b[0m\u001b[0maraby\u001b[0m \u001b[0;32mimport\u001b[0m \u001b[0mstrip_tashkeel\u001b[0m\u001b[0;34m,\u001b[0m \u001b[0mstrip_tatweel\u001b[0m\u001b[0;34m,\u001b[0m \u001b[0mvocalize\u001b[0m\u001b[0;34m\u001b[0m\u001b[0;34m\u001b[0m\u001b[0m\n\u001b[0m\u001b[1;32m      2\u001b[0m \u001b[0;34m\u001b[0m\u001b[0m\n\u001b[1;32m      3\u001b[0m \u001b[0;31m# Define the Arabic text without punctuation marks\u001b[0m\u001b[0;34m\u001b[0m\u001b[0;34m\u001b[0m\u001b[0m\n\u001b[1;32m      4\u001b[0m \u001b[0mtext\u001b[0m \u001b[0;34m=\u001b[0m \u001b[0;34m'هذا نص بدون علامات ترقيم'\u001b[0m\u001b[0;34m\u001b[0m\u001b[0;34m\u001b[0m\u001b[0m\n\u001b[1;32m      5\u001b[0m \u001b[0;34m\u001b[0m\u001b[0m\n",
            "\u001b[0;31mImportError\u001b[0m: cannot import name 'vocalize' from 'pyarabic.araby' (/usr/local/lib/python3.10/dist-packages/pyarabic/araby.py)",
            "",
            "\u001b[0;31m---------------------------------------------------------------------------\u001b[0;32m\nNOTE: If your import is failing due to a missing package, you can\nmanually install dependencies using either !pip or !apt.\n\nTo view examples of installing some common dependencies, click the\n\"Open Examples\" button below.\n\u001b[0;31m---------------------------------------------------------------------------\u001b[0m\n"
          ],
          "errorDetails": {
            "actions": [
              {
                "action": "open_url",
                "actionText": "Open Examples",
                "url": "/notebooks/snippets/importing_libraries.ipynb"
              }
            ]
          }
        }
      ]
    },
    {
      "cell_type": "code",
      "source": [
        "from pyarabic.araby import strip_diacritics, strip_tatweel\n",
        "from pyarabic.unshape import unshaping_map\n",
        "\n",
        "# Define the Arabic text without punctuation marks\n",
        "text = 'هذا نص بدون علامات ترقيم'\n",
        "\n",
        "# Strip diacritics and tatweel (elongation)\n",
        "text_stripped = strip_diacritics(strip_tatweel(text))\n",
        "\n",
        "# Map Arabic characters to their unshaped forms\n",
        "text_unshaped = ''.join(unshaping_map.get(c, c) for c in text_stripped)\n",
        "\n",
        "# Define a set of Arabic punctuation marks\n",
        "punctuation_marks = '.,;:؛،؟!'\n",
        "\n",
        "# Add a space before and after each punctuation mark\n",
        "text_with_punctuation = ''.join([' ' + c + ' ' if c in punctuation_marks else c for c in text_unshaped]).strip()\n",
        "\n",
        "# Print the text with punctuation marks\n",
        "print(text_with_punctuation)"
      ],
      "metadata": {
        "colab": {
          "base_uri": "https://localhost:8080/",
          "height": 383
        },
        "id": "gK4RIBi6y9Jq",
        "outputId": "69a475dd-6410-472c-fda1-5fc90ae76783"
      },
      "execution_count": null,
      "outputs": [
        {
          "output_type": "error",
          "ename": "ImportError",
          "evalue": "ignored",
          "traceback": [
            "\u001b[0;31m---------------------------------------------------------------------------\u001b[0m",
            "\u001b[0;31mImportError\u001b[0m                               Traceback (most recent call last)",
            "\u001b[0;32m<ipython-input-59-9f8ab376c2f8>\u001b[0m in \u001b[0;36m<cell line: 2>\u001b[0;34m()\u001b[0m\n\u001b[1;32m      1\u001b[0m \u001b[0;32mfrom\u001b[0m \u001b[0mpyarabic\u001b[0m\u001b[0;34m.\u001b[0m\u001b[0maraby\u001b[0m \u001b[0;32mimport\u001b[0m \u001b[0mstrip_diacritics\u001b[0m\u001b[0;34m,\u001b[0m \u001b[0mstrip_tatweel\u001b[0m\u001b[0;34m\u001b[0m\u001b[0;34m\u001b[0m\u001b[0m\n\u001b[0;32m----> 2\u001b[0;31m \u001b[0;32mfrom\u001b[0m \u001b[0mpyarabic\u001b[0m\u001b[0;34m.\u001b[0m\u001b[0munshape\u001b[0m \u001b[0;32mimport\u001b[0m \u001b[0munshaping_map\u001b[0m\u001b[0;34m\u001b[0m\u001b[0;34m\u001b[0m\u001b[0m\n\u001b[0m\u001b[1;32m      3\u001b[0m \u001b[0;34m\u001b[0m\u001b[0m\n\u001b[1;32m      4\u001b[0m \u001b[0;31m# Define the Arabic text without punctuation marks\u001b[0m\u001b[0;34m\u001b[0m\u001b[0;34m\u001b[0m\u001b[0m\n\u001b[1;32m      5\u001b[0m \u001b[0mtext\u001b[0m \u001b[0;34m=\u001b[0m \u001b[0;34m'هذا نص بدون علامات ترقيم'\u001b[0m\u001b[0;34m\u001b[0m\u001b[0;34m\u001b[0m\u001b[0m\n",
            "\u001b[0;31mImportError\u001b[0m: cannot import name 'unshaping_map' from 'pyarabic.unshape' (/usr/local/lib/python3.10/dist-packages/pyarabic/unshape.py)",
            "",
            "\u001b[0;31m---------------------------------------------------------------------------\u001b[0;32m\nNOTE: If your import is failing due to a missing package, you can\nmanually install dependencies using either !pip or !apt.\n\nTo view examples of installing some common dependencies, click the\n\"Open Examples\" button below.\n\u001b[0;31m---------------------------------------------------------------------------\u001b[0m\n"
          ],
          "errorDetails": {
            "actions": [
              {
                "action": "open_url",
                "actionText": "Open Examples",
                "url": "/notebooks/snippets/importing_libraries.ipynb"
              }
            ]
          }
        }
      ]
    },
    {
      "cell_type": "code",
      "source": [
        "from pyarabic.araby import strip_diacritics, strip_tatweel\n",
        "\n",
        "# Define the Arabic text without punctuation marks\n",
        "text = 'هذا نص بدون علامات ترقيم'\n",
        "\n",
        "# Strip diacritics and tatweel (elongation)\n",
        "text_stripped = strip_diacritics(strip_tatweel(text))\n",
        "\n",
        "# Define a mapping for reshaping Arabic characters\n",
        "unshaping_map = {\n",
        "    'ء': 'ا',\n",
        "    'آ': 'ا',\n",
        "    'أ': 'ا',\n",
        "    'ؤ': 'و',\n",
        "    'إ': 'ا',\n",
        "    'ئ': 'ي',\n",
        "    'ا': 'ا',\n",
        "    'ب': 'ب',\n",
        "    'ة': 'ه',\n",
        "    'ت': 'ت',\n",
        "    'ث': 'ث',\n",
        "    'ج': 'ج',\n",
        "    'ح': 'ح',\n",
        "    'خ': 'خ',\n",
        "    'د': 'د',\n",
        "    'ذ': 'ذ',\n",
        "    'ر': 'ر',\n",
        "    'ز': 'ز',\n",
        "    'س': 'س',\n",
        "    'ش': 'ش',\n",
        "    'ص': 'ص',\n",
        "    'ض': 'ض',\n",
        "    'ط': 'ط',\n",
        "    'ظ': 'ظ',\n",
        "    'ع': 'ع',\n",
        "    'غ': 'غ',\n",
        "    'ف': 'ف',\n",
        "    'ق': 'ق',\n",
        "    'ك': 'ك',\n",
        "    'ل': 'ل',\n",
        "    'م': 'م',\n",
        "    'ن': 'ن',\n",
        "    'ه': 'ه',\n",
        "    'و': 'و',\n",
        "    'ى': 'ي',\n",
        "    'ي': 'ي',\n",
        "}\n",
        "\n",
        "# Define a set of Arabic punctuation marks\n",
        "punctuation_marks = '.,;:؛،؟!'\n",
        "\n",
        "# Add a space before and after each punctuation mark\n",
        "text_with_punctuation = ''.join([' ' + unshaping_map.get(c, c) + ' ' if c in punctuation_marks else unshaping_map.get(c, c) for c in text_stripped]).strip()\n",
        "\n",
        "# Print the text with punctuation marks\n",
        "print(text_with_punctuation)"
      ],
      "metadata": {
        "colab": {
          "base_uri": "https://localhost:8080/"
        },
        "id": "ZrX0Kr9yzyVD",
        "outputId": "7a806c7c-cdb4-426f-f88c-589815512e78"
      },
      "execution_count": null,
      "outputs": [
        {
          "output_type": "stream",
          "name": "stdout",
          "text": [
            "هذا نص بدون علامات ترقيم\n"
          ]
        }
      ]
    },
    {
      "cell_type": "code",
      "source": [
        "import torch"
      ],
      "metadata": {
        "id": "dEbf6SbM2qSP"
      },
      "execution_count": null,
      "outputs": []
    },
    {
      "cell_type": "code",
      "source": [
        "from transformers import AutoTokenizer, AutoModelForTokenClassification\n",
        "\n",
        "# Define the Arabic text without punctuation marks\n",
        "text = 'هذا نص بدون علامات ترقيم'\n",
        "\n",
        "# Load the tokenizer and model for the Arabic language\n",
        "tokenizer = AutoTokenizer.from_pretrained(\"asafaya/bert-base-arabic\")\n",
        "\n",
        "model = AutoModelForTokenClassification.from_pretrained(\"asafaya/bert-base-arabic\")\n",
        "\n",
        "# Tokenize the text\n",
        "tokens = tokenizer.tokenize(text)\n",
        "\n",
        "# Add punctuation token ([SEP]) at the end of the token list\n",
        "tokens.append('[SEP]')\n",
        "\n",
        "# Convert the tokens to input IDs\n",
        "input_ids = tokenizer.convert_tokens_to_ids(tokens)\n",
        "\n",
        "# Perform token classification\n",
        "outputs = model(torch.tensor([input_ids]))\n",
        "\n",
        "# Get the predicted labels for the tokens\n",
        "predicted_labels = outputs.logits.argmax(dim=2)[0]\n",
        "\n",
        "# Add punctuation marks to the original text\n",
        "text_with_punctuation = ''.join([token + ' ' if label == tokenizer.sep_token_id else token for token, label in zip(tokens, predicted_labels)])\n",
        "\n",
        "# Print the text with punctuation marks\n",
        "print(text_with_punctuation)"
      ],
      "metadata": {
        "colab": {
          "base_uri": "https://localhost:8080/"
        },
        "id": "PjuRz1d80Dr3",
        "outputId": "e1efc40d-91b1-43a4-f682-cd11d9085239"
      },
      "execution_count": null,
      "outputs": [
        {
          "output_type": "stream",
          "name": "stderr",
          "text": [
            "Some weights of BertForTokenClassification were not initialized from the model checkpoint at asafaya/bert-base-arabic and are newly initialized: ['classifier.weight', 'classifier.bias']\n",
            "You should probably TRAIN this model on a down-stream task to be able to use it for predictions and inference.\n"
          ]
        },
        {
          "output_type": "stream",
          "name": "stdout",
          "text": [
            "هذانصبدونعلاماتترق##يم[SEP]\n"
          ]
        }
      ]
    },
    {
      "cell_type": "code",
      "source": [
        "from transformers import pipeline, AutoModelForCausalLM, AutoTokenizer\n",
        "\n",
        "# Load the pre-trained GPT-2 model and tokenizer for Arabic\n",
        "model_name = \"akhooli/gpt2-small-arabic\"\n",
        "model = AutoModelForCausalLM.from_pretrained(model_name)\n",
        "tokenizer = AutoTokenizer.from_pretrained(model_name)\n",
        "\n",
        "# Define the prompt with placeholder for the punctuation marks\n",
        "prompt = \"اكتب نصاً باللغة العربية يحتوي على العلامات الترقيم: '{punctuation}'\"\n",
        "\n",
        "# Tokenize the prompt\n",
        "input_ids = tokenizer.encode(prompt, return_tensors=\"pt\")\n",
        "\n",
        "# Generate text using the pre-trained model\n",
        "output = model.generate(input_ids, max_length=100, temperature=0.7, num_beams=5, no_repeat_ngram_size=2)\n",
        "\n",
        "# Decode the generated text\n",
        "generated_text = tokenizer.decode(output[0], skip_special_tokens=True)\n",
        "\n",
        "# Print the generated text\n",
        "print(generated_text)"
      ],
      "metadata": {
        "colab": {
          "base_uri": "https://localhost:8080/",
          "height": 316,
          "referenced_widgets": [
            "af9fb18c7e18454297c2322c54590619",
            "6e7eea7a1bba4061b19eb12b2d454f1a",
            "5335706e814844ec9efd71bd67983e20",
            "878f3c593b36420e9813d7fe54581912",
            "fd5cb7f6ec004166a7e55d67a2613470",
            "7824d2c0a8324b8f9ff8654f57de2079",
            "aad40e7f72044b338767665e49dc369a",
            "752baf79e0b74d8a8d2850dd962f5275",
            "3432ae983c0545549e6c99c98c68cca7",
            "a8cd12c546d3497f97cc0998e9b9b173",
            "fc464cc868aa4ac9b3063a621c84efcf",
            "10757ff71e594379bd39929d693aa706",
            "952d5efd98114b79af8b0601495e6c81",
            "ab3097334d2d4ede905c7ea7547e7551",
            "5a10ac33620146e08b3403dd9c2016ad",
            "1761bde3bc47438c8cb85e30f134f8c8",
            "17f17d80e1e247a5813dd4ade569fe42",
            "a203b62a36af43e9b98c08ce80dc98e9",
            "aa36b2808be14da9ba49d50e795cf8d2",
            "52ecb93593274019a1d72ea1b656a9fd",
            "e069434b002b425fbc939754c0db5bda",
            "994a2c57dc77440ab57dbd1d2a3fafde",
            "c86a20d6b4f044a1a09a3e208d6b02df",
            "56a734d8ff3e4d8b9ce14f250b483e99",
            "b854483d2ba04273aba2bb7d3f7ac83e",
            "874c3f1272bf412392df9fb84bad6012",
            "70e6301bb986491f9085f54dd4762e21",
            "e2cd2038a16c40138a02a1e776d1e9a1",
            "2e06e837e83344db9109acbbba046afb",
            "97772fd2016c479194c97cddba541c74",
            "02c7d0d941b84a95acde5258510860fd",
            "e147b708b3914f669047342466e934fc",
            "bfde19a5c23f4c72a6920cdc5ececc58",
            "b7578ae7b3c24a239c02f68bc24e5c96",
            "b6ec5a28c4d34dbfb8e20ab4c3207e98",
            "b0c109f239234ad7827a5c0a93906386",
            "c3a3ac0c1c754a9695057cc5e3b2d459",
            "765fda34211443fe90bfabc0aeff2e65",
            "e2845c92e4d64eaab3dc50717c14a81e",
            "c65e2d647fc345588d6331d7ff1ff3f6",
            "98266130d0dc4bcc807614335ae4f8d4",
            "d1e8ddac38954ac893d1e3af34113a1f",
            "e1f870b8ae2c49e88b06270c2dda6d07",
            "e44be141bcd84847891595fecab4d802",
            "51a4477c52444b3caca1e247fb2d3fe0",
            "d98ffa9c0e0643819f7ccd9a4b34a625",
            "872c9a54528f4daaa69eb996ffcbb95e",
            "2aed776181264604992b73f606a1e334",
            "6f5af29132d441e88b6ec53caee1e77a",
            "ad4e4d62b83540d3a0eba9e7c9a0b83b",
            "9a134f1703de490ead7271fd8ec54d5d",
            "8cf217495e084b8387494c493e9b7666",
            "98c4b9ac03c440dfa06280ffed5f624d",
            "81d531be208b4001abdee7d97c6c58f2",
            "b7e5484e85b94676a00afd34275a2fc9",
            "792e5b63717340569087a52fe5c662e6",
            "65156d17bc7649e4946629f29bd6a924",
            "867c5185769a4cc3b383563cc5086db5",
            "8c29bcce6d0841cbb5bc64b3d6c93950",
            "04e0afdb39ab4a1e842321528210244f",
            "3446d812d8ad4e88aee747abc7cf4705",
            "87f4c29b8b404e5dbcd27a1af47ed5d6",
            "12ff57f9b6a04839bb411a59bfa02dc2",
            "b207dccdc68348908ef248d9db015c1f",
            "b0f32d8b6cc743b2b97760b89bd7310a",
            "13846f52c163437098aedc1e99fc5b1d"
          ]
        },
        "id": "k0jD3txe2d_7",
        "outputId": "502948a3-8eac-45a0-ab14-f3d47d83543b"
      },
      "execution_count": null,
      "outputs": [
        {
          "output_type": "display_data",
          "data": {
            "text/plain": [
              "config.json:   0%|          | 0.00/666 [00:00<?, ?B/s]"
            ],
            "application/vnd.jupyter.widget-view+json": {
              "version_major": 2,
              "version_minor": 0,
              "model_id": "af9fb18c7e18454297c2322c54590619"
            }
          },
          "metadata": {}
        },
        {
          "output_type": "display_data",
          "data": {
            "text/plain": [
              "model.safetensors:   0%|          | 0.00/510M [00:00<?, ?B/s]"
            ],
            "application/vnd.jupyter.widget-view+json": {
              "version_major": 2,
              "version_minor": 0,
              "model_id": "10757ff71e594379bd39929d693aa706"
            }
          },
          "metadata": {}
        },
        {
          "output_type": "display_data",
          "data": {
            "text/plain": [
              "tokenizer_config.json:   0%|          | 0.00/30.0 [00:00<?, ?B/s]"
            ],
            "application/vnd.jupyter.widget-view+json": {
              "version_major": 2,
              "version_minor": 0,
              "model_id": "c86a20d6b4f044a1a09a3e208d6b02df"
            }
          },
          "metadata": {}
        },
        {
          "output_type": "display_data",
          "data": {
            "text/plain": [
              "vocab.json:   0%|          | 0.00/1.55M [00:00<?, ?B/s]"
            ],
            "application/vnd.jupyter.widget-view+json": {
              "version_major": 2,
              "version_minor": 0,
              "model_id": "b7578ae7b3c24a239c02f68bc24e5c96"
            }
          },
          "metadata": {}
        },
        {
          "output_type": "display_data",
          "data": {
            "text/plain": [
              "merges.txt:   0%|          | 0.00/1.21M [00:00<?, ?B/s]"
            ],
            "application/vnd.jupyter.widget-view+json": {
              "version_major": 2,
              "version_minor": 0,
              "model_id": "51a4477c52444b3caca1e247fb2d3fe0"
            }
          },
          "metadata": {}
        },
        {
          "output_type": "display_data",
          "data": {
            "text/plain": [
              "special_tokens_map.json:   0%|          | 0.00/120 [00:00<?, ?B/s]"
            ],
            "application/vnd.jupyter.widget-view+json": {
              "version_major": 2,
              "version_minor": 0,
              "model_id": "792e5b63717340569087a52fe5c662e6"
            }
          },
          "metadata": {}
        },
        {
          "output_type": "stream",
          "name": "stderr",
          "text": [
            "/usr/local/lib/python3.10/dist-packages/transformers/generation/configuration_utils.py:381: UserWarning: `do_sample` is set to `False`. However, `temperature` is set to `0.7` -- this flag is only used in sample-based generation modes. You should set `do_sample=True` or unset `temperature`.\n",
            "  warnings.warn(\n",
            "The attention mask and the pad token id were not set. As a consequence, you may observe unexpected behavior. Please pass your input's `attention_mask` to obtain reliable results.\n",
            "Setting `pad_token_id` to `eos_token_id`:50256 for open-end generation.\n"
          ]
        },
        {
          "output_type": "stream",
          "name": "stdout",
          "text": [
            "اكتب نصاً باللغة العربية يحتوي على العلامات الترقيم: '{punctuation}' جزائريا. في عام 2015، تم نشر أول كتاب باللغة الإنجليزية في الولايات المتحدة الأمريكية. تم نشره لأول مرة في المملكة المتحدة من قبل دار نشر جامعة ولاية بنسلفانيا في نوفمبر 2015. يحتوي الكتاب على مجموعة متنوعة من المواضيع، بما في ذلك اللغة الإنجليزية، والأدب، والتاريخ، والعلوم السياسية، وعلم الاجتماع، والفلسفة، والاقتصاد، والسياسة، والقانون، والدراسات الثقافية،\n"
          ]
        }
      ]
    },
    {
      "cell_type": "code",
      "source": [
        "def add_punctuation(sentence):\n",
        "    # Check if the sentence ends with a punctuation mark\n",
        "    if sentence[-1] not in ['؟', '،', '؛', '.', ':', '!', '؛']:\n",
        "        # Add a period at the end\n",
        "        sentence += '.'\n",
        "\n",
        "    return sentence\n",
        "\n",
        "# Example usage:\n",
        "input_sentence = \"هذا مثال على جملة بدون علامة ترقيم\"\n",
        "output_sentence = add_punctuation(input_sentence)\n",
        "\n",
        "print(\"Input Sentence:\", input_sentence)\n",
        "print(\"Output Sentence:\", output_sentence)\n"
      ],
      "metadata": {
        "colab": {
          "base_uri": "https://localhost:8080/"
        },
        "id": "k8NANIeS3TKr",
        "outputId": "46db3a2a-90fc-4aa8-a192-b9ead5ac03f2"
      },
      "execution_count": null,
      "outputs": [
        {
          "output_type": "stream",
          "name": "stdout",
          "text": [
            "Input Sentence: هذا مثال على جملة بدون علامة ترقيم\n",
            "Output Sentence: هذا مثال على جملة بدون علامة ترقيم.\n"
          ]
        }
      ]
    },
    {
      "cell_type": "code",
      "source": [
        "def add_punctuation(sentence):\n",
        "    # Check if the sentence ends with a punctuation mark\n",
        "    if sentence[-1] not in ['؟', '،', '؛', '.', ':', '!', '؛']:\n",
        "        # Add a period at the end\n",
        "        sentence += '.'\n",
        "\n",
        "    return sentence\n",
        "\n",
        "# Example usage:\n",
        "input_sentence = \"قال محمود الخطيب مباراة الأهلي القادمة ستكون صعبة\"\n",
        "output_sentence = add_punctuation(input_sentence)\n",
        "\n",
        "print(\"Input Sentence:\", input_sentence)\n",
        "print(\"Output Sentence:\", output_sentence)"
      ],
      "metadata": {
        "colab": {
          "base_uri": "https://localhost:8080/"
        },
        "id": "gP7oRKPy34Wv",
        "outputId": "ce818452-6288-4da3-a266-9c94c7af7e6e"
      },
      "execution_count": null,
      "outputs": [
        {
          "output_type": "stream",
          "name": "stdout",
          "text": [
            "Input Sentence: قال محمود الخطيب مباراة الأهلي القادمة ستكون صعبة\n",
            "Output Sentence: قال محمود الخطيب مباراة الأهلي القادمة ستكون صعبة.\n"
          ]
        }
      ]
    },
    {
      "cell_type": "code",
      "source": [
        "def add_arabic_punctuation(sentence):\n",
        "    # List of common Arabic punctuation marks\n",
        "    punctuation_marks = ['؟', '،', '؛', '.', ':', '!', '؛']\n",
        "\n",
        "    # Check if the sentence ends with a punctuation mark\n",
        "    if sentence[-1] not in punctuation_marks:\n",
        "        # Add all punctuation marks at the end\n",
        "        sentence += ''.join(punctuation_marks)\n",
        "\n",
        "    return sentence\n",
        "\n",
        "# Example usage:\n",
        "input_sentence = \"هذا مثال على جملة بدون علامة ترقيم\"\n",
        "output_sentence = add_arabic_punctuation(input_sentence)\n",
        "\n",
        "print(\"Input Sentence:\", input_sentence)\n",
        "print(\"Output Sentence:\", output_sentence)"
      ],
      "metadata": {
        "colab": {
          "base_uri": "https://localhost:8080/"
        },
        "id": "pxeFguOh4Kh2",
        "outputId": "dafda3d8-0b38-4f7b-c307-2a184a6c387a"
      },
      "execution_count": null,
      "outputs": [
        {
          "output_type": "stream",
          "name": "stdout",
          "text": [
            "Input Sentence: هذا مثال على جملة بدون علامة ترقيم\n",
            "Output Sentence: هذا مثال على جملة بدون علامة ترقيم؟،؛.:!؛\n"
          ]
        }
      ]
    },
    {
      "cell_type": "code",
      "source": [
        "from transformers import T5Tokenizer, T5ForConditionalGeneration\n",
        "from transformers import TextDataset, DataCollatorForSeq2Seq, Trainer, TrainingArguments"
      ],
      "metadata": {
        "id": "3T9O48M6CZAD"
      },
      "execution_count": null,
      "outputs": []
    },
    {
      "cell_type": "code",
      "source": [
        "# Load pre-trained T5 model and tokenizer\n",
        "model_name = \"add_puncuation_marks\"\n",
        "model = T5ForConditionalGeneration.from_pretrained(model_name)\n",
        "tokenizer = T5Tokenizer.from_pretrained(model_name)"
      ],
      "metadata": {
        "colab": {
          "base_uri": "https://localhost:8080/",
          "height": 685
        },
        "id": "W6GutlG6ChFr",
        "outputId": "799fd245-1d6a-489d-df81-c4cb0f9aa72c"
      },
      "execution_count": null,
      "outputs": [
        {
          "output_type": "error",
          "ename": "OSError",
          "evalue": "ignored",
          "traceback": [
            "\u001b[0;31m---------------------------------------------------------------------------\u001b[0m",
            "\u001b[0;31mHTTPError\u001b[0m                                 Traceback (most recent call last)",
            "\u001b[0;32m/usr/local/lib/python3.10/dist-packages/huggingface_hub/utils/_errors.py\u001b[0m in \u001b[0;36mhf_raise_for_status\u001b[0;34m(response, endpoint_name)\u001b[0m\n\u001b[1;32m    269\u001b[0m     \u001b[0;32mtry\u001b[0m\u001b[0;34m:\u001b[0m\u001b[0;34m\u001b[0m\u001b[0;34m\u001b[0m\u001b[0m\n\u001b[0;32m--> 270\u001b[0;31m         \u001b[0mresponse\u001b[0m\u001b[0;34m.\u001b[0m\u001b[0mraise_for_status\u001b[0m\u001b[0;34m(\u001b[0m\u001b[0;34m)\u001b[0m\u001b[0;34m\u001b[0m\u001b[0;34m\u001b[0m\u001b[0m\n\u001b[0m\u001b[1;32m    271\u001b[0m     \u001b[0;32mexcept\u001b[0m \u001b[0mHTTPError\u001b[0m \u001b[0;32mas\u001b[0m \u001b[0me\u001b[0m\u001b[0;34m:\u001b[0m\u001b[0;34m\u001b[0m\u001b[0;34m\u001b[0m\u001b[0m\n",
            "\u001b[0;32m/usr/local/lib/python3.10/dist-packages/requests/models.py\u001b[0m in \u001b[0;36mraise_for_status\u001b[0;34m(self)\u001b[0m\n\u001b[1;32m   1020\u001b[0m         \u001b[0;32mif\u001b[0m \u001b[0mhttp_error_msg\u001b[0m\u001b[0;34m:\u001b[0m\u001b[0;34m\u001b[0m\u001b[0;34m\u001b[0m\u001b[0m\n\u001b[0;32m-> 1021\u001b[0;31m             \u001b[0;32mraise\u001b[0m \u001b[0mHTTPError\u001b[0m\u001b[0;34m(\u001b[0m\u001b[0mhttp_error_msg\u001b[0m\u001b[0;34m,\u001b[0m \u001b[0mresponse\u001b[0m\u001b[0;34m=\u001b[0m\u001b[0mself\u001b[0m\u001b[0;34m)\u001b[0m\u001b[0;34m\u001b[0m\u001b[0;34m\u001b[0m\u001b[0m\n\u001b[0m\u001b[1;32m   1022\u001b[0m \u001b[0;34m\u001b[0m\u001b[0m\n",
            "\u001b[0;31mHTTPError\u001b[0m: 401 Client Error: Unauthorized for url: https://huggingface.co/add_puncuation_marks/resolve/main/config.json",
            "\nThe above exception was the direct cause of the following exception:\n",
            "\u001b[0;31mRepositoryNotFoundError\u001b[0m                   Traceback (most recent call last)",
            "\u001b[0;32m/usr/local/lib/python3.10/dist-packages/transformers/utils/hub.py\u001b[0m in \u001b[0;36mcached_file\u001b[0;34m(path_or_repo_id, filename, cache_dir, force_download, resume_download, proxies, token, revision, local_files_only, subfolder, repo_type, user_agent, _raise_exceptions_for_missing_entries, _raise_exceptions_for_connection_errors, _commit_hash, **deprecated_kwargs)\u001b[0m\n\u001b[1;32m    429\u001b[0m         \u001b[0;31m# Load from URL or cache if already cached\u001b[0m\u001b[0;34m\u001b[0m\u001b[0;34m\u001b[0m\u001b[0m\n\u001b[0;32m--> 430\u001b[0;31m         resolved_file = hf_hub_download(\n\u001b[0m\u001b[1;32m    431\u001b[0m             \u001b[0mpath_or_repo_id\u001b[0m\u001b[0;34m,\u001b[0m\u001b[0;34m\u001b[0m\u001b[0;34m\u001b[0m\u001b[0m\n",
            "\u001b[0;32m/usr/local/lib/python3.10/dist-packages/huggingface_hub/utils/_validators.py\u001b[0m in \u001b[0;36m_inner_fn\u001b[0;34m(*args, **kwargs)\u001b[0m\n\u001b[1;32m    117\u001b[0m \u001b[0;34m\u001b[0m\u001b[0m\n\u001b[0;32m--> 118\u001b[0;31m         \u001b[0;32mreturn\u001b[0m \u001b[0mfn\u001b[0m\u001b[0;34m(\u001b[0m\u001b[0;34m*\u001b[0m\u001b[0margs\u001b[0m\u001b[0;34m,\u001b[0m \u001b[0;34m**\u001b[0m\u001b[0mkwargs\u001b[0m\u001b[0;34m)\u001b[0m\u001b[0;34m\u001b[0m\u001b[0;34m\u001b[0m\u001b[0m\n\u001b[0m\u001b[1;32m    119\u001b[0m \u001b[0;34m\u001b[0m\u001b[0m\n",
            "\u001b[0;32m/usr/local/lib/python3.10/dist-packages/huggingface_hub/file_download.py\u001b[0m in \u001b[0;36mhf_hub_download\u001b[0;34m(repo_id, filename, subfolder, repo_type, revision, library_name, library_version, cache_dir, local_dir, local_dir_use_symlinks, user_agent, force_download, force_filename, proxies, etag_timeout, resume_download, token, local_files_only, legacy_cache_layout, endpoint)\u001b[0m\n\u001b[1;32m   1373\u001b[0m             \u001b[0;31m# Repo not found => let's raise the actual error\u001b[0m\u001b[0;34m\u001b[0m\u001b[0;34m\u001b[0m\u001b[0m\n\u001b[0;32m-> 1374\u001b[0;31m             \u001b[0;32mraise\u001b[0m \u001b[0mhead_call_error\u001b[0m\u001b[0;34m\u001b[0m\u001b[0;34m\u001b[0m\u001b[0m\n\u001b[0m\u001b[1;32m   1375\u001b[0m         \u001b[0;32melse\u001b[0m\u001b[0;34m:\u001b[0m\u001b[0;34m\u001b[0m\u001b[0;34m\u001b[0m\u001b[0m\n",
            "\u001b[0;32m/usr/local/lib/python3.10/dist-packages/huggingface_hub/file_download.py\u001b[0m in \u001b[0;36mhf_hub_download\u001b[0;34m(repo_id, filename, subfolder, repo_type, revision, library_name, library_version, cache_dir, local_dir, local_dir_use_symlinks, user_agent, force_download, force_filename, proxies, etag_timeout, resume_download, token, local_files_only, legacy_cache_layout, endpoint)\u001b[0m\n\u001b[1;32m   1246\u001b[0m             \u001b[0;32mtry\u001b[0m\u001b[0;34m:\u001b[0m\u001b[0;34m\u001b[0m\u001b[0;34m\u001b[0m\u001b[0m\n\u001b[0;32m-> 1247\u001b[0;31m                 metadata = get_hf_file_metadata(\n\u001b[0m\u001b[1;32m   1248\u001b[0m                     \u001b[0murl\u001b[0m\u001b[0;34m=\u001b[0m\u001b[0murl\u001b[0m\u001b[0;34m,\u001b[0m\u001b[0;34m\u001b[0m\u001b[0;34m\u001b[0m\u001b[0m\n",
            "\u001b[0;32m/usr/local/lib/python3.10/dist-packages/huggingface_hub/utils/_validators.py\u001b[0m in \u001b[0;36m_inner_fn\u001b[0;34m(*args, **kwargs)\u001b[0m\n\u001b[1;32m    117\u001b[0m \u001b[0;34m\u001b[0m\u001b[0m\n\u001b[0;32m--> 118\u001b[0;31m         \u001b[0;32mreturn\u001b[0m \u001b[0mfn\u001b[0m\u001b[0;34m(\u001b[0m\u001b[0;34m*\u001b[0m\u001b[0margs\u001b[0m\u001b[0;34m,\u001b[0m \u001b[0;34m**\u001b[0m\u001b[0mkwargs\u001b[0m\u001b[0;34m)\u001b[0m\u001b[0;34m\u001b[0m\u001b[0;34m\u001b[0m\u001b[0m\n\u001b[0m\u001b[1;32m    119\u001b[0m \u001b[0;34m\u001b[0m\u001b[0m\n",
            "\u001b[0;32m/usr/local/lib/python3.10/dist-packages/huggingface_hub/file_download.py\u001b[0m in \u001b[0;36mget_hf_file_metadata\u001b[0;34m(url, token, proxies, timeout)\u001b[0m\n\u001b[1;32m   1623\u001b[0m     \u001b[0;31m# Retrieve metadata\u001b[0m\u001b[0;34m\u001b[0m\u001b[0;34m\u001b[0m\u001b[0m\n\u001b[0;32m-> 1624\u001b[0;31m     r = _request_wrapper(\n\u001b[0m\u001b[1;32m   1625\u001b[0m         \u001b[0mmethod\u001b[0m\u001b[0;34m=\u001b[0m\u001b[0;34m\"HEAD\"\u001b[0m\u001b[0;34m,\u001b[0m\u001b[0;34m\u001b[0m\u001b[0;34m\u001b[0m\u001b[0m\n",
            "\u001b[0;32m/usr/local/lib/python3.10/dist-packages/huggingface_hub/file_download.py\u001b[0m in \u001b[0;36m_request_wrapper\u001b[0;34m(method, url, follow_relative_redirects, **params)\u001b[0m\n\u001b[1;32m    401\u001b[0m     \u001b[0;32mif\u001b[0m \u001b[0mfollow_relative_redirects\u001b[0m\u001b[0;34m:\u001b[0m\u001b[0;34m\u001b[0m\u001b[0;34m\u001b[0m\u001b[0m\n\u001b[0;32m--> 402\u001b[0;31m         response = _request_wrapper(\n\u001b[0m\u001b[1;32m    403\u001b[0m             \u001b[0mmethod\u001b[0m\u001b[0;34m=\u001b[0m\u001b[0mmethod\u001b[0m\u001b[0;34m,\u001b[0m\u001b[0;34m\u001b[0m\u001b[0;34m\u001b[0m\u001b[0m\n",
            "\u001b[0;32m/usr/local/lib/python3.10/dist-packages/huggingface_hub/file_download.py\u001b[0m in \u001b[0;36m_request_wrapper\u001b[0;34m(method, url, follow_relative_redirects, **params)\u001b[0m\n\u001b[1;32m    425\u001b[0m     \u001b[0mresponse\u001b[0m \u001b[0;34m=\u001b[0m \u001b[0mget_session\u001b[0m\u001b[0;34m(\u001b[0m\u001b[0;34m)\u001b[0m\u001b[0;34m.\u001b[0m\u001b[0mrequest\u001b[0m\u001b[0;34m(\u001b[0m\u001b[0mmethod\u001b[0m\u001b[0;34m=\u001b[0m\u001b[0mmethod\u001b[0m\u001b[0;34m,\u001b[0m \u001b[0murl\u001b[0m\u001b[0;34m=\u001b[0m\u001b[0murl\u001b[0m\u001b[0;34m,\u001b[0m \u001b[0;34m**\u001b[0m\u001b[0mparams\u001b[0m\u001b[0;34m)\u001b[0m\u001b[0;34m\u001b[0m\u001b[0;34m\u001b[0m\u001b[0m\n\u001b[0;32m--> 426\u001b[0;31m     \u001b[0mhf_raise_for_status\u001b[0m\u001b[0;34m(\u001b[0m\u001b[0mresponse\u001b[0m\u001b[0;34m)\u001b[0m\u001b[0;34m\u001b[0m\u001b[0;34m\u001b[0m\u001b[0m\n\u001b[0m\u001b[1;32m    427\u001b[0m     \u001b[0;32mreturn\u001b[0m \u001b[0mresponse\u001b[0m\u001b[0;34m\u001b[0m\u001b[0;34m\u001b[0m\u001b[0m\n",
            "\u001b[0;32m/usr/local/lib/python3.10/dist-packages/huggingface_hub/utils/_errors.py\u001b[0m in \u001b[0;36mhf_raise_for_status\u001b[0;34m(response, endpoint_name)\u001b[0m\n\u001b[1;32m    319\u001b[0m             )\n\u001b[0;32m--> 320\u001b[0;31m             \u001b[0;32mraise\u001b[0m \u001b[0mRepositoryNotFoundError\u001b[0m\u001b[0;34m(\u001b[0m\u001b[0mmessage\u001b[0m\u001b[0;34m,\u001b[0m \u001b[0mresponse\u001b[0m\u001b[0;34m)\u001b[0m \u001b[0;32mfrom\u001b[0m \u001b[0me\u001b[0m\u001b[0;34m\u001b[0m\u001b[0;34m\u001b[0m\u001b[0m\n\u001b[0m\u001b[1;32m    321\u001b[0m \u001b[0;34m\u001b[0m\u001b[0m\n",
            "\u001b[0;31mRepositoryNotFoundError\u001b[0m: 401 Client Error. (Request ID: Root=1-656c4c52-4b64895c4c6393bb701450f2;d03ac91a-e7d1-4fac-a16b-114c58443ed4)\n\nRepository Not Found for url: https://huggingface.co/add_puncuation_marks/resolve/main/config.json.\nPlease make sure you specified the correct `repo_id` and `repo_type`.\nIf you are trying to access a private or gated repo, make sure you are authenticated.\nInvalid username or password.",
            "\nThe above exception was the direct cause of the following exception:\n",
            "\u001b[0;31mOSError\u001b[0m                                   Traceback (most recent call last)",
            "\u001b[0;32m<ipython-input-71-6c12d41a4ea4>\u001b[0m in \u001b[0;36m<cell line: 3>\u001b[0;34m()\u001b[0m\n\u001b[1;32m      1\u001b[0m \u001b[0;31m# Load pre-trained T5 model and tokenizer\u001b[0m\u001b[0;34m\u001b[0m\u001b[0;34m\u001b[0m\u001b[0m\n\u001b[1;32m      2\u001b[0m \u001b[0mmodel_name\u001b[0m \u001b[0;34m=\u001b[0m \u001b[0;34m\"add_puncuation_marks\"\u001b[0m\u001b[0;34m\u001b[0m\u001b[0;34m\u001b[0m\u001b[0m\n\u001b[0;32m----> 3\u001b[0;31m \u001b[0mmodel\u001b[0m \u001b[0;34m=\u001b[0m \u001b[0mT5ForConditionalGeneration\u001b[0m\u001b[0;34m.\u001b[0m\u001b[0mfrom_pretrained\u001b[0m\u001b[0;34m(\u001b[0m\u001b[0mmodel_name\u001b[0m\u001b[0;34m)\u001b[0m\u001b[0;34m\u001b[0m\u001b[0;34m\u001b[0m\u001b[0m\n\u001b[0m\u001b[1;32m      4\u001b[0m \u001b[0mtokenizer\u001b[0m \u001b[0;34m=\u001b[0m \u001b[0mT5Tokenizer\u001b[0m\u001b[0;34m.\u001b[0m\u001b[0mfrom_pretrained\u001b[0m\u001b[0;34m(\u001b[0m\u001b[0mmodel_name\u001b[0m\u001b[0;34m)\u001b[0m\u001b[0;34m\u001b[0m\u001b[0;34m\u001b[0m\u001b[0m\n",
            "\u001b[0;32m/usr/local/lib/python3.10/dist-packages/transformers/modeling_utils.py\u001b[0m in \u001b[0;36mfrom_pretrained\u001b[0;34m(cls, pretrained_model_name_or_path, config, cache_dir, ignore_mismatched_sizes, force_download, local_files_only, token, revision, use_safetensors, *model_args, **kwargs)\u001b[0m\n\u001b[1;32m   2598\u001b[0m             \u001b[0;32mif\u001b[0m \u001b[0;32mnot\u001b[0m \u001b[0misinstance\u001b[0m\u001b[0;34m(\u001b[0m\u001b[0mconfig\u001b[0m\u001b[0;34m,\u001b[0m \u001b[0mPretrainedConfig\u001b[0m\u001b[0;34m)\u001b[0m\u001b[0;34m:\u001b[0m\u001b[0;34m\u001b[0m\u001b[0;34m\u001b[0m\u001b[0m\n\u001b[1;32m   2599\u001b[0m                 \u001b[0;31m# We make a call to the config file first (which may be absent) to get the commit hash as soon as possible\u001b[0m\u001b[0;34m\u001b[0m\u001b[0;34m\u001b[0m\u001b[0m\n\u001b[0;32m-> 2600\u001b[0;31m                 resolved_config_file = cached_file(\n\u001b[0m\u001b[1;32m   2601\u001b[0m                     \u001b[0mpretrained_model_name_or_path\u001b[0m\u001b[0;34m,\u001b[0m\u001b[0;34m\u001b[0m\u001b[0;34m\u001b[0m\u001b[0m\n\u001b[1;32m   2602\u001b[0m                     \u001b[0mCONFIG_NAME\u001b[0m\u001b[0;34m,\u001b[0m\u001b[0;34m\u001b[0m\u001b[0;34m\u001b[0m\u001b[0m\n",
            "\u001b[0;32m/usr/local/lib/python3.10/dist-packages/transformers/utils/hub.py\u001b[0m in \u001b[0;36mcached_file\u001b[0;34m(path_or_repo_id, filename, cache_dir, force_download, resume_download, proxies, token, revision, local_files_only, subfolder, repo_type, user_agent, _raise_exceptions_for_missing_entries, _raise_exceptions_for_connection_errors, _commit_hash, **deprecated_kwargs)\u001b[0m\n\u001b[1;32m    449\u001b[0m         ) from e\n\u001b[1;32m    450\u001b[0m     \u001b[0;32mexcept\u001b[0m \u001b[0mRepositoryNotFoundError\u001b[0m \u001b[0;32mas\u001b[0m \u001b[0me\u001b[0m\u001b[0;34m:\u001b[0m\u001b[0;34m\u001b[0m\u001b[0;34m\u001b[0m\u001b[0m\n\u001b[0;32m--> 451\u001b[0;31m         raise EnvironmentError(\n\u001b[0m\u001b[1;32m    452\u001b[0m             \u001b[0;34mf\"{path_or_repo_id} is not a local folder and is not a valid model identifier \"\u001b[0m\u001b[0;34m\u001b[0m\u001b[0;34m\u001b[0m\u001b[0m\n\u001b[1;32m    453\u001b[0m             \u001b[0;34m\"listed on 'https://huggingface.co/models'\\nIf this is a private repository, make sure to pass a token \"\u001b[0m\u001b[0;34m\u001b[0m\u001b[0;34m\u001b[0m\u001b[0m\n",
            "\u001b[0;31mOSError\u001b[0m: add_puncuation_marks is not a local folder and is not a valid model identifier listed on 'https://huggingface.co/models'\nIf this is a private repository, make sure to pass a token having permission to this repo either by logging in with `huggingface-cli login` or by passing `token=<your_token>`"
          ]
        }
      ]
    },
    {
      "cell_type": "code",
      "source": [
        "# Load and preprocess the training data\n",
        "train_data_path = \"path/to/your/training_data.txt\"\n",
        "\n",
        "def prepare_data(file_path):\n",
        "    with open(file_path, \"r\", encoding=\"utf-8\") as file:\n",
        "        lines = file.readlines()\n",
        "    return lines\n",
        "\n",
        "train_dataset = TextDataset(\n",
        "    tokenizer=tokenizer,\n",
        "    file_path=train_data_path,\n",
        "    block_size=128,\n",
        "    overwrite_cache=True,\n",
        "    cache_dir=\".\",\n",
        "    text_column=\"text\",\n",
        ")\n",
        "\n",
        "data_collator = DataCollatorForSeq2Seq(\n",
        "    tokenizer,\n",
        "    model=model,\n",
        ")\n",
        "\n",
        "# Fine-tune the model\n",
        "training_args = TrainingArguments(\n",
        "    output_dir=\"./punctuation_model\",\n",
        "    overwrite_output_dir=True,\n",
        "    num_train_epochs=3,\n",
        "    per_device_train_batch_size=8,\n",
        "    save_steps=10_000,\n",
        "    save_total_limit=2,\n",
        ")\n",
        "\n",
        "trainer = Trainer(\n",
        "    model=model,\n",
        "    args=training_args,\n",
        "    data_collator=data_collator,\n",
        "    train_dataset=train_dataset,\n",
        ")\n",
        "\n",
        "trainer.train()"
      ],
      "metadata": {
        "id": "UV6gvUEx4cKk"
      },
      "execution_count": null,
      "outputs": []
    },
    {
      "cell_type": "code",
      "source": [],
      "metadata": {
        "id": "cVz0kKVIC4yp"
      },
      "execution_count": null,
      "outputs": []
    },
    {
      "cell_type": "code",
      "source": [
        "from transformers import T5Tokenizer, T5ForConditionalGeneration, Trainer, TrainingArguments\n",
        "\n",
        "# Load the tokenizer and model\n",
        "tokenizer = T5Tokenizer.from_pretrained(\"t5-small\")\n",
        "model = T5ForConditionalGeneration.from_pretrained(\"t5-small\")"
      ],
      "metadata": {
        "colab": {
          "base_uri": "https://localhost:8080/",
          "height": 581
        },
        "id": "wjFn2hstC40A",
        "outputId": "a2bc5345-01ad-474e-a41f-32c8eb073e30"
      },
      "execution_count": null,
      "outputs": [
        {
          "output_type": "error",
          "ename": "ImportError",
          "evalue": "ignored",
          "traceback": [
            "\u001b[0;31m---------------------------------------------------------------------------\u001b[0m",
            "\u001b[0;31mImportError\u001b[0m                               Traceback (most recent call last)",
            "\u001b[0;32m<ipython-input-3-74e59c43085e>\u001b[0m in \u001b[0;36m<cell line: 4>\u001b[0;34m()\u001b[0m\n\u001b[1;32m      2\u001b[0m \u001b[0;34m\u001b[0m\u001b[0m\n\u001b[1;32m      3\u001b[0m \u001b[0;31m# Load the tokenizer and model\u001b[0m\u001b[0;34m\u001b[0m\u001b[0;34m\u001b[0m\u001b[0m\n\u001b[0;32m----> 4\u001b[0;31m \u001b[0mtokenizer\u001b[0m \u001b[0;34m=\u001b[0m \u001b[0mT5Tokenizer\u001b[0m\u001b[0;34m.\u001b[0m\u001b[0mfrom_pretrained\u001b[0m\u001b[0;34m(\u001b[0m\u001b[0;34m\"t5-small\"\u001b[0m\u001b[0;34m)\u001b[0m\u001b[0;34m\u001b[0m\u001b[0;34m\u001b[0m\u001b[0m\n\u001b[0m\u001b[1;32m      5\u001b[0m \u001b[0mmodel\u001b[0m \u001b[0;34m=\u001b[0m \u001b[0mT5ForConditionalGeneration\u001b[0m\u001b[0;34m.\u001b[0m\u001b[0mfrom_pretrained\u001b[0m\u001b[0;34m(\u001b[0m\u001b[0;34m\"t5-small\"\u001b[0m\u001b[0;34m)\u001b[0m\u001b[0;34m\u001b[0m\u001b[0;34m\u001b[0m\u001b[0m\n",
            "\u001b[0;32m/usr/local/lib/python3.10/dist-packages/transformers/utils/import_utils.py\u001b[0m in \u001b[0;36m__getattribute__\u001b[0;34m(cls, key)\u001b[0m\n\u001b[1;32m   1257\u001b[0m         \u001b[0;32mif\u001b[0m \u001b[0mkey\u001b[0m\u001b[0;34m.\u001b[0m\u001b[0mstartswith\u001b[0m\u001b[0;34m(\u001b[0m\u001b[0;34m\"_\"\u001b[0m\u001b[0;34m)\u001b[0m \u001b[0;32mand\u001b[0m \u001b[0mkey\u001b[0m \u001b[0;34m!=\u001b[0m \u001b[0;34m\"_from_config\"\u001b[0m\u001b[0;34m:\u001b[0m\u001b[0;34m\u001b[0m\u001b[0;34m\u001b[0m\u001b[0m\n\u001b[1;32m   1258\u001b[0m             \u001b[0;32mreturn\u001b[0m \u001b[0msuper\u001b[0m\u001b[0;34m(\u001b[0m\u001b[0;34m)\u001b[0m\u001b[0;34m.\u001b[0m\u001b[0m__getattribute__\u001b[0m\u001b[0;34m(\u001b[0m\u001b[0mkey\u001b[0m\u001b[0;34m)\u001b[0m\u001b[0;34m\u001b[0m\u001b[0;34m\u001b[0m\u001b[0m\n\u001b[0;32m-> 1259\u001b[0;31m         \u001b[0mrequires_backends\u001b[0m\u001b[0;34m(\u001b[0m\u001b[0mcls\u001b[0m\u001b[0;34m,\u001b[0m \u001b[0mcls\u001b[0m\u001b[0;34m.\u001b[0m\u001b[0m_backends\u001b[0m\u001b[0;34m)\u001b[0m\u001b[0;34m\u001b[0m\u001b[0;34m\u001b[0m\u001b[0m\n\u001b[0m\u001b[1;32m   1260\u001b[0m \u001b[0;34m\u001b[0m\u001b[0m\n\u001b[1;32m   1261\u001b[0m \u001b[0;34m\u001b[0m\u001b[0m\n",
            "\u001b[0;32m/usr/local/lib/python3.10/dist-packages/transformers/utils/import_utils.py\u001b[0m in \u001b[0;36mrequires_backends\u001b[0;34m(obj, backends)\u001b[0m\n\u001b[1;32m   1245\u001b[0m     \u001b[0mfailed\u001b[0m \u001b[0;34m=\u001b[0m \u001b[0;34m[\u001b[0m\u001b[0mmsg\u001b[0m\u001b[0;34m.\u001b[0m\u001b[0mformat\u001b[0m\u001b[0;34m(\u001b[0m\u001b[0mname\u001b[0m\u001b[0;34m)\u001b[0m \u001b[0;32mfor\u001b[0m \u001b[0mavailable\u001b[0m\u001b[0;34m,\u001b[0m \u001b[0mmsg\u001b[0m \u001b[0;32min\u001b[0m \u001b[0mchecks\u001b[0m \u001b[0;32mif\u001b[0m \u001b[0;32mnot\u001b[0m \u001b[0mavailable\u001b[0m\u001b[0;34m(\u001b[0m\u001b[0;34m)\u001b[0m\u001b[0;34m]\u001b[0m\u001b[0;34m\u001b[0m\u001b[0;34m\u001b[0m\u001b[0m\n\u001b[1;32m   1246\u001b[0m     \u001b[0;32mif\u001b[0m \u001b[0mfailed\u001b[0m\u001b[0;34m:\u001b[0m\u001b[0;34m\u001b[0m\u001b[0;34m\u001b[0m\u001b[0m\n\u001b[0;32m-> 1247\u001b[0;31m         \u001b[0;32mraise\u001b[0m \u001b[0mImportError\u001b[0m\u001b[0;34m(\u001b[0m\u001b[0;34m\"\"\u001b[0m\u001b[0;34m.\u001b[0m\u001b[0mjoin\u001b[0m\u001b[0;34m(\u001b[0m\u001b[0mfailed\u001b[0m\u001b[0;34m)\u001b[0m\u001b[0;34m)\u001b[0m\u001b[0;34m\u001b[0m\u001b[0;34m\u001b[0m\u001b[0m\n\u001b[0m\u001b[1;32m   1248\u001b[0m \u001b[0;34m\u001b[0m\u001b[0m\n\u001b[1;32m   1249\u001b[0m \u001b[0;34m\u001b[0m\u001b[0m\n",
            "\u001b[0;31mImportError\u001b[0m: \nT5Tokenizer requires the SentencePiece library but it was not found in your environment. Checkout the instructions on the\ninstallation page of its repo: https://github.com/google/sentencepiece#installation and follow the ones\nthat match your environment. Please note that you may need to restart your runtime after installation.\n",
            "",
            "\u001b[0;31m---------------------------------------------------------------------------\u001b[0;32m\nNOTE: If your import is failing due to a missing package, you can\nmanually install dependencies using either !pip or !apt.\n\nTo view examples of installing some common dependencies, click the\n\"Open Examples\" button below.\n\u001b[0;31m---------------------------------------------------------------------------\u001b[0m\n"
          ],
          "errorDetails": {
            "actions": [
              {
                "action": "open_url",
                "actionText": "Open Examples",
                "url": "/notebooks/snippets/importing_libraries.ipynb"
              }
            ]
          }
        }
      ]
    },
    {
      "cell_type": "code",
      "source": [
        "# Prepare your dataset and put it into a format compatible with the Trainer class\n",
        "train_dataset = your_prepared_dataset\n",
        "\n",
        "# Fine-tuning arguments\n",
        "training_args = TrainingArguments(\n",
        "    output_dir=\"./t5_fine_tuned\",\n",
        "    overwrite_output_dir=True,\n",
        "    num_train_epochs=3,\n",
        "    per_device_train_batch_size=8,\n",
        "    save_steps=10_000,\n",
        "    save_total_limit=2,\n",
        ")\n",
        "\n",
        "# Create Trainer instance and fine-tune the model\n",
        "trainer = Trainer(\n",
        "    model=model,\n",
        "    args=training_args,\n",
        "    train_dataset=train_dataset,\n",
        "    tokenizer=tokenizer,\n",
        ")\n",
        "\n",
        "trainer.train()"
      ],
      "metadata": {
        "id": "N1-05aOWCAor"
      },
      "execution_count": null,
      "outputs": []
    },
    {
      "cell_type": "code",
      "source": [
        "!pip install sentencepiece"
      ],
      "metadata": {
        "colab": {
          "base_uri": "https://localhost:8080/"
        },
        "id": "g7TQwywJCArq",
        "outputId": "7806039b-5638-4130-fcec-8a6920bcfc82"
      },
      "execution_count": null,
      "outputs": [
        {
          "output_type": "stream",
          "name": "stdout",
          "text": [
            "Collecting sentencepiece\n",
            "  Downloading sentencepiece-0.1.99-cp310-cp310-manylinux_2_17_x86_64.manylinux2014_x86_64.whl (1.3 MB)\n",
            "\u001b[2K     \u001b[90m━━━━━━━━━━━━━━━━━━━━━━━━━━━━━━━━━━━━━━━━\u001b[0m \u001b[32m1.3/1.3 MB\u001b[0m \u001b[31m10.1 MB/s\u001b[0m eta \u001b[36m0:00:00\u001b[0m\n",
            "\u001b[?25hInstalling collected packages: sentencepiece\n",
            "Successfully installed sentencepiece-0.1.99\n"
          ]
        }
      ]
    },
    {
      "cell_type": "code",
      "source": [
        "!apt-get -qq install -y libarchive-dev && pip install -qU sentencepiece"
      ],
      "metadata": {
        "colab": {
          "base_uri": "https://localhost:8080/"
        },
        "id": "3chAI1UwCAtb",
        "outputId": "f672015e-dad7-4ed0-ff1a-dc467fc831c3"
      },
      "execution_count": null,
      "outputs": [
        {
          "output_type": "stream",
          "name": "stdout",
          "text": [
            "Selecting previously unselected package libarchive-dev:amd64.\n",
            "(Reading database ... 120882 files and directories currently installed.)\n",
            "Preparing to unpack .../libarchive-dev_3.6.0-1ubuntu1_amd64.deb ...\n",
            "Unpacking libarchive-dev:amd64 (3.6.0-1ubuntu1) ...\n",
            "Setting up libarchive-dev:amd64 (3.6.0-1ubuntu1) ...\n",
            "Processing triggers for man-db (2.10.2-1) ...\n"
          ]
        }
      ]
    },
    {
      "cell_type": "code",
      "source": [
        "from transformers import T5Tokenizer, T5ForConditionalGeneration\n",
        "\n",
        "# Load the tokenizer and model\n",
        "tokenizer = T5Tokenizer.from_pretrained(\"t5-small\")\n",
        "model = T5ForConditionalGeneration.from_pretrained(\"t5-small\")"
      ],
      "metadata": {
        "colab": {
          "base_uri": "https://localhost:8080/",
          "height": 581
        },
        "id": "9DoOCAclCAu0",
        "outputId": "2bcac67b-f37c-4108-9df6-c3a47cc172cb"
      },
      "execution_count": null,
      "outputs": [
        {
          "output_type": "error",
          "ename": "ImportError",
          "evalue": "ignored",
          "traceback": [
            "\u001b[0;31m---------------------------------------------------------------------------\u001b[0m",
            "\u001b[0;31mImportError\u001b[0m                               Traceback (most recent call last)",
            "\u001b[0;32m<ipython-input-5-980a2dd130a3>\u001b[0m in \u001b[0;36m<cell line: 4>\u001b[0;34m()\u001b[0m\n\u001b[1;32m      2\u001b[0m \u001b[0;34m\u001b[0m\u001b[0m\n\u001b[1;32m      3\u001b[0m \u001b[0;31m# Load the tokenizer and model\u001b[0m\u001b[0;34m\u001b[0m\u001b[0;34m\u001b[0m\u001b[0m\n\u001b[0;32m----> 4\u001b[0;31m \u001b[0mtokenizer\u001b[0m \u001b[0;34m=\u001b[0m \u001b[0mT5Tokenizer\u001b[0m\u001b[0;34m.\u001b[0m\u001b[0mfrom_pretrained\u001b[0m\u001b[0;34m(\u001b[0m\u001b[0;34m\"t5-small\"\u001b[0m\u001b[0;34m)\u001b[0m\u001b[0;34m\u001b[0m\u001b[0;34m\u001b[0m\u001b[0m\n\u001b[0m\u001b[1;32m      5\u001b[0m \u001b[0mmodel\u001b[0m \u001b[0;34m=\u001b[0m \u001b[0mT5ForConditionalGeneration\u001b[0m\u001b[0;34m.\u001b[0m\u001b[0mfrom_pretrained\u001b[0m\u001b[0;34m(\u001b[0m\u001b[0;34m\"t5-small\"\u001b[0m\u001b[0;34m)\u001b[0m\u001b[0;34m\u001b[0m\u001b[0;34m\u001b[0m\u001b[0m\n",
            "\u001b[0;32m/usr/local/lib/python3.10/dist-packages/transformers/utils/import_utils.py\u001b[0m in \u001b[0;36m__getattribute__\u001b[0;34m(cls, key)\u001b[0m\n\u001b[1;32m   1257\u001b[0m         \u001b[0;32mif\u001b[0m \u001b[0mkey\u001b[0m\u001b[0;34m.\u001b[0m\u001b[0mstartswith\u001b[0m\u001b[0;34m(\u001b[0m\u001b[0;34m\"_\"\u001b[0m\u001b[0;34m)\u001b[0m \u001b[0;32mand\u001b[0m \u001b[0mkey\u001b[0m \u001b[0;34m!=\u001b[0m \u001b[0;34m\"_from_config\"\u001b[0m\u001b[0;34m:\u001b[0m\u001b[0;34m\u001b[0m\u001b[0;34m\u001b[0m\u001b[0m\n\u001b[1;32m   1258\u001b[0m             \u001b[0;32mreturn\u001b[0m \u001b[0msuper\u001b[0m\u001b[0;34m(\u001b[0m\u001b[0;34m)\u001b[0m\u001b[0;34m.\u001b[0m\u001b[0m__getattribute__\u001b[0m\u001b[0;34m(\u001b[0m\u001b[0mkey\u001b[0m\u001b[0;34m)\u001b[0m\u001b[0;34m\u001b[0m\u001b[0;34m\u001b[0m\u001b[0m\n\u001b[0;32m-> 1259\u001b[0;31m         \u001b[0mrequires_backends\u001b[0m\u001b[0;34m(\u001b[0m\u001b[0mcls\u001b[0m\u001b[0;34m,\u001b[0m \u001b[0mcls\u001b[0m\u001b[0;34m.\u001b[0m\u001b[0m_backends\u001b[0m\u001b[0;34m)\u001b[0m\u001b[0;34m\u001b[0m\u001b[0;34m\u001b[0m\u001b[0m\n\u001b[0m\u001b[1;32m   1260\u001b[0m \u001b[0;34m\u001b[0m\u001b[0m\n\u001b[1;32m   1261\u001b[0m \u001b[0;34m\u001b[0m\u001b[0m\n",
            "\u001b[0;32m/usr/local/lib/python3.10/dist-packages/transformers/utils/import_utils.py\u001b[0m in \u001b[0;36mrequires_backends\u001b[0;34m(obj, backends)\u001b[0m\n\u001b[1;32m   1245\u001b[0m     \u001b[0mfailed\u001b[0m \u001b[0;34m=\u001b[0m \u001b[0;34m[\u001b[0m\u001b[0mmsg\u001b[0m\u001b[0;34m.\u001b[0m\u001b[0mformat\u001b[0m\u001b[0;34m(\u001b[0m\u001b[0mname\u001b[0m\u001b[0;34m)\u001b[0m \u001b[0;32mfor\u001b[0m \u001b[0mavailable\u001b[0m\u001b[0;34m,\u001b[0m \u001b[0mmsg\u001b[0m \u001b[0;32min\u001b[0m \u001b[0mchecks\u001b[0m \u001b[0;32mif\u001b[0m \u001b[0;32mnot\u001b[0m \u001b[0mavailable\u001b[0m\u001b[0;34m(\u001b[0m\u001b[0;34m)\u001b[0m\u001b[0;34m]\u001b[0m\u001b[0;34m\u001b[0m\u001b[0;34m\u001b[0m\u001b[0m\n\u001b[1;32m   1246\u001b[0m     \u001b[0;32mif\u001b[0m \u001b[0mfailed\u001b[0m\u001b[0;34m:\u001b[0m\u001b[0;34m\u001b[0m\u001b[0;34m\u001b[0m\u001b[0m\n\u001b[0;32m-> 1247\u001b[0;31m         \u001b[0;32mraise\u001b[0m \u001b[0mImportError\u001b[0m\u001b[0;34m(\u001b[0m\u001b[0;34m\"\"\u001b[0m\u001b[0;34m.\u001b[0m\u001b[0mjoin\u001b[0m\u001b[0;34m(\u001b[0m\u001b[0mfailed\u001b[0m\u001b[0;34m)\u001b[0m\u001b[0;34m)\u001b[0m\u001b[0;34m\u001b[0m\u001b[0;34m\u001b[0m\u001b[0m\n\u001b[0m\u001b[1;32m   1248\u001b[0m \u001b[0;34m\u001b[0m\u001b[0m\n\u001b[1;32m   1249\u001b[0m \u001b[0;34m\u001b[0m\u001b[0m\n",
            "\u001b[0;31mImportError\u001b[0m: \nT5Tokenizer requires the SentencePiece library but it was not found in your environment. Checkout the instructions on the\ninstallation page of its repo: https://github.com/google/sentencepiece#installation and follow the ones\nthat match your environment. Please note that you may need to restart your runtime after installation.\n",
            "",
            "\u001b[0;31m---------------------------------------------------------------------------\u001b[0;32m\nNOTE: If your import is failing due to a missing package, you can\nmanually install dependencies using either !pip or !apt.\n\nTo view examples of installing some common dependencies, click the\n\"Open Examples\" button below.\n\u001b[0;31m---------------------------------------------------------------------------\u001b[0m\n"
          ],
          "errorDetails": {
            "actions": [
              {
                "action": "open_url",
                "actionText": "Open Examples",
                "url": "/notebooks/snippets/importing_libraries.ipynb"
              }
            ]
          }
        }
      ]
    },
    {
      "cell_type": "code",
      "source": [
        "!pip uninstall -y transformers\n",
        "!pip install transformers"
      ],
      "metadata": {
        "colab": {
          "base_uri": "https://localhost:8080/",
          "height": 550
        },
        "id": "jA3jd2L3CAxH",
        "outputId": "908a7945-3826-4fc8-843c-e5a2f7b154fc"
      },
      "execution_count": null,
      "outputs": [
        {
          "output_type": "stream",
          "name": "stdout",
          "text": [
            "Found existing installation: transformers 4.35.2\n",
            "Uninstalling transformers-4.35.2:\n",
            "  Successfully uninstalled transformers-4.35.2\n",
            "Collecting transformers\n",
            "  Downloading transformers-4.35.2-py3-none-any.whl (7.9 MB)\n",
            "\u001b[2K     \u001b[90m━━━━━━━━━━━━━━━━━━━━━━━━━━━━━━━━━━━━━━━━\u001b[0m \u001b[32m7.9/7.9 MB\u001b[0m \u001b[31m12.7 MB/s\u001b[0m eta \u001b[36m0:00:00\u001b[0m\n",
            "\u001b[?25hRequirement already satisfied: filelock in /usr/local/lib/python3.10/dist-packages (from transformers) (3.13.1)\n",
            "Requirement already satisfied: huggingface-hub<1.0,>=0.16.4 in /usr/local/lib/python3.10/dist-packages (from transformers) (0.19.4)\n",
            "Requirement already satisfied: numpy>=1.17 in /usr/local/lib/python3.10/dist-packages (from transformers) (1.23.5)\n",
            "Requirement already satisfied: packaging>=20.0 in /usr/local/lib/python3.10/dist-packages (from transformers) (23.2)\n",
            "Requirement already satisfied: pyyaml>=5.1 in /usr/local/lib/python3.10/dist-packages (from transformers) (6.0.1)\n",
            "Requirement already satisfied: regex!=2019.12.17 in /usr/local/lib/python3.10/dist-packages (from transformers) (2023.6.3)\n",
            "Requirement already satisfied: requests in /usr/local/lib/python3.10/dist-packages (from transformers) (2.31.0)\n",
            "Requirement already satisfied: tokenizers<0.19,>=0.14 in /usr/local/lib/python3.10/dist-packages (from transformers) (0.15.0)\n",
            "Requirement already satisfied: safetensors>=0.3.1 in /usr/local/lib/python3.10/dist-packages (from transformers) (0.4.1)\n",
            "Requirement already satisfied: tqdm>=4.27 in /usr/local/lib/python3.10/dist-packages (from transformers) (4.66.1)\n",
            "Requirement already satisfied: fsspec>=2023.5.0 in /usr/local/lib/python3.10/dist-packages (from huggingface-hub<1.0,>=0.16.4->transformers) (2023.6.0)\n",
            "Requirement already satisfied: typing-extensions>=3.7.4.3 in /usr/local/lib/python3.10/dist-packages (from huggingface-hub<1.0,>=0.16.4->transformers) (4.5.0)\n",
            "Requirement already satisfied: charset-normalizer<4,>=2 in /usr/local/lib/python3.10/dist-packages (from requests->transformers) (3.3.2)\n",
            "Requirement already satisfied: idna<4,>=2.5 in /usr/local/lib/python3.10/dist-packages (from requests->transformers) (3.6)\n",
            "Requirement already satisfied: urllib3<3,>=1.21.1 in /usr/local/lib/python3.10/dist-packages (from requests->transformers) (2.0.7)\n",
            "Requirement already satisfied: certifi>=2017.4.17 in /usr/local/lib/python3.10/dist-packages (from requests->transformers) (2023.11.17)\n",
            "Installing collected packages: transformers\n",
            "Successfully installed transformers-4.35.2\n"
          ]
        },
        {
          "output_type": "display_data",
          "data": {
            "application/vnd.colab-display-data+json": {
              "pip_warning": {
                "packages": [
                  "transformers"
                ]
              }
            }
          },
          "metadata": {}
        }
      ]
    },
    {
      "cell_type": "code",
      "source": [
        "from transformers import T5Tokenizer, T5ForConditionalGeneration\n",
        "\n",
        "# Load the tokenizer and model\n",
        "tokenizer = T5Tokenizer.from_pretrained(\"t5-small\")\n",
        "model = T5ForConditionalGeneration.from_pretrained(\"t5-small\")"
      ],
      "metadata": {
        "colab": {
          "base_uri": "https://localhost:8080/",
          "height": 581
        },
        "id": "Rz8SxEJWCAz6",
        "outputId": "819234a3-527c-48f1-a012-5f4ddb9cf660"
      },
      "execution_count": null,
      "outputs": [
        {
          "output_type": "error",
          "ename": "ImportError",
          "evalue": "ignored",
          "traceback": [
            "\u001b[0;31m---------------------------------------------------------------------------\u001b[0m",
            "\u001b[0;31mImportError\u001b[0m                               Traceback (most recent call last)",
            "\u001b[0;32m<ipython-input-7-980a2dd130a3>\u001b[0m in \u001b[0;36m<cell line: 4>\u001b[0;34m()\u001b[0m\n\u001b[1;32m      2\u001b[0m \u001b[0;34m\u001b[0m\u001b[0m\n\u001b[1;32m      3\u001b[0m \u001b[0;31m# Load the tokenizer and model\u001b[0m\u001b[0;34m\u001b[0m\u001b[0;34m\u001b[0m\u001b[0m\n\u001b[0;32m----> 4\u001b[0;31m \u001b[0mtokenizer\u001b[0m \u001b[0;34m=\u001b[0m \u001b[0mT5Tokenizer\u001b[0m\u001b[0;34m.\u001b[0m\u001b[0mfrom_pretrained\u001b[0m\u001b[0;34m(\u001b[0m\u001b[0;34m\"t5-small\"\u001b[0m\u001b[0;34m)\u001b[0m\u001b[0;34m\u001b[0m\u001b[0;34m\u001b[0m\u001b[0m\n\u001b[0m\u001b[1;32m      5\u001b[0m \u001b[0mmodel\u001b[0m \u001b[0;34m=\u001b[0m \u001b[0mT5ForConditionalGeneration\u001b[0m\u001b[0;34m.\u001b[0m\u001b[0mfrom_pretrained\u001b[0m\u001b[0;34m(\u001b[0m\u001b[0;34m\"t5-small\"\u001b[0m\u001b[0;34m)\u001b[0m\u001b[0;34m\u001b[0m\u001b[0;34m\u001b[0m\u001b[0m\n",
            "\u001b[0;32m/usr/local/lib/python3.10/dist-packages/transformers/utils/import_utils.py\u001b[0m in \u001b[0;36m__getattribute__\u001b[0;34m(cls, key)\u001b[0m\n\u001b[1;32m   1257\u001b[0m         \u001b[0;32mif\u001b[0m \u001b[0mkey\u001b[0m\u001b[0;34m.\u001b[0m\u001b[0mstartswith\u001b[0m\u001b[0;34m(\u001b[0m\u001b[0;34m\"_\"\u001b[0m\u001b[0;34m)\u001b[0m \u001b[0;32mand\u001b[0m \u001b[0mkey\u001b[0m \u001b[0;34m!=\u001b[0m \u001b[0;34m\"_from_config\"\u001b[0m\u001b[0;34m:\u001b[0m\u001b[0;34m\u001b[0m\u001b[0;34m\u001b[0m\u001b[0m\n\u001b[1;32m   1258\u001b[0m             \u001b[0;32mreturn\u001b[0m \u001b[0msuper\u001b[0m\u001b[0;34m(\u001b[0m\u001b[0;34m)\u001b[0m\u001b[0;34m.\u001b[0m\u001b[0m__getattribute__\u001b[0m\u001b[0;34m(\u001b[0m\u001b[0mkey\u001b[0m\u001b[0;34m)\u001b[0m\u001b[0;34m\u001b[0m\u001b[0;34m\u001b[0m\u001b[0m\n\u001b[0;32m-> 1259\u001b[0;31m         \u001b[0mrequires_backends\u001b[0m\u001b[0;34m(\u001b[0m\u001b[0mcls\u001b[0m\u001b[0;34m,\u001b[0m \u001b[0mcls\u001b[0m\u001b[0;34m.\u001b[0m\u001b[0m_backends\u001b[0m\u001b[0;34m)\u001b[0m\u001b[0;34m\u001b[0m\u001b[0;34m\u001b[0m\u001b[0m\n\u001b[0m\u001b[1;32m   1260\u001b[0m \u001b[0;34m\u001b[0m\u001b[0m\n\u001b[1;32m   1261\u001b[0m \u001b[0;34m\u001b[0m\u001b[0m\n",
            "\u001b[0;32m/usr/local/lib/python3.10/dist-packages/transformers/utils/import_utils.py\u001b[0m in \u001b[0;36mrequires_backends\u001b[0;34m(obj, backends)\u001b[0m\n\u001b[1;32m   1245\u001b[0m     \u001b[0mfailed\u001b[0m \u001b[0;34m=\u001b[0m \u001b[0;34m[\u001b[0m\u001b[0mmsg\u001b[0m\u001b[0;34m.\u001b[0m\u001b[0mformat\u001b[0m\u001b[0;34m(\u001b[0m\u001b[0mname\u001b[0m\u001b[0;34m)\u001b[0m \u001b[0;32mfor\u001b[0m \u001b[0mavailable\u001b[0m\u001b[0;34m,\u001b[0m \u001b[0mmsg\u001b[0m \u001b[0;32min\u001b[0m \u001b[0mchecks\u001b[0m \u001b[0;32mif\u001b[0m \u001b[0;32mnot\u001b[0m \u001b[0mavailable\u001b[0m\u001b[0;34m(\u001b[0m\u001b[0;34m)\u001b[0m\u001b[0;34m]\u001b[0m\u001b[0;34m\u001b[0m\u001b[0;34m\u001b[0m\u001b[0m\n\u001b[1;32m   1246\u001b[0m     \u001b[0;32mif\u001b[0m \u001b[0mfailed\u001b[0m\u001b[0;34m:\u001b[0m\u001b[0;34m\u001b[0m\u001b[0;34m\u001b[0m\u001b[0m\n\u001b[0;32m-> 1247\u001b[0;31m         \u001b[0;32mraise\u001b[0m \u001b[0mImportError\u001b[0m\u001b[0;34m(\u001b[0m\u001b[0;34m\"\"\u001b[0m\u001b[0;34m.\u001b[0m\u001b[0mjoin\u001b[0m\u001b[0;34m(\u001b[0m\u001b[0mfailed\u001b[0m\u001b[0;34m)\u001b[0m\u001b[0;34m)\u001b[0m\u001b[0;34m\u001b[0m\u001b[0;34m\u001b[0m\u001b[0m\n\u001b[0m\u001b[1;32m   1248\u001b[0m \u001b[0;34m\u001b[0m\u001b[0m\n\u001b[1;32m   1249\u001b[0m \u001b[0;34m\u001b[0m\u001b[0m\n",
            "\u001b[0;31mImportError\u001b[0m: \nT5Tokenizer requires the SentencePiece library but it was not found in your environment. Checkout the instructions on the\ninstallation page of its repo: https://github.com/google/sentencepiece#installation and follow the ones\nthat match your environment. Please note that you may need to restart your runtime after installation.\n",
            "",
            "\u001b[0;31m---------------------------------------------------------------------------\u001b[0;32m\nNOTE: If your import is failing due to a missing package, you can\nmanually install dependencies using either !pip or !apt.\n\nTo view examples of installing some common dependencies, click the\n\"Open Examples\" button below.\n\u001b[0;31m---------------------------------------------------------------------------\u001b[0m\n"
          ],
          "errorDetails": {
            "actions": [
              {
                "action": "open_url",
                "actionText": "Open Examples",
                "url": "/notebooks/snippets/importing_libraries.ipynb"
              }
            ]
          }
        }
      ]
    },
    {
      "cell_type": "code",
      "source": [
        "from transformers import GPT2Tokenizer, GPT2LMHeadModel, Trainer, TrainingArguments"
      ],
      "metadata": {
        "id": "8m8gi-0zD7JZ"
      },
      "execution_count": null,
      "outputs": []
    },
    {
      "cell_type": "code",
      "source": [
        "# Load the tokenizer and model\n",
        "tokenizer = GPT2Tokenizer.from_pretrained(\"gpt2\")\n",
        "model = GPT2LMHeadModel.from_pretrained(\"gpt2\")"
      ],
      "metadata": {
        "colab": {
          "base_uri": "https://localhost:8080/",
          "height": 209,
          "referenced_widgets": [
            "db1c7514af1b488db43d11c28929e7f2",
            "233d6696146a40028151614a405ee04e",
            "cc812cf8b2f148279394456ba3bf6890",
            "97b96a1a2be54d62bbd2461b4a116824",
            "113374bc06514a8ea04b951f0cdc3190",
            "d7bd73c2b4264d62960164ba6bd27585",
            "8d83a8c45a944f868b9e3e0115d4c7e0",
            "859d6ff74650457c931061117e74a807",
            "90af610ab52f413aa5bdeae6d48fa5f7",
            "ed24e1af50db4d3aa5f07aaa5002cf95",
            "60708669f6a14e3ab06589b63abd5712",
            "80d37fda276e416b8f369d6d21bf73a2",
            "457714a161f14ad3a71e4b37eb5c89e5",
            "28570b56050e4ca5b874e33de32cc3a1",
            "b02cf2cb4c624884b187331de262c928",
            "00a42f77cc364859af07fb9e235b7c28",
            "2e410a2eaf874426807685f6c2d1f949",
            "6903965ae3844e84948c8fa431d59c6f",
            "c3fe1632faf4400d8bb7fdd5c5e28a75",
            "f4955eb94b6543ef84dadccf1883dc03",
            "6250bd1d2ae14320a2dd9179b53f44b9",
            "539affb036334f808658dd65f264d358",
            "a4f0d1d1bfc44c26af9ace0feeeec51e",
            "0a36a3b3c06549bc94b6b2b5c872ffc6",
            "f69a9139bce7417fbba5c7bde064eda7",
            "ec7fdd60804448bfa7a0067f8452cdec",
            "4380d0b9ebf84bdab493175ae4f23b83",
            "6906dbf75ecc43ca9170078c454842f4",
            "0efac6642fec4e339d08e9485d6a4cfa",
            "5d6f11944c31485b88e1a1f8d4fc0dcc",
            "4eeefcc85b0a44048432ababb10948ed",
            "8ca9f18f1ebf4e7f81a2b3a436fdefc3",
            "6c38bda4bf7e42a990ec7d78a159d99a",
            "27e1db4633734425b2abe9bf62483dec",
            "a249cd20a1114ac4875b62ef0f560504",
            "a12cea7b280548cab9916ef484c2e6ec",
            "d9c6995ed2994d50ba0209b6c27a9ee4",
            "6706c7ecf3ca4dbb9c7128b0c8ab1cde",
            "54c07863d1754f8484fc508fcccc16fd",
            "5cca1652cd534f9da25b2f67d81f66db",
            "dab0f41a54ac4318bfb269e0721df91e",
            "3bfa897958ad4d16bd18c1af1a16a6b2",
            "18693fe7f0954cf8bb6a1de3f87d799e",
            "b20b6168ff084a3888fc2957f1c77351",
            "fcdb3e6d3f3f4cfbbe704313680d8a28",
            "d0a73c022bb749048f5880cc720bc860",
            "f57b3be18c504044a977b0e9c0d8a280",
            "f1d3cb46258a43228903b803e1ba5256",
            "566031977cfd46a594eddd9a36658321",
            "0273df3feba541a3bc589b5f41bda340",
            "6e1ffb45de2c4f6898c0d588214c9c19",
            "2f0f1cdae50f47e1bceca956e083e2c2",
            "c9fac6d427744c6d91c63db955773452",
            "98a932c1c8b247ca9408596344c073c5",
            "ed86af6905d4461fa77487b9d5da7617",
            "79d27e4db2e743838471d2d27d2d8348",
            "87dd631fbe984a0c8ee7c7d9261d84b8",
            "3e272fbede454664bbc2f457d87ede84",
            "fbfbdaaf28014f20a4145e8f5d56ddf7",
            "57abdfc028d0493ba182e6ffc83edd01",
            "af84924af89747728afc19c6e91caa31",
            "927f260fde194adeafad4611dc7be694",
            "0087d512a8734354a171c06123151d9d",
            "080dc6d151f849fda3ed59d389c98836",
            "27896864b0744b99951681f59f8a86d7",
            "e995c30856f144e1a2516d206679b560"
          ]
        },
        "id": "o--eegHDD9PV",
        "outputId": "1df60c41-6679-4aed-f0c4-48cd92a0cfb0"
      },
      "execution_count": null,
      "outputs": [
        {
          "output_type": "display_data",
          "data": {
            "text/plain": [
              "vocab.json:   0%|          | 0.00/1.04M [00:00<?, ?B/s]"
            ],
            "application/vnd.jupyter.widget-view+json": {
              "version_major": 2,
              "version_minor": 0,
              "model_id": "db1c7514af1b488db43d11c28929e7f2"
            }
          },
          "metadata": {}
        },
        {
          "output_type": "display_data",
          "data": {
            "text/plain": [
              "merges.txt:   0%|          | 0.00/456k [00:00<?, ?B/s]"
            ],
            "application/vnd.jupyter.widget-view+json": {
              "version_major": 2,
              "version_minor": 0,
              "model_id": "80d37fda276e416b8f369d6d21bf73a2"
            }
          },
          "metadata": {}
        },
        {
          "output_type": "display_data",
          "data": {
            "text/plain": [
              "tokenizer.json:   0%|          | 0.00/1.36M [00:00<?, ?B/s]"
            ],
            "application/vnd.jupyter.widget-view+json": {
              "version_major": 2,
              "version_minor": 0,
              "model_id": "a4f0d1d1bfc44c26af9ace0feeeec51e"
            }
          },
          "metadata": {}
        },
        {
          "output_type": "display_data",
          "data": {
            "text/plain": [
              "config.json:   0%|          | 0.00/665 [00:00<?, ?B/s]"
            ],
            "application/vnd.jupyter.widget-view+json": {
              "version_major": 2,
              "version_minor": 0,
              "model_id": "27e1db4633734425b2abe9bf62483dec"
            }
          },
          "metadata": {}
        },
        {
          "output_type": "display_data",
          "data": {
            "text/plain": [
              "model.safetensors:   0%|          | 0.00/548M [00:00<?, ?B/s]"
            ],
            "application/vnd.jupyter.widget-view+json": {
              "version_major": 2,
              "version_minor": 0,
              "model_id": "fcdb3e6d3f3f4cfbbe704313680d8a28"
            }
          },
          "metadata": {}
        },
        {
          "output_type": "display_data",
          "data": {
            "text/plain": [
              "generation_config.json:   0%|          | 0.00/124 [00:00<?, ?B/s]"
            ],
            "application/vnd.jupyter.widget-view+json": {
              "version_major": 2,
              "version_minor": 0,
              "model_id": "79d27e4db2e743838471d2d27d2d8348"
            }
          },
          "metadata": {}
        }
      ]
    },
    {
      "cell_type": "code",
      "source": [
        "# Prepare your dataset (replace this with your own dataset preparation)\n",
        "train_dataset = \"/content/dataset.txt\"\n",
        "\n",
        "# Fine-tuning arguments\n",
        "training_args = TrainingArguments(\n",
        "    output_dir=\"./gpt2_fine_tuned\",\n",
        "    overwrite_output_dir=True,\n",
        "    num_train_epochs=3,\n",
        "    per_device_train_batch_size=8,\n",
        "    save_steps=10_000,\n",
        "    save_total_limit=2,\n",
        ")\n",
        "\n",
        "# Create Trainer instance and fine-tune the model\n",
        "trainer = Trainer(\n",
        "    model=model,\n",
        "    args=training_args,\n",
        "    train_dataset=train_dataset,\n",
        "    tokenizer=tokenizer,\n",
        ")\n",
        "\n",
        "trainer.train()"
      ],
      "metadata": {
        "colab": {
          "base_uri": "https://localhost:8080/",
          "height": 564
        },
        "id": "a-gF6QoHDp9q",
        "outputId": "26af0644-6692-443d-f1d5-bfedbbcd6cbb"
      },
      "execution_count": null,
      "outputs": [
        {
          "output_type": "error",
          "ename": "ImportError",
          "evalue": "ignored",
          "traceback": [
            "\u001b[0;31m---------------------------------------------------------------------------\u001b[0m",
            "\u001b[0;31mImportError\u001b[0m                               Traceback (most recent call last)",
            "\u001b[0;32m<ipython-input-10-0a96dcdbad6a>\u001b[0m in \u001b[0;36m<cell line: 5>\u001b[0;34m()\u001b[0m\n\u001b[1;32m      3\u001b[0m \u001b[0;34m\u001b[0m\u001b[0m\n\u001b[1;32m      4\u001b[0m \u001b[0;31m# Fine-tuning arguments\u001b[0m\u001b[0;34m\u001b[0m\u001b[0;34m\u001b[0m\u001b[0m\n\u001b[0;32m----> 5\u001b[0;31m training_args = TrainingArguments(\n\u001b[0m\u001b[1;32m      6\u001b[0m     \u001b[0moutput_dir\u001b[0m\u001b[0;34m=\u001b[0m\u001b[0;34m\"./gpt2_fine_tuned\"\u001b[0m\u001b[0;34m,\u001b[0m\u001b[0;34m\u001b[0m\u001b[0;34m\u001b[0m\u001b[0m\n\u001b[1;32m      7\u001b[0m     \u001b[0moverwrite_output_dir\u001b[0m\u001b[0;34m=\u001b[0m\u001b[0;32mTrue\u001b[0m\u001b[0;34m,\u001b[0m\u001b[0;34m\u001b[0m\u001b[0;34m\u001b[0m\u001b[0m\n",
            "\u001b[0;32m/usr/local/lib/python3.10/dist-packages/transformers/training_args.py\u001b[0m in \u001b[0;36m__init__\u001b[0;34m(self, output_dir, overwrite_output_dir, do_train, do_eval, do_predict, evaluation_strategy, prediction_loss_only, per_device_train_batch_size, per_device_eval_batch_size, per_gpu_train_batch_size, per_gpu_eval_batch_size, gradient_accumulation_steps, eval_accumulation_steps, eval_delay, learning_rate, weight_decay, adam_beta1, adam_beta2, adam_epsilon, max_grad_norm, num_train_epochs, max_steps, lr_scheduler_type, warmup_ratio, warmup_steps, log_level, log_level_replica, log_on_each_node, logging_dir, logging_strategy, logging_first_step, logging_steps, logging_nan_inf_filter, save_strategy, save_steps, save_total_limit, save_safetensors, save_on_each_node, no_cuda, use_cpu, use_mps_device, seed, data_seed, jit_mode_eval, use_ipex, bf16, fp16, fp16_opt_level, half_precision_backend, bf16_full_eval, fp16_full_eval, tf32, local_rank, ddp_backend, tpu_num_cores, tpu_metrics_debug, debug, dataloader_drop_last, eval_steps, dataloader_num_workers, past_index, run_name, disable_tqdm, remove_unused_columns, label_names, load_best_model_at_end, metric_for_best_model, greater_is_better, ignore_data_skip, fsdp, fsdp_min_num_params, fsdp_config, fsdp_transformer_layer_cls_to_wrap, deepspeed, label_smoothing_factor, optim, optim_args, adafactor, group_by_length, length_column_name, report_to, ddp_find_unused_parameters, ddp_bucket_cap_mb, ddp_broadcast_buffers, dataloader_pin_memo...\n",
            "\u001b[0;32m/usr/local/lib/python3.10/dist-packages/transformers/training_args.py\u001b[0m in \u001b[0;36m__post_init__\u001b[0;34m(self)\u001b[0m\n\u001b[1;32m   1440\u001b[0m             \u001b[0mself\u001b[0m\u001b[0;34m.\u001b[0m\u001b[0mframework\u001b[0m \u001b[0;34m==\u001b[0m \u001b[0;34m\"pt\"\u001b[0m\u001b[0;34m\u001b[0m\u001b[0;34m\u001b[0m\u001b[0m\n\u001b[1;32m   1441\u001b[0m             \u001b[0;32mand\u001b[0m \u001b[0mis_torch_available\u001b[0m\u001b[0;34m(\u001b[0m\u001b[0;34m)\u001b[0m\u001b[0;34m\u001b[0m\u001b[0;34m\u001b[0m\u001b[0m\n\u001b[0;32m-> 1442\u001b[0;31m             \u001b[0;32mand\u001b[0m \u001b[0;34m(\u001b[0m\u001b[0mself\u001b[0m\u001b[0;34m.\u001b[0m\u001b[0mdevice\u001b[0m\u001b[0;34m.\u001b[0m\u001b[0mtype\u001b[0m \u001b[0;34m!=\u001b[0m \u001b[0;34m\"cuda\"\u001b[0m\u001b[0;34m)\u001b[0m\u001b[0;34m\u001b[0m\u001b[0;34m\u001b[0m\u001b[0m\n\u001b[0m\u001b[1;32m   1443\u001b[0m             \u001b[0;32mand\u001b[0m \u001b[0;34m(\u001b[0m\u001b[0mself\u001b[0m\u001b[0;34m.\u001b[0m\u001b[0mdevice\u001b[0m\u001b[0;34m.\u001b[0m\u001b[0mtype\u001b[0m \u001b[0;34m!=\u001b[0m \u001b[0;34m\"npu\"\u001b[0m\u001b[0;34m)\u001b[0m\u001b[0;34m\u001b[0m\u001b[0;34m\u001b[0m\u001b[0m\n\u001b[1;32m   1444\u001b[0m             \u001b[0;32mand\u001b[0m \u001b[0;34m(\u001b[0m\u001b[0mself\u001b[0m\u001b[0;34m.\u001b[0m\u001b[0mdevice\u001b[0m\u001b[0;34m.\u001b[0m\u001b[0mtype\u001b[0m \u001b[0;34m!=\u001b[0m \u001b[0;34m\"xpu\"\u001b[0m\u001b[0;34m)\u001b[0m\u001b[0;34m\u001b[0m\u001b[0;34m\u001b[0m\u001b[0m\n",
            "\u001b[0;32m/usr/local/lib/python3.10/dist-packages/transformers/training_args.py\u001b[0m in \u001b[0;36mdevice\u001b[0;34m(self)\u001b[0m\n\u001b[1;32m   1885\u001b[0m         \"\"\"\n\u001b[1;32m   1886\u001b[0m         \u001b[0mrequires_backends\u001b[0m\u001b[0;34m(\u001b[0m\u001b[0mself\u001b[0m\u001b[0;34m,\u001b[0m \u001b[0;34m[\u001b[0m\u001b[0;34m\"torch\"\u001b[0m\u001b[0;34m]\u001b[0m\u001b[0;34m)\u001b[0m\u001b[0;34m\u001b[0m\u001b[0;34m\u001b[0m\u001b[0m\n\u001b[0;32m-> 1887\u001b[0;31m         \u001b[0;32mreturn\u001b[0m \u001b[0mself\u001b[0m\u001b[0;34m.\u001b[0m\u001b[0m_setup_devices\u001b[0m\u001b[0;34m\u001b[0m\u001b[0;34m\u001b[0m\u001b[0m\n\u001b[0m\u001b[1;32m   1888\u001b[0m \u001b[0;34m\u001b[0m\u001b[0m\n\u001b[1;32m   1889\u001b[0m     \u001b[0;34m@\u001b[0m\u001b[0mproperty\u001b[0m\u001b[0;34m\u001b[0m\u001b[0;34m\u001b[0m\u001b[0m\n",
            "\u001b[0;32m/usr/local/lib/python3.10/dist-packages/transformers/utils/generic.py\u001b[0m in \u001b[0;36m__get__\u001b[0;34m(self, obj, objtype)\u001b[0m\n\u001b[1;32m     52\u001b[0m         \u001b[0mcached\u001b[0m \u001b[0;34m=\u001b[0m \u001b[0mgetattr\u001b[0m\u001b[0;34m(\u001b[0m\u001b[0mobj\u001b[0m\u001b[0;34m,\u001b[0m \u001b[0mattr\u001b[0m\u001b[0;34m,\u001b[0m \u001b[0;32mNone\u001b[0m\u001b[0;34m)\u001b[0m\u001b[0;34m\u001b[0m\u001b[0;34m\u001b[0m\u001b[0m\n\u001b[1;32m     53\u001b[0m         \u001b[0;32mif\u001b[0m \u001b[0mcached\u001b[0m \u001b[0;32mis\u001b[0m \u001b[0;32mNone\u001b[0m\u001b[0;34m:\u001b[0m\u001b[0;34m\u001b[0m\u001b[0;34m\u001b[0m\u001b[0m\n\u001b[0;32m---> 54\u001b[0;31m             \u001b[0mcached\u001b[0m \u001b[0;34m=\u001b[0m \u001b[0mself\u001b[0m\u001b[0;34m.\u001b[0m\u001b[0mfget\u001b[0m\u001b[0;34m(\u001b[0m\u001b[0mobj\u001b[0m\u001b[0;34m)\u001b[0m\u001b[0;34m\u001b[0m\u001b[0;34m\u001b[0m\u001b[0m\n\u001b[0m\u001b[1;32m     55\u001b[0m             \u001b[0msetattr\u001b[0m\u001b[0;34m(\u001b[0m\u001b[0mobj\u001b[0m\u001b[0;34m,\u001b[0m \u001b[0mattr\u001b[0m\u001b[0;34m,\u001b[0m \u001b[0mcached\u001b[0m\u001b[0;34m)\u001b[0m\u001b[0;34m\u001b[0m\u001b[0;34m\u001b[0m\u001b[0m\n\u001b[1;32m     56\u001b[0m         \u001b[0;32mreturn\u001b[0m \u001b[0mcached\u001b[0m\u001b[0;34m\u001b[0m\u001b[0;34m\u001b[0m\u001b[0m\n",
            "\u001b[0;32m/usr/local/lib/python3.10/dist-packages/transformers/training_args.py\u001b[0m in \u001b[0;36m_setup_devices\u001b[0;34m(self)\u001b[0m\n\u001b[1;32m   1785\u001b[0m         \u001b[0;32mif\u001b[0m \u001b[0;32mnot\u001b[0m \u001b[0mis_sagemaker_mp_enabled\u001b[0m\u001b[0;34m(\u001b[0m\u001b[0;34m)\u001b[0m\u001b[0;34m:\u001b[0m\u001b[0;34m\u001b[0m\u001b[0;34m\u001b[0m\u001b[0m\n\u001b[1;32m   1786\u001b[0m             \u001b[0;32mif\u001b[0m \u001b[0;32mnot\u001b[0m \u001b[0mis_accelerate_available\u001b[0m\u001b[0;34m(\u001b[0m\u001b[0mmin_version\u001b[0m\u001b[0;34m=\u001b[0m\u001b[0;34m\"0.20.1\"\u001b[0m\u001b[0;34m)\u001b[0m\u001b[0;34m:\u001b[0m\u001b[0;34m\u001b[0m\u001b[0;34m\u001b[0m\u001b[0m\n\u001b[0;32m-> 1787\u001b[0;31m                 raise ImportError(\n\u001b[0m\u001b[1;32m   1788\u001b[0m                     \u001b[0;34m\"Using the `Trainer` with `PyTorch` requires `accelerate>=0.20.1`: Please run `pip install transformers[torch]` or `pip install accelerate -U`\"\u001b[0m\u001b[0;34m\u001b[0m\u001b[0;34m\u001b[0m\u001b[0m\n\u001b[1;32m   1789\u001b[0m                 )\n",
            "\u001b[0;31mImportError\u001b[0m: Using the `Trainer` with `PyTorch` requires `accelerate>=0.20.1`: Please run `pip install transformers[torch]` or `pip install accelerate -U`",
            "",
            "\u001b[0;31m---------------------------------------------------------------------------\u001b[0;32m\nNOTE: If your import is failing due to a missing package, you can\nmanually install dependencies using either !pip or !apt.\n\nTo view examples of installing some common dependencies, click the\n\"Open Examples\" button below.\n\u001b[0;31m---------------------------------------------------------------------------\u001b[0m\n"
          ],
          "errorDetails": {
            "actions": [
              {
                "action": "open_url",
                "actionText": "Open Examples",
                "url": "/notebooks/snippets/importing_libraries.ipynb"
              }
            ]
          }
        }
      ]
    },
    {
      "cell_type": "code",
      "source": [
        "pip install transformers[torch] or pip install accelerate -U"
      ],
      "metadata": {
        "colab": {
          "base_uri": "https://localhost:8080/"
        },
        "id": "6EADyG7YEYRz",
        "outputId": "59657014-6289-4660-cbaf-0cb8bd29de88"
      },
      "execution_count": null,
      "outputs": [
        {
          "output_type": "stream",
          "name": "stdout",
          "text": [
            "Requirement already satisfied: transformers[torch] in /usr/local/lib/python3.10/dist-packages (4.35.2)\n",
            "\u001b[31mERROR: Could not find a version that satisfies the requirement or (from versions: none)\u001b[0m\u001b[31m\n",
            "\u001b[0m\u001b[31mERROR: No matching distribution found for or\u001b[0m\u001b[31m\n",
            "\u001b[0m"
          ]
        }
      ]
    },
    {
      "cell_type": "code",
      "source": [
        "from transformers import AutoTokenizer, AutoModelForSeq2SeqLM\n",
        "from transformers import TextDataset, DataCollatorForSeq2Seq, Trainer, TrainingArguments"
      ],
      "metadata": {
        "id": "GFsSAPtnEZBo"
      },
      "execution_count": null,
      "outputs": []
    },
    {
      "cell_type": "code",
      "source": [
        "# Load pre-trained tokenizer and model\n",
        "model_name = \"aubmindlab/bert-large-arabertv02\"\n",
        "tokenizer = AutoTokenizer.from_pretrained(model_name)\n",
        "model = AutoModelForSeq2SeqLM.from_pretrained(model_name)"
      ],
      "metadata": {
        "colab": {
          "base_uri": "https://localhost:8080/",
          "height": 578,
          "referenced_widgets": [
            "16363c371d2a4fe4a3c4c99407b71baa",
            "79469b09197c4e4e9022a3abe7a689a5",
            "3e322a93d4e540fc8afcdd650eb76aea",
            "231340a1e28d415cb14500c68f20bb61",
            "87c61ce677f14b3f82d6e139d2a7391f",
            "93ab342a93564136b7ae39d2bcd47a50",
            "25a80e7efc8b4b99894d7ef99a9ba1f0",
            "0f031b9104cd4afcad59b77c635578e0",
            "04ac777e73d8451990fa1a64907da969",
            "a95ebecf28014e31b528e8c9e0692d27",
            "5ceb09ad13ed4eca87b2f6d00f9a8ea5",
            "96271cd2507f465994d079b6b83a83d6",
            "25c034ff11a1439f8e848cd4a851f9c9",
            "2264a775f2b34bcc8e025e0ebe68170d",
            "f7325d22f2b64471b977ba35d88b5d77",
            "6949d2fdbf6041ddb291878886592d7a",
            "7a5a89d5d2914ec5908915129724d92b",
            "75e6b6b641d44412bd4d1920a4095277",
            "eb0d6e1162244135b620cc77afc35cdc",
            "c7e187e5977945b590128e56d62442d0",
            "b144f91122d145648b8cf50e043850b6",
            "e5432479ce0a4540a087f19d659e86a7",
            "8e8f13c23e45492eb043842fa78f6474",
            "863e0886bfc54ce6ba0c115d9926c9aa",
            "63db52583de74a99b69ad95f18dd7127",
            "5d8dd673da3d4829b8e08c61c631a122",
            "71db29669d144bf78bb5107bcebb7838",
            "38a3aeb323cc40af88dc9e37139d3c5f",
            "b86c85a9f985400babb13398fe9ccfcc",
            "f9b532b833254a1fa9e7c2f3a3f757dc",
            "e54e684b634345feacb81a3786ad2021",
            "f044cc8511eb4dea9ccceb45c27e9c62",
            "72fd6066ea524cefbd37c2ffe845f7d2",
            "6b73c9e662c24935b39659978c523d4d",
            "b837ace718c94180ae9ef7e841ac065a",
            "4f0b18f985094116a01a3eeaa3794cac",
            "b9b1fe807c4543a798c3ab053c836697",
            "f0508279736d46d2973606245c476809",
            "d697287baa9a4eeda9d43c7ea2498ed3",
            "b51e1313efec4a4e94b9f5c9c8ced44f",
            "4d021440f5454bea875d6499053800da",
            "44013a9b1b25449eba8cd5a2fddbc973",
            "882ffd2bd6ad4307941731c52c0d4c03",
            "b13337b1299d48bfa360ca1b966c44cd",
            "e21b74e154da48aea2353b36ddbbeb7a",
            "c01f2c1e3f4e4a52b4c26903854aeaee",
            "4480ce3aa6324817b748dcac61fd88cd",
            "5f0f1509f7f24272b3c0d95933cddcfa",
            "0d65b9cef938434190af5d20d5ca17c7",
            "6f763494e8224f328f30ed273231df0b",
            "439681e17b1d4e6dbc2e568584b03d1b",
            "3fa225b2bf6c4f909acee5be061707f2",
            "59513d416f364f239d2c5d0b390396a2",
            "cf1cad3b6cd64632af264496cfb488ef",
            "3ca88248c91a49dc8eaf601aa919c0b7"
          ]
        },
        "id": "U2rifz-WFTs-",
        "outputId": "6fd2502b-c1d5-4aae-ab54-6324b3d2a65b"
      },
      "execution_count": null,
      "outputs": [
        {
          "output_type": "display_data",
          "data": {
            "text/plain": [
              "tokenizer_config.json:   0%|          | 0.00/382 [00:00<?, ?B/s]"
            ],
            "application/vnd.jupyter.widget-view+json": {
              "version_major": 2,
              "version_minor": 0,
              "model_id": "16363c371d2a4fe4a3c4c99407b71baa"
            }
          },
          "metadata": {}
        },
        {
          "output_type": "display_data",
          "data": {
            "text/plain": [
              "config.json:   0%|          | 0.00/385 [00:00<?, ?B/s]"
            ],
            "application/vnd.jupyter.widget-view+json": {
              "version_major": 2,
              "version_minor": 0,
              "model_id": "96271cd2507f465994d079b6b83a83d6"
            }
          },
          "metadata": {}
        },
        {
          "output_type": "display_data",
          "data": {
            "text/plain": [
              "vocab.txt:   0%|          | 0.00/825k [00:00<?, ?B/s]"
            ],
            "application/vnd.jupyter.widget-view+json": {
              "version_major": 2,
              "version_minor": 0,
              "model_id": "8e8f13c23e45492eb043842fa78f6474"
            }
          },
          "metadata": {}
        },
        {
          "output_type": "display_data",
          "data": {
            "text/plain": [
              "tokenizer.json:   0%|          | 0.00/2.64M [00:00<?, ?B/s]"
            ],
            "application/vnd.jupyter.widget-view+json": {
              "version_major": 2,
              "version_minor": 0,
              "model_id": "6b73c9e662c24935b39659978c523d4d"
            }
          },
          "metadata": {}
        },
        {
          "output_type": "display_data",
          "data": {
            "text/plain": [
              "special_tokens_map.json:   0%|          | 0.00/112 [00:00<?, ?B/s]"
            ],
            "application/vnd.jupyter.widget-view+json": {
              "version_major": 2,
              "version_minor": 0,
              "model_id": "e21b74e154da48aea2353b36ddbbeb7a"
            }
          },
          "metadata": {}
        },
        {
          "output_type": "error",
          "ename": "ValueError",
          "evalue": "ignored",
          "traceback": [
            "\u001b[0;31m---------------------------------------------------------------------------\u001b[0m",
            "\u001b[0;31mValueError\u001b[0m                                Traceback (most recent call last)",
            "\u001b[0;32m<ipython-input-13-eb11a77c181b>\u001b[0m in \u001b[0;36m<cell line: 4>\u001b[0;34m()\u001b[0m\n\u001b[1;32m      2\u001b[0m \u001b[0mmodel_name\u001b[0m \u001b[0;34m=\u001b[0m \u001b[0;34m\"aubmindlab/bert-large-arabertv02\"\u001b[0m\u001b[0;34m\u001b[0m\u001b[0;34m\u001b[0m\u001b[0m\n\u001b[1;32m      3\u001b[0m \u001b[0mtokenizer\u001b[0m \u001b[0;34m=\u001b[0m \u001b[0mAutoTokenizer\u001b[0m\u001b[0;34m.\u001b[0m\u001b[0mfrom_pretrained\u001b[0m\u001b[0;34m(\u001b[0m\u001b[0mmodel_name\u001b[0m\u001b[0;34m)\u001b[0m\u001b[0;34m\u001b[0m\u001b[0;34m\u001b[0m\u001b[0m\n\u001b[0;32m----> 4\u001b[0;31m \u001b[0mmodel\u001b[0m \u001b[0;34m=\u001b[0m \u001b[0mAutoModelForSeq2SeqLM\u001b[0m\u001b[0;34m.\u001b[0m\u001b[0mfrom_pretrained\u001b[0m\u001b[0;34m(\u001b[0m\u001b[0mmodel_name\u001b[0m\u001b[0;34m)\u001b[0m\u001b[0;34m\u001b[0m\u001b[0;34m\u001b[0m\u001b[0m\n\u001b[0m",
            "\u001b[0;32m/usr/local/lib/python3.10/dist-packages/transformers/models/auto/auto_factory.py\u001b[0m in \u001b[0;36mfrom_pretrained\u001b[0;34m(cls, pretrained_model_name_or_path, *model_args, **kwargs)\u001b[0m\n\u001b[1;32m    567\u001b[0m                 \u001b[0mpretrained_model_name_or_path\u001b[0m\u001b[0;34m,\u001b[0m \u001b[0;34m*\u001b[0m\u001b[0mmodel_args\u001b[0m\u001b[0;34m,\u001b[0m \u001b[0mconfig\u001b[0m\u001b[0;34m=\u001b[0m\u001b[0mconfig\u001b[0m\u001b[0;34m,\u001b[0m \u001b[0;34m**\u001b[0m\u001b[0mhub_kwargs\u001b[0m\u001b[0;34m,\u001b[0m \u001b[0;34m**\u001b[0m\u001b[0mkwargs\u001b[0m\u001b[0;34m\u001b[0m\u001b[0;34m\u001b[0m\u001b[0m\n\u001b[1;32m    568\u001b[0m             )\n\u001b[0;32m--> 569\u001b[0;31m         raise ValueError(\n\u001b[0m\u001b[1;32m    570\u001b[0m             \u001b[0;34mf\"Unrecognized configuration class {config.__class__} for this kind of AutoModel: {cls.__name__}.\\n\"\u001b[0m\u001b[0;34m\u001b[0m\u001b[0;34m\u001b[0m\u001b[0m\n\u001b[1;32m    571\u001b[0m             \u001b[0;34mf\"Model type should be one of {', '.join(c.__name__ for c in cls._model_mapping.keys())}.\"\u001b[0m\u001b[0;34m\u001b[0m\u001b[0;34m\u001b[0m\u001b[0m\n",
            "\u001b[0;31mValueError\u001b[0m: Unrecognized configuration class <class 'transformers.models.bert.configuration_bert.BertConfig'> for this kind of AutoModel: AutoModelForSeq2SeqLM.\nModel type should be one of BartConfig, BigBirdPegasusConfig, BlenderbotConfig, BlenderbotSmallConfig, EncoderDecoderConfig, FSMTConfig, GPTSanJapaneseConfig, LEDConfig, LongT5Config, M2M100Config, MarianConfig, MBartConfig, MT5Config, MvpConfig, NllbMoeConfig, PegasusConfig, PegasusXConfig, PLBartConfig, ProphetNetConfig, SeamlessM4TConfig, SwitchTransformersConfig, T5Config, UMT5Config, XLMProphetNetConfig."
          ]
        }
      ]
    },
    {
      "cell_type": "code",
      "source": [
        "# Load and preprocess the training data\n",
        "train_data_path = \"path/to/your/training_data.txt\"\n",
        "\n",
        "def prepare_data(file_path):\n",
        "    with open(file_path, \"r\", encoding=\"utf-8\") as file:\n",
        "        lines = file.readlines()\n",
        "    return lines\n",
        "\n",
        "train_dataset = TextDataset(\n",
        "    tokenizer=tokenizer,\n",
        "    file_path=train_data_path,\n",
        "    block_size=128,\n",
        "    overwrite_cache=True,\n",
        "    cache_dir=\".\",\n",
        "    text_column=\"text\",\n",
        ")\n",
        "\n",
        "data_collator = DataCollatorForSeq2Seq(\n",
        "    tokenizer,\n",
        "    model=model,\n",
        ")\n",
        "\n",
        "# Fine-tune the model\n",
        "training_args = TrainingArguments(\n",
        "    output_dir=\"./arabic_model\",\n",
        "    overwrite_output_dir=True,\n",
        "    num_train_epochs=3,\n",
        "    per_device_train_batch_size=8,\n",
        "    save_steps=10_000,\n",
        "    save_total_limit=2,\n",
        ")\n",
        "\n",
        "trainer = Trainer(\n",
        "    model=model,\n",
        "    args=training_args,\n",
        "    data_collator=data_collator,\n",
        "    train_dataset=train_dataset,\n",
        ")\n",
        "\n",
        "trainer.train()\n"
      ],
      "metadata": {
        "id": "Dgkogp4qFN_3"
      },
      "execution_count": null,
      "outputs": []
    },
    {
      "cell_type": "code",
      "source": [
        "from transformers import AutoTokenizer, AutoModelForSequenceClassification, Trainer, TrainingArguments"
      ],
      "metadata": {
        "id": "JkVcc8cQOqL9"
      },
      "execution_count": null,
      "outputs": []
    },
    {
      "cell_type": "code",
      "source": [
        "# Load pre-trained tokenizer and model\n",
        "model_name = \"bert-base-uncased\"\n",
        "tokenizer = AutoTokenizer.from_pretrained(model_name)\n",
        "model = AutoModelForSequenceClassification.from_pretrained(model_name)"
      ],
      "metadata": {
        "colab": {
          "base_uri": "https://localhost:8080/",
          "height": 232,
          "referenced_widgets": [
            "85a1f5fab93c447981afe4762c6852dc",
            "4fb9621e0a6e4553828fe1963637ace9",
            "9fcd5cf161b64a1bb565e5293df9dc53",
            "6c9c67c1d2b341ef8b3e3075b3ec5ee5",
            "8b497da174f34a62920f630513f87737",
            "c5aa89083da349df817d297e0dedb4c8",
            "2f43833dc0004c31a8140b59bb5af4a8",
            "2848f2f4543d40a1aaabb07d9cd856bc",
            "e97dfe2fe7954136867b4768a9a964bb",
            "7aa88f04186049d99b50e8b834a51965",
            "f1ae33839e7c4e8f85f036d9713bde6b",
            "5f227e993b384eef8939deb3dbd4ccde",
            "76fee7927aea4ea7bc27c39b0fd83902",
            "c5a8af7f85d34bdfb80d746196056799",
            "32e25912e27947b5a12e2d928085ad53",
            "2940872bea354b8685400bf934dc9a80",
            "da57406b52704999a4a9dcf8492fe23a",
            "6e8353fb439343658e26813bcb01deb7",
            "1dd92096186a42beaa9bbd7f85ecc08e",
            "83c6bdb01d1a457288dedc496817b8e1",
            "8e01c3b3445640a78a2e3401d6c4a1a5",
            "31346eb5144446ac95eac85fdd6223b7",
            "9d252e15b818448a8896080128d4c443",
            "b8d7b773a71946928e3cbbe8125a7966",
            "88621ddbc37446f387fdffbc89fe7d42",
            "3eb34cc5e3b44c8780afe188b3a09cde",
            "491989a0a1be468ab1ac9bb9f0538452",
            "0d4010b44d944b32b03e06197a092af6",
            "0353ecf3c8e74a0ca50342f35201ad98",
            "2c0bffaa794f40e7b2900dae8cbf1ebe",
            "d7f038e36f494cfabcd22ea0861d0084",
            "e5d1836f38aa4b6692114e09b0a11199",
            "d6025d612c8341cf85f7781804b6a1f2",
            "bf26a80ec3d04917ac223a15e47a10ad",
            "18deece554e04eb1a7316727e1cc8e53",
            "9fe945a07f3c4cc6bd8be6f91a61c7a0",
            "320fa518b53349bcaaba71c51b610cda",
            "eccefafddd4848c1916ab9dfb7d770cb",
            "8d9ea84a861b404cb438d9e4ab292189",
            "756c7fecb2294bc4a27eff22ae3ad4c4",
            "0cd54a913b0b46439a69361fa0a12d22",
            "98b13d9e8c4041cf9368f211e2c1a0c8",
            "6dba36d53f7142948b247cfc46b64708",
            "4ac2ccc0a7cf44deb7d1e3e0847b293e",
            "ef199f79266141a5bf41f2cdb8591b43",
            "d9f62ee066624fb2b40d760c3cdd5796",
            "5b6c76e43c34437ba067d0ef640fd82d",
            "fbbf7c9d170341858e22d7f0811ab083",
            "2591bed469154a378b8f9515b1f053c1",
            "fa74e103e82e4dd3bd5b2e6678973393",
            "d8b420e5adcf44f7b410816bd23fcbae",
            "89de0134981e456da3eea161c80cfffe",
            "c5debb616738497a929bdcb06a35ef73",
            "0557a1dfd779415b96151336c6c73aa9",
            "87b685ff137c49d3a2be68b5459b0717"
          ]
        },
        "id": "7xrnMDiIOu4z",
        "outputId": "e61b7205-cfe2-47ca-fb55-f7feec3fd5d4"
      },
      "execution_count": null,
      "outputs": [
        {
          "output_type": "display_data",
          "data": {
            "text/plain": [
              "tokenizer_config.json:   0%|          | 0.00/28.0 [00:00<?, ?B/s]"
            ],
            "application/vnd.jupyter.widget-view+json": {
              "version_major": 2,
              "version_minor": 0,
              "model_id": "85a1f5fab93c447981afe4762c6852dc"
            }
          },
          "metadata": {}
        },
        {
          "output_type": "display_data",
          "data": {
            "text/plain": [
              "config.json:   0%|          | 0.00/570 [00:00<?, ?B/s]"
            ],
            "application/vnd.jupyter.widget-view+json": {
              "version_major": 2,
              "version_minor": 0,
              "model_id": "5f227e993b384eef8939deb3dbd4ccde"
            }
          },
          "metadata": {}
        },
        {
          "output_type": "display_data",
          "data": {
            "text/plain": [
              "vocab.txt:   0%|          | 0.00/232k [00:00<?, ?B/s]"
            ],
            "application/vnd.jupyter.widget-view+json": {
              "version_major": 2,
              "version_minor": 0,
              "model_id": "9d252e15b818448a8896080128d4c443"
            }
          },
          "metadata": {}
        },
        {
          "output_type": "display_data",
          "data": {
            "text/plain": [
              "tokenizer.json:   0%|          | 0.00/466k [00:00<?, ?B/s]"
            ],
            "application/vnd.jupyter.widget-view+json": {
              "version_major": 2,
              "version_minor": 0,
              "model_id": "bf26a80ec3d04917ac223a15e47a10ad"
            }
          },
          "metadata": {}
        },
        {
          "output_type": "display_data",
          "data": {
            "text/plain": [
              "model.safetensors:   0%|          | 0.00/440M [00:00<?, ?B/s]"
            ],
            "application/vnd.jupyter.widget-view+json": {
              "version_major": 2,
              "version_minor": 0,
              "model_id": "ef199f79266141a5bf41f2cdb8591b43"
            }
          },
          "metadata": {}
        },
        {
          "output_type": "stream",
          "name": "stderr",
          "text": [
            "Some weights of BertForSequenceClassification were not initialized from the model checkpoint at bert-base-uncased and are newly initialized: ['classifier.bias', 'classifier.weight']\n",
            "You should probably TRAIN this model on a down-stream task to be able to use it for predictions and inference.\n"
          ]
        }
      ]
    },
    {
      "cell_type": "code",
      "source": [
        "# Prepare your dataset and put it into a format compatible with the Trainer class\n",
        "train_dataset = your_prepared_dataset\n",
        "\n",
        "# Fine-tuning arguments\n",
        "training_args = TrainingArguments(\n",
        "    output_dir=\"./bert_fine_tuned\",\n",
        "    overwrite_output_dir=True,\n",
        "    num_train_epochs=3,\n",
        "    per_device_train_batch_size=8,\n",
        "    save_steps=10_000,\n",
        "    save_total_limit=2,\n",
        ")\n",
        "\n",
        "# Create Trainer instance and fine-tune the model\n",
        "trainer = Trainer(\n",
        "    model=model,\n",
        "    args=training_args,\n",
        "    train_dataset=train_dataset,\n",
        "    tokenizer=tokenizer,\n",
        ")\n",
        "\n",
        "trainer.train()"
      ],
      "metadata": {
        "id": "OGq2PaEFOqPL"
      },
      "execution_count": null,
      "outputs": []
    },
    {
      "cell_type": "code",
      "source": [
        "text = \"بدء، باء، جزء، جاء، داء، دفء، سوء، ساء، شاء، شيء، ضوء، عبء، فاء، قاء، كفء، ملء، ماء، ناء، هاء، ياء.\""
      ],
      "metadata": {
        "id": "FhF8-NjQOqQm"
      },
      "execution_count": null,
      "outputs": []
    },
    {
      "cell_type": "code",
      "source": [
        "# Arabic text\n",
        "text = \"بدء، باء، جزء، جاء، داء، دفء، سوء، ساء، شاء، شيء، ضوء، عبء، فاء، قاء، كفء، ملء، ماء، ناء، هاء، ياء.\"\n",
        "\n",
        "# Split the text into words based on Arabic script characters\n",
        "arabic_words = text.split(\"، \")\n",
        "\n",
        "# Print the list of Arabic words\n",
        "print(arabic_words)"
      ],
      "metadata": {
        "colab": {
          "base_uri": "https://localhost:8080/"
        },
        "id": "RH1fjLX3TOM-",
        "outputId": "42416b11-646b-4a2a-992e-96fb6a8b3e88"
      },
      "execution_count": null,
      "outputs": [
        {
          "output_type": "stream",
          "name": "stdout",
          "text": [
            "['بدء', 'باء', 'جزء', 'جاء', 'داء', 'دفء', 'سوء', 'ساء', 'شاء', 'شيء', 'ضوء', 'عبء', 'فاء', 'قاء', 'كفء', 'ملء', 'ماء', 'ناء', 'هاء', 'ياء.']\n"
          ]
        }
      ]
    },
    {
      "cell_type": "code",
      "source": [
        "# Arabic text\n",
        "text = \"بدء، باء، جزء، جاء، داء، دفء، سوء، ساء، شاء، شيء، ضوء، عبء، فاء، قاء، كفء، ملء، ماء، ناء، هاء، ياء.\"\n",
        "\n",
        "# Split the text into words based on Arabic script characters\n",
        "arabic_words = text.split(\"، \")\n",
        "\n",
        "# Remove \".\" from the last word\n",
        "if arabic_words[-1].endswith(\".\"):\n",
        "    arabic_words[-1] = arabic_words[-1][:-1]\n",
        "\n",
        "# Print the list of Arabic words\n",
        "print(arabic_words)"
      ],
      "metadata": {
        "colab": {
          "base_uri": "https://localhost:8080/"
        },
        "id": "mY260xLWTuUf",
        "outputId": "6cf0862a-77dd-44db-db21-1a2b20d97130"
      },
      "execution_count": null,
      "outputs": [
        {
          "output_type": "stream",
          "name": "stdout",
          "text": [
            "['بدء', 'باء', 'جزء', 'جاء', 'داء', 'دفء', 'سوء', 'ساء', 'شاء', 'شيء', 'ضوء', 'عبء', 'فاء', 'قاء', 'كفء', 'ملء', 'ماء', 'ناء', 'هاء', 'ياء']\n"
          ]
        }
      ]
    },
    {
      "cell_type": "code",
      "source": [
        "text = \"آباء، آراء، أجيء، أداء، أساء، أسيء، أشاء، إزاء، إناء، ببطء، بجزء، بذيء، بريء، بسوء، بشيء، بضوء، بطيء، بقاء، بكاء، بلاء، بملء، بناء، تبدء، تجيء، تسوء، تسيء، تشاء، تضيء، ثراء، جراء، جريء، جزاء، حذاء، حساء، حواء، خطاء، دماء، دنيء، دواء، ذكاء، رجاء، رداء، رديء، سماء، سواء، شتاء، شراء، شفاء، شواء، صماء، ضياء، طلاء، عداء، عزاء، عشاء، علاء، عناء، غباء، غداء، غذاء، غشاء، غطاء، غناء، فداء، فراء، فضاء، فناء، قضاء، كجزء، كشيء، لبدء، لجزء، لحاء، لسوء، لشيء، لقاء، لملء، لواء، مجيء، مساء، مضيء، مليء، نداء، نساء، نشاء، هباء، هدوء، هراء، هواء، وباء، وبدء، وجاء، وجزء، وراء، وشيء، وعاء، ولاء، وماء، يباء، يجاء، يجيء، يراء، يساء، يسوء، يسيء، يشاء، يضاء، يضيء، يفاء، يقاء، يماء، يناء\""
      ],
      "metadata": {
        "id": "WxwCNStnT_Bs"
      },
      "execution_count": null,
      "outputs": []
    },
    {
      "cell_type": "code",
      "source": [
        "arabic_words"
      ],
      "metadata": {
        "colab": {
          "base_uri": "https://localhost:8080/"
        },
        "id": "NxX0sy_pUM1b",
        "outputId": "e442ae82-2aaf-4d0a-d4ad-6cd97b82c185"
      },
      "execution_count": null,
      "outputs": [
        {
          "output_type": "execute_result",
          "data": {
            "text/plain": [
              "['بدء',\n",
              " 'باء',\n",
              " 'جزء',\n",
              " 'جاء',\n",
              " 'داء',\n",
              " 'دفء',\n",
              " 'سوء',\n",
              " 'ساء',\n",
              " 'شاء',\n",
              " 'شيء',\n",
              " 'ضوء',\n",
              " 'عبء',\n",
              " 'فاء',\n",
              " 'قاء',\n",
              " 'كفء',\n",
              " 'ملء',\n",
              " 'ماء',\n",
              " 'ناء',\n",
              " 'هاء',\n",
              " 'ياء']"
            ]
          },
          "metadata": {},
          "execution_count": 21
        }
      ]
    },
    {
      "cell_type": "code",
      "source": [
        "def process_arabic_text(text):\n",
        "    # Split the text into words based on Arabic script characters\n",
        "    arabic_words = text.split(\"، \")\n",
        "\n",
        "    # Remove \".\" from the last word\n",
        "    if arabic_words[-1].endswith(\".\"):\n",
        "        arabic_words[-1] = arabic_words[-1][:-1]\n",
        "\n",
        "    return arabic_words\n",
        "\n",
        "# Example usage with multiple texts\n",
        "text1 = \"بدء، باء، جزء، جاء، داء، دفء، سوء، ساء، شاء، شيء، ضوء، عبء، فاء، قاء، كفء، ملء، ماء، ناء، هاء، ياء.\"\n",
        "text2 = \"مثال آخر، جدار، نافذة، سماء.\"\n",
        "\n",
        "arabic_words1 = process_arabic_text(text1)\n",
        "arabic_words2 = process_arabic_text(text2)\n",
        "\n",
        "# Print the lists of Arabic words for each text\n",
        "print(\"Text 1:\", arabic_words1)\n",
        "print(\"Text 2:\", arabic_words2)"
      ],
      "metadata": {
        "colab": {
          "base_uri": "https://localhost:8080/"
        },
        "id": "1Z5wPTjbUM3I",
        "outputId": "e9fd01d9-6c9a-4147-b11a-6218f00eb251"
      },
      "execution_count": null,
      "outputs": [
        {
          "output_type": "stream",
          "name": "stdout",
          "text": [
            "Text 1: ['بدء', 'باء', 'جزء', 'جاء', 'داء', 'دفء', 'سوء', 'ساء', 'شاء', 'شيء', 'ضوء', 'عبء', 'فاء', 'قاء', 'كفء', 'ملء', 'ماء', 'ناء', 'هاء', 'ياء']\n",
            "Text 2: ['مثال آخر', 'جدار', 'نافذة', 'سماء']\n"
          ]
        }
      ]
    },
    {
      "cell_type": "code",
      "source": [
        "def process_arabic_text(text):\n",
        "    # Split the text into words based on Arabic script characters\n",
        "    arabic_words = text.split(\"، \")\n",
        "\n",
        "    # Remove \".\" from the last word\n",
        "    if arabic_words[-1].endswith(\".\"):\n",
        "        arabic_words[-1] = arabic_words[-1][:-1]\n",
        "\n",
        "    return arabic_words\n",
        "\n",
        "# List of Arabic texts\n",
        "texts = [\n",
        "\"بدء، باء، جزء، جاء، داء، دفء، سوء، ساء، شاء، شيء، ضوء، عبء، فاء، قاء، كفء، ملء، ماء، ناء، هاء، ياء\",\n",
        "\"آباء، آراء، أجيء، أداء، أساء، أسيء، أشاء، إزاء، إناء، ببطء، بجزء، بذيء، بريء، بسوء، بشيء، بضوء، بطيء، بقاء، بكاء، بلاء، بملء، بناء، تبدء، تجيء، تسوء، تسيء، تشاء، تضيء، ثراء، جراء، جريء، جزاء، حذاء، حساء، حواء، خطاء، دماء، دنيء، دواء، ذكاء، رجاء، رداء، رديء، سماء، سواء، شتاء، شراء، شفاء، شواء، صماء، ضياء، طلاء، عداء، عزاء، عشاء، علاء، عناء، غباء، غداء، غذاء، غشاء، غطاء، غناء، فداء، فراء، فضاء، فناء، قضاء، كجزء، كشيء، لبدء، لجزء، لحاء، لسوء، لشيء، لقاء، لملء، لواء، مجيء، مساء، مضيء، مليء، نداء، نساء، نشاء، هباء، هدوء، هراء، هواء، وباء، وبدء، وجاء، وجزء، وراء، وشيء، وعاء، ولاء، وماء، يباء، يجاء، يجيء، يراء، يساء، يسوء، يسيء، يشاء، يضاء، يضيء، يفاء، يقاء، يماء، يناء\",\n",
        "\"أبناء، أثداء، أثناء، أجزاء، أجواء، أحباء، أحشاء، أحياء، أخطاء، أرجاء، أزياء، أسماء، أشقاء، أشلاء، أشياء، أضواء، أطباء، أعداء، أعضاء، أمراء، أمعاء، أمناء، أنباء، أنحاء، أنهاء، أولاء، إبداء، إبطاء، إبقاء، إجراء، إحصاء، إحياء، إخفاء، إخلاء، إرضاء، إطراء، إطفاء، إعطاء، إغراء، إغواء، إلغاء، إلقاء، إلهاء، إمضاء، إنشاء، إنهاء، إهداء، إيذاء، ادعاء، الباء، البدء، التاء، الثاء، الجزء، الحاء، الخاء، الداء، الدفء، الراء، السوء، الشاء، الشيء، الضوء، الطاء، الظاء، العبء، الفاء، القيء، الماء، المرء، الناء، الهاء، الياء، بأداء، ببغاء، ببناء، بحذاء، بدماء، بذكاء، برجاء، بسخاء، بشراء، بطلاء، بعشاء، بغباء، بغطاء، بغناء، بقضاء، بلقاء، بلهاء، بهدوء، بهراء، بيضاء، تعساء، تلقاء، جبناء، حسناء، حلفاء، حمراء، حمقاء، خبراء، خرقاء، خضراء، دخلاء، رؤساء، رفقاء، زرقاء، زعماء، زملاء، ستسوء، سجناء، سعداء، سمراء، سوداء، سيسوء، شركاء، شقراء، صحراء، صفراء، صلعاء، ضعفاء، ضوضاء، عذراء، عرجاء، عزباء، عظماء، علماء، عملاء، عمياء، غرباء، فقراء، قدماء، كغطاء، لأداء، لبقاء، لبناء، لشراء، لطفاء، لعشاء، لقضاء، للبدء، للجزء، للضوء، للقاء، للماء، للمرء، مدراء، مستاء، مملوء، ميناء، نبلاء، نزلاء، هؤلاء، وبناء، وزراء، وشراء، وقضاء، وكلاء، ولسوء، ونساء، وهدوء، يتراء، يستاء، يسراء، يمناء، يهماء\",\n",
        "\"أبرياء، أثرياء، أذكياء، أربعاء، أصدقاء، أغبياء، أغنياء، أقرباء، أقوياء، أهؤلاء، أولياء، ابتداء، احتساء، احتواء، اختفاء، ارتداء، اعتداء، اقتفاء، الآباء، الآخاء، الآراء، الآلاء، الآناء، الأداء، الأشاء، الألاء، الأناء، الإباء، الإخاء، الإداء، الإزاء، الإساء، الإماء، الإناء، الإواء، البجاء، البحاء، البداء، البذاء، البراء، البريء، البطيء، البغاء، البقاء، البكاء، البلاء، البناء، البهاء، البواء، التجاء، التحاء، التظاء، التقاء، التهاء، التواء، الثراء، الثغاء، الثناء، الجباء، الجداء، الجذاء، الجراء، الجزاء، الجشاء، الجفاء، الجلاء، الجماء، الجواء، الحباء، الحداء، الحذاء، الحراء، الحساء، الحصاء، الحفاء، الحقاء، الحكاء، الحماء، الحناء، الحواء، الحياء، الخباء، الخراء، الخشاء، الخصاء، الخطاء، الخفاء، الخلاء، الخناء، الخواء، الدباء، الدعاء، الدفاء، الدلاء، الدماء، الدناء، الدهاء، الدواء، الذكاء، الذماء، الرئاء، الرتاء، الرثاء، الرجاء، الرخاء، الرداء، الرديء، الرشاء، الرعاء، الرغاء، الرفاء، الرقاء، الرماء، الرناء، الرواء، الرياء، الزباء، الزقاء، الزكاء، الزناء، الزهاء، الزياء، السباء، السخاء، السداء، السراء، السقاء، السلاء، السماء، السناء، السواء، الشتاء، الشراء، الشفاء، الشقاء، الشكاء، الشلاء، الشماء، الشواء، الصباء، الصداء، الصراء، الصفاء، الصماء، الضباء، الضراء، الضواء، الضياء، الطخاء، الطراء، الطلاء، الظباء، الظماء، العباء، العداء، العراء، العزاء، العشاء، العصاء، العطاء، العظاء، العفاء، العلاء، العماء، العناء، العواء، العياء، الغباء، الغثاء، الغداء، الغذاء، الغراء، الغشاء، الغطاء، الغلاء، الغماء، الغناء، الفتاء، الفداء، الفراء، الفساء، الفضاء، الفلاء، الفناء، القباء، القثاء، القراء، القصاء، القضاء، القطاء، القفاء، القلاء، القماء، القناء، القواء، القياء، الكباء، الكراء، الكساء، الكفاء، الكلاء، الكماء، الكواء، اللباء، اللجوء، اللحاء، اللفاء، اللقاء، اللهاء، اللواء، اللياء، المجيء، المراء، المساء، المشاء، المضاء، المضيء، المعاء، المكاء، المليء، المواء، النجاء، النحاء، النداء، النزاء، النساء، النشاء، النقاء، النماء، النهاء، الهباء، الهجاء، الهداء، الهدوء، الهذاء، الهراء، الهناء، الهواء، الوباء، الوراء، الوشاء، الوضاء، الوطاء، الوعاء، الوفاء، الوقاء، الوكاء، الولاء، الوناء، انتهاء، بأسماء، بأشياء، بإبقاء، بإجراء، بإخفاء، بإخلاء، بإعطاء، بإلغاء، بإلقاء، بإنشاء، بإنهاء، بإيذاء، بازلاء، بالبدء، بالجزء، بالدفء، بالسوء، بالشيء، بالضوء، بالماء، بهؤلاء، ثلاثاء، خنفساء، فهؤلاء، فيزياء، كبرياء، كهؤلاء، كهرباء، كيمياء، لأجزاء، لأشياء، لأعضاء، لإبقاء، لإجراء، لإخفاء، لإخلاء، لإرضاء، لإعطاء، لإلغاء، لإلقاء، لإنشاء، لإنهاء، لإيذاء، للبقاء، للبكاء، للبناء، للدماء، للسماء، للشراء، للشفاء، للعشاء، للغداء، للغذاء، للغناء، للفضاء، للقضاء، للمجيء، للنساء، للهواء، للوراء، لهؤلاء، مومياء، وأثناء، وأشياء، وأعضاء، وإلقاء، والبدء، والجزء، والشيء، والماء، وهؤلاء، يستضاء\",\n",
        "\"استثناء، استدعاء، الأبناء، الأبهاء، الأثداء، الأثراء، الأثماء، الأثناء، الأجراء، الأجزاء، الأجلاء، الأجناء، الأجواء، الأحباء، الأحجاء، الأحساء، الأحشاء، الأحقاء، الأحلاء، الأحماء، الأحناء، الأحياء، الأخساء، الأخصاء، الأخطاء، الأخلاء، الأدباء، الأدلاء، الأدناء، الأدواء، الأذلاء، الأرجاء، الأرحاء، الأرداء، الأرزاء، الأرعاء، الأرقاء، الأزياء، الأسراء، الأسفاء، الأسماء، الأسواء، الأشحاء، الأشداء، الأشفاء، الأشقاء، الأشلاء، الأشياء، الأصباء، الأصحاء، الأصداء، الأصغاء، الأصلاء، الأصناء، الأضواء، الأطباء، الأطواء، الأظناء، الأعباء، الأعتاء، الأعداء، الأعزاء، الأعضاء، الأعلاء، الأعماء، الأعياء، الأغراء، الأغضاء، الأغماء، الأفراء، الأفلاء، الأفياء، الأقذاء، الأقصاء، الأقفاء، الأقلاء، الأقناء، الأكفاء، الأكلاء، الألباء، الألقاء، الألواء، الأمداء، الأمراء، الأمساء، الأمعاء، الأملاء، الأمناء، الأنباء، الأنجاء، الأنحاء، الأنداء، الأنشاء، الأنضاء، الأنماء، الأنهاء، الأنواء، الأهباء، الأهراء، الأهواء، الأوباء، الإبداء، الإبراء، الإبطاء، الإبقاء، الإثراء، الإثناء، الإجراء، الإجلاء، الإحساء، الإحصاء، الإحماء، الإحياء، الإخصاء، الإخطاء، الإخفاء، الإخلاء، الإدلاء، الإدماء، الإدناء، الإذكاء، الإرجاء، الإرخاء، الإرساء، الإرشاء، الإرضاء، الإرعاء، الإرواء، الإزراء، الإسراء، الإشتاء، الإشفاء، الإشلاء، الإصغاء، الإضفاء، الإطراء، الإطفاء، الإعداء، الإعطاء، الإعفاء، الإعلاء، الإعياء، الإغراء، الإغضاء، الإغفاء، الإغلاء، الإغماء، الإغناء، الإغواء، الإفتاء، الإفشاء، الإفضاء، الإفناء، الإقراء، الإقصاء، الإقواء، الإكراء، الإكفاء، الإلغاء، الإلقاء، الإلهاء، الإمحاء، الإمساء، الإمضاء، الإملاء، الإمناء، الإنباء، الإنشاء، الإنماء، الإنهاء، الإهداء، الإيباء، الإيتاء، الإيحاء، الإيذاء، الإيفاء، الإيلاء، الإيماء، الإيواء، الاتقاء، الاتكاء، الادعاء، البأساء، البؤساء، الببغاء، البتراء، البتلاء، البخراء، البخقاء، البخلاء، البدلاء، البرحاء، البرداء، البرشاء، البرصاء، البرقاء، البسطاء، البصراء، البطحاء، البعداء، البغضاء، البقعاء، البكماء، البلداء، البلغاء، البلقاء، البلهاء، البيداء، البيضاء، البيطاء، البيناء، التبراء، الترباء، التعساء، التفهاء، التلقاء، التيماء، التيهاء، الثؤباء، الثخناء، الثدياء، الثقلاء، الجبناء، الجحلاء، الجدباء، الجدراء، الجدعاء، الجرباء، الجرداء، الجرعاء، الجعراء، الجلباء، الجلحاء، الجلداء، الجلساء، الجلواء، الجمعاء، الجنباء، الجهراء، الجهلاء، الجوداء، الجوزاء، الجوفاء، الجيداء، الحجلاء، الحدباء، الحدثاء، الحدراء، الحرباء، الحرشاء، الحرصاء، الحرفاء، الحزماء، الحزناء، الحسباء، الحسناء، الحشماء، الحصباء، الحصداء، الحصفاء، الحفداء، الحقراء، الحكماء، الحلساء، الحلفاء، الحلماء، الحلواء، الحمراء، الحمساء، الحمقاء، الحنفاء، الحنواء، الحوباء، الحوثاء، الحوراء، الحوزاء، الحوصاء، الحولاء، الخبثاء، الخبراء، الخرثاء، الخرساء، الخرقاء، الخزراء، الخشناء، الخصماء، الخضراء، الخطباء، الخفراء، الخفشاء، الخلداء، الخلصاء، الخلطاء، الخلعاء، الخلفاء، الخلقاء، الخنساء، الخيلاء، الدأماء، الدخلاء، الدخناء، الدرداء، الدسماء، الدعجاء، الدفناء، الدكناء، الدنساء، الدهماء، الدهناء، الدهياء، الذلفاء، الرأساء، الرؤساء، الربداء، الرتباء، الرحماء، الرذلاء، الرسلاء، الرصفاء، الرضعاء، الرعناء، الرفحاء، الرفقاء، الرقباء، الرقشاء، الرقطاء، الرقعاء، الرمداء، الرمضاء، الرمكاء، الروحاء، الزخماء، الزرقاء، الزعراء، الزعماء، الزغباء، الزملاء، الزهراء، الزوراء، الزوفاء، السبحاء، السجحاء، السجناء، السحماء، السحناء، السخفاء، السرواء، السعداء، السفراء، السفعاء، السفهاء، السقماء، السلفاء، السمجاء، السمحاء، السمراء، السمعاء، السهباء، السوداء، السيراء، السيساء، السيماء، الشجراء، الشجعاء، الشحناء، الشخماء، الشرفاء، الشرقاء، الشركاء، الشرماء، الشعثاء، الشعراء، الشعواء، الشفعاء، الشفهاء، الشقحاء، الشقراء، الشمطاء، الشنعاء، الشهباء، الشهداء، الشهلاء، الشوساء، الشوشاء، الشوكاء، الشوهاء، الشيباء، الشيماء، الصحراء، الصدقاء، الصرحاء، الصعداء، الصغراء، الصغواء، الصفراء، الصلحاء، الصلعاء، الصلفاء، الصهباء، الصيداء، الضؤلاء، الضرباء، الضعفاء، الضمناء، الضوضاء، الطرشاء، الطرفاء، الطرقاء، الطغراء، الطلباء، الطلقاء، الظرباء، الظرفاء، الظلماء، العبلاء، العتقاء، العجراء، العجزاء، العجفاء، العجماء، العدلاء، العدماء، العدواء، العذراء، العرباء، العرجاء، العرفاء، العزباء، العزلاء، العسراء، العسفاء، العسلاء، العشراء، العشماء، العشواء، العصلاء، العصماء، العضباء، العظماء، العفراء، العقداء، العقفاء، العقلاء، العلماء، العلياء، العمداء، العمشاء، العملاء، العمياء، العنقاء، العوجاء، العوراء، العوصاء، العيساء، العيطاء، العيناء، الغبراء، الغبشاء، الغدراء، الغرباء، الغرماء، الغشماء، الغضراء، الغطشاء، الغفراء، الغلباء، الغلفاء، الغلواء، الغوغاء، الغيداء، الغيناء، الفحشاء، الفحواء، الفرعاء، الفرقاء، الفصحاء، الفضلاء، الفطحاء، الفطساء، الفطناء، الفقراء، الفقهاء، الفلحاء، الفهماء، الفيحاء، الفيفاء، القدماء، القرباء، القرعاء، القرناء، القسماء، القصباء، القصواء، القطعاء، القعساء، القمراء، القمناء، القوباء، القوداء، القوراء، الكأداء، الكبراء، الكتعاء، الكتفاء، الكحلاء، الكدراء، الكرماء، الكرهاء، الكسحاء، الكفلاء، الكلفاء، الكمناء، الكهباء، الكيماء، اللألاء، اللؤماء، اللخناء، اللدغاء، اللسناء، اللطفاء، اللعساء، اللقطاء، اللكعاء، اللكناء، الليساء، الليلاء، المدراء، المرداء، المستاء، المسحاء، المعطاء، المغراء، المكناء، الملحاء، الملداء، الملساء، الملكاء، المنشاء، المنعاء، المهقاء، المهناء، الموماء، الميداء، الميلاء، الميناء، النبلاء، النبهاء، النجباء، النجلاء، النحفاء، الندداء، الندماء، النذلاء، النزلاء، النزهاء، النسباء، النشطاء، النصباء، النصحاء، النصراء، النطراء، النظراء، النظفاء، النعماء، النفساء، النقباء، النقعاء، النكباء، النكراء، النمراء، النمشاء، الهبلاء، الهتماء، الهجناء، الهدباء، الهدلاء، الهلباء، الهوجاء، الهيجاء، الهيفاء، الهيماء، الوبراء، الوجناء، الوجهاء، الودعاء، الورثاء، الورقاء، الوركاء، الوزراء، الوسطاء، الوسماء، الوصفاء، الوضعاء، الوطفاء، الوعثاء، الوكلاء، اليهماء، بأصدقاء، بارتداء، بالبقاء، بالبكاء، بالدماء، بالذكاء، بالسماء، بالطلاء، بالعشاء، بالغباء، بالغناء، بالفضاء، بالقضاء، بالمجيء، بالمساء، بالنساء، بالهدوء، بالهراء، بالهواء، بالولاء، كأصدقاء، لأصدقاء، لاحتساء، لارتداء، للأشياء، للأطباء، للأعضاء، للإبقاء، للإدلاء، للعملاء، للغرباء، للفقراء، وأصدقاء، والبقاء، والبكاء، والدماء، والدواء، والسماء، والضراء، والعشاء، والغناء، والنساء، والهدوء، والهواء\",\n",
        "\"الأبرياء، الأبيناء، الأتقياء، الأثرياء، الأحرياء، الأخلياء، الأدعياء، الأدنياء، الأذكياء، الأربعاء، الأرضياء، الأسخياء، الأسرياء، الأسوياء، الأشقياء، الأصدقاء، الأصفياء، الأغبياء، الأغنياء، الأفرقاء، الأقرباء، الأقسماء، الأقوياء، الألفباء، الأنبياء، الأنجياء، الأنسباء، الأنصباء، الأنقياء، الأهوناء، الأوصياء، الأوفياء، الأولياء، الابتداء، الابتغاء، الابتلاء، الابتناء، الاجتزاء، الاحتباء، الاحتذاء، الاحتساء، الاحتشاء، الاحتفاء، الاحتماء، الاحتواء، الاختباء، الاختصاء، الاختفاء، الاختلاء، الارتخاء، الارتداء، الارتشاء، الارتقاء، الارتماء، الارتواء، الارعواء، الازدراء، الازدهاء، الاستفاء، الاستقاء، الاستلاء، الاستواء، الاستياء، الاشتراء، الاشتكاء، الاشتهاء، الاشتواء، الاصطفاء، الاعتباء، الاعتداء، الاعتلاء، الاعتناء، الاغتذاء، الاغتناء، الافتداء، الافتراء، الاقتداء، الاقتضاء، الاقتفاء، الاقتناء، الاكتساء، الاكتفاء، الاكتواء، الالتجاء، الالتقاء، الالتواء، الامتطاء، الامتلاء، الانتحاء، الانتشاء، الانتفاء، الانتقاء، الانتماء، الانتهاء، الانثناء، الانجلاء، الانحناء، الانزواء، الانضواء، الانطواء، الانقضاء، الانكفاء، الاهتداء، الاهتراء، البازلاء، البورياء، التوتياء، الثلاثاء، الجبرياء، الحميراء، الخضيراء، الخنفساء، الخيمياء، الرتيلاء، السامراء، السلحفاء، السويداء، الصفيراء، العريجاء، الغبيراء، الغميصاء، الفاسياء، الفيزياء، القرفصاء، القطيعاء، الكبرياء، الكثيراء، الكستناء، الكهرباء، الكيمياء، اللوبياء، المومياء، الهندباء، باستثناء، باستدعاء، بالأرجاء، بالأسماء، بالأشياء، بالأعضاء، بالأنحاء، بالإطراء، بالصحراء، فاصولياء، لاستدعاء، للأصدقاء، للاختباء، للاعتناء، للكهرباء، والأشياء، والأطباء\",\n",
        "\"الاستبراء، الاستبطاء، الاستبقاء، الاستثناء، الاستجداء، الاستجلاء، الاستحياء، الاستخفاء، الاستدعاء، الاسترخاء، الاسترضاء، الاستسقاء، الاستشراء، الاستشفاء، الاستعداء، الاستعصاء، الاستعطاء، الاستعفاء، الاستعلاء، الاستغناء، الاستفتاء، الاستقراء، الاستقساء، الاستقصاء، الاستقواء، الاستكفاء، الاستلقاء، الاستمناء، الاستنجاء، الاستهزاء، الاستهواء، الاستيحاء، الاستيفاء، الاستيلاء، البازيلاء، التاسوعاء، العاشوراء، الفسيفساء، بالاستياء، بالكهرباء، للاسترخاء، والأصدقاء\",\n",
        "\"البتروكيمياء، الجيوفيزياء، الجيوكيمياء، الفاصولياء\",\n",
        "\"البدء، مساء\"\n",
        "]\n",
        "\n",
        "# Initialize an empty list to store all Arabic words\n",
        "all_arabic_words = []\n",
        "\n",
        "# Process each text and append the words to the cumulative list\n",
        "for text in texts:\n",
        "    arabic_words = process_arabic_text(text)\n",
        "    all_arabic_words.extend(arabic_words)\n",
        "\n",
        "# Print the cumulative list of Arabic words\n",
        "print(all_arabic_words)"
      ],
      "metadata": {
        "colab": {
          "base_uri": "https://localhost:8080/"
        },
        "id": "NTbyz29TWADv",
        "outputId": "9f96da8a-c2e7-4adc-d4fb-644bcefc74cd"
      },
      "execution_count": null,
      "outputs": [
        {
          "output_type": "stream",
          "name": "stdout",
          "text": [
            "['بدء', 'باء', 'جزء', 'جاء', 'داء', 'دفء', 'سوء', 'ساء', 'شاء', 'شيء', 'ضوء', 'عبء', 'فاء', 'قاء', 'كفء', 'ملء', 'ماء', 'ناء', 'هاء', 'ياء', 'آباء', 'آراء', 'أجيء', 'أداء', 'أساء', 'أسيء', 'أشاء', 'إزاء', 'إناء', 'ببطء', 'بجزء', 'بذيء', 'بريء', 'بسوء', 'بشيء', 'بضوء', 'بطيء', 'بقاء', 'بكاء', 'بلاء', 'بملء', 'بناء', 'تبدء', 'تجيء', 'تسوء', 'تسيء', 'تشاء', 'تضيء', 'ثراء', 'جراء', 'جريء', 'جزاء', 'حذاء', 'حساء', 'حواء', 'خطاء', 'دماء', 'دنيء', 'دواء', 'ذكاء', 'رجاء', 'رداء', 'رديء', 'سماء', 'سواء', 'شتاء', 'شراء', 'شفاء', 'شواء', 'صماء', 'ضياء', 'طلاء', 'عداء', 'عزاء', 'عشاء', 'علاء', 'عناء', 'غباء', 'غداء', 'غذاء', 'غشاء', 'غطاء', 'غناء', 'فداء', 'فراء', 'فضاء', 'فناء', 'قضاء', 'كجزء', 'كشيء', 'لبدء', 'لجزء', 'لحاء', 'لسوء', 'لشيء', 'لقاء', 'لملء', 'لواء', 'مجيء', 'مساء', 'مضيء', 'مليء', 'نداء', 'نساء', 'نشاء', 'هباء', 'هدوء', 'هراء', 'هواء', 'وباء', 'وبدء', 'وجاء', 'وجزء', 'وراء', 'وشيء', 'وعاء', 'ولاء', 'وماء', 'يباء', 'يجاء', 'يجيء', 'يراء', 'يساء', 'يسوء', 'يسيء', 'يشاء', 'يضاء', 'يضيء', 'يفاء', 'يقاء', 'يماء', 'يناء', 'أبناء', 'أثداء', 'أثناء', 'أجزاء', 'أجواء', 'أحباء', 'أحشاء', 'أحياء', 'أخطاء', 'أرجاء', 'أزياء', 'أسماء', 'أشقاء', 'أشلاء', 'أشياء', 'أضواء', 'أطباء', 'أعداء', 'أعضاء', 'أمراء', 'أمعاء', 'أمناء', 'أنباء', 'أنحاء', 'أنهاء', 'أولاء', 'إبداء', 'إبطاء', 'إبقاء', 'إجراء', 'إحصاء', 'إحياء', 'إخفاء', 'إخلاء', 'إرضاء', 'إطراء', 'إطفاء', 'إعطاء', 'إغراء', 'إغواء', 'إلغاء', 'إلقاء', 'إلهاء', 'إمضاء', 'إنشاء', 'إنهاء', 'إهداء', 'إيذاء', 'ادعاء', 'الباء', 'البدء', 'التاء', 'الثاء', 'الجزء', 'الحاء', 'الخاء', 'الداء', 'الدفء', 'الراء', 'السوء', 'الشاء', 'الشيء', 'الضوء', 'الطاء', 'الظاء', 'العبء', 'الفاء', 'القيء', 'الماء', 'المرء', 'الناء', 'الهاء', 'الياء', 'بأداء', 'ببغاء', 'ببناء', 'بحذاء', 'بدماء', 'بذكاء', 'برجاء', 'بسخاء', 'بشراء', 'بطلاء', 'بعشاء', 'بغباء', 'بغطاء', 'بغناء', 'بقضاء', 'بلقاء', 'بلهاء', 'بهدوء', 'بهراء', 'بيضاء', 'تعساء', 'تلقاء', 'جبناء', 'حسناء', 'حلفاء', 'حمراء', 'حمقاء', 'خبراء', 'خرقاء', 'خضراء', 'دخلاء', 'رؤساء', 'رفقاء', 'زرقاء', 'زعماء', 'زملاء', 'ستسوء', 'سجناء', 'سعداء', 'سمراء', 'سوداء', 'سيسوء', 'شركاء', 'شقراء', 'صحراء', 'صفراء', 'صلعاء', 'ضعفاء', 'ضوضاء', 'عذراء', 'عرجاء', 'عزباء', 'عظماء', 'علماء', 'عملاء', 'عمياء', 'غرباء', 'فقراء', 'قدماء', 'كغطاء', 'لأداء', 'لبقاء', 'لبناء', 'لشراء', 'لطفاء', 'لعشاء', 'لقضاء', 'للبدء', 'للجزء', 'للضوء', 'للقاء', 'للماء', 'للمرء', 'مدراء', 'مستاء', 'مملوء', 'ميناء', 'نبلاء', 'نزلاء', 'هؤلاء', 'وبناء', 'وزراء', 'وشراء', 'وقضاء', 'وكلاء', 'ولسوء', 'ونساء', 'وهدوء', 'يتراء', 'يستاء', 'يسراء', 'يمناء', 'يهماء', 'أبرياء', 'أثرياء', 'أذكياء', 'أربعاء', 'أصدقاء', 'أغبياء', 'أغنياء', 'أقرباء', 'أقوياء', 'أهؤلاء', 'أولياء', 'ابتداء', 'احتساء', 'احتواء', 'اختفاء', 'ارتداء', 'اعتداء', 'اقتفاء', 'الآباء', 'الآخاء', 'الآراء', 'الآلاء', 'الآناء', 'الأداء', 'الأشاء', 'الألاء', 'الأناء', 'الإباء', 'الإخاء', 'الإداء', 'الإزاء', 'الإساء', 'الإماء', 'الإناء', 'الإواء', 'البجاء', 'البحاء', 'البداء', 'البذاء', 'البراء', 'البريء', 'البطيء', 'البغاء', 'البقاء', 'البكاء', 'البلاء', 'البناء', 'البهاء', 'البواء', 'التجاء', 'التحاء', 'التظاء', 'التقاء', 'التهاء', 'التواء', 'الثراء', 'الثغاء', 'الثناء', 'الجباء', 'الجداء', 'الجذاء', 'الجراء', 'الجزاء', 'الجشاء', 'الجفاء', 'الجلاء', 'الجماء', 'الجواء', 'الحباء', 'الحداء', 'الحذاء', 'الحراء', 'الحساء', 'الحصاء', 'الحفاء', 'الحقاء', 'الحكاء', 'الحماء', 'الحناء', 'الحواء', 'الحياء', 'الخباء', 'الخراء', 'الخشاء', 'الخصاء', 'الخطاء', 'الخفاء', 'الخلاء', 'الخناء', 'الخواء', 'الدباء', 'الدعاء', 'الدفاء', 'الدلاء', 'الدماء', 'الدناء', 'الدهاء', 'الدواء', 'الذكاء', 'الذماء', 'الرئاء', 'الرتاء', 'الرثاء', 'الرجاء', 'الرخاء', 'الرداء', 'الرديء', 'الرشاء', 'الرعاء', 'الرغاء', 'الرفاء', 'الرقاء', 'الرماء', 'الرناء', 'الرواء', 'الرياء', 'الزباء', 'الزقاء', 'الزكاء', 'الزناء', 'الزهاء', 'الزياء', 'السباء', 'السخاء', 'السداء', 'السراء', 'السقاء', 'السلاء', 'السماء', 'السناء', 'السواء', 'الشتاء', 'الشراء', 'الشفاء', 'الشقاء', 'الشكاء', 'الشلاء', 'الشماء', 'الشواء', 'الصباء', 'الصداء', 'الصراء', 'الصفاء', 'الصماء', 'الضباء', 'الضراء', 'الضواء', 'الضياء', 'الطخاء', 'الطراء', 'الطلاء', 'الظباء', 'الظماء', 'العباء', 'العداء', 'العراء', 'العزاء', 'العشاء', 'العصاء', 'العطاء', 'العظاء', 'العفاء', 'العلاء', 'العماء', 'العناء', 'العواء', 'العياء', 'الغباء', 'الغثاء', 'الغداء', 'الغذاء', 'الغراء', 'الغشاء', 'الغطاء', 'الغلاء', 'الغماء', 'الغناء', 'الفتاء', 'الفداء', 'الفراء', 'الفساء', 'الفضاء', 'الفلاء', 'الفناء', 'القباء', 'القثاء', 'القراء', 'القصاء', 'القضاء', 'القطاء', 'القفاء', 'القلاء', 'القماء', 'القناء', 'القواء', 'القياء', 'الكباء', 'الكراء', 'الكساء', 'الكفاء', 'الكلاء', 'الكماء', 'الكواء', 'اللباء', 'اللجوء', 'اللحاء', 'اللفاء', 'اللقاء', 'اللهاء', 'اللواء', 'اللياء', 'المجيء', 'المراء', 'المساء', 'المشاء', 'المضاء', 'المضيء', 'المعاء', 'المكاء', 'المليء', 'المواء', 'النجاء', 'النحاء', 'النداء', 'النزاء', 'النساء', 'النشاء', 'النقاء', 'النماء', 'النهاء', 'الهباء', 'الهجاء', 'الهداء', 'الهدوء', 'الهذاء', 'الهراء', 'الهناء', 'الهواء', 'الوباء', 'الوراء', 'الوشاء', 'الوضاء', 'الوطاء', 'الوعاء', 'الوفاء', 'الوقاء', 'الوكاء', 'الولاء', 'الوناء', 'انتهاء', 'بأسماء', 'بأشياء', 'بإبقاء', 'بإجراء', 'بإخفاء', 'بإخلاء', 'بإعطاء', 'بإلغاء', 'بإلقاء', 'بإنشاء', 'بإنهاء', 'بإيذاء', 'بازلاء', 'بالبدء', 'بالجزء', 'بالدفء', 'بالسوء', 'بالشيء', 'بالضوء', 'بالماء', 'بهؤلاء', 'ثلاثاء', 'خنفساء', 'فهؤلاء', 'فيزياء', 'كبرياء', 'كهؤلاء', 'كهرباء', 'كيمياء', 'لأجزاء', 'لأشياء', 'لأعضاء', 'لإبقاء', 'لإجراء', 'لإخفاء', 'لإخلاء', 'لإرضاء', 'لإعطاء', 'لإلغاء', 'لإلقاء', 'لإنشاء', 'لإنهاء', 'لإيذاء', 'للبقاء', 'للبكاء', 'للبناء', 'للدماء', 'للسماء', 'للشراء', 'للشفاء', 'للعشاء', 'للغداء', 'للغذاء', 'للغناء', 'للفضاء', 'للقضاء', 'للمجيء', 'للنساء', 'للهواء', 'للوراء', 'لهؤلاء', 'مومياء', 'وأثناء', 'وأشياء', 'وأعضاء', 'وإلقاء', 'والبدء', 'والجزء', 'والشيء', 'والماء', 'وهؤلاء', 'يستضاء', 'استثناء', 'استدعاء', 'الأبناء', 'الأبهاء', 'الأثداء', 'الأثراء', 'الأثماء', 'الأثناء', 'الأجراء', 'الأجزاء', 'الأجلاء', 'الأجناء', 'الأجواء', 'الأحباء', 'الأحجاء', 'الأحساء', 'الأحشاء', 'الأحقاء', 'الأحلاء', 'الأحماء', 'الأحناء', 'الأحياء', 'الأخساء', 'الأخصاء', 'الأخطاء', 'الأخلاء', 'الأدباء', 'الأدلاء', 'الأدناء', 'الأدواء', 'الأذلاء', 'الأرجاء', 'الأرحاء', 'الأرداء', 'الأرزاء', 'الأرعاء', 'الأرقاء', 'الأزياء', 'الأسراء', 'الأسفاء', 'الأسماء', 'الأسواء', 'الأشحاء', 'الأشداء', 'الأشفاء', 'الأشقاء', 'الأشلاء', 'الأشياء', 'الأصباء', 'الأصحاء', 'الأصداء', 'الأصغاء', 'الأصلاء', 'الأصناء', 'الأضواء', 'الأطباء', 'الأطواء', 'الأظناء', 'الأعباء', 'الأعتاء', 'الأعداء', 'الأعزاء', 'الأعضاء', 'الأعلاء', 'الأعماء', 'الأعياء', 'الأغراء', 'الأغضاء', 'الأغماء', 'الأفراء', 'الأفلاء', 'الأفياء', 'الأقذاء', 'الأقصاء', 'الأقفاء', 'الأقلاء', 'الأقناء', 'الأكفاء', 'الأكلاء', 'الألباء', 'الألقاء', 'الألواء', 'الأمداء', 'الأمراء', 'الأمساء', 'الأمعاء', 'الأملاء', 'الأمناء', 'الأنباء', 'الأنجاء', 'الأنحاء', 'الأنداء', 'الأنشاء', 'الأنضاء', 'الأنماء', 'الأنهاء', 'الأنواء', 'الأهباء', 'الأهراء', 'الأهواء', 'الأوباء', 'الإبداء', 'الإبراء', 'الإبطاء', 'الإبقاء', 'الإثراء', 'الإثناء', 'الإجراء', 'الإجلاء', 'الإحساء', 'الإحصاء', 'الإحماء', 'الإحياء', 'الإخصاء', 'الإخطاء', 'الإخفاء', 'الإخلاء', 'الإدلاء', 'الإدماء', 'الإدناء', 'الإذكاء', 'الإرجاء', 'الإرخاء', 'الإرساء', 'الإرشاء', 'الإرضاء', 'الإرعاء', 'الإرواء', 'الإزراء', 'الإسراء', 'الإشتاء', 'الإشفاء', 'الإشلاء', 'الإصغاء', 'الإضفاء', 'الإطراء', 'الإطفاء', 'الإعداء', 'الإعطاء', 'الإعفاء', 'الإعلاء', 'الإعياء', 'الإغراء', 'الإغضاء', 'الإغفاء', 'الإغلاء', 'الإغماء', 'الإغناء', 'الإغواء', 'الإفتاء', 'الإفشاء', 'الإفضاء', 'الإفناء', 'الإقراء', 'الإقصاء', 'الإقواء', 'الإكراء', 'الإكفاء', 'الإلغاء', 'الإلقاء', 'الإلهاء', 'الإمحاء', 'الإمساء', 'الإمضاء', 'الإملاء', 'الإمناء', 'الإنباء', 'الإنشاء', 'الإنماء', 'الإنهاء', 'الإهداء', 'الإيباء', 'الإيتاء', 'الإيحاء', 'الإيذاء', 'الإيفاء', 'الإيلاء', 'الإيماء', 'الإيواء', 'الاتقاء', 'الاتكاء', 'الادعاء', 'البأساء', 'البؤساء', 'الببغاء', 'البتراء', 'البتلاء', 'البخراء', 'البخقاء', 'البخلاء', 'البدلاء', 'البرحاء', 'البرداء', 'البرشاء', 'البرصاء', 'البرقاء', 'البسطاء', 'البصراء', 'البطحاء', 'البعداء', 'البغضاء', 'البقعاء', 'البكماء', 'البلداء', 'البلغاء', 'البلقاء', 'البلهاء', 'البيداء', 'البيضاء', 'البيطاء', 'البيناء', 'التبراء', 'الترباء', 'التعساء', 'التفهاء', 'التلقاء', 'التيماء', 'التيهاء', 'الثؤباء', 'الثخناء', 'الثدياء', 'الثقلاء', 'الجبناء', 'الجحلاء', 'الجدباء', 'الجدراء', 'الجدعاء', 'الجرباء', 'الجرداء', 'الجرعاء', 'الجعراء', 'الجلباء', 'الجلحاء', 'الجلداء', 'الجلساء', 'الجلواء', 'الجمعاء', 'الجنباء', 'الجهراء', 'الجهلاء', 'الجوداء', 'الجوزاء', 'الجوفاء', 'الجيداء', 'الحجلاء', 'الحدباء', 'الحدثاء', 'الحدراء', 'الحرباء', 'الحرشاء', 'الحرصاء', 'الحرفاء', 'الحزماء', 'الحزناء', 'الحسباء', 'الحسناء', 'الحشماء', 'الحصباء', 'الحصداء', 'الحصفاء', 'الحفداء', 'الحقراء', 'الحكماء', 'الحلساء', 'الحلفاء', 'الحلماء', 'الحلواء', 'الحمراء', 'الحمساء', 'الحمقاء', 'الحنفاء', 'الحنواء', 'الحوباء', 'الحوثاء', 'الحوراء', 'الحوزاء', 'الحوصاء', 'الحولاء', 'الخبثاء', 'الخبراء', 'الخرثاء', 'الخرساء', 'الخرقاء', 'الخزراء', 'الخشناء', 'الخصماء', 'الخضراء', 'الخطباء', 'الخفراء', 'الخفشاء', 'الخلداء', 'الخلصاء', 'الخلطاء', 'الخلعاء', 'الخلفاء', 'الخلقاء', 'الخنساء', 'الخيلاء', 'الدأماء', 'الدخلاء', 'الدخناء', 'الدرداء', 'الدسماء', 'الدعجاء', 'الدفناء', 'الدكناء', 'الدنساء', 'الدهماء', 'الدهناء', 'الدهياء', 'الذلفاء', 'الرأساء', 'الرؤساء', 'الربداء', 'الرتباء', 'الرحماء', 'الرذلاء', 'الرسلاء', 'الرصفاء', 'الرضعاء', 'الرعناء', 'الرفحاء', 'الرفقاء', 'الرقباء', 'الرقشاء', 'الرقطاء', 'الرقعاء', 'الرمداء', 'الرمضاء', 'الرمكاء', 'الروحاء', 'الزخماء', 'الزرقاء', 'الزعراء', 'الزعماء', 'الزغباء', 'الزملاء', 'الزهراء', 'الزوراء', 'الزوفاء', 'السبحاء', 'السجحاء', 'السجناء', 'السحماء', 'السحناء', 'السخفاء', 'السرواء', 'السعداء', 'السفراء', 'السفعاء', 'السفهاء', 'السقماء', 'السلفاء', 'السمجاء', 'السمحاء', 'السمراء', 'السمعاء', 'السهباء', 'السوداء', 'السيراء', 'السيساء', 'السيماء', 'الشجراء', 'الشجعاء', 'الشحناء', 'الشخماء', 'الشرفاء', 'الشرقاء', 'الشركاء', 'الشرماء', 'الشعثاء', 'الشعراء', 'الشعواء', 'الشفعاء', 'الشفهاء', 'الشقحاء', 'الشقراء', 'الشمطاء', 'الشنعاء', 'الشهباء', 'الشهداء', 'الشهلاء', 'الشوساء', 'الشوشاء', 'الشوكاء', 'الشوهاء', 'الشيباء', 'الشيماء', 'الصحراء', 'الصدقاء', 'الصرحاء', 'الصعداء', 'الصغراء', 'الصغواء', 'الصفراء', 'الصلحاء', 'الصلعاء', 'الصلفاء', 'الصهباء', 'الصيداء', 'الضؤلاء', 'الضرباء', 'الضعفاء', 'الضمناء', 'الضوضاء', 'الطرشاء', 'الطرفاء', 'الطرقاء', 'الطغراء', 'الطلباء', 'الطلقاء', 'الظرباء', 'الظرفاء', 'الظلماء', 'العبلاء', 'العتقاء', 'العجراء', 'العجزاء', 'العجفاء', 'العجماء', 'العدلاء', 'العدماء', 'العدواء', 'العذراء', 'العرباء', 'العرجاء', 'العرفاء', 'العزباء', 'العزلاء', 'العسراء', 'العسفاء', 'العسلاء', 'العشراء', 'العشماء', 'العشواء', 'العصلاء', 'العصماء', 'العضباء', 'العظماء', 'العفراء', 'العقداء', 'العقفاء', 'العقلاء', 'العلماء', 'العلياء', 'العمداء', 'العمشاء', 'العملاء', 'العمياء', 'العنقاء', 'العوجاء', 'العوراء', 'العوصاء', 'العيساء', 'العيطاء', 'العيناء', 'الغبراء', 'الغبشاء', 'الغدراء', 'الغرباء', 'الغرماء', 'الغشماء', 'الغضراء', 'الغطشاء', 'الغفراء', 'الغلباء', 'الغلفاء', 'الغلواء', 'الغوغاء', 'الغيداء', 'الغيناء', 'الفحشاء', 'الفحواء', 'الفرعاء', 'الفرقاء', 'الفصحاء', 'الفضلاء', 'الفطحاء', 'الفطساء', 'الفطناء', 'الفقراء', 'الفقهاء', 'الفلحاء', 'الفهماء', 'الفيحاء', 'الفيفاء', 'القدماء', 'القرباء', 'القرعاء', 'القرناء', 'القسماء', 'القصباء', 'القصواء', 'القطعاء', 'القعساء', 'القمراء', 'القمناء', 'القوباء', 'القوداء', 'القوراء', 'الكأداء', 'الكبراء', 'الكتعاء', 'الكتفاء', 'الكحلاء', 'الكدراء', 'الكرماء', 'الكرهاء', 'الكسحاء', 'الكفلاء', 'الكلفاء', 'الكمناء', 'الكهباء', 'الكيماء', 'اللألاء', 'اللؤماء', 'اللخناء', 'اللدغاء', 'اللسناء', 'اللطفاء', 'اللعساء', 'اللقطاء', 'اللكعاء', 'اللكناء', 'الليساء', 'الليلاء', 'المدراء', 'المرداء', 'المستاء', 'المسحاء', 'المعطاء', 'المغراء', 'المكناء', 'الملحاء', 'الملداء', 'الملساء', 'الملكاء', 'المنشاء', 'المنعاء', 'المهقاء', 'المهناء', 'الموماء', 'الميداء', 'الميلاء', 'الميناء', 'النبلاء', 'النبهاء', 'النجباء', 'النجلاء', 'النحفاء', 'الندداء', 'الندماء', 'النذلاء', 'النزلاء', 'النزهاء', 'النسباء', 'النشطاء', 'النصباء', 'النصحاء', 'النصراء', 'النطراء', 'النظراء', 'النظفاء', 'النعماء', 'النفساء', 'النقباء', 'النقعاء', 'النكباء', 'النكراء', 'النمراء', 'النمشاء', 'الهبلاء', 'الهتماء', 'الهجناء', 'الهدباء', 'الهدلاء', 'الهلباء', 'الهوجاء', 'الهيجاء', 'الهيفاء', 'الهيماء', 'الوبراء', 'الوجناء', 'الوجهاء', 'الودعاء', 'الورثاء', 'الورقاء', 'الوركاء', 'الوزراء', 'الوسطاء', 'الوسماء', 'الوصفاء', 'الوضعاء', 'الوطفاء', 'الوعثاء', 'الوكلاء', 'اليهماء', 'بأصدقاء', 'بارتداء', 'بالبقاء', 'بالبكاء', 'بالدماء', 'بالذكاء', 'بالسماء', 'بالطلاء', 'بالعشاء', 'بالغباء', 'بالغناء', 'بالفضاء', 'بالقضاء', 'بالمجيء', 'بالمساء', 'بالنساء', 'بالهدوء', 'بالهراء', 'بالهواء', 'بالولاء', 'كأصدقاء', 'لأصدقاء', 'لاحتساء', 'لارتداء', 'للأشياء', 'للأطباء', 'للأعضاء', 'للإبقاء', 'للإدلاء', 'للعملاء', 'للغرباء', 'للفقراء', 'وأصدقاء', 'والبقاء', 'والبكاء', 'والدماء', 'والدواء', 'والسماء', 'والضراء', 'والعشاء', 'والغناء', 'والنساء', 'والهدوء', 'والهواء', 'الأبرياء', 'الأبيناء', 'الأتقياء', 'الأثرياء', 'الأحرياء', 'الأخلياء', 'الأدعياء', 'الأدنياء', 'الأذكياء', 'الأربعاء', 'الأرضياء', 'الأسخياء', 'الأسرياء', 'الأسوياء', 'الأشقياء', 'الأصدقاء', 'الأصفياء', 'الأغبياء', 'الأغنياء', 'الأفرقاء', 'الأقرباء', 'الأقسماء', 'الأقوياء', 'الألفباء', 'الأنبياء', 'الأنجياء', 'الأنسباء', 'الأنصباء', 'الأنقياء', 'الأهوناء', 'الأوصياء', 'الأوفياء', 'الأولياء', 'الابتداء', 'الابتغاء', 'الابتلاء', 'الابتناء', 'الاجتزاء', 'الاحتباء', 'الاحتذاء', 'الاحتساء', 'الاحتشاء', 'الاحتفاء', 'الاحتماء', 'الاحتواء', 'الاختباء', 'الاختصاء', 'الاختفاء', 'الاختلاء', 'الارتخاء', 'الارتداء', 'الارتشاء', 'الارتقاء', 'الارتماء', 'الارتواء', 'الارعواء', 'الازدراء', 'الازدهاء', 'الاستفاء', 'الاستقاء', 'الاستلاء', 'الاستواء', 'الاستياء', 'الاشتراء', 'الاشتكاء', 'الاشتهاء', 'الاشتواء', 'الاصطفاء', 'الاعتباء', 'الاعتداء', 'الاعتلاء', 'الاعتناء', 'الاغتذاء', 'الاغتناء', 'الافتداء', 'الافتراء', 'الاقتداء', 'الاقتضاء', 'الاقتفاء', 'الاقتناء', 'الاكتساء', 'الاكتفاء', 'الاكتواء', 'الالتجاء', 'الالتقاء', 'الالتواء', 'الامتطاء', 'الامتلاء', 'الانتحاء', 'الانتشاء', 'الانتفاء', 'الانتقاء', 'الانتماء', 'الانتهاء', 'الانثناء', 'الانجلاء', 'الانحناء', 'الانزواء', 'الانضواء', 'الانطواء', 'الانقضاء', 'الانكفاء', 'الاهتداء', 'الاهتراء', 'البازلاء', 'البورياء', 'التوتياء', 'الثلاثاء', 'الجبرياء', 'الحميراء', 'الخضيراء', 'الخنفساء', 'الخيمياء', 'الرتيلاء', 'السامراء', 'السلحفاء', 'السويداء', 'الصفيراء', 'العريجاء', 'الغبيراء', 'الغميصاء', 'الفاسياء', 'الفيزياء', 'القرفصاء', 'القطيعاء', 'الكبرياء', 'الكثيراء', 'الكستناء', 'الكهرباء', 'الكيمياء', 'اللوبياء', 'المومياء', 'الهندباء', 'باستثناء', 'باستدعاء', 'بالأرجاء', 'بالأسماء', 'بالأشياء', 'بالأعضاء', 'بالأنحاء', 'بالإطراء', 'بالصحراء', 'فاصولياء', 'لاستدعاء', 'للأصدقاء', 'للاختباء', 'للاعتناء', 'للكهرباء', 'والأشياء', 'والأطباء', 'الاستبراء', 'الاستبطاء', 'الاستبقاء', 'الاستثناء', 'الاستجداء', 'الاستجلاء', 'الاستحياء', 'الاستخفاء', 'الاستدعاء', 'الاسترخاء', 'الاسترضاء', 'الاستسقاء', 'الاستشراء', 'الاستشفاء', 'الاستعداء', 'الاستعصاء', 'الاستعطاء', 'الاستعفاء', 'الاستعلاء', 'الاستغناء', 'الاستفتاء', 'الاستقراء', 'الاستقساء', 'الاستقصاء', 'الاستقواء', 'الاستكفاء', 'الاستلقاء', 'الاستمناء', 'الاستنجاء', 'الاستهزاء', 'الاستهواء', 'الاستيحاء', 'الاستيفاء', 'الاستيلاء', 'البازيلاء', 'التاسوعاء', 'العاشوراء', 'الفسيفساء', 'بالاستياء', 'بالكهرباء', 'للاسترخاء', 'والأصدقاء', 'البتروكيمياء', 'الجيوفيزياء', 'الجيوكيمياء', 'الفاصولياء', 'البدء', 'مساء']\n"
          ]
        }
      ]
    },
    {
      "cell_type": "code",
      "source": [
        "len(all_arabic_words)"
      ],
      "metadata": {
        "colab": {
          "base_uri": "https://localhost:8080/"
        },
        "id": "3J2vcZXTWNU3",
        "outputId": "691f34d3-30ba-4a8d-fa73-20d4258be445"
      },
      "execution_count": null,
      "outputs": [
        {
          "output_type": "execute_result",
          "data": {
            "text/plain": [
              "1457"
            ]
          },
          "metadata": {},
          "execution_count": 28
        }
      ]
    },
    {
      "cell_type": "code",
      "source": [
        "# Word to check\n",
        "word_to_check = \"الأهليء\"\n",
        "\n",
        "# Check if the word is in the list\n",
        "if word_to_check in all_arabic_words:\n",
        "    print(f\"{word_to_check} is in the list.\")\n",
        "else:\n",
        "    print(f\"{word_to_check} is not in the list.\")"
      ],
      "metadata": {
        "colab": {
          "base_uri": "https://localhost:8080/"
        },
        "id": "iEraZ0HuYCYB",
        "outputId": "7e691d87-cf3b-48f0-e064-217f45226bc5"
      },
      "execution_count": null,
      "outputs": [
        {
          "output_type": "stream",
          "name": "stdout",
          "text": [
            "الأهليء is not in the list.\n"
          ]
        }
      ]
    },
    {
      "cell_type": "code",
      "source": [
        "# Sample list of Arabic words\n",
        "arabic_words = [\"بدء\", \"باء\", \"جزء\", \"جاء\", \"داء\", \"دفء\", \"سوء\", \"ساء\", \"شاء\", \"شيء\", \"ضوء\", \"عبء\", \"فاء\", \"قاء\", \"كفء\", \"ملء\", \"ماء\", \"ناء\", \"هاء\", \"ياء\"]\n",
        "\n",
        "# Word to check\n",
        "word_to_check = \"الأهليء\"\n",
        "\n",
        "# Check if the word is in the list\n",
        "if word_to_check in arabic_words:\n",
        "    print(f\"{word_to_check} is in the list.\")\n",
        "else:\n",
        "    # Remove \"ء\" from the word\n",
        "    modified_word = word_to_check.replace(\"ء\", \"\")\n",
        "    print(f\"{word_to_check} is not in the list. Modified word: {modified_word}\")\n"
      ],
      "metadata": {
        "colab": {
          "base_uri": "https://localhost:8080/"
        },
        "id": "ixRvvxu-YebU",
        "outputId": "51c9b02a-574a-483d-8e70-4b663cffa2fd"
      },
      "execution_count": null,
      "outputs": [
        {
          "output_type": "stream",
          "name": "stdout",
          "text": [
            "الأهليء is not in the list. Modified word: الأهلي\n"
          ]
        }
      ]
    },
    {
      "cell_type": "code",
      "source": [
        "def process_arabic_sentence(sentence, all_arabic_words):\n",
        "    # Split the sentence into words\n",
        "    words = sentence.split()\n",
        "\n",
        "    # Process each word\n",
        "    modified_words = []\n",
        "    for word in words:\n",
        "        # Check if the word ends with \"ء\" and is not in the list\n",
        "        if word.endswith(\"ء\") and word not in all_arabic_words:\n",
        "            # Remove \"ء\" from the word\n",
        "            modified_word = word[:-1]\n",
        "            modified_words.append(modified_word)\n",
        "        else:\n",
        "            modified_words.append(word)\n",
        "\n",
        "    # Join the modified words back into a sentence\n",
        "    modified_sentence = \" \".join(modified_words)\n",
        "\n",
        "    return modified_sentence\n",
        "\n",
        "# Sample list of Arabic words\n",
        "# arabic_words = [\"بدء\", \"باء\", \"جزء\", \"جاء\", \"داء\", \"دفء\", \"سوء\", \"ساء\", \"شاء\", \"شيء\", \"ضوء\", \"عبء\", \"فاء\", \"قاء\", \"كفء\", \"ملء\", \"ماء\", \"ناء\", \"هاء\", \"ياء\"]\n",
        "\n",
        "# Sample Arabic sentence\n",
        "arabic_sentence = \"مجلس إدارة النادي الأهليء برئاسة الكابتن محمود الخطيبء عقد اجتماعًا مساء اليوم بمقر النادي بالجزيرة» لمناقشة العديد من الملفات المهمة التي تخص قطاعات النادي المختلفة في الفترة المقبلة. وفي بداية الجلسة استعرض المجلس جدول أعمال الجمعية العمومية العادية التي عقدت بتاريخ نوفمبر الجاريء وذلك بناءً على الخطاب الوارد إلى النادي من اللجنة الأولمبية المصرية بتاريخ  نوفمبر الحالي؛ والذي يعتمد تفويض مجلس الإدارة في سلطات الجمعية العمومية» حيث اعتمد المجلس الميزانية عن العام المالي والتي اقتربت من 5 مليارات جنيه؛ وقرر إرسالها إلى الجهة الإدارية لإرسالها إلى الجهاز المركزي للمحاسبات؛ وفقا لنص لائحة النظام الأساسي. كما استعرض المجلس المقترحات المقدمة من السادة أعضاء الجمعية العمومية» التي كانت محل تقدير من أعضاء مجلس الإدارة: لما تضمنته من مقترحات إيجابية وبناءة تسهم في تطوير مجالات العمل داخل النادي؛ وكلف المجلس الإدارات المختلفة لدراسة العديد من هذه المقترحات, علمًا بأن هناك بعض المقترحات كان قد تم البدء في تنفيذها من قبل مجلس الإدارة بالفعل. اعتمد المجلس الزيادة المقررة لقيمة العضوية الشاملة لمقر النادي بالجزيرة وفروعه المختلفة» التي ارتفعت من  إلى مليون جنيه للمؤهل العالي» والموافقة على البدء في تطبيقها بداية من  كما اعتمد المجلس المقترح المبدئي لإنشاء فرع النادي الأهلي بالعلمين الجديدة. كما اعتمد المجلس منح شركة الأهلي للمنشآت الرياضية كافة الحقوق المتعلقة بالاستاد المقرر إنشاوٌه خ سر إق الما مساحة 25 فداثا بفرع النادي بالشيخ زايدء ويشمل استادًا رياضيًا ومتحفا وصالة ألعاب ومدرسة وجامعة رياضية وفندقًا.. إلى آخره؛ مع اتخاذ كافة الإجراءات القانونية والإدارية اللازمة لذلك.\"\n",
        "\n",
        "# Process the Arabic sentence\n",
        "modified_sentence = process_arabic_sentence(arabic_sentence, all_arabic_words)\n",
        "\n",
        "# Print the modified sentence\n",
        "print(\"Original Sentence:\", arabic_sentence)\n",
        "print(\"Modified Sentence:\", modified_sentence)\n",
        "\n"
      ],
      "metadata": {
        "colab": {
          "base_uri": "https://localhost:8080/"
        },
        "id": "ab5yiXQxZMLa",
        "outputId": "e933a675-185b-47ea-f08f-143fa997654e"
      },
      "execution_count": null,
      "outputs": [
        {
          "output_type": "stream",
          "name": "stdout",
          "text": [
            "Original Sentence: مجلس إدارة النادي الأهليء برئاسة الكابتن محمود الخطيبء عقد اجتماعًا مساء اليوم بمقر النادي بالجزيرة» لمناقشة العديد من الملفات المهمة التي تخص قطاعات النادي المختلفة في الفترة المقبلة. وفي بداية الجلسة استعرض المجلس جدول أعمال الجمعية العمومية العادية التي عقدت بتاريخ نوفمبر الجاريء وذلك بناءً على الخطاب الوارد إلى النادي من اللجنة الأولمبية المصرية بتاريخ  نوفمبر الحالي؛ والذي يعتمد تفويض مجلس الإدارة في سلطات الجمعية العمومية» حيث اعتمد المجلس الميزانية عن العام المالي والتي اقتربت من 5 مليارات جنيه؛ وقرر إرسالها إلى الجهة الإدارية لإرسالها إلى الجهاز المركزي للمحاسبات؛ وفقا لنص لائحة النظام الأساسي. كما استعرض المجلس المقترحات المقدمة من السادة أعضاء الجمعية العمومية» التي كانت محل تقدير من أعضاء مجلس الإدارة: لما تضمنته من مقترحات إيجابية وبناءة تسهم في تطوير مجالات العمل داخل النادي؛ وكلف المجلس الإدارات المختلفة لدراسة العديد من هذه المقترحات, علمًا بأن هناك بعض المقترحات كان قد تم البدء في تنفيذها من قبل مجلس الإدارة بالفعل. اعتمد المجلس الزيادة المقررة لقيمة العضوية الشاملة لمقر النادي بالجزيرة وفروعه المختلفة» التي ارتفعت من  إلى مليون جنيه للمؤهل العالي» والموافقة على البدء في تطبيقها بداية من  كما اعتمد المجلس المقترح المبدئي لإنشاء فرع النادي الأهلي بالعلمين الجديدة. كما اعتمد المجلس منح شركة الأهلي للمنشآت الرياضية كافة الحقوق المتعلقة بالاستاد المقرر إنشاوٌه خ سر إق الما مساحة 25 فداثا بفرع النادي بالشيخ زايدء ويشمل استادًا رياضيًا ومتحفا وصالة ألعاب ومدرسة وجامعة رياضية وفندقًا.. إلى آخره؛ مع اتخاذ كافة الإجراءات القانونية والإدارية اللازمة لذلك.\n",
            "Modified Sentence: مجلس إدارة النادي الأهلي برئاسة الكابتن محمود الخطيب عقد اجتماعًا مساء اليوم بمقر النادي بالجزيرة» لمناقشة العديد من الملفات المهمة التي تخص قطاعات النادي المختلفة في الفترة المقبلة. وفي بداية الجلسة استعرض المجلس جدول أعمال الجمعية العمومية العادية التي عقدت بتاريخ نوفمبر الجاري وذلك بناءً على الخطاب الوارد إلى النادي من اللجنة الأولمبية المصرية بتاريخ نوفمبر الحالي؛ والذي يعتمد تفويض مجلس الإدارة في سلطات الجمعية العمومية» حيث اعتمد المجلس الميزانية عن العام المالي والتي اقتربت من 5 مليارات جنيه؛ وقرر إرسالها إلى الجهة الإدارية لإرسالها إلى الجهاز المركزي للمحاسبات؛ وفقا لنص لائحة النظام الأساسي. كما استعرض المجلس المقترحات المقدمة من السادة أعضاء الجمعية العمومية» التي كانت محل تقدير من أعضاء مجلس الإدارة: لما تضمنته من مقترحات إيجابية وبناءة تسهم في تطوير مجالات العمل داخل النادي؛ وكلف المجلس الإدارات المختلفة لدراسة العديد من هذه المقترحات, علمًا بأن هناك بعض المقترحات كان قد تم البدء في تنفيذها من قبل مجلس الإدارة بالفعل. اعتمد المجلس الزيادة المقررة لقيمة العضوية الشاملة لمقر النادي بالجزيرة وفروعه المختلفة» التي ارتفعت من إلى مليون جنيه للمؤهل العالي» والموافقة على البدء في تطبيقها بداية من كما اعتمد المجلس المقترح المبدئي لإنشاء فرع النادي الأهلي بالعلمين الجديدة. كما اعتمد المجلس منح شركة الأهلي للمنشآت الرياضية كافة الحقوق المتعلقة بالاستاد المقرر إنشاوٌه خ سر إق الما مساحة 25 فداثا بفرع النادي بالشيخ زايد ويشمل استادًا رياضيًا ومتحفا وصالة ألعاب ومدرسة وجامعة رياضية وفندقًا.. إلى آخره؛ مع اتخاذ كافة الإجراءات القانونية والإدارية اللازمة لذلك.\n"
          ]
        }
      ]
    },
    {
      "cell_type": "code",
      "source": [
        "def process_arabic_sentence(sentence, all_arabic_words):\n",
        "    # Split the sentence into words\n",
        "    words = sentence.split()\n",
        "\n",
        "    # Process each word\n",
        "    modified_words = []\n",
        "    for word in words:\n",
        "        # Check if the word ends with \"ء\" and is not in the list\n",
        "        if word.endswith(\"ء\") and word not in all_arabic_words:\n",
        "            # Remove \"ء\" from the word\n",
        "            modified_word = word[:-1]\n",
        "            modified_words.append(modified_word)\n",
        "        else:\n",
        "            modified_words.append(word)\n",
        "\n",
        "    # Join the modified words back into a sentence\n",
        "    modified_sentence = \" \".join(modified_words)\n",
        "\n",
        "    return modified_sentence\n",
        "\n",
        "# Sample list of Arabic words\n",
        "# arabic_words = [\"بدء\", \"باء\", \"جزء\", \"جاء\", \"داء\", \"دفء\", \"سوء\", \"ساء\", \"شاء\", \"شيء\", \"ضوء\", \"عبء\", \"فاء\", \"قاء\", \"كفء\", \"ملء\", \"ماء\", \"ناء\", \"هاء\", \"ياء\"]\n",
        "\n",
        "# Sample Arabic sentence\n",
        "arabic_sentence = \"يرفض كارلو أنشيلوتي الانخراط في المعركة المحتدمة بين ربإل مدريد الإسباني والاتحاد البرازيلي لكرة القدمء إذ يرغب الأخير في الحصول على خدمات المدربء وقد لا يكشف الإيطالي عن خططه حتى نهاية الموسم. وقال أنشيلوتيء الذي بدا منزعجا بشكل واضحء خلال مؤتمر صحفي الثلاثاء قبل مباراة ربإل مدريد في دوري أبطال أوروبا أمام نابولي الإيطالي» ردا على سؤال عما إذا كان سيبقى في النادي لموسم آخر: سأمنحك الفرصة لطرح ح سؤال آخر . أقولها مرة أخرىء أنالا أتحدث عن مستقبلي. ومع انتهاء عقده بنهاية الموسم الأوروبي الجاريء وإدلاء رئيس الاتحاد البرازيلي إدنالدو رودريغيز بتصريحات واثقة بشأن التعاقد مع صاحب ال 5 عاماء يسعى ربال مدريد جاهدا للتمسك بالمدرب الوحيد الذي فاز باللقب في جميع البطولات الخمس الكبرى في أوروبا. وأكد مسؤول بالنادي لرويترز أن الرئيس فلورنتينو بيريز يفكر في تقديم عرض لتمديد عقد أنشيلوتي» بينما قال مدير الاتحاد البرازيلي لرويترز إنه الاتحاد يتوقع وجوده مع راقصي السامبا؛ في كوبا أميركا العام المقبل في الولايات المتحدة.\"\n",
        "\n",
        "# Process the Arabic sentence\n",
        "modified_sentence = process_arabic_sentence(arabic_sentence, all_arabic_words)\n",
        "\n",
        "# Print the modified sentence\n",
        "print(\"Original Sentence:\", arabic_sentence)\n",
        "print(\"Modified Sentence:\", modified_sentence)"
      ],
      "metadata": {
        "colab": {
          "base_uri": "https://localhost:8080/"
        },
        "id": "xCxLRkYMaF-x",
        "outputId": "fd355111-03d6-48e5-b328-c76b20051a82"
      },
      "execution_count": null,
      "outputs": [
        {
          "output_type": "stream",
          "name": "stdout",
          "text": [
            "Original Sentence: يرفض كارلو أنشيلوتي الانخراط في المعركة المحتدمة بين ربإل مدريد الإسباني والاتحاد البرازيلي لكرة القدمء إذ يرغب الأخير في الحصول على خدمات المدربء وقد لا يكشف الإيطالي عن خططه حتى نهاية الموسم. وقال أنشيلوتيء الذي بدا منزعجا بشكل واضحء خلال مؤتمر صحفي الثلاثاء قبل مباراة ربإل مدريد في دوري أبطال أوروبا أمام نابولي الإيطالي» ردا على سؤال عما إذا كان سيبقى في النادي لموسم آخر: سأمنحك الفرصة لطرح ح سؤال آخر . أقولها مرة أخرىء أنالا أتحدث عن مستقبلي. ومع انتهاء عقده بنهاية الموسم الأوروبي الجاريء وإدلاء رئيس الاتحاد البرازيلي إدنالدو رودريغيز بتصريحات واثقة بشأن التعاقد مع صاحب ال 5 عاماء يسعى ربال مدريد جاهدا للتمسك بالمدرب الوحيد الذي فاز باللقب في جميع البطولات الخمس الكبرى في أوروبا. وأكد مسؤول بالنادي لرويترز أن الرئيس فلورنتينو بيريز يفكر في تقديم عرض لتمديد عقد أنشيلوتي» بينما قال مدير الاتحاد البرازيلي لرويترز إنه الاتحاد يتوقع وجوده مع راقصي السامبا؛ في كوبا أميركا العام المقبل في الولايات المتحدة.\n",
            "Modified Sentence: يرفض كارلو أنشيلوتي الانخراط في المعركة المحتدمة بين ربإل مدريد الإسباني والاتحاد البرازيلي لكرة القدم إذ يرغب الأخير في الحصول على خدمات المدرب وقد لا يكشف الإيطالي عن خططه حتى نهاية الموسم. وقال أنشيلوتي الذي بدا منزعجا بشكل واضح خلال مؤتمر صحفي الثلاثاء قبل مباراة ربإل مدريد في دوري أبطال أوروبا أمام نابولي الإيطالي» ردا على سؤال عما إذا كان سيبقى في النادي لموسم آخر: سأمنحك الفرصة لطرح ح سؤال آخر . أقولها مرة أخرى أنالا أتحدث عن مستقبلي. ومع انتهاء عقده بنهاية الموسم الأوروبي الجاري وإدلا رئيس الاتحاد البرازيلي إدنالدو رودريغيز بتصريحات واثقة بشأن التعاقد مع صاحب ال 5 عاما يسعى ربال مدريد جاهدا للتمسك بالمدرب الوحيد الذي فاز باللقب في جميع البطولات الخمس الكبرى في أوروبا. وأكد مسؤول بالنادي لرويترز أن الرئيس فلورنتينو بيريز يفكر في تقديم عرض لتمديد عقد أنشيلوتي» بينما قال مدير الاتحاد البرازيلي لرويترز إنه الاتحاد يتوقع وجوده مع راقصي السامبا؛ في كوبا أميركا العام المقبل في الولايات المتحدة.\n"
          ]
        }
      ]
    },
    {
      "cell_type": "code",
      "source": [
        "def process_arabic_sentence(sentence, all_arabic_words):\n",
        "    # Split the sentence into words\n",
        "    words = sentence.split()\n",
        "\n",
        "    # Process each word\n",
        "    modified_words = []\n",
        "    for word in words:\n",
        "        # Check if the word ends with \"ء\" and is not in the list\n",
        "        if word.endswith(\"ء\") and word not in all_arabic_words:\n",
        "            # Remove \"ء\" from the word and replace with \"،\"\n",
        "            modified_word = word[:-1] + \"،\"\n",
        "            modified_words.append(modified_word)\n",
        "        else:\n",
        "            modified_words.append(word)\n",
        "\n",
        "    # Join the modified words back into a sentence\n",
        "    modified_sentence = \" \".join(modified_words)\n",
        "\n",
        "    return modified_sentence\n",
        "\n",
        "# Sample list of Arabic words\n",
        "# arabic_words = [\"بدء\", \"باء\", \"جزء\", \"جاء\", \"داء\", \"دفء\", \"سوء\", \"ساء\", \"شاء\", \"شيء\", \"ضوء\", \"عبء\", \"فاء\", \"قاء\", \"كفء\", \"ملء\", \"ماء\", \"ناء\", \"هاء\", \"ياء\"]\n",
        "\n",
        "# Sample Arabic sentence\n",
        "arabic_sentence = \"يرفض كارلو أنشيلوتي الانخراط في المعركة المحتدمة بين ربإل مدريد الإسباني والاتحاد البرازيلي لكرة القدمء إذ يرغب الأخير في الحصول على خدمات المدربء وقد لا يكشف الإيطالي عن خططه حتى نهاية الموسم. وقال أنشيلوتيء الذي بدا منزعجا بشكل واضحء خلال مؤتمر صحفي الثلاثاء قبل مباراة ربإل مدريد في دوري أبطال أوروبا أمام نابولي الإيطالي» ردا على سؤال عما إذا كان سيبقى في النادي لموسم آخر: سأمنحك الفرصة لطرح ح سؤال آخر . أقولها مرة أخرىء أنالا أتحدث عن مستقبلي. ومع انتهاء عقده بنهاية الموسم الأوروبي الجاريء وإدلاء رئيس الاتحاد البرازيلي إدنالدو رودريغيز بتصريحات واثقة بشأن التعاقد مع صاحب ال 5 عاماء يسعى ربال مدريد جاهدا للتمسك بالمدرب الوحيد الذي فاز باللقب في جميع البطولات الخمس الكبرى في أوروبا. وأكد مسؤول بالنادي لرويترز أن الرئيس فلورنتينو بيريز يفكر في تقديم عرض لتمديد عقد أنشيلوتي» بينما قال مدير الاتحاد البرازيلي لرويترز إنه الاتحاد يتوقع وجوده مع راقصي السامبا؛ في كوبا أميركا العام المقبل في الولايات المتحدة.\"\n",
        "\n",
        "# Process the Arabic sentence\n",
        "modified_sentence = process_arabic_sentence(arabic_sentence, all_arabic_words)\n",
        "\n",
        "# Print the modified sentence\n",
        "print(\"Original Sentence:\", arabic_sentence)\n",
        "print(\"Modified Sentence:\", modified_sentence)\n",
        "\n"
      ],
      "metadata": {
        "colab": {
          "base_uri": "https://localhost:8080/"
        },
        "id": "cBa6CigdmHWK",
        "outputId": "1822f9c4-81d3-4bc3-bfdf-fd8fce1e37d3"
      },
      "execution_count": null,
      "outputs": [
        {
          "output_type": "stream",
          "name": "stdout",
          "text": [
            "Original Sentence: يرفض كارلو أنشيلوتي الانخراط في المعركة المحتدمة بين ربإل مدريد الإسباني والاتحاد البرازيلي لكرة القدمء إذ يرغب الأخير في الحصول على خدمات المدربء وقد لا يكشف الإيطالي عن خططه حتى نهاية الموسم. وقال أنشيلوتيء الذي بدا منزعجا بشكل واضحء خلال مؤتمر صحفي الثلاثاء قبل مباراة ربإل مدريد في دوري أبطال أوروبا أمام نابولي الإيطالي» ردا على سؤال عما إذا كان سيبقى في النادي لموسم آخر: سأمنحك الفرصة لطرح ح سؤال آخر . أقولها مرة أخرىء أنالا أتحدث عن مستقبلي. ومع انتهاء عقده بنهاية الموسم الأوروبي الجاريء وإدلاء رئيس الاتحاد البرازيلي إدنالدو رودريغيز بتصريحات واثقة بشأن التعاقد مع صاحب ال 5 عاماء يسعى ربال مدريد جاهدا للتمسك بالمدرب الوحيد الذي فاز باللقب في جميع البطولات الخمس الكبرى في أوروبا. وأكد مسؤول بالنادي لرويترز أن الرئيس فلورنتينو بيريز يفكر في تقديم عرض لتمديد عقد أنشيلوتي» بينما قال مدير الاتحاد البرازيلي لرويترز إنه الاتحاد يتوقع وجوده مع راقصي السامبا؛ في كوبا أميركا العام المقبل في الولايات المتحدة.\n",
            "Modified Sentence: يرفض كارلو أنشيلوتي الانخراط في المعركة المحتدمة بين ربإل مدريد الإسباني والاتحاد البرازيلي لكرة القدم، إذ يرغب الأخير في الحصول على خدمات المدرب، وقد لا يكشف الإيطالي عن خططه حتى نهاية الموسم. وقال أنشيلوتي، الذي بدا منزعجا بشكل واضح، خلال مؤتمر صحفي الثلاثاء قبل مباراة ربإل مدريد في دوري أبطال أوروبا أمام نابولي الإيطالي» ردا على سؤال عما إذا كان سيبقى في النادي لموسم آخر: سأمنحك الفرصة لطرح ح سؤال آخر . أقولها مرة أخرى، أنالا أتحدث عن مستقبلي. ومع انتهاء عقده بنهاية الموسم الأوروبي الجاري، وإدلا، رئيس الاتحاد البرازيلي إدنالدو رودريغيز بتصريحات واثقة بشأن التعاقد مع صاحب ال 5 عاما، يسعى ربال مدريد جاهدا للتمسك بالمدرب الوحيد الذي فاز باللقب في جميع البطولات الخمس الكبرى في أوروبا. وأكد مسؤول بالنادي لرويترز أن الرئيس فلورنتينو بيريز يفكر في تقديم عرض لتمديد عقد أنشيلوتي» بينما قال مدير الاتحاد البرازيلي لرويترز إنه الاتحاد يتوقع وجوده مع راقصي السامبا؛ في كوبا أميركا العام المقبل في الولايات المتحدة.\n"
          ]
        }
      ]
    },
    {
      "cell_type": "code",
      "source": [
        "text = \"يرفض كارلو أنشيلوتي الانخراط في المعركة المحتدمة بين ربإل مدريد الإسباني والاتحاد البرازيلي لكرة القدم، إذ يرغب الأخير في الحصول على خدمات المدرب، وقد لا يكشف الإيطالي عن خططه حتى نهاية الموسم. وقال أنشيلوتي، الذي بدا منزعجا بشكل واضح، خلال مؤتمر صحفي الثلاثاء قبل مباراة ربإل مدريد في دوري أبطال أوروبا أمام نابولي الإيطالي» ردا على سؤال عما إذا كان سيبقى في النادي لموسم آخر: سأمنحك الفرصة لطرح ح سؤال آخر . أقولها مرة أخرى، أنالا أتحدث عن مستقبلي. ومع انتهاء عقده بنهاية الموسم الأوروبي الجاري، وإدلا، رئيس الاتحاد البرازيلي إدنالدو رودريغيز بتصريحات واثقة بشأن التعاقد مع صاحب ال 5 عاما، يسعى ربال مدريد جاهدا للتمسك بالمدرب الوحيد الذي فاز باللقب في جميع البطولات الخمس الكبرى في أوروبا. وأكد مسؤول بالنادي لرويترز أن الرئيس فلورنتينو بيريز يفكر في تقديم عرض لتمديد عقد أنشيلوتي» بينما قال مدير الاتحاد البرازيلي لرويترز إنه الاتحاد يتوقع وجوده مع راقصي السامبا؛ في كوبا أميركا العام المقبل في الولايات المتحدة.\""
      ],
      "metadata": {
        "id": "9fvBaC9sp-zy"
      },
      "execution_count": null,
      "outputs": []
    },
    {
      "cell_type": "code",
      "source": [
        "print(corr.contextual_correct(text))"
      ],
      "metadata": {
        "colab": {
          "base_uri": "https://localhost:8080/"
        },
        "id": "x9aSFfn9p-xf",
        "outputId": "75ea15b2-f820-46e1-e10d-2fa0538b9771"
      },
      "execution_count": null,
      "outputs": [
        {
          "output_type": "stream",
          "name": "stdout",
          "text": [
            "يرفض كارلو أنشيلوتي الانخراط في المعركة المحتدمة بين رجال مدريد الإسباني والاتحاد البرازيلي لكرة القدم إذ يرغب الأخير في الحصول على خدمات المدرب وقد لا يكشف الإيطالي عن خططه حتى نهاية الموسم وقال أنشيلوتي الذي بدا منزعجا بشكل واضح خلال مؤتمر صحفي الثلاثاء قبل مباراة ريال مدريد في دوري أبطال أوروبا أمام نابولي الإيطالي ردا على سؤال عما إذا كان سيبقى في النادي لموسم آخر سيمنحه الفرصة لطرح ح سؤال آخر . أقولها مرة أخرى أنالا أتحدث عن مستقبل ومع انتهاء عقده بنهاية الموسم الأوروبي الجاري وإطلاق رئيس الاتحاد البرازيلي رونالدو رودريغيز بتصريحات واثقة بشأن التعاقد مع صاحب ال من عام يسعى ريال مدريد جاهدا للتمسك بالمدرب الوحيد الذي فاز باللقب في جميع البطولات الخمس الكبرى في أوربا وأكد مسؤول بالنادي لرويترز أن الرئيس فلورنتينو بيريز يفكر في تقديم عرض لتمديد عقد أنشيلوتي بينما قال مدير الاتحاد البرازيلي لرويترز إنه الاتحاد يتوقع وجوده مع راقصي السامبا في كوبا أميركا العام المقبل في الولايات المتحدة\n"
          ]
        }
      ]
    },
    {
      "cell_type": "code",
      "source": [],
      "metadata": {
        "id": "e-GLZ54fp9N9"
      },
      "execution_count": null,
      "outputs": []
    }
  ]
}